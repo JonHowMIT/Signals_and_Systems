{
 "cells": [
  {
   "cell_type": "markdown",
   "id": "b1c80a95",
   "metadata": {},
   "source": [
    "# Conversions"
   ]
  },
  {
   "cell_type": "markdown",
   "id": "a595b1c3",
   "metadata": {},
   "source": [
    "## TF2SS"
   ]
  },
  {
   "cell_type": "code",
   "execution_count": 1,
   "id": "f3062376",
   "metadata": {
    "execution": {
     "iopub.execute_input": "2023-12-04T16:13:03.312813Z",
     "iopub.status.busy": "2023-12-04T16:13:03.312289Z",
     "iopub.status.idle": "2023-12-04T16:13:03.320383Z",
     "shell.execute_reply": "2023-12-04T16:13:03.319646Z",
     "shell.execute_reply.started": "2023-12-04T16:13:03.312781Z"
    }
   },
   "outputs": [
    {
     "name": "stdout",
     "output_type": "stream",
     "text": [
      "sympy version 1.13.2\n"
     ]
    }
   ],
   "source": [
    "import numpy as np\n",
    "import sympy \n",
    "sympy.init_printing()\n",
    "print('sympy version '+sympy.__version__)\n",
    "\n",
    "s = sympy.Symbol('s')\n",
    "\n",
    "from control.matlab import *\n",
    "\n",
    "def near_zero(P, Tol = 1e-12):\n",
    "    P.num[0][0] = [x if abs(x) > Tol else 0 for x in P.num[0][0]]\n",
    "    return P"
   ]
  },
  {
   "cell_type": "code",
   "execution_count": 2,
   "id": "4b1b882e",
   "metadata": {
    "execution": {
     "iopub.execute_input": "2023-12-04T16:13:03.570924Z",
     "iopub.status.busy": "2023-12-04T16:13:03.570632Z",
     "iopub.status.idle": "2023-12-04T16:13:03.576752Z",
     "shell.execute_reply": "2023-12-04T16:13:03.576302Z",
     "shell.execute_reply.started": "2023-12-04T16:13:03.570904Z"
    }
   },
   "outputs": [],
   "source": [
    "s = tf('s')\n",
    "P = 4/(s**3 + 2*s**2 + 3*s + 4)"
   ]
  },
  {
   "cell_type": "code",
   "execution_count": 3,
   "id": "4db0c70d",
   "metadata": {
    "execution": {
     "iopub.execute_input": "2023-12-04T16:13:03.849217Z",
     "iopub.status.busy": "2023-12-04T16:13:03.848463Z",
     "iopub.status.idle": "2023-12-04T16:13:03.864605Z",
     "shell.execute_reply": "2023-12-04T16:13:03.864087Z",
     "shell.execute_reply.started": "2023-12-04T16:13:03.849177Z"
    }
   },
   "outputs": [
    {
     "name": "stdout",
     "output_type": "stream",
     "text": [
      "A = \n",
      " [[-2. -3. -4.]\n",
      " [ 1.  0.  0.]\n",
      " [ 0.  1.  0.]]\n",
      "B = \n",
      " [[1.]\n",
      " [0.]\n",
      " [0.]]\n",
      "C = \n",
      " [[0. 0. 4.]]\n",
      "D = \n",
      " [[0.]]\n"
     ]
    }
   ],
   "source": [
    "sys = tf2ss(P)\n",
    "print('A = \\n',sys.A)\n",
    "print('B = \\n',sys.B)\n",
    "print('C = \\n',sys.C)\n",
    "print('D = \\n',sys.D)"
   ]
  },
  {
   "cell_type": "markdown",
   "id": "522baec0",
   "metadata": {},
   "source": [
    "## SS2TF"
   ]
  },
  {
   "cell_type": "code",
   "execution_count": 4,
   "id": "d186a4f0",
   "metadata": {
    "execution": {
     "iopub.execute_input": "2023-12-04T16:13:04.150826Z",
     "iopub.status.busy": "2023-12-04T16:13:04.150171Z",
     "iopub.status.idle": "2023-12-04T16:13:04.169836Z",
     "shell.execute_reply": "2023-12-04T16:13:04.167718Z",
     "shell.execute_reply.started": "2023-12-04T16:13:04.150783Z"
    }
   },
   "outputs": [],
   "source": [
    "PP = ss2tf(sys)\n",
    "PP = near_zero(PP)"
   ]
  },
  {
   "cell_type": "code",
   "execution_count": 5,
   "id": "841c8f7e",
   "metadata": {
    "execution": {
     "iopub.execute_input": "2023-12-04T16:13:04.534330Z",
     "iopub.status.busy": "2023-12-04T16:13:04.533706Z",
     "iopub.status.idle": "2023-12-04T16:13:04.551719Z",
     "shell.execute_reply": "2023-12-04T16:13:04.550143Z",
     "shell.execute_reply.started": "2023-12-04T16:13:04.534291Z"
    }
   },
   "outputs": [
    {
     "data": {
      "text/latex": [
       "$$\\frac{ + 4}{s^3 + 2 s^2 + 3 s + 4}$$"
      ],
      "text/plain": [
       "TransferFunction([0, 0, np.float64(3.999999999999993)], array([1., 2., 3., 4.]))"
      ]
     },
     "execution_count": 5,
     "metadata": {},
     "output_type": "execute_result"
    }
   ],
   "source": [
    "PP"
   ]
  },
  {
   "cell_type": "markdown",
   "id": "bbdc5e9e-dd13-4508-9e23-c8fe0c9bf370",
   "metadata": {},
   "source": [
    "# Compute the Matrix Exponential"
   ]
  },
  {
   "cell_type": "code",
   "execution_count": 6,
   "id": "44741768-d962-473c-a9ae-90423c1a4f7e",
   "metadata": {
    "execution": {
     "iopub.execute_input": "2023-12-08T16:26:36.333671Z",
     "iopub.status.busy": "2023-12-08T16:26:36.331292Z",
     "iopub.status.idle": "2023-12-08T16:26:37.995361Z",
     "shell.execute_reply": "2023-12-08T16:26:37.994357Z",
     "shell.execute_reply.started": "2023-12-08T16:26:36.333570Z"
    }
   },
   "outputs": [
    {
     "data": {
      "image/png": "[encoded data removed]",
      "text/latex": [
       "$\\displaystyle \\left[\\begin{matrix}\\left(2 e^{t} - 1\\right) e^{- 2 t} & \\left(e^{t} - 1\\right) e^{- 2 t}\\\\2 \\left(1 - e^{t}\\right) e^{- 2 t} & \\left(2 - e^{t}\\right) e^{- 2 t}\\end{matrix}\\right]$"
      ],
      "text/plain": [
       "⎡⎛   t    ⎞  -2⋅t  ⎛ t    ⎞  -2⋅t⎤\n",
       "⎢⎝2⋅ℯ  - 1⎠⋅ℯ      ⎝ℯ  - 1⎠⋅ℯ    ⎥\n",
       "⎢                                ⎥\n",
       "⎢  ⎛     t⎞  -2⋅t  ⎛     t⎞  -2⋅t⎥\n",
       "⎣2⋅⎝1 - ℯ ⎠⋅ℯ      ⎝2 - ℯ ⎠⋅ℯ    ⎦"
      ]
     },
     "execution_count": 6,
     "metadata": {},
     "output_type": "execute_result"
    }
   ],
   "source": [
    "from sympy import symbols, Matrix, zeros, eye, simplify, exp\n",
    "n=2;\n",
    "A = Matrix([[0, 1], [-2, -3]])\n",
    "t = symbols('t',real=True,positive=True);\n",
    "simplify(exp(A*t))"
   ]
  },
  {
   "cell_type": "code",
   "execution_count": 7,
   "id": "8dc62810-2e2e-430b-9160-383874f86153",
   "metadata": {
    "execution": {
     "iopub.execute_input": "2023-12-08T17:19:50.920779Z",
     "iopub.status.busy": "2023-12-08T17:19:50.918103Z",
     "iopub.status.idle": "2023-12-08T17:19:51.659246Z",
     "shell.execute_reply": "2023-12-08T17:19:51.658476Z",
     "shell.execute_reply.started": "2023-12-08T17:19:50.920702Z"
    }
   },
   "outputs": [
    {
     "data": {
      "image/png": "[encoded data removed]",
      "text/latex": [
       "$\\displaystyle \\left[\\begin{matrix}\\cos{\\left(t \\right)} & \\sin{\\left(t \\right)}\\\\- \\sin{\\left(t \\right)} & \\cos{\\left(t \\right)}\\end{matrix}\\right]$"
      ],
      "text/plain": [
       "⎡cos(t)   sin(t)⎤\n",
       "⎢               ⎥\n",
       "⎣-sin(t)  cos(t)⎦"
      ]
     },
     "execution_count": 7,
     "metadata": {},
     "output_type": "execute_result"
    }
   ],
   "source": [
    "A = Matrix([[0, 1], [-1, 0]])\n",
    "t = symbols('t',real=True,positive=True);\n",
    "simplify(exp(A*t))"
   ]
  },
  {
   "cell_type": "code",
   "execution_count": null,
   "id": "6dc084e0-4eca-4e5c-9881-8626fc50c4ff",
   "metadata": {},
   "outputs": [],
   "source": []
  }
 ],
 "metadata": {
  "kernelspec": {
   "display_name": "venv312",
   "language": "python",
   "name": "venv312"
  },
  "language_info": {
   "codemirror_mode": {
    "name": "ipython",
    "version": 3
   },
   "file_extension": ".py",
   "mimetype": "text/x-python",
   "name": "python",
   "nbconvert_exporter": "python",
   "pygments_lexer": "ipython3",
   "version": "3.12.6"
  }
 },
 "nbformat": 4,
 "nbformat_minor": 5
}

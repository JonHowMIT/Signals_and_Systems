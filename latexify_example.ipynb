{
 "cells": [
  {
   "cell_type": "markdown",
   "metadata": {
    "id": "W5mNJI3Bnl6n"
   },
   "source": [
    "# `latexify` examples on Google Colaboratory\n",
    "\n",
    "This notebook provides several examples to use `latexify`.\n",
    "\n",
    "See also the [official documentation](https://github.com/google/latexify_py/blob/documentation/docs/index.md) for more details.\n",
    "\n",
    "If you have any questions, please ask it in the [issue tracker](https://github.com/google/latexify_py/issues)."
   ]
  },
  {
   "cell_type": "markdown",
   "metadata": {
    "id": "fWCVgcRHoLd8"
   },
   "source": [
    "## Install `latexify`"
   ]
  },
  {
   "cell_type": "code",
   "execution_count": 1,
   "metadata": {
    "colab": {
     "base_uri": "https://localhost:8080/"
    },
    "id": "4IPGyu2dFH6T",
    "outputId": "afaeab6d-840b-4a3b-c0b8-a1bcb979bbfc",
    "tags": []
   },
   "outputs": [],
   "source": [
    "# Restart the runtime before running the examples below.\n",
    "#!pip install latexify-py==0.2.0"
   ]
  },
  {
   "cell_type": "markdown",
   "metadata": {
    "id": "-Mzq4_dNoSmc"
   },
   "source": [
    "## Import `latexify` into your code"
   ]
  },
  {
   "cell_type": "code",
   "execution_count": 2,
   "metadata": {
    "colab": {
     "base_uri": "https://localhost:8080/",
     "height": 35
    },
    "id": "hViDMhyMFNCO",
    "outputId": "6f434cd0-a01f-4a7e-e127-4c8da7ad0ea6",
    "tags": []
   },
   "outputs": [
    {
     "data": {
      "text/plain": [
       "'0.2.0'"
      ]
     },
     "execution_count": 2,
     "metadata": {},
     "output_type": "execute_result"
    }
   ],
   "source": [
    "import math  # Optionally\n",
    "import latexify\n",
    "\n",
    "latexify.__version__"
   ]
  },
  {
   "cell_type": "markdown",
   "metadata": {
    "id": "4QJ6I2s7odX1"
   },
   "source": [
    "## Examples"
   ]
  },
  {
   "cell_type": "code",
   "execution_count": 18,
   "metadata": {
    "colab": {
     "base_uri": "https://localhost:8080/",
     "height": 90
    },
    "id": "NvbEYSwXFaeE",
    "outputId": "0c3c6735-764f-4a75-f476-9913153c30bc",
    "tags": []
   },
   "outputs": [
    {
     "name": "stdout",
     "output_type": "stream",
     "text": [
      "(-1.0, -3.0)\n",
      "((-1+1.7320508075688772j), (-1-1.7320508075688772j))\n"
     ]
    },
    {
     "data": {
      "text/latex": [
       "$$ \\displaystyle \\mathrm{solve}(a, b, c) = \\left\\{ \\begin{array}{ll} \\left( \\frac{-b + \\sqrt{b^{{2}} - {4} a c}}{{2} a}\\space,\\space \\frac{-b - \\sqrt{b^{{2}} - {4} a c}}{{2} a}\\right) , & \\mathrm{if} \\ {b^{{2}} - {4} a c \\ge {0}} \\\\ \\left( \\mathrm{complex}\\left(\\frac{-b}{{2} a}, \\frac{\\sqrt{{4} a c - b^{{2}}}}{{2} a}\\right)\\space,\\space \\mathrm{complex}\\left(\\frac{-b}{{2} a}, \\frac{-\\sqrt{{4} a c - b^{{2}}}}{{2} a}\\right)\\right) , & \\mathrm{otherwise} \\end{array} \\right. $$"
      ],
      "text/plain": [
       "<latexify.frontend.LatexifiedFunction at 0x110d26970>"
      ]
     },
     "execution_count": 18,
     "metadata": {},
     "output_type": "execute_result"
    }
   ],
   "source": [
    "import cmath\n",
    "@latexify.function\n",
    "def solve(a, b, c):\n",
    "    if (b**2 - 4*a*c >= 0):\n",
    "        return (-b + math.sqrt(b**2 - 4*a*c)) / (2*a), (-b - math.sqrt(b**2 - 4*a*c)) / (2*a)\n",
    "    else:\n",
    "        return complex(-b/ (2*a),math.sqrt(4*a*c-b**2)/ (2*a)), complex(-b/ (2*a),-math.sqrt(4*a*c-b**2)/ (2*a))\n",
    "\n",
    "print(solve(1, 4, 3))  # Invoking the function works as expected.\n",
    "print(solve(1, 2, 4))  # Invoking the function works as expected.\n",
    "#print(solve)  # Printing the function shows the underlying LaTeX expression.\n",
    "solve  # Display the MathJax."
   ]
  },
  {
   "cell_type": "code",
   "execution_count": 4,
   "metadata": {
    "colab": {
     "base_uri": "https://localhost:8080/",
     "height": 56
    },
    "id": "wS7BhtPgjSak",
    "outputId": "c87b004d-2596-4311-830e-ae1588a879dd",
    "tags": []
   },
   "outputs": [
    {
     "data": {
      "text/latex": [
       "$$ \\displaystyle \\frac{-b + \\sqrt{b^{{2}} - {4} a c}}{{2} a} $$"
      ],
      "text/plain": [
       "<latexify.frontend.LatexifiedFunction at 0x110d086a0>"
      ]
     },
     "execution_count": 4,
     "metadata": {},
     "output_type": "execute_result"
    }
   ],
   "source": [
    "# latexify.expression works similarly, but does not output the signature.\n",
    "@latexify.expression\n",
    "def solve(a, b, c):\n",
    "  return (-b + math.sqrt(b**2 - 4*a*c)) / (2*a)\n",
    "\n",
    "solve"
   ]
  },
  {
   "cell_type": "code",
   "execution_count": 5,
   "metadata": {
    "colab": {
     "base_uri": "https://localhost:8080/",
     "height": 35
    },
    "id": "G73dnoqqjg4A",
    "outputId": "3b45fd29-0ee2-43ef-9ea7-81b793150395",
    "tags": []
   },
   "outputs": [
    {
     "data": {
      "text/plain": [
       "'\\\\mathrm{solve}(a, b, c) = \\\\frac{-b + \\\\sqrt{b^{{2}} - {4} a c}}{{2} a}'"
      ]
     },
     "execution_count": 5,
     "metadata": {},
     "output_type": "execute_result"
    }
   ],
   "source": [
    "# latexify.get_latex obtains the underlying LaTeX expression directly.\n",
    "def solve(a, b, c):\n",
    "  return (-b + math.sqrt(b**2 - 4*a*c)) / (2*a)\n",
    "\n",
    "latexify.get_latex(solve)"
   ]
  },
  {
   "cell_type": "code",
   "execution_count": 6,
   "metadata": {
    "colab": {
     "base_uri": "https://localhost:8080/",
     "height": 61
    },
    "id": "8bYSWIngGF8E",
    "outputId": "9f4b7fda-f7c0-43c1-af85-85c775281b51",
    "tags": []
   },
   "outputs": [
    {
     "data": {
      "text/latex": [
       "$$ \\displaystyle \\mathrm{sinc}(x) = \\left\\{ \\begin{array}{ll} {1}, & \\mathrm{if} \\ {x = {0}} \\\\ \\frac{\\sin{\\left({x}\\right)}}{x}, & \\mathrm{otherwise} \\end{array} \\right. $$"
      ],
      "text/plain": [
       "<latexify.frontend.LatexifiedFunction at 0x110d08a30>"
      ]
     },
     "execution_count": 6,
     "metadata": {},
     "output_type": "execute_result"
    }
   ],
   "source": [
    "@latexify.function\n",
    "def sinc(x):\n",
    "  if x == 0:\n",
    "    return 1\n",
    "  else:\n",
    "    return math.sin(x) / x\n",
    "\n",
    "sinc"
   ]
  },
  {
   "cell_type": "code",
   "execution_count": 7,
   "metadata": {
    "colab": {
     "base_uri": "https://localhost:8080/",
     "height": 78
    },
    "id": "h1i4BjdgHjxl",
    "outputId": "ed335f43-6a75-443b-acd3-30193a0a67e3",
    "tags": []
   },
   "outputs": [
    {
     "data": {
      "text/latex": [
       "$$ \\displaystyle \\mathrm{fib}(x) = \\left\\{ \\begin{array}{ll} {0}, & \\mathrm{if} \\ {x = {0}} \\\\ {1}, & \\mathrm{if} \\ {x = {1}} \\\\ \\mathrm{fib}\\left(x - {1}\\right) + \\mathrm{fib}\\left(x - {2}\\right), & \\mathrm{otherwise} \\end{array} \\right. $$"
      ],
      "text/plain": [
       "<latexify.frontend.LatexifiedFunction at 0x110d083d0>"
      ]
     },
     "execution_count": 7,
     "metadata": {},
     "output_type": "execute_result"
    }
   ],
   "source": [
    "# Elif or nested else-if are unrolled.\n",
    "@latexify.function\n",
    "def fib(x):\n",
    "  if x == 0:\n",
    "    return 0\n",
    "  elif x == 1:\n",
    "    return 1\n",
    "  else:\n",
    "    return fib(x-1) + fib(x-2)\n",
    "\n",
    "fib"
   ]
  },
  {
   "cell_type": "code",
   "execution_count": 8,
   "metadata": {
    "colab": {
     "base_uri": "https://localhost:8080/",
     "height": 39
    },
    "id": "-JhJMAXM7j-X",
    "outputId": "623f723d-c279-4c8c-a8d5-e019de74045a",
    "tags": []
   },
   "outputs": [
    {
     "data": {
      "text/latex": [
       "$$ \\displaystyle \\mathrm{greek}({\\alpha}, {\\beta}, {\\gamma}, {\\Omega}) = {\\alpha} {\\beta} + \\Gamma\\left({{\\gamma}}\\right) + {\\Omega} $$"
      ],
      "text/plain": [
       "<latexify.frontend.LatexifiedFunction at 0x110d088b0>"
      ]
     },
     "execution_count": 8,
     "metadata": {},
     "output_type": "execute_result"
    }
   ],
   "source": [
    "# Some math symbols are converted automatically.\n",
    "@latexify.function(use_math_symbols=True)\n",
    "def greek(alpha, beta, gamma, Omega):\n",
    "  return alpha * beta + math.gamma(gamma) + Omega\n",
    "\n",
    "greek"
   ]
  },
  {
   "cell_type": "code",
   "execution_count": 9,
   "metadata": {
    "colab": {
     "base_uri": "https://localhost:8080/",
     "height": 39
    },
    "id": "ySyNPS0y4tzu",
    "outputId": "6710edef-909c-4d61-ad57-12e73bbdaf95",
    "tags": []
   },
   "outputs": [
    {
     "data": {
      "text/latex": [
       "$$ \\displaystyle \\mathrm{f}(x) = \\mathrm{g}\\left(x\\right) $$"
      ],
      "text/plain": [
       "<latexify.frontend.LatexifiedFunction at 0x110d08c70>"
      ]
     },
     "execution_count": 9,
     "metadata": {},
     "output_type": "execute_result"
    }
   ],
   "source": [
    "# Function names, arguments, variables can be replaced.\n",
    "identifiers = {\n",
    "    \"my_function\": \"f\",\n",
    "    \"my_inner_function\": \"g\",\n",
    "    \"my_argument\": \"x\",\n",
    "}\n",
    "\n",
    "@latexify.function(identifiers=identifiers)\n",
    "def my_function(my_argument):\n",
    "    return my_inner_function(my_argument)\n",
    "\n",
    "my_function"
   ]
  },
  {
   "cell_type": "code",
   "execution_count": null,
   "metadata": {
    "colab": {
     "base_uri": "https://localhost:8080/",
     "height": 56
    },
    "id": "TyacQaDM4Ei7",
    "outputId": "47d828d4-e77e-41dc-9455-e96d6084f000"
   },
   "outputs": [
    {
     "data": {
      "text/latex": [
       "$$ \\displaystyle \\mathrm{f}(a, b, c) = \\frac{-b + \\sqrt{b^{{2}} - {4} a c}}{{2} a} $$"
      ],
      "text/plain": [
       "<latexify.frontend.LatexifiedFunction at 0x7f0fddeeead0>"
      ]
     },
     "execution_count": 10,
     "metadata": {},
     "output_type": "execute_result"
    }
   ],
   "source": [
    "# Assignments can be reduced into one expression.\n",
    "@latexify.function(reduce_assignments=True)\n",
    "def f(a, b, c):\n",
    "    discriminant = b**2 - 4 * a * c\n",
    "    numerator = -b + math.sqrt(discriminant)\n",
    "    denominator = 2 * a\n",
    "    return numerator / denominator\n",
    "\n",
    "f"
   ]
  },
  {
   "cell_type": "code",
   "execution_count": 19,
   "metadata": {
    "tags": []
   },
   "outputs": [
    {
     "name": "stdout",
     "output_type": "stream",
     "text": [
      "Starting 4 engines with <class 'ipyparallel.cluster.launcher.LocalEngineSetLauncher'>\n"
     ]
    },
    {
     "data": {
      "application/vnd.jupyter.widget-view+json": {
       "model_id": "cfd35b94c03f4d98a589c384d98d3bc3",
       "version_major": 2,
       "version_minor": 0
      },
      "text/plain": [
       "  0%|          | 0/4 [00:00<?, ?engine/s]"
      ]
     },
     "metadata": {},
     "output_type": "display_data"
    },
    {
     "name": "stdout",
     "output_type": "stream",
     "text": [
      "Stopping engine(s): 1683656935\n",
      "engine set stopped 1683656935: {'engines': {'0': {'exit_code': 0, 'pid': 58425, 'identifier': '0'}, '1': {'exit_code': 0, 'pid': 58426, 'identifier': '1'}, '2': {'exit_code': 0, 'pid': 58438, 'identifier': '2'}, '3': {'exit_code': 0, 'pid': 58442, 'identifier': '3'}}, 'exit_code': 0}\n",
      "Stopping controller\n",
      "Controller stopped: {'exit_code': 0, 'pid': 58419, 'identifier': 'ipcontroller-1683656933-iim1-56617'}\n"
     ]
    }
   ],
   "source": [
    "import os\n",
    "import ipyparallel as ipp\n",
    "\n",
    "cluster = ipp.Cluster(n=4)\n",
    "with cluster as rc:\n",
    "    ar = rc[:].apply_async(os.getpid)\n",
    "    pid_map = ar.get_dict()"
   ]
  },
  {
   "cell_type": "code",
   "execution_count": 20,
   "metadata": {
    "tags": []
   },
   "outputs": [
    {
     "name": "stdout",
     "output_type": "stream",
     "text": [
      "Took 25.469 seconds\n"
     ]
    }
   ],
   "source": [
    "# example of loading matrices and multiplying them together (default numpy threads)\n",
    "from numpy.random import rand\n",
    "from time import time\n",
    " \n",
    "# function for creating a test matrix\n",
    "def load_data(n=2000):\n",
    "    # square matrix of random floats\n",
    "    return rand(n, n)\n",
    " \n",
    "# function for performing operation on matrices\n",
    "def operation(item1, item2):\n",
    "    # matrix multiplication\n",
    "    return item1.dot(item2)\n",
    " \n",
    "# record the start time\n",
    "start = time()\n",
    "# load data\n",
    "data1 = [load_data() for _ in range(100)]\n",
    "data2 = [load_data() for _ in range(100)]\n",
    "# apply operation to items\n",
    "results = [operation(item1, item2) for item1,item2 in zip(data1,data2)]\n",
    "# calculate and report duration\n",
    "duration = time() - start\n",
    "print(f'Took {duration:.3f} seconds')\n"
   ]
  },
  {
   "cell_type": "code",
   "execution_count": null,
   "metadata": {},
   "outputs": [],
   "source": []
  }
 ],
 "metadata": {
  "colab": {
   "provenance": []
  },
  "kernelspec": {
   "display_name": "Python (38)",
   "language": "python",
   "name": "python3"
  },
  "language_info": {
   "codemirror_mode": {
    "name": "ipython",
    "version": 3
   },
   "file_extension": ".py",
   "mimetype": "text/x-python",
   "name": "python",
   "nbconvert_exporter": "python",
   "pygments_lexer": "ipython3",
   "version": "3.8.16"
  }
 },
 "nbformat": 4,
 "nbformat_minor": 4
}

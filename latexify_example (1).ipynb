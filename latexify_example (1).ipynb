{
 "cells": [
  {
   "cell_type": "markdown",
   "metadata": {
    "id": "W5mNJI3Bnl6n"
   },
   "source": [
    "# `latexify` examples on Google Colaboratory\n",
    "\n",
    "This notebook provides several examples to use `latexify`.\n",
    "\n",
    "See also the [official documentation](https://github.com/google/latexify_py/blob/documentation/docs/index.md) for more details.\n",
    "\n",
    "If you have any questions, please ask it in the [issue tracker](https://github.com/google/latexify_py/issues)."
   ]
  },
  {
   "cell_type": "markdown",
   "metadata": {
    "id": "fWCVgcRHoLd8"
   },
   "source": [
    "## Install `latexify`"
   ]
  },
  {
   "cell_type": "code",
   "execution_count": null,
   "metadata": {
    "colab": {
     "base_uri": "https://localhost:8080/"
    },
    "id": "4IPGyu2dFH6T",
    "outputId": "afaeab6d-840b-4a3b-c0b8-a1bcb979bbfc"
   },
   "outputs": [
    {
     "name": "stdout",
     "output_type": "stream",
     "text": [
      "Looking in indexes: https://pypi.org/simple, https://us-python.pkg.dev/colab-wheels/public/simple/\n",
      "Collecting latexify-py==0.2.0\n",
      "  Downloading latexify_py-0.2.0-py3-none-any.whl (22 kB)\n",
      "Requirement already satisfied: dill>=0.3.2 in /usr/local/lib/python3.7/dist-packages (from latexify-py==0.2.0) (0.3.6)\n",
      "Installing collected packages: latexify-py\n",
      "Successfully installed latexify-py-0.2.0\n"
     ]
    }
   ],
   "source": [
    "# Restart the runtime before running the examples below.\n",
    "!pip install latexify-py==0.2.0"
   ]
  },
  {
   "cell_type": "markdown",
   "metadata": {
    "id": "-Mzq4_dNoSmc"
   },
   "source": [
    "## Import `latexify` into your code"
   ]
  },
  {
   "cell_type": "code",
   "execution_count": 1,
   "metadata": {
    "colab": {
     "base_uri": "https://localhost:8080/",
     "height": 35
    },
    "execution": {
     "iopub.execute_input": "2023-07-20T21:38:15.962407Z",
     "iopub.status.busy": "2023-07-20T21:38:15.961549Z",
     "iopub.status.idle": "2023-07-20T21:38:16.154640Z",
     "shell.execute_reply": "2023-07-20T21:38:16.154173Z",
     "shell.execute_reply.started": "2023-07-20T21:38:15.962354Z"
    },
    "id": "hViDMhyMFNCO",
    "outputId": "6f434cd0-a01f-4a7e-e127-4c8da7ad0ea6"
   },
   "outputs": [
    {
     "data": {
      "text/plain": [
       "'0.2.0'"
      ]
     },
     "execution_count": 1,
     "metadata": {},
     "output_type": "execute_result"
    }
   ],
   "source": [
    "import math  # Optionally\n",
    "import latexify\n",
    "\n",
    "latexify.__version__"
   ]
  },
  {
   "cell_type": "markdown",
   "metadata": {
    "id": "4QJ6I2s7odX1"
   },
   "source": [
    "## Examples"
   ]
  },
  {
   "cell_type": "code",
   "execution_count": 2,
   "metadata": {
    "colab": {
     "base_uri": "https://localhost:8080/",
     "height": 90
    },
    "execution": {
     "iopub.execute_input": "2023-07-20T21:38:18.054714Z",
     "iopub.status.busy": "2023-07-20T21:38:18.053514Z",
     "iopub.status.idle": "2023-07-20T21:38:18.078185Z",
     "shell.execute_reply": "2023-07-20T21:38:18.077277Z",
     "shell.execute_reply.started": "2023-07-20T21:38:18.054634Z"
    },
    "id": "NvbEYSwXFaeE",
    "outputId": "0c3c6735-764f-4a75-f476-9913153c30bc"
   },
   "outputs": [
    {
     "name": "stdout",
     "output_type": "stream",
     "text": [
      "-1.0\n",
      "\\mathrm{solve}(a, b, c) = \\frac{-b + \\sqrt{b^{{2}} - {4} a c}}{{2} a}\n"
     ]
    },
    {
     "data": {
      "text/latex": [
       "$$ \\displaystyle \\mathrm{solve}(a, b, c) = \\frac{-b + \\sqrt{b^{{2}} - {4} a c}}{{2} a} $$"
      ],
      "text/plain": [
       "<latexify.frontend.LatexifiedFunction at 0x11112b3a0>"
      ]
     },
     "execution_count": 2,
     "metadata": {},
     "output_type": "execute_result"
    }
   ],
   "source": [
    "@latexify.function\n",
    "def solve(a, b, c):\n",
    "  return (-b + math.sqrt(b**2 - 4*a*c)) / (2*a)\n",
    "\n",
    "print(solve(1, 4, 3))  # Invoking the function works as expected.\n",
    "print(solve)  # Printing the function shows the underlying LaTeX expression.\n",
    "solve  # Display the MathJax."
   ]
  },
  {
   "cell_type": "code",
   "execution_count": 3,
   "metadata": {
    "colab": {
     "base_uri": "https://localhost:8080/",
     "height": 56
    },
    "execution": {
     "iopub.execute_input": "2023-07-20T21:38:55.282670Z",
     "iopub.status.busy": "2023-07-20T21:38:55.282347Z",
     "iopub.status.idle": "2023-07-20T21:38:55.287880Z",
     "shell.execute_reply": "2023-07-20T21:38:55.287347Z",
     "shell.execute_reply.started": "2023-07-20T21:38:55.282645Z"
    },
    "id": "wS7BhtPgjSak",
    "outputId": "c87b004d-2596-4311-830e-ae1588a879dd"
   },
   "outputs": [
    {
     "data": {
      "text/latex": [
       "$$ \\displaystyle \\frac{-b + \\sqrt{b^{{2}} - {4} a c}}{{2} a} $$"
      ],
      "text/plain": [
       "<latexify.frontend.LatexifiedFunction at 0x11112b820>"
      ]
     },
     "execution_count": 3,
     "metadata": {},
     "output_type": "execute_result"
    }
   ],
   "source": [
    "# latexify.expression works similarly, but does not output the signature.\n",
    "@latexify.expression\n",
    "def solve(a, b, c):\n",
    "  return (-b + math.sqrt(b**2 - 4*a*c)) / (2*a)\n",
    "\n",
    "solve"
   ]
  },
  {
   "cell_type": "code",
   "execution_count": 4,
   "metadata": {
    "colab": {
     "base_uri": "https://localhost:8080/",
     "height": 35
    },
    "execution": {
     "iopub.execute_input": "2023-07-20T21:38:57.366554Z",
     "iopub.status.busy": "2023-07-20T21:38:57.365304Z",
     "iopub.status.idle": "2023-07-20T21:38:57.382061Z",
     "shell.execute_reply": "2023-07-20T21:38:57.381029Z",
     "shell.execute_reply.started": "2023-07-20T21:38:57.366485Z"
    },
    "id": "G73dnoqqjg4A",
    "outputId": "3b45fd29-0ee2-43ef-9ea7-81b793150395"
   },
   "outputs": [
    {
     "data": {
      "text/plain": [
       "'\\\\mathrm{solve}(a, b, c) = \\\\frac{-b + \\\\sqrt{b^{{2}} - {4} a c}}{{2} a}'"
      ]
     },
     "execution_count": 4,
     "metadata": {},
     "output_type": "execute_result"
    }
   ],
   "source": [
    "# latexify.get_latex obtains the underlying LaTeX expression directly.\n",
    "def solve(a, b, c):\n",
    "  return (-b + math.sqrt(b**2 - 4*a*c)) / (2*a)\n",
    "\n",
    "latexify.get_latex(solve)"
   ]
  },
  {
   "cell_type": "code",
   "execution_count": 5,
   "metadata": {
    "colab": {
     "base_uri": "https://localhost:8080/",
     "height": 61
    },
    "execution": {
     "iopub.execute_input": "2023-07-20T21:38:58.349750Z",
     "iopub.status.busy": "2023-07-20T21:38:58.348681Z",
     "iopub.status.idle": "2023-07-20T21:38:58.369359Z",
     "shell.execute_reply": "2023-07-20T21:38:58.368689Z",
     "shell.execute_reply.started": "2023-07-20T21:38:58.349683Z"
    },
    "id": "8bYSWIngGF8E",
    "outputId": "9f4b7fda-f7c0-43c1-af85-85c775281b51"
   },
   "outputs": [
    {
     "data": {
      "text/latex": [
       "$$ \\displaystyle \\mathrm{sinc}(x) = \\left\\{ \\begin{array}{ll} {1}, & \\mathrm{if} \\ {x = {0}} \\\\ \\frac{\\sin{\\left({x}\\right)}}{x}, & \\mathrm{otherwise} \\end{array} \\right. $$"
      ],
      "text/plain": [
       "<latexify.frontend.LatexifiedFunction at 0x11110ec10>"
      ]
     },
     "execution_count": 5,
     "metadata": {},
     "output_type": "execute_result"
    }
   ],
   "source": [
    "@latexify.function\n",
    "def sinc(x):\n",
    "  if x == 0:\n",
    "    return 1\n",
    "  else:\n",
    "    return math.sin(x) / x\n",
    "\n",
    "sinc"
   ]
  },
  {
   "cell_type": "code",
   "execution_count": 6,
   "metadata": {
    "colab": {
     "base_uri": "https://localhost:8080/",
     "height": 78
    },
    "execution": {
     "iopub.execute_input": "2023-07-20T21:39:02.857883Z",
     "iopub.status.busy": "2023-07-20T21:39:02.857085Z",
     "iopub.status.idle": "2023-07-20T21:39:02.874828Z",
     "shell.execute_reply": "2023-07-20T21:39:02.874067Z",
     "shell.execute_reply.started": "2023-07-20T21:39:02.857825Z"
    },
    "id": "h1i4BjdgHjxl",
    "outputId": "ed335f43-6a75-443b-acd3-30193a0a67e3"
   },
   "outputs": [
    {
     "data": {
      "text/latex": [
       "$$ \\displaystyle \\mathrm{fib}(x) = \\left\\{ \\begin{array}{ll} {0}, & \\mathrm{if} \\ {x = {0}} \\\\ {1}, & \\mathrm{if} \\ {x = {1}} \\\\ \\mathrm{fib}\\left(x - {1}\\right) + \\mathrm{fib}\\left(x - {2}\\right), & \\mathrm{otherwise} \\end{array} \\right. $$"
      ],
      "text/plain": [
       "<latexify.frontend.LatexifiedFunction at 0x11112b520>"
      ]
     },
     "execution_count": 6,
     "metadata": {},
     "output_type": "execute_result"
    }
   ],
   "source": [
    "# Elif or nested else-if are unrolled.\n",
    "@latexify.function\n",
    "def fib(x):\n",
    "  if x == 0:\n",
    "    return 0\n",
    "  elif x == 1:\n",
    "    return 1\n",
    "  else:\n",
    "    return fib(x-1) + fib(x-2)\n",
    "\n",
    "fib"
   ]
  },
  {
   "cell_type": "code",
   "execution_count": 7,
   "metadata": {
    "colab": {
     "base_uri": "https://localhost:8080/",
     "height": 39
    },
    "execution": {
     "iopub.execute_input": "2023-07-20T21:39:58.319118Z",
     "iopub.status.busy": "2023-07-20T21:39:58.316536Z",
     "iopub.status.idle": "2023-07-20T21:39:58.333391Z",
     "shell.execute_reply": "2023-07-20T21:39:58.332503Z",
     "shell.execute_reply.started": "2023-07-20T21:39:58.319016Z"
    },
    "id": "-JhJMAXM7j-X",
    "outputId": "623f723d-c279-4c8c-a8d5-e019de74045a"
   },
   "outputs": [
    {
     "data": {
      "text/latex": [
       "$$ \\displaystyle \\mathrm{greek}({\\alpha}, {\\beta}, {\\gamma}, {\\Omega}) = {\\alpha} {\\beta} + \\Gamma\\left({{\\gamma}}\\right) + {\\Omega} $$"
      ],
      "text/plain": [
       "<latexify.frontend.LatexifiedFunction at 0x11110ecd0>"
      ]
     },
     "execution_count": 7,
     "metadata": {},
     "output_type": "execute_result"
    }
   ],
   "source": [
    "# Some math symbols are converted automatically.\n",
    "@latexify.function(use_math_symbols=True)\n",
    "def greek(alpha, beta, gamma, Omega):\n",
    "  return alpha * beta + math.gamma(gamma) + Omega\n",
    "\n",
    "greek"
   ]
  },
  {
   "cell_type": "code",
   "execution_count": 8,
   "metadata": {
    "colab": {
     "base_uri": "https://localhost:8080/",
     "height": 39
    },
    "execution": {
     "iopub.execute_input": "2023-07-20T21:39:59.131935Z",
     "iopub.status.busy": "2023-07-20T21:39:59.129384Z",
     "iopub.status.idle": "2023-07-20T21:39:59.142377Z",
     "shell.execute_reply": "2023-07-20T21:39:59.141321Z",
     "shell.execute_reply.started": "2023-07-20T21:39:59.131831Z"
    },
    "id": "ySyNPS0y4tzu",
    "outputId": "6710edef-909c-4d61-ad57-12e73bbdaf95"
   },
   "outputs": [
    {
     "data": {
      "text/latex": [
       "$$ \\displaystyle \\mathrm{f}(x) = \\mathrm{g}\\left(x\\right) $$"
      ],
      "text/plain": [
       "<latexify.frontend.LatexifiedFunction at 0x11112b040>"
      ]
     },
     "execution_count": 8,
     "metadata": {},
     "output_type": "execute_result"
    }
   ],
   "source": [
    "# Function names, arguments, variables can be replaced.\n",
    "identifiers = {\n",
    "    \"my_function\": \"f\",\n",
    "    \"my_inner_function\": \"g\",\n",
    "    \"my_argument\": \"x\",\n",
    "}\n",
    "\n",
    "@latexify.function(identifiers=identifiers)\n",
    "def my_function(my_argument):\n",
    "    return my_inner_function(my_argument)\n",
    "\n",
    "my_function"
   ]
  },
  {
   "cell_type": "code",
   "execution_count": 9,
   "metadata": {
    "colab": {
     "base_uri": "https://localhost:8080/",
     "height": 56
    },
    "execution": {
     "iopub.execute_input": "2023-07-20T21:40:00.045111Z",
     "iopub.status.busy": "2023-07-20T21:40:00.044205Z",
     "iopub.status.idle": "2023-07-20T21:40:00.058895Z",
     "shell.execute_reply": "2023-07-20T21:40:00.058284Z",
     "shell.execute_reply.started": "2023-07-20T21:40:00.045066Z"
    },
    "id": "TyacQaDM4Ei7",
    "outputId": "47d828d4-e77e-41dc-9455-e96d6084f000"
   },
   "outputs": [
    {
     "data": {
      "text/latex": [
       "$$ \\displaystyle \\mathrm{f}(a, b, c) = \\frac{-b + \\sqrt{b^{{2}} - {4} a c}}{{2} a} $$"
      ],
      "text/plain": [
       "<latexify.frontend.LatexifiedFunction at 0x11112bd30>"
      ]
     },
     "execution_count": 9,
     "metadata": {},
     "output_type": "execute_result"
    }
   ],
   "source": [
    "# Assignments can be reduced into one expression.\n",
    "@latexify.function(reduce_assignments=True)\n",
    "def f(a, b, c):\n",
    "    discriminant = b**2 - 4 * a * c\n",
    "    numerator = -b + math.sqrt(discriminant)\n",
    "    denominator = 2 * a\n",
    "    return numerator / denominator\n",
    "\n",
    "f"
   ]
  },
  {
   "cell_type": "code",
   "execution_count": null,
   "metadata": {},
   "outputs": [],
   "source": []
  },
  {
   "cell_type": "code",
   "execution_count": null,
   "metadata": {},
   "outputs": [],
   "source": []
  }
 ],
 "metadata": {
  "colab": {
   "provenance": []
  },
  "kernelspec": {
   "display_name": "Python (38)",
   "language": "python",
   "name": "python3"
  },
  "language_info": {
   "codemirror_mode": {
    "name": "ipython",
    "version": 3
   },
   "file_extension": ".py",
   "mimetype": "text/x-python",
   "name": "python",
   "nbconvert_exporter": "python",
   "pygments_lexer": "ipython3",
   "version": "3.8.16"
  }
 },
 "nbformat": 4,
 "nbformat_minor": 4
}

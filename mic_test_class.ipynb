{
 "cells": [
  {
   "cell_type": "code",
   "execution_count": 1,
   "id": "bdb7dd29-b00c-4a25-9fdd-0c6c82e2a586",
   "metadata": {},
   "outputs": [],
   "source": [
    "import numpy as np\n",
    "try:\n",
    "    import pyaudio\n",
    "except:\n",
    "    !pip3 install pyaudio\n",
    "    import pyaudio\n",
    "\n",
    "import wave, time, struct\n",
    "\n",
    "from scipy import signal\n",
    "from scipy.fft import fft, fftfreq, fftshift, ifft\n",
    "from scipy.signal import blackman\n",
    "from scipy.io.wavfile import write\n",
    "\n",
    "try:\n",
    "    import librosa, librosa.display\n",
    "except:\n",
    "    !pip3 install librosa\n",
    "    import librosa, librosa.display\n",
    "import matplotlib.pyplot as plt\n",
    "%matplotlib inline\n",
    "plt.rcParams[\"figure.figsize\"] = [7.50, 3.50]\n",
    "plt.rcParams[\"figure.autolayout\"] = True\n",
    "\n",
    "def nicegrid(ax=plt):\n",
    "    ax.grid(True, which='major', color='#666666', linestyle=':')\n",
    "    ax.grid(True, which='minor', color='#999999', linestyle=':', alpha=0.2)\n",
    "    ax.minorticks_on()"
   ]
  },
  {
   "cell_type": "code",
   "execution_count": 2,
   "id": "04d5c2af-4e77-4428-9790-4de914dff84d",
   "metadata": {},
   "outputs": [],
   "source": [
    "FORMAT = pyaudio.paInt16\n",
    "CHANNELS = 1\n",
    "RATE = 44100\n",
    "CHUNK = 512\n",
    "RECORD_SECONDS = 10\n",
    "WAVE_OUTPUT_FILENAME = \"data/example_recordedFile.wav\"\n",
    "audio = pyaudio.PyAudio()"
   ]
  },
  {
   "cell_type": "code",
   "execution_count": 3,
   "id": "558a036b-6ff6-493f-a38b-686943378fcd",
   "metadata": {},
   "outputs": [
    {
     "name": "stdout",
     "output_type": "stream",
     "text": [
      "----------------------record device list---------------------\n",
      "Input Device id  0  -  MacBook Pro Microphone\n",
      "Input Device id  2  -  Microsoft Teams Audio\n",
      "-------------------------------------------------------------\n"
     ]
    }
   ],
   "source": [
    "print(\"----------------------record device list---------------------\")\n",
    "info = audio.get_host_api_info_by_index(0)\n",
    "numdevices = info.get('deviceCount')\n",
    "for i in range(0, numdevices):\n",
    "        if (audio.get_device_info_by_host_api_device_index(0, i).get('maxInputChannels')) > 0:\n",
    "            print(\"Input Device id \", i, \" - \", audio.get_device_info_by_host_api_device_index(0, i).get('name'))\n",
    "\n",
    "print(\"-------------------------------------------------------------\")"
   ]
  },
  {
   "cell_type": "code",
   "execution_count": 4,
   "id": "adc429c8-d461-45ba-bc73-7957233e8369",
   "metadata": {},
   "outputs": [
    {
     "name": "stdout",
     "output_type": "stream",
     "text": [
      "recording via index 5\n"
     ]
    }
   ],
   "source": [
    "#index = int(input())\n",
    "index = 5\n",
    "print(\"recording via index \"+str(index))"
   ]
  },
  {
   "cell_type": "code",
   "execution_count": null,
   "id": "cd5cc309-8073-4340-8c6d-2c84c93eeece",
   "metadata": {},
   "outputs": [],
   "source": [
    "stream = audio.open(format=FORMAT, channels=CHANNELS,\n",
    "                rate=RATE, input=True, input_device_index = index,\n",
    "                frames_per_buffer=CHUNK)\n",
    "print (\"recording started\")\n",
    "Recordframes = []\n",
    "\n",
    "start = time.time()\n",
    "for i in range(0, int(RATE / CHUNK * RECORD_SECONDS)):\n",
    "    data = stream.read(CHUNK, exception_on_overflow = False)\n",
    "    Recordframes.append(data)\n",
    "    if (i%100 == 0):\n",
    "        print(f\"{time.time() - start:.1f} \",  end = '')\n",
    "tf = time.time() - start\n",
    "print (\"\\nrecording stopped\")\n",
    "\n",
    "recorded_signal = np.hstack(Recordframes)\n",
    "\n",
    "stream.stop_stream()\n",
    "stream.close()\n",
    "audio.terminate()"
   ]
  },
  {
   "cell_type": "code",
   "execution_count": null,
   "id": "78f6c5fc-186f-4417-998a-f7c1ba45b3e0",
   "metadata": {},
   "outputs": [],
   "source": [
    "waveFile = wave.open(WAVE_OUTPUT_FILENAME, 'wb')\n",
    "waveFile.setnchannels(CHANNELS)\n",
    "waveFile.setsampwidth(audio.get_sample_size(FORMAT))\n",
    "waveFile.setframerate(RATE)\n",
    "waveFile.writeframes(b''.join(Recordframes))\n",
    "waveFile.close()"
   ]
  },
  {
   "cell_type": "code",
   "execution_count": null,
   "id": "9cfcefd9-21e8-4252-9df7-88c109a72d6a",
   "metadata": {},
   "outputs": [],
   "source": [
    "recorded_signal_f = np.frombuffer(recorded_signal, dtype='int16').astype('float32')\n",
    "plt.figure(figsize=(20, 5))\n",
    "t_ignore = 1\n",
    "librosa.display.waveshow(recorded_signal_f[t_ignore*RATE:], sr=RATE)\n",
    "plt.title('Waveplot', fontdict=dict(size=18))\n",
    "plt.xlabel('Time', fontdict=dict(size=18))\n",
    "plt.ylabel('Amplitude', fontdict=dict(size=18))\n",
    "plt.xlim(0,tf-t_ignore)\n",
    "plt.savefig('./data/mic_recorder_0.png', bbox_inches='tight', dpi=300)\n",
    "plt.show()"
   ]
  },
  {
   "cell_type": "code",
   "execution_count": null,
   "id": "45413813-f9da-4255-a6bc-eb99647c2bf4",
   "metadata": {},
   "outputs": [],
   "source": [
    "y = recorded_signal_f[t_ignore*RATE:]\n",
    "y = y/max(y)\n",
    "N = len(y)\n",
    "fs = RATE\n",
    "T = N/fs\n",
    "t = np.arange(N)*T/N"
   ]
  },
  {
   "cell_type": "code",
   "execution_count": null,
   "id": "53f143f7-bbd0-45f6-b748-f2c7332b2725",
   "metadata": {},
   "outputs": [],
   "source": [
    "Y_fft = fft(y)\n",
    "f_bl = fftfreq(N, 1/fs)"
   ]
  },
  {
   "cell_type": "code",
   "execution_count": null,
   "id": "858c6f55-e83a-4589-a68f-547b55bc1115",
   "metadata": {},
   "outputs": [],
   "source": [
    "fig, (ax1, ax2) = plt.subplots(1,2, figsize=(8,4), dpi=150)\n",
    "fig.tight_layout(pad=2)\n",
    "ax1.plot(t, y.real, 'b:', t, y.imag, 'r:')\n",
    "ax1.set_ylabel('$y_{bl}[nT_s]$')\n",
    "ax1.set_xlabel('$t$')\n",
    "ax2.set_xlim([0, 19])\n",
    "ax1.legend(['y(t).real','y(t).imag'])\n",
    "ax1.set_title('Snippet of data')\n",
    "nicegrid(ax1)\n",
    "\n",
    "ax2.loglog(f_bl[0:N//2], np.abs(Y_fft[0:N//2]),'b-')\n",
    "ax2.set_ylabel('FFT $y_{bl}[nT_s]$')\n",
    "ax2.set_xlabel('$f$')\n",
    "ax2.set_xlim([10, 10000])\n",
    "ax2.set_ylim([.1, 2000])\n",
    "ax2.legend(['Y_{fft}(f)','Y_{given}(f)'])\n",
    "ax2.set_title('FFT of data')\n",
    "plt.show()"
   ]
  },
  {
   "cell_type": "code",
   "execution_count": null,
   "id": "e6fec37e-b60e-48c6-8ca0-987375088530",
   "metadata": {},
   "outputs": [],
   "source": [
    "# bounds of noise in Y(f)\n",
    "f_low = 200\n",
    "f_high = 20000\n",
    "\n",
    "# conversion from frequency to index count \n",
    "delta_freq = fs/N\n",
    "\n",
    "# find equivalent positions in Y(f) \n",
    "n_low = int(f_low/delta_freq)\n",
    "n_high = int(f_high/delta_freq)\n",
    "L1 = np.arange(n_low,n_high) # noise indices\n",
    "\n",
    "# create noise vector\n",
    "Y_n = np.zeros((N,), dtype=complex)\n",
    "# create random phase needed for correct ifft process\n",
    "rng = np.random.default_rng()\n",
    "phi = rng.uniform(0, 2*np.pi, (len(L1),))\n",
    "\n",
    "# create Y(f)\n",
    "if (0): # half-sine shape noise\n",
    "    mag_temp = np.sin(np.pi*np.arange(0,n_high-n_low)/(n_high-n_low))\n",
    "else: # rect noise\n",
    "    mag_temp = 850*np.ones([1,n_high-n_low])\n",
    "    \n",
    "Y_n[L1] = mag_temp*np.exp(1j*phi)\n",
    "# add complex conjugate at upper end to ensure that y[n] real\n",
    "Y_n[N-L1] = np.conj(Y_n[L1])\n",
    "\n",
    "# create y[n]\n",
    "noise = ifft(Y_n)"
   ]
  },
  {
   "cell_type": "code",
   "execution_count": null,
   "id": "c475b6e2-0011-48b9-940d-d8a705194824",
   "metadata": {},
   "outputs": [],
   "source": [
    "yn = y + noise.real\n",
    "Y_fft_n = fft(yn)"
   ]
  },
  {
   "cell_type": "code",
   "execution_count": null,
   "id": "d0d3f56d-dabc-4ae3-aa89-2a30212ee1e5",
   "metadata": {},
   "outputs": [],
   "source": [
    "fig, (ax1, ax2) = plt.subplots(1,2, figsize=(8,4), dpi=150)\n",
    "fig.tight_layout(pad=2)\n",
    "ax1.plot(t, y, 'b:', t, yn, 'r:',alpha=0.2)\n",
    "ax1.set_ylabel('$y_{bl}[nT_s]$')\n",
    "ax1.set_xlabel('$t$')\n",
    "ax1.legend(['Signal','Noisy signal'])\n",
    "ax2.set_xlim([0, 19])\n",
    "ax1.set_title('Snippet of data')\n",
    "nicegrid(ax1)\n",
    "\n",
    "ax2.loglog(f_bl[0:N//2], np.abs(Y_fft[0:N//2]),'b-',alpha=0.6)\n",
    "ax2.loglog(f_bl[0:N//2], np.abs(Y_fft_n[0:N//2]),'r:',alpha=0.3)\n",
    "ax2.set_ylabel('FFT $y_{bl}[nT_s]$')\n",
    "ax2.set_xlabel('$f$')\n",
    "ax2.set_xlim([10, 5000])\n",
    "ax2.set_ylim([10, 3000])\n",
    "ax2.legend(['Signal','Noisy signal'])\n",
    "ax2.set_title('FFT of data')\n",
    "nicegrid(ax2)\n",
    "plt.show()"
   ]
  },
  {
   "cell_type": "code",
   "execution_count": null,
   "id": "dec5f327-40e7-4b38-8358-890c4d6c314b",
   "metadata": {},
   "outputs": [],
   "source": [
    "# Low Pass\n",
    "b_low, a_low = signal.butter(2, 200, 'low', fs=fs)\n",
    "f_low, h_low = signal.freqz(b_low, a_low,fs=fs,worN=1000)\n",
    "yn_lp = signal.lfilter(b_low, a_low, yn)\n",
    "Yn_lp_fft = fft(yn_lp)"
   ]
  },
  {
   "cell_type": "code",
   "execution_count": null,
   "id": "9d356dd9-f6d1-42b2-a0a4-b15e9aca4e3b",
   "metadata": {},
   "outputs": [],
   "source": [
    "fig, (ax1,ax2) = plt.subplots(1,2, figsize=(8,4), dpi=150)\n",
    "fig.tight_layout(pad=2)\n",
    "eps = 1e-12\n",
    "ax1.loglog(f_low, abs(h_low+eps),'b-',label='LP')\n",
    "ax1.set_title('Butterworth filter frequency response')\n",
    "ax1.set_xlabel('Frequency [Hz]')\n",
    "ax1.set_ylabel('Amplitude')\n",
    "ax1.set_xlim([10, 5000])\n",
    "ax1.set_ylim([.001, 2])\n",
    "nicegrid()\n",
    "\n",
    "ax2.loglog(f_bl[0:N//2], np.abs(Y_fft[0:N//2]),'b-',alpha=0.6)\n",
    "ax2.loglog(f_bl[0:N//2], np.abs(Y_fft_n[0:N//2]),'r:',alpha=0.4)\n",
    "ax2.loglog(f_bl[0:N//2], np.abs(Yn_lp_fft[0:N//2]),'g--',alpha = .8)\n",
    "ax2.set_ylabel('FFT $y_{bl}[nT_s]$')\n",
    "ax2.set_xlabel('$f$')\n",
    "ax2.set_xlim([10, 5000])\n",
    "ax2.set_ylim([10, 3000])\n",
    "ax2.legend(['FFT sig','FFT sig+n','LP of sig+n'])\n",
    "ax2.set_title('FFT of data')\n",
    "plt.show()"
   ]
  },
  {
   "cell_type": "code",
   "execution_count": null,
   "id": "df8abbdf-2136-4d5e-bc9b-c2c07a47a17c",
   "metadata": {},
   "outputs": [],
   "source": [
    "# save the data\n",
    "y_norm = y/max(abs(y))\n",
    "write(\"data/example.wav\", RATE, y_norm.astype(np.float32))\n",
    "yn_norm = yn/max(abs(yn))\n",
    "write(\"data/example_noisy.wav\", RATE, yn_norm.astype(np.float32))\n",
    "yn_lp_norm = yn/max(abs(yn_lp))\n",
    "write(\"data/example_noisy_lp.wav\", RATE, yn_lp_norm.astype(np.float32))"
   ]
  },
  {
   "cell_type": "markdown",
   "id": "b8b02ddf",
   "metadata": {},
   "source": [
    "## Modulation"
   ]
  },
  {
   "cell_type": "code",
   "execution_count": null,
   "id": "748bf9ea-d4cb-4a0d-ab9c-43bb1bba41f3",
   "metadata": {},
   "outputs": [],
   "source": [
    "# Develop 3 carriers to modulate the signal\n",
    "f_carrier_1 = 5000\n",
    "f_carrier_2 = 2*f_carrier_1\n",
    "f_carrier_3 = 3*f_carrier_1\n",
    "\n",
    "II = np.arange(0,N//3)\n",
    "N_t1 = len(II)\n",
    "# Split the signal into 3 pieces, then modulate each one\n",
    "t1 = t[II]\n",
    "t2 = t[N//3+II]\n",
    "t3 = t[2*(N//3)+II]\n",
    "\n",
    "y_signal_1 = y[II]\n",
    "y_signal_2 = y[N//3+II]\n",
    "y_signal_3 = y[2*(N//3)+II]\n",
    "\n",
    "y_carrier_1 = np.cos(2*np.pi*f_carrier_1*t1)\n",
    "y_carrier_2 = np.cos(2*np.pi*f_carrier_2*t2)\n",
    "y_carrier_3 = np.cos(2*np.pi*f_carrier_3*t3)\n",
    "\n",
    "y_modulated = y_signal_1*y_carrier_1 \n",
    "y_modulated += y_signal_2*y_carrier_2 \n",
    "y_modulated += y_signal_3*y_carrier_3\n",
    "\n",
    "# transform all of the signal pieces\n",
    "Y_1 = fft(y_signal_1)\n",
    "Y_2 = fft(y_signal_2)\n",
    "Y_3 = fft(y_signal_3)\n",
    "Y_modulated = fft(y_modulated)\n",
    "f_modulated = fftfreq(N_t1, 1/fs)"
   ]
  },
  {
   "cell_type": "code",
   "execution_count": null,
   "id": "28bffc9e",
   "metadata": {},
   "outputs": [],
   "source": [
    "fig, (ax1) = plt.subplots(1,1, figsize=(8,4), dpi=150)\n",
    "ax1.semilogy(f_modulated[0:N_t1//2], np.abs(Y_modulated[0:N_t1//2]),'b-',alpha=0.6)\n",
    "ax1.set_ylabel('FFT $y_{bl}[nT_s]$')\n",
    "ax1.set_xlabel('$f$')\n",
    "ax1.set_xlim([1000, fs/2])\n",
    "ax1.set_ylim([1, 3000]) \n",
    "ax1.legend(['FFT sig','FFT sig+n','LP of sig+n'])\n",
    "ax1.set_title('FFT of modulated data')\n",
    "plt.show()"
   ]
  },
  {
   "cell_type": "markdown",
   "id": "437321c9",
   "metadata": {},
   "source": [
    "## Demodulate Signal and low-pass filter"
   ]
  },
  {
   "cell_type": "code",
   "execution_count": null,
   "id": "0f2d8f3c",
   "metadata": {},
   "outputs": [],
   "source": [
    "f_voice_lp = 2000\n",
    "bb_low, aa_low = signal.butter(2, f_voice_lp, 'low', fs=fs)\n",
    "\n",
    "y_demodulated_1 = y_modulated*y_carrier_1 \n",
    "y_demodulated_1_lp = signal.lfilter(bb_low, aa_low, y_demodulated_1)\n",
    "Y_demodulated_1_lp = fft(y_demodulated_1_lp)\n",
    "\n",
    "y_demodulated_2 = y_modulated*y_carrier_2 \n",
    "y_demodulated_2_lp = signal.lfilter(bb_low, aa_low, y_demodulated_2)\n",
    "Y_demodulated_2_lp = fft(y_demodulated_2_lp)\n",
    "\n",
    "y_demodulated_3 = y_modulated*y_carrier_3 \n",
    "y_demodulated_3_lp = signal.lfilter(bb_low, aa_low, y_demodulated_3)\n",
    "Y_demodulated_3_lp = fft(y_demodulated_3_lp)"
   ]
  },
  {
   "cell_type": "code",
   "execution_count": null,
   "id": "815d783a",
   "metadata": {},
   "outputs": [],
   "source": [
    "fig, (ax1,ax2,ax3) = plt.subplots(3,1, figsize=(8,8), dpi=150)\n",
    "ax1.loglog(f_modulated[0:N_t1//2-1], np.abs(Y_1[0:N_t1//2-1]),'b-',alpha=1)\n",
    "ax1.loglog(f_modulated[0:N_t1//2], np.abs(Y_demodulated_1_lp[0:N_t1//2]),'r-',alpha=0.4)\n",
    "ax1.set_ylabel('FFT $y_{bl}[nT_s]$')\n",
    "ax1.set_xlabel('$f$')\n",
    "ax1.set_xlim([10, 2000])\n",
    "ax1.set_ylim([1, 5000])\n",
    "ax1.legend(['Modulated','Demod_1'])\n",
    "ax1.set_title('FFT of demodulated data')\n",
    "\n",
    "ax2.loglog(f_modulated[0:N_t1//2-1], np.abs(Y_2[0:N_t1//2-1]),'b-',alpha=1)\n",
    "ax2.loglog(f_modulated[0:N_t1//2], np.abs(Y_demodulated_2_lp[0:N_t1//2]),'r-',alpha=0.4)\n",
    "ax2.set_ylabel('FFT $y_{bl}[nT_s]$')\n",
    "ax2.set_xlabel('$f$')\n",
    "ax2.set_xlim([10, 2000])\n",
    "ax2.set_ylim([1, 5000])\n",
    "ax2.legend(['Modulated','Demod_2'])\n",
    "ax2.set_title('FFT of demodulated data')\n",
    "\n",
    "ax3.loglog(f_modulated[0:N_t1//2-1], np.abs(Y_3[0:N_t1//2-1]),'b-',alpha=1)\n",
    "ax3.loglog(f_modulated[0:N_t1//2], np.abs(Y_demodulated_3_lp[0:N_t1//2]),'r-',alpha=0.4)\n",
    "ax3.set_ylabel('FFT $y_{bl}[nT_s]$')\n",
    "ax3.set_xlabel('$f$')\n",
    "ax3.set_xlim([10, 2000])\n",
    "ax3.set_ylim([1, 5000])\n",
    "ax3.legend(['Modulated','Demod_3'])\n",
    "ax3.set_title('FFT of demodulated data')\n",
    "plt.show()"
   ]
  },
  {
   "cell_type": "markdown",
   "id": "26584358",
   "metadata": {},
   "source": [
    "## Save the modulated and demodulated signals"
   ]
  },
  {
   "cell_type": "code",
   "execution_count": null,
   "id": "3f67584d",
   "metadata": {},
   "outputs": [],
   "source": [
    "y_modulated_norm = y_modulated/max(abs(y_modulated))\n",
    "write(\"data/example_modulated.wav\", RATE, y_modulated_norm.astype(np.float32))\n",
    "\n",
    "y_demodulated_1_lp_norm = y_demodulated_1_lp /max(abs(y_demodulated_1_lp))\n",
    "write(\"data/example_demodulated_1_lp.wav\", RATE, y_demodulated_1_lp_norm.astype(np.float32))\n",
    "\n",
    "y_demodulated_2_lp_norm = y_demodulated_2_lp /max(abs(y_demodulated_2_lp))\n",
    "write(\"data/example_demodulated_2_lp.wav\", RATE, y_demodulated_2_lp_norm.astype(np.float32))\n",
    "\n",
    "y_demodulated_3_lp_norm = y_demodulated_3_lp /max(abs(y_demodulated_3_lp))\n",
    "write(\"data/example_demodulated_3_lp.wav\", RATE, y_demodulated_3_lp_norm.astype(np.float32))"
   ]
  },
  {
   "cell_type": "code",
   "execution_count": null,
   "id": "078621c9",
   "metadata": {},
   "outputs": [],
   "source": [
    "len(y_modulated_norm)"
   ]
  },
  {
   "cell_type": "code",
   "execution_count": null,
   "id": "473f84b7",
   "metadata": {},
   "outputs": [],
   "source": [
    "y_modulated_norm_long = y_modulated_norm\n",
    "for ii in range(0,10):\n",
    "    print(ii)\n",
    "    y_modulated_norm_long = np.concatenate((y_modulated_norm_long,y_modulated_norm))"
   ]
  },
  {
   "cell_type": "code",
   "execution_count": null,
   "id": "18fbd136",
   "metadata": {},
   "outputs": [],
   "source": [
    "write(\"data/example_modulated.wav\", RATE, y_modulated_norm_long.astype(np.float32))"
   ]
  },
  {
   "cell_type": "code",
   "execution_count": null,
   "id": "c51e5994",
   "metadata": {},
   "outputs": [],
   "source": [
    "len(y_modulated_norm_long)"
   ]
  },
  {
   "cell_type": "code",
   "execution_count": null,
   "id": "c6a286ae",
   "metadata": {},
   "outputs": [],
   "source": []
  },
  {
   "cell_type": "code",
   "execution_count": null,
   "id": "a0d1be05",
   "metadata": {},
   "outputs": [],
   "source": []
  }
 ],
 "metadata": {
  "kernelspec": {
   "display_name": "myenv",
   "language": "python",
   "name": "myenv"
  },
  "language_info": {
   "codemirror_mode": {
    "name": "ipython",
    "version": 3
   },
   "file_extension": ".py",
   "mimetype": "text/x-python",
   "name": "python",
   "nbconvert_exporter": "python",
   "pygments_lexer": "ipython3",
   "version": "3.9.9"
  }
 },
 "nbformat": 4,
 "nbformat_minor": 5
}

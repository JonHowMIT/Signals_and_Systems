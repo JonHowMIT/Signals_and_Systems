{
 "cells": [
  {
   "cell_type": "code",
   "execution_count": 2,
   "metadata": {
    "execution": {
     "iopub.execute_input": "2023-11-20T21:01:30.219779Z",
     "iopub.status.busy": "2023-11-20T21:01:30.219491Z",
     "iopub.status.idle": "2023-11-20T21:01:30.230118Z",
     "shell.execute_reply": "2023-11-20T21:01:30.229773Z",
     "shell.execute_reply.started": "2023-11-20T21:01:30.219765Z"
    }
   },
   "outputs": [
    {
     "name": "stdout",
     "output_type": "stream",
     "text": [
      "Running Python: 3.12.6\n",
      "Running Sympy: 1.13.2\n",
      "Sympy version 1.13.2\n"
     ]
    }
   ],
   "source": [
    "from os.path import exists\n",
    "file_exists = exists('basic_material.py')\n",
    "\n",
    "if (not file_exists):\n",
    "    !wget -O basic_material.py https://raw.githubusercontent.com/JonHowMIT/Signals_and_Systems/main/basic_material.py\n",
    "%run basic_material\n",
    "\n",
    "try:\n",
    "    import google.colab\n",
    "    IN_COLAB = True\n",
    "    !pip3 install sympy==1.10\n",
    "except:\n",
    "    IN_COLAB = False\n",
    "\n",
    "from icecream import ic\n",
    "\n",
    "from sympy import *\n",
    "from sympy import Abs\n",
    "from sympy.integrals.transforms import laplace_transform\n",
    "from sympy.integrals.transforms import inverse_laplace_transform\n",
    "import sympy as sympy\n",
    "from sympy.abc import a, t, x, s, X, g, G\n",
    "print(\"Sympy version \"+sympy.__version__)\n",
    "init_printing(use_unicode=True)\n",
    "\n",
    "a, x, g, X, G, tau = symbols('a x g X G tau', cls = Function)"
   ]
  },
  {
   "cell_type": "markdown",
   "metadata": {},
   "source": [
    "## Define anticausal transforms"
   ]
  },
  {
   "cell_type": "code",
   "execution_count": 3,
   "metadata": {
    "execution": {
     "iopub.execute_input": "2023-11-20T21:01:30.767084Z",
     "iopub.status.busy": "2023-11-20T21:01:30.765791Z",
     "iopub.status.idle": "2023-11-20T21:01:30.784791Z",
     "shell.execute_reply": "2023-11-20T21:01:30.783621Z",
     "shell.execute_reply.started": "2023-11-20T21:01:30.766996Z"
    },
    "tags": []
   },
   "outputs": [],
   "source": [
    "def laplace_transform_ac(g_lt_ac,t,s, NC = True):\n",
    "    return laplace_transform(g_lt_ac.subs(tau,-t), t, -s, noconds = NC)\n",
    "\n",
    "def inverse_laplace_transform_ac(G_ilt_ac,s,t):\n",
    "    return (inverse_laplace_transform(G_ilt_ac.subs(s,-s),s,t).subs(t,-tau))*Heaviside(-tau,1)"
   ]
  },
  {
   "cell_type": "markdown",
   "metadata": {},
   "source": [
    "# Check that get desired properties for basic ftns"
   ]
  },
  {
   "cell_type": "markdown",
   "metadata": {},
   "source": [
    "## Delta ftn"
   ]
  },
  {
   "cell_type": "code",
   "execution_count": 11,
   "metadata": {
    "execution": {
     "iopub.execute_input": "2023-11-20T21:01:32.069818Z",
     "iopub.status.busy": "2023-11-20T21:01:32.069405Z",
     "iopub.status.idle": "2023-11-20T21:01:33.139464Z",
     "shell.execute_reply": "2023-11-20T21:01:33.138948Z",
     "shell.execute_reply.started": "2023-11-20T21:01:32.069801Z"
    },
    "tags": []
   },
   "outputs": [
    {
     "name": "stdout",
     "output_type": "stream",
     "text": [
      "The Laplace Transform of a delta ftn should be 1 - we get: 1\n"
     ]
    }
   ],
   "source": [
    "from sympy import latex\n",
    "\n",
    "#t = Symbol('t', positive=False) \n",
    "g = DiracDelta(t)\n",
    "G = laplace_transform(g, t, s, noconds = True) # Checking the performance -  Should get 1.\n",
    "print(f\"The Laplace Transform of a delta ftn should be 1 - we get: {latex(G)}\")"
   ]
  },
  {
   "cell_type": "markdown",
   "metadata": {},
   "source": [
    "## Step ftn"
   ]
  },
  {
   "cell_type": "code",
   "execution_count": 14,
   "metadata": {
    "execution": {
     "iopub.execute_input": "2023-11-20T21:01:34.202334Z",
     "iopub.status.busy": "2023-11-20T21:01:34.201725Z",
     "iopub.status.idle": "2023-11-20T21:01:35.047168Z",
     "shell.execute_reply": "2023-11-20T21:01:35.046597Z",
     "shell.execute_reply.started": "2023-11-20T21:01:34.202309Z"
    },
    "tags": []
   },
   "outputs": [
    {
     "data": {
      "image/png": "[encoded data removed]",
      "text/latex": [
       "$\\displaystyle \\frac{1}{s}$"
      ],
      "text/plain": [
       "1\n",
       "─\n",
       "s"
      ]
     },
     "execution_count": 14,
     "metadata": {},
     "output_type": "execute_result"
    }
   ],
   "source": [
    "tau = Symbol('tau', negative=True) \n",
    "#t = Symbol('t', positive=True) \n",
    "# \n",
    "g = Heaviside(t,1)\n",
    "G = laplace_transform(g, t, s, noconds = True) # Checking the performance -  Should get 1/s.\n",
    "G"
   ]
  },
  {
   "cell_type": "markdown",
   "metadata": {},
   "source": [
    "## Acausal Step ftn"
   ]
  },
  {
   "cell_type": "code",
   "execution_count": 16,
   "metadata": {
    "execution": {
     "iopub.execute_input": "2023-11-20T21:01:35.522920Z",
     "iopub.status.busy": "2023-11-20T21:01:35.519940Z",
     "iopub.status.idle": "2023-11-20T21:01:36.323722Z",
     "shell.execute_reply": "2023-11-20T21:01:36.323192Z",
     "shell.execute_reply.started": "2023-11-20T21:01:35.522809Z"
    },
    "tags": []
   },
   "outputs": [
    {
     "data": {
      "image/png": "[encoded data removed]",
      "text/latex": [
       "$\\displaystyle - \\frac{2}{s}$"
      ],
      "text/plain": [
       "-2 \n",
       "───\n",
       " s "
      ]
     },
     "execution_count": 16,
     "metadata": {},
     "output_type": "execute_result"
    }
   ],
   "source": [
    "g = 2*Heaviside(-tau,1)\n",
    "G = laplace_transform_ac(g, t, s, True) # Checking the performance -  Should get -2/s.\n",
    "G"
   ]
  },
  {
   "cell_type": "markdown",
   "metadata": {},
   "source": [
    "## Causal exp"
   ]
  },
  {
   "cell_type": "code",
   "execution_count": 17,
   "metadata": {
    "colab": {
     "base_uri": "https://localhost:8080/",
     "height": 38
    },
    "execution": {
     "iopub.execute_input": "2023-11-20T21:01:37.983589Z",
     "iopub.status.busy": "2023-11-20T21:01:37.982441Z",
     "iopub.status.idle": "2023-11-20T21:01:38.629229Z",
     "shell.execute_reply": "2023-11-20T21:01:38.628715Z",
     "shell.execute_reply.started": "2023-11-20T21:01:37.983501Z"
    },
    "executionInfo": {
     "elapsed": 250,
     "status": "ok",
     "timestamp": 1626107862587,
     "user": {
      "displayName": "Jonathan How",
      "photoUrl": "https://lh3.googleusercontent.com/a-/AOh14GiLNnJYgBpzQQozBm-BaS4zBKlaQEQa39WYawXVaw=s64",
      "userId": "07882044077368082882"
     },
     "user_tz": 240
    },
    "id": "0Dw2j9K9wEdw",
    "outputId": "66efb964-28d5-4d42-ba10-f5eeafa813d7",
    "tags": []
   },
   "outputs": [
    {
     "data": {
      "image/png": "[encoded data removed]",
      "text/latex": [
       "$\\displaystyle 11 e^{- t} \\theta\\left(t\\right)$"
      ],
      "text/plain": [
       "    -t     \n",
       "11⋅ℯ  ⋅θ(t)"
      ]
     },
     "execution_count": 17,
     "metadata": {},
     "output_type": "execute_result"
    }
   ],
   "source": [
    "a = 11\n",
    "g = a*sympy.exp(-t)*Heaviside(t)\n",
    "g"
   ]
  },
  {
   "cell_type": "code",
   "execution_count": 18,
   "metadata": {
    "colab": {
     "base_uri": "https://localhost:8080/",
     "height": 38
    },
    "execution": {
     "iopub.execute_input": "2023-11-20T21:01:38.749309Z",
     "iopub.status.busy": "2023-11-20T21:01:38.748825Z",
     "iopub.status.idle": "2023-11-20T21:01:39.412946Z",
     "shell.execute_reply": "2023-11-20T21:01:39.412365Z",
     "shell.execute_reply.started": "2023-11-20T21:01:38.749266Z"
    },
    "executionInfo": {
     "elapsed": 250,
     "status": "ok",
     "timestamp": 1626107862587,
     "user": {
      "displayName": "Jonathan How",
      "photoUrl": "https://lh3.googleusercontent.com/a-/AOh14GiLNnJYgBpzQQozBm-BaS4zBKlaQEQa39WYawXVaw=s64",
      "userId": "07882044077368082882"
     },
     "user_tz": 240
    },
    "id": "0Dw2j9K9wEdw",
    "outputId": "66efb964-28d5-4d42-ba10-f5eeafa813d7",
    "tags": []
   },
   "outputs": [
    {
     "data": {
      "image/png": "[encoded data removed]",
      "text/latex": [
       "$\\displaystyle \\frac{11}{s + 1}$"
      ],
      "text/plain": [
       " 11  \n",
       "─────\n",
       "s + 1"
      ]
     },
     "execution_count": 18,
     "metadata": {},
     "output_type": "execute_result"
    }
   ],
   "source": [
    "G = laplace_transform(g,t,s, noconds = True) # Checking the performance -  Should get 11/(s+1).\n",
    "G"
   ]
  },
  {
   "cell_type": "markdown",
   "metadata": {},
   "source": [
    "## Acausal exp"
   ]
  },
  {
   "cell_type": "code",
   "execution_count": 19,
   "metadata": {
    "colab": {
     "base_uri": "https://localhost:8080/",
     "height": 38
    },
    "execution": {
     "iopub.execute_input": "2023-11-20T21:01:40.164871Z",
     "iopub.status.busy": "2023-11-20T21:01:40.163786Z",
     "iopub.status.idle": "2023-11-20T21:01:40.819417Z",
     "shell.execute_reply": "2023-11-20T21:01:40.818870Z",
     "shell.execute_reply.started": "2023-11-20T21:01:40.164783Z"
    },
    "executionInfo": {
     "elapsed": 250,
     "status": "ok",
     "timestamp": 1626107862587,
     "user": {
      "displayName": "Jonathan How",
      "photoUrl": "https://lh3.googleusercontent.com/a-/AOh14GiLNnJYgBpzQQozBm-BaS4zBKlaQEQa39WYawXVaw=s64",
      "userId": "07882044077368082882"
     },
     "user_tz": 240
    },
    "id": "0Dw2j9K9wEdw",
    "outputId": "66efb964-28d5-4d42-ba10-f5eeafa813d7",
    "tags": []
   },
   "outputs": [
    {
     "data": {
      "image/png": "[encoded data removed]",
      "text/latex": [
       "$\\displaystyle \\frac{3}{2 - s}$"
      ],
      "text/plain": [
       "  3  \n",
       "─────\n",
       "2 - s"
      ]
     },
     "execution_count": 19,
     "metadata": {},
     "output_type": "execute_result"
    }
   ],
   "source": [
    "g_ac = 3*sympy.exp(2*tau)*Heaviside(-tau)\n",
    "G_ac = laplace_transform_ac(g_ac,t,s, True) # Checking the performance -  Should get -3/(s-2)=3/(2-s).\n",
    "G_ac"
   ]
  },
  {
   "cell_type": "code",
   "execution_count": 20,
   "metadata": {
    "execution": {
     "iopub.execute_input": "2023-11-20T21:01:40.821084Z",
     "iopub.status.busy": "2023-11-20T21:01:40.820856Z",
     "iopub.status.idle": "2023-11-20T21:01:41.456038Z",
     "shell.execute_reply": "2023-11-20T21:01:41.455493Z",
     "shell.execute_reply.started": "2023-11-20T21:01:40.821065Z"
    },
    "tags": []
   },
   "outputs": [
    {
     "data": {
      "image/png": "[encoded data removed]",
      "text/latex": [
       "$\\displaystyle 3 e^{2 \\tau}$"
      ],
      "text/plain": [
       "   2⋅τ\n",
       "3⋅ℯ   "
      ]
     },
     "execution_count": 20,
     "metadata": {},
     "output_type": "execute_result"
    }
   ],
   "source": [
    "# confirm that inverse gives what we originally put in\n",
    "g_temp = inverse_laplace_transform_ac(G_ac,s,t)\n",
    "g_temp"
   ]
  },
  {
   "cell_type": "markdown",
   "metadata": {},
   "source": [
    "## Anticausal Example 1 - consider 3 cases for the ROC"
   ]
  },
  {
   "cell_type": "code",
   "execution_count": 21,
   "metadata": {
    "execution": {
     "iopub.execute_input": "2023-11-20T21:01:42.148823Z",
     "iopub.status.busy": "2023-11-20T21:01:42.148050Z",
     "iopub.status.idle": "2023-11-20T21:01:42.838763Z",
     "shell.execute_reply": "2023-11-20T21:01:42.838006Z",
     "shell.execute_reply.started": "2023-11-20T21:01:42.148771Z"
    },
    "tags": []
   },
   "outputs": [
    {
     "data": {
      "image/png": "[encoded data removed]",
      "text/latex": [
       "$\\displaystyle \\frac{1.0}{s^{2} - 1}$"
      ],
      "text/plain": [
       " 1.0  \n",
       "──────\n",
       " 2    \n",
       "s  - 1"
      ]
     },
     "execution_count": 21,
     "metadata": {},
     "output_type": "execute_result"
    }
   ],
   "source": [
    "G1 = 0.5/(s-1) # pole at s = 1\n",
    "G2 = -0.5/(s+1) # pole at s = -1\n",
    "simplify(G1+G2)"
   ]
  },
  {
   "cell_type": "markdown",
   "metadata": {},
   "source": [
    "### ROC A: $Re[s] < -1$"
   ]
  },
  {
   "cell_type": "code",
   "execution_count": 22,
   "metadata": {
    "execution": {
     "iopub.execute_input": "2023-11-20T21:01:42.840762Z",
     "iopub.status.busy": "2023-11-20T21:01:42.840580Z",
     "iopub.status.idle": "2023-11-20T21:01:43.498001Z",
     "shell.execute_reply": "2023-11-20T21:01:43.497481Z",
     "shell.execute_reply.started": "2023-11-20T21:01:42.840742Z"
    },
    "tags": []
   },
   "outputs": [
    {
     "data": {
      "image/png": "[encoded data removed]",
      "text/latex": [
       "$\\displaystyle - 0.5 e^{\\tau} + 0.5 e^{- \\tau}$"
      ],
      "text/plain": [
       "       τ        -τ\n",
       "- 0.5⋅ℯ  + 0.5⋅ℯ  "
      ]
     },
     "execution_count": 22,
     "metadata": {},
     "output_type": "execute_result"
    }
   ],
   "source": [
    "g_rocA = inverse_laplace_transform_ac(G1,s,t) + inverse_laplace_transform_ac(G2,s,t)\n",
    "g_rocA"
   ]
  },
  {
   "cell_type": "code",
   "execution_count": 23,
   "metadata": {
    "execution": {
     "iopub.execute_input": "2023-11-20T21:01:43.499694Z",
     "iopub.status.busy": "2023-11-20T21:01:43.499502Z",
     "iopub.status.idle": "2023-11-20T21:01:44.128693Z",
     "shell.execute_reply": "2023-11-20T21:01:44.128054Z",
     "shell.execute_reply.started": "2023-11-20T21:01:43.499676Z"
    },
    "tags": []
   },
   "outputs": [
    {
     "data": {
      "image/png": "[encoded data removed]",
      "text/latex": [
       "$\\displaystyle \\frac{0.5}{- s - 1} - \\frac{0.5}{1 - s}$"
      ],
      "text/plain": [
       " 0.5      0.5 \n",
       "────── - ─────\n",
       "-s - 1   1 - s"
      ]
     },
     "execution_count": 23,
     "metadata": {},
     "output_type": "execute_result"
    }
   ],
   "source": [
    "laplace_transform_ac(g_rocA,t,s, True)"
   ]
  },
  {
   "cell_type": "markdown",
   "metadata": {},
   "source": [
    "### ROC B: $ -1 < Re[s] < 1$ "
   ]
  },
  {
   "cell_type": "code",
   "execution_count": 24,
   "metadata": {
    "execution": {
     "iopub.execute_input": "2023-11-20T21:01:44.130768Z",
     "iopub.status.busy": "2023-11-20T21:01:44.130422Z",
     "iopub.status.idle": "2023-11-20T21:01:44.792726Z",
     "shell.execute_reply": "2023-11-20T21:01:44.792057Z",
     "shell.execute_reply.started": "2023-11-20T21:01:44.130725Z"
    },
    "tags": []
   },
   "outputs": [
    {
     "data": {
      "image/png": "[encoded data removed]",
      "text/latex": [
       "$\\displaystyle - 0.5 e^{\\tau} - 0.5 e^{- t} \\theta\\left(t\\right)$"
      ],
      "text/plain": [
       "       τ        -t     \n",
       "- 0.5⋅ℯ  - 0.5⋅ℯ  ⋅θ(t)"
      ]
     },
     "execution_count": 24,
     "metadata": {},
     "output_type": "execute_result"
    }
   ],
   "source": [
    "g_rocB = inverse_laplace_transform_ac(G1,s,t) + inverse_laplace_transform(G2,s,t)\n",
    "g_rocB"
   ]
  },
  {
   "cell_type": "markdown",
   "metadata": {},
   "source": [
    "### ROC C: $ Re[s] > 1$"
   ]
  },
  {
   "cell_type": "code",
   "execution_count": 25,
   "metadata": {
    "execution": {
     "iopub.execute_input": "2023-11-20T21:01:44.794535Z",
     "iopub.status.busy": "2023-11-20T21:01:44.794343Z",
     "iopub.status.idle": "2023-11-20T21:01:45.412398Z",
     "shell.execute_reply": "2023-11-20T21:01:45.411880Z",
     "shell.execute_reply.started": "2023-11-20T21:01:44.794515Z"
    },
    "tags": []
   },
   "outputs": [
    {
     "data": {
      "image/png": "[encoded data removed]",
      "text/latex": [
       "$\\displaystyle 0.5 e^{t} \\theta\\left(t\\right) - 0.5 e^{- t} \\theta\\left(t\\right)$"
      ],
      "text/plain": [
       "     t             -t     \n",
       "0.5⋅ℯ ⋅θ(t) - 0.5⋅ℯ  ⋅θ(t)"
      ]
     },
     "execution_count": 25,
     "metadata": {},
     "output_type": "execute_result"
    }
   ],
   "source": [
    "g_rocC = inverse_laplace_transform(G1,s,t) + inverse_laplace_transform(G2,s,t)\n",
    "g_rocC"
   ]
  },
  {
   "cell_type": "markdown",
   "metadata": {},
   "source": [
    "## Anticausal Example 2 - consider 3 cases for the ROC"
   ]
  },
  {
   "cell_type": "code",
   "execution_count": 26,
   "metadata": {
    "execution": {
     "iopub.execute_input": "2023-11-20T21:01:45.413646Z",
     "iopub.status.busy": "2023-11-20T21:01:45.413460Z",
     "iopub.status.idle": "2023-11-20T21:01:46.060855Z",
     "shell.execute_reply": "2023-11-20T21:01:46.060326Z",
     "shell.execute_reply.started": "2023-11-20T21:01:45.413628Z"
    },
    "tags": []
   },
   "outputs": [
    {
     "data": {
      "image/png": "[encoded data removed]",
      "text/latex": [
       "$\\displaystyle \\frac{1.0 s}{\\left(s - 1.0\\right) \\left(s + 2.0\\right)}$"
      ],
      "text/plain": [
       "       1.0⋅s       \n",
       "───────────────────\n",
       "(s - 1.0)⋅(s + 2.0)"
      ]
     },
     "execution_count": 26,
     "metadata": {},
     "output_type": "execute_result"
    }
   ],
   "source": [
    "G1 = 1/3/(s-1) # pole at s = 1\n",
    "G2 = 2/3/(s+2) # pole at s = -2\n",
    "N(simplify(G1+G2),2)"
   ]
  },
  {
   "cell_type": "code",
   "execution_count": 27,
   "metadata": {
    "execution": {
     "iopub.execute_input": "2023-10-10T22:37:33.958772Z",
     "iopub.status.busy": "2023-10-10T22:37:33.956502Z",
     "iopub.status.idle": "2023-10-10T22:37:34.594978Z",
     "shell.execute_reply": "2023-10-10T22:37:34.594413Z",
     "shell.execute_reply.started": "2023-10-10T22:37:33.958653Z"
    },
    "tags": []
   },
   "outputs": [
    {
     "data": {
      "image/png": "[encoded data removed]",
      "text/latex": [
       "$\\displaystyle - 0.3333 e^{\\tau} - 0.6667 e^{- 2 \\tau}$"
      ],
      "text/plain": [
       "          τ           -2⋅τ\n",
       "- 0.3333⋅ℯ  - 0.6667⋅ℯ    "
      ]
     },
     "execution_count": 27,
     "metadata": {},
     "output_type": "execute_result"
    }
   ],
   "source": [
    "# ROC A Re[s] < -2\n",
    "g_rocA = inverse_laplace_transform_ac(G1,s,t) + inverse_laplace_transform_ac(G2,s,t)\n",
    "N(g_rocA,4)"
   ]
  },
  {
   "cell_type": "code",
   "execution_count": 28,
   "metadata": {
    "execution": {
     "iopub.execute_input": "2023-10-10T22:37:34.747470Z",
     "iopub.status.busy": "2023-10-10T22:37:34.746895Z",
     "iopub.status.idle": "2023-10-10T22:37:35.368715Z",
     "shell.execute_reply": "2023-10-10T22:37:35.368204Z",
     "shell.execute_reply.started": "2023-10-10T22:37:34.747429Z"
    },
    "tags": []
   },
   "outputs": [
    {
     "data": {
      "image/png": "[encoded data removed]",
      "text/latex": [
       "$\\displaystyle - 0.3333 e^{\\tau} + 0.6667 e^{- 2 t} \\theta\\left(t\\right)$"
      ],
      "text/plain": [
       "          τ           -2⋅t     \n",
       "- 0.3333⋅ℯ  + 0.6667⋅ℯ    ⋅θ(t)"
      ]
     },
     "execution_count": 28,
     "metadata": {},
     "output_type": "execute_result"
    }
   ],
   "source": [
    "# ROC B -2 < Re[s] < 1 \n",
    "g_rocB = inverse_laplace_transform_ac(G1,s,t) + inverse_laplace_transform(G2,s,t)\n",
    "N(g_rocB,4)"
   ]
  },
  {
   "cell_type": "code",
   "execution_count": 29,
   "metadata": {
    "execution": {
     "iopub.execute_input": "2023-10-10T22:37:35.719201Z",
     "iopub.status.busy": "2023-10-10T22:37:35.717878Z",
     "iopub.status.idle": "2023-10-10T22:37:36.352715Z",
     "shell.execute_reply": "2023-10-10T22:37:36.352128Z",
     "shell.execute_reply.started": "2023-10-10T22:37:35.719115Z"
    },
    "tags": []
   },
   "outputs": [
    {
     "data": {
      "image/png": "[encoded data removed]",
      "text/latex": [
       "$\\displaystyle 0.3333 e^{t} \\theta\\left(t\\right) + 0.6667 e^{- 2 t} \\theta\\left(t\\right)$"
      ],
      "text/plain": [
       "        t                -2⋅t     \n",
       "0.3333⋅ℯ ⋅θ(t) + 0.6667⋅ℯ    ⋅θ(t)"
      ]
     },
     "execution_count": 29,
     "metadata": {},
     "output_type": "execute_result"
    }
   ],
   "source": [
    "# ROC C Re[s] > 1\n",
    "g_rocC = inverse_laplace_transform(G1,s,t) + inverse_laplace_transform(G2,s,t)\n",
    "N(g_rocC,4)"
   ]
  },
  {
   "cell_type": "code",
   "execution_count": 31,
   "metadata": {},
   "outputs": [
    {
     "data": {
      "image/png": "[encoded data removed]",
      "text/latex": [
       "$\\displaystyle \\frac{1}{s^{2} + 1}$"
      ],
      "text/plain": [
       "  1   \n",
       "──────\n",
       " 2    \n",
       "s  + 1"
      ]
     },
     "execution_count": 31,
     "metadata": {},
     "output_type": "execute_result"
    }
   ],
   "source": [
    "# Define the sine function\n",
    "g_sine = sympy.sin(t) * Heaviside(t)\n",
    "\n",
    "# Compute the Laplace transform\n",
    "G_sine = laplace_transform(g_sine, t, s, noconds=True)\n",
    "\n",
    "# Display the result\n",
    "G_sine"
   ]
  },
  {
   "cell_type": "code",
   "execution_count": null,
   "metadata": {},
   "outputs": [],
   "source": []
  }
 ],
 "metadata": {
  "colab": {
   "authorship_tag": "ABX9TyOoCLTbcAx1GSa/Nzf0X1nR",
   "collapsed_sections": [],
   "name": "DiffEq_delta_input.ipynb",
   "provenance": []
  },
  "kernelspec": {
   "display_name": "venv312",
   "language": "python",
   "name": "venv312"
  },
  "language_info": {
   "codemirror_mode": {
    "name": "ipython",
    "version": 3
   },
   "file_extension": ".py",
   "mimetype": "text/x-python",
   "name": "python",
   "nbconvert_exporter": "python",
   "pygments_lexer": "ipython3",
   "version": "3.12.6"
  },
  "latex_envs": {
   "LaTeX_envs_menu_present": true,
   "autoclose": false,
   "autocomplete": true,
   "bibliofile": "biblio.bib",
   "cite_by": "apalike",
   "current_citInitial": 1,
   "eqLabelWithNumbers": true,
   "eqNumInitial": 1,
   "hotkeys": {
    "equation": "Ctrl-E",
    "itemize": "Ctrl-I"
   },
   "labels_anchors": false,
   "latex_user_defs": false,
   "report_style_numbering": false,
   "user_envs_cfg": false
  }
 },
 "nbformat": 4,
 "nbformat_minor": 4
}

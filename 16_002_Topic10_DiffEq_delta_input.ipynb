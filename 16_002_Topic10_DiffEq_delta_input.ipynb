{
 "cells": [
  {
   "cell_type": "code",
   "execution_count": 110,
   "metadata": {
    "colab": {
     "base_uri": "https://localhost:8080/"
    },
    "executionInfo": {
     "elapsed": 132,
     "status": "ok",
     "timestamp": 1626107108695,
     "user": {
      "displayName": "Jonathan How",
      "photoUrl": "https://lh3.googleusercontent.com/a-/AOh14GiLNnJYgBpzQQozBm-BaS4zBKlaQEQa39WYawXVaw=s64",
      "userId": "07882044077368082882"
     },
     "user_tz": 240
    },
    "id": "4kvTmYm7wA1p",
    "outputId": "d25ddc2a-f527-445b-c5a3-3655a4be7c12"
   },
   "outputs": [
    {
     "name": "stdout",
     "output_type": "stream",
     "text": [
      "1.11.1\n"
     ]
    }
   ],
   "source": [
    "%matplotlib inline\n",
    "from sympy.integrals.transforms import laplace_transform\n",
    "from sympy.integrals.transforms import inverse_laplace_transform\n",
    "from sympy import *\n",
    "import sympy as sympy\n",
    "from sympy.abc import a, t, x, s, X, g, G\n",
    "print(sympy.__version__)\n",
    "init_printing(use_unicode=True)\n",
    "x, g, X = symbols('x g X', cls = Function)"
   ]
  },
  {
   "cell_type": "markdown",
   "metadata": {},
   "source": [
    "## Check that get desired properties for basic ftns"
   ]
  },
  {
   "cell_type": "code",
   "execution_count": 111,
   "metadata": {
    "colab": {
     "base_uri": "https://localhost:8080/",
     "height": 38
    },
    "executionInfo": {
     "elapsed": 250,
     "status": "ok",
     "timestamp": 1626107862587,
     "user": {
      "displayName": "Jonathan How",
      "photoUrl": "https://lh3.googleusercontent.com/a-/AOh14GiLNnJYgBpzQQozBm-BaS4zBKlaQEQa39WYawXVaw=s64",
      "userId": "07882044077368082882"
     },
     "user_tz": 240
    },
    "id": "0Dw2j9K9wEdw",
    "outputId": "66efb964-28d5-4d42-ba10-f5eeafa813d7"
   },
   "outputs": [
    {
     "data": {
      "image/png": "[encoded data removed]",
      "text/latex": [
       "$\\displaystyle \\frac{1}{s}$"
      ],
      "text/plain": [
       "1\n",
       "─\n",
       "s"
      ]
     },
     "execution_count": 111,
     "metadata": {},
     "output_type": "execute_result"
    }
   ],
   "source": [
    "laplace_transform(Heaviside(t,0), t, s, noconds = True) # Checking the performance of the Laplace Transform Module"
   ]
  },
  {
   "cell_type": "code",
   "execution_count": 114,
   "metadata": {},
   "outputs": [
    {
     "data": {
      "image/png": "[encoded data removed]",
      "text/latex": [
       "$\\displaystyle 1$"
      ],
      "text/plain": [
       "1"
      ]
     },
     "execution_count": 114,
     "metadata": {},
     "output_type": "execute_result"
    }
   ],
   "source": [
    "g = DiracDelta(t)\n",
    "laplace_transform(g, t, s, noconds = True) # Checking the performance -  Should get 1."
   ]
  },
  {
   "cell_type": "markdown",
   "metadata": {},
   "source": [
    "## Define the LP of the second order diff eq"
   ]
  },
  {
   "cell_type": "code",
   "execution_count": 135,
   "metadata": {
    "colab": {
     "base_uri": "https://localhost:8080/",
     "height": 38
    },
    "executionInfo": {
     "elapsed": 272,
     "status": "ok",
     "timestamp": 1626107869260,
     "user": {
      "displayName": "Jonathan How",
      "photoUrl": "https://lh3.googleusercontent.com/a-/AOh14GiLNnJYgBpzQQozBm-BaS4zBKlaQEQa39WYawXVaw=s64",
      "userId": "07882044077368082882"
     },
     "user_tz": 240
    },
    "id": "iLk0s-0YvlFb",
    "outputId": "9557a18b-14cf-4ea0-891a-5925db676edc"
   },
   "outputs": [
    {
     "data": {
      "image/png": "[encoded data removed]",
      "text/latex": [
       "$\\displaystyle 2 s^{2} X{\\left(s \\right)} + 7 s X{\\left(s \\right)} - 2 s + 3 X{\\left(s \\right)} - 11 = 1$"
      ],
      "text/plain": [
       "   2                                        \n",
       "2⋅s ⋅X(s) + 7⋅s⋅X(s) - 2⋅s + 3⋅X(s) - 11 = 1"
      ]
     },
     "execution_count": 135,
     "metadata": {},
     "output_type": "execute_result"
    }
   ],
   "source": [
    "# define the differential equation to solve\n",
    "if (1):\n",
    "    x0 = 1\n",
    "    v0 = 2\n",
    "    # input is a delta\n",
    "    a = 2\n",
    "    b = 7\n",
    "    c = 3\n",
    "    d = 1\n",
    "    W = laplace_transform(d * g, t, s, noconds = True)\n",
    "    x0p = x0 \n",
    "    v0p = v0 + d/a\n",
    "elif(1):\n",
    "    x0 = 2\n",
    "    v0 = 4\n",
    "    # input is a delta\n",
    "    a = 1\n",
    "    b = 5\n",
    "    c = 6\n",
    "    d = 4\n",
    "    W = laplace_transform(d * g, t, s, noconds = True)\n",
    "    x0p = x0 \n",
    "    v0p = v0 + d/a\n",
    "else:\n",
    "    # input is a step\n",
    "    eom  = Eq(1*(s**2 *X(s)- s*x0 - v0) + 5*(s*X(s) - x0)+ 6 * X(s), laplace_transform(Heaviside(t,0), t, s, noconds = True))\n",
    "\n",
    "eom  = Eq(a*(s**2 *X(s)- s*x0 - v0) + b*(s*X(s) - x0) + c * X(s), W)\n",
    "eom.replace(Heaviside(0), 0)"
   ]
  },
  {
   "cell_type": "markdown",
   "metadata": {},
   "source": [
    "## Solve for the laplace transformed value that must be inverse transformed"
   ]
  },
  {
   "cell_type": "code",
   "execution_count": 136,
   "metadata": {
    "colab": {
     "base_uri": "https://localhost:8080/",
     "height": 58
    },
    "executionInfo": {
     "elapsed": 144,
     "status": "ok",
     "timestamp": 1626108107117,
     "user": {
      "displayName": "Jonathan How",
      "photoUrl": "https://lh3.googleusercontent.com/a-/AOh14GiLNnJYgBpzQQozBm-BaS4zBKlaQEQa39WYawXVaw=s64",
      "userId": "07882044077368082882"
     },
     "user_tz": 240
    },
    "id": "zuY-oBaqxDL-",
    "outputId": "67ded230-349e-42d5-9b99-d6f4b5b084fa"
   },
   "outputs": [
    {
     "data": {
      "image/png": "[encoded data removed]",
      "text/latex": [
       "$\\displaystyle \\frac{2 \\left(s + 6\\right)}{2 s^{2} + 7 s + 3}$"
      ],
      "text/plain": [
       "  2⋅(s + 6)   \n",
       "──────────────\n",
       "   2          \n",
       "2⋅s  + 7⋅s + 3"
      ]
     },
     "execution_count": 136,
     "metadata": {},
     "output_type": "execute_result"
    }
   ],
   "source": [
    "Xofs = solve(eom,X(s))\n",
    "Xofs = Xofs[0].replace(Heaviside(0), 0)\n",
    "Xofs"
   ]
  },
  {
   "cell_type": "code",
   "execution_count": 137,
   "metadata": {
    "colab": {
     "base_uri": "https://localhost:8080/",
     "height": 426
    },
    "executionInfo": {
     "elapsed": 123,
     "status": "error",
     "timestamp": 1626108110436,
     "user": {
      "displayName": "Jonathan How",
      "photoUrl": "https://lh3.googleusercontent.com/a-/AOh14GiLNnJYgBpzQQozBm-BaS4zBKlaQEQa39WYawXVaw=s64",
      "userId": "07882044077368082882"
     },
     "user_tz": 240
    },
    "id": "Z0dQ7X3axJ-l",
    "outputId": "808f87b1-ffde-4f5a-f14e-644d9adb4a79"
   },
   "outputs": [],
   "source": [
    "soln = inverse_laplace_transform(Xofs,s,t)"
   ]
  },
  {
   "cell_type": "code",
   "execution_count": 138,
   "metadata": {},
   "outputs": [
    {
     "name": "stdout",
     "output_type": "stream",
     "text": [
      "Initial condition x(0) was 1 and is 1\n"
     ]
    }
   ],
   "source": [
    "# compute soln at time 0 to confirm that x(0) = x0\n",
    "soln_x0 = soln.replace(Heaviside(0), 1).replace(DiracDelta(0), 0).subs(t,0)\n",
    "print(f'Initial condition x(0) was '+str(x0p)+' and is '+str(soln_x0))"
   ]
  },
  {
   "cell_type": "code",
   "execution_count": 140,
   "metadata": {},
   "outputs": [
    {
     "name": "stdout",
     "output_type": "stream",
     "text": [
      "Initial condition v(0) was 2.5 and is 2.5\n"
     ]
    }
   ],
   "source": [
    "# compute soln at time 0 to confirm that x(0) = x0\n",
    "soln_v0 = expand(soln).replace(Heaviside(t), 1).diff(t).subs(t,0)\n",
    "print(f'Initial condition v(0) was '+str(v0p)+' and is '+str(float(soln_v0)))"
   ]
  },
  {
   "cell_type": "code",
   "execution_count": 18,
   "metadata": {
    "colab": {
     "base_uri": "https://localhost:8080/"
    },
    "executionInfo": {
     "elapsed": 1747,
     "status": "ok",
     "timestamp": 1626108131308,
     "user": {
      "displayName": "Jonathan How",
      "photoUrl": "https://lh3.googleusercontent.com/a-/AOh14GiLNnJYgBpzQQozBm-BaS4zBKlaQEQa39WYawXVaw=s64",
      "userId": "07882044077368082882"
     },
     "user_tz": 240
    },
    "id": "ATlXK5Vm7_bN",
    "outputId": "e77c9702-4576-450d-8bba-520d509e3ace"
   },
   "outputs": [
    {
     "name": "stdout",
     "output_type": "stream",
     "text": [
      "(4*s + 47)/(s**2 + 10*s + 21)\n",
      "(35*exp(4*t) - 19)*exp(-7*t)*Heaviside(t)/4\n",
      "35*exp(-3*t)*Heaviside(t)/4 - 19*exp(-7*t)*Heaviside(t)/4\n",
      "4.000000\n",
      "7.000000\n"
     ]
    }
   ],
   "source": [
    "from sympy.integrals.transforms import laplace_transform\n",
    "from sympy.integrals.transforms import inverse_laplace_transform\n",
    "from sympy import *\n",
    "import sympy as sympy\n",
    "import numpy as np\n",
    "from sympy.abc import a, t, x, s, X, g, G\n",
    "init_printing(use_unicode=True)\n",
    "\n",
    "x, g, X = symbols('x g X', cls = Function)\n",
    "x0 = 4\n",
    "v0 = 7\n",
    "g = Heaviside(t) #This is just the step function\n",
    "eom  = Eq(3*(s**2 * X(s)-s*x0-v0)+30 * (s*X(s)-x0)+ 63 * X(s), 0)\n",
    "eom\n",
    "Xofs = solve(eom,X(s))\n",
    "print(Xofs[0])\n",
    "soln = inverse_laplace_transform(Xofs[0],s,t)\n",
    "print(soln)\n",
    "soln_simp = expand(soln)\n",
    "print(soln_simp)\n",
    "ydot = soln_simp.diff(t)\n",
    "y0 = soln.subs(t,0+np.finfo(float).eps)\n",
    "print(\"%f\" %y0)\n",
    "ydot0 = ydot.subs(t,0+np.finfo(float).eps)\n",
    "print(\"%f\" %ydot0)"
   ]
  },
  {
   "cell_type": "code",
   "execution_count": 19,
   "metadata": {
    "colab": {
     "base_uri": "https://localhost:8080/",
     "height": 38
    },
    "executionInfo": {
     "elapsed": 148,
     "status": "ok",
     "timestamp": 1626108990613,
     "user": {
      "displayName": "Jonathan How",
      "photoUrl": "https://lh3.googleusercontent.com/a-/AOh14GiLNnJYgBpzQQozBm-BaS4zBKlaQEQa39WYawXVaw=s64",
      "userId": "07882044077368082882"
     },
     "user_tz": 240
    },
    "id": "G_Kcp8Cg3JsD",
    "outputId": "5d1a160e-9eac-413a-ea5f-553289585052"
   },
   "outputs": [],
   "source": [
    "from sympy.integrals.transforms import laplace_transform \n",
    "from sympy.integrals.transforms import inverse_laplace_transform \n",
    "from sympy import * \n",
    "import sympy as sympy \n",
    "import numpy as np \n",
    "from sympy.abc import a, t, x, s, X, g, G \n",
    "init_printing(use_unicode=True)"
   ]
  },
  {
   "cell_type": "code",
   "execution_count": 19,
   "metadata": {
    "colab": {
     "base_uri": "https://localhost:8080/",
     "height": 38
    },
    "executionInfo": {
     "elapsed": 148,
     "status": "ok",
     "timestamp": 1626108990613,
     "user": {
      "displayName": "Jonathan How",
      "photoUrl": "https://lh3.googleusercontent.com/a-/AOh14GiLNnJYgBpzQQozBm-BaS4zBKlaQEQa39WYawXVaw=s64",
      "userId": "07882044077368082882"
     },
     "user_tz": 240
    },
    "id": "G_Kcp8Cg3JsD",
    "outputId": "5d1a160e-9eac-413a-ea5f-553289585052"
   },
   "outputs": [
    {
     "data": {
      "image/png": "[encoded data removed]",
      "text/latex": [
       "$\\displaystyle \\theta\\left(t\\right)$"
      ],
      "text/plain": [
       "θ(t)"
      ]
     },
     "execution_count": 19,
     "metadata": {},
     "output_type": "execute_result"
    }
   ],
   "source": [
    "x, g, X = symbols('x g X', cls = Function) \n",
    "x0 = 5 \n",
    "v0 = 0 \n",
    "g = sympy.exp(-t)*Heaviside(t) \n",
    "g = 1*DiracDelta(t) \n",
    "g = Heaviside(t) \n",
    "g"
   ]
  },
  {
   "cell_type": "code",
   "execution_count": 20,
   "metadata": {
    "colab": {
     "base_uri": "https://localhost:8080/",
     "height": 38
    },
    "executionInfo": {
     "elapsed": 124,
     "status": "ok",
     "timestamp": 1626109988340,
     "user": {
      "displayName": "Jonathan How",
      "photoUrl": "https://lh3.googleusercontent.com/a-/AOh14GiLNnJYgBpzQQozBm-BaS4zBKlaQEQa39WYawXVaw=s64",
      "userId": "07882044077368082882"
     },
     "user_tz": 240
    },
    "id": "4Va5erCYpx3i",
    "outputId": "ed5642cf-8c2e-43cb-db11-6c382510feb6"
   },
   "outputs": [
    {
     "data": {
      "image/png": "[encoded data removed]",
      "text/latex": [
       "$\\displaystyle \\frac{1}{s}$"
      ],
      "text/plain": [
       "1\n",
       "─\n",
       "s"
      ]
     },
     "execution_count": 20,
     "metadata": {},
     "output_type": "execute_result"
    }
   ],
   "source": [
    "G = laplace_transform( g, t, s, noconds = True)\n",
    "G   "
   ]
  },
  {
   "cell_type": "code",
   "execution_count": 21,
   "metadata": {
    "colab": {
     "base_uri": "https://localhost:8080/",
     "height": 37
    },
    "executionInfo": {
     "elapsed": 229,
     "status": "ok",
     "timestamp": 1626109993487,
     "user": {
      "displayName": "Jonathan How",
      "photoUrl": "https://lh3.googleusercontent.com/a-/AOh14GiLNnJYgBpzQQozBm-BaS4zBKlaQEQa39WYawXVaw=s64",
      "userId": "07882044077368082882"
     },
     "user_tz": 240
    },
    "id": "jyao5m1BtSBs",
    "outputId": "726196b4-8f1b-419b-c779-3462145f4df7"
   },
   "outputs": [
    {
     "data": {
      "image/png": "[encoded data removed]",
      "text/latex": [
       "$\\displaystyle \\frac{1}{s}$"
      ],
      "text/plain": [
       "1\n",
       "─\n",
       "s"
      ]
     },
     "execution_count": 21,
     "metadata": {},
     "output_type": "execute_result"
    }
   ],
   "source": [
    "Gsimp = G.replace(Heaviside(0), 0)\n",
    "Gsimp"
   ]
  },
  {
   "cell_type": "code",
   "execution_count": 22,
   "metadata": {
    "colab": {
     "base_uri": "https://localhost:8080/",
     "height": 52
    },
    "executionInfo": {
     "elapsed": 185,
     "status": "ok",
     "timestamp": 1626109153438,
     "user": {
      "displayName": "Jonathan How",
      "photoUrl": "https://lh3.googleusercontent.com/a-/AOh14GiLNnJYgBpzQQozBm-BaS4zBKlaQEQa39WYawXVaw=s64",
      "userId": "07882044077368082882"
     },
     "user_tz": 240
    },
    "id": "e5gtElKq3ngN",
    "outputId": "97226978-c785-4339-c250-0569e424e6fe"
   },
   "outputs": [
    {
     "data": {
      "image/png": "[encoded data removed]",
      "text/latex": [
       "$\\displaystyle \\frac{5 \\cdot \\left(2 s^{2} + 8 s + 1\\right)}{2 s \\left(s^{2} + 4 s + 3\\right)}$"
      ],
      "text/plain": [
       "  ⎛   2          ⎞\n",
       "5⋅⎝2⋅s  + 8⋅s + 1⎠\n",
       "──────────────────\n",
       "    ⎛ 2          ⎞\n",
       "2⋅s⋅⎝s  + 4⋅s + 3⎠"
      ]
     },
     "execution_count": 22,
     "metadata": {},
     "output_type": "execute_result"
    }
   ],
   "source": [
    "eom = Eq(2*(s**2 *X(s) -s*x0 - v0) + 8*(s*X(s)-x0) + 6*X(s), 5*Gsimp)\n",
    "\n",
    "Xofs = solve(eom,X(s)) \n",
    "Xofs[0]\n"
   ]
  },
  {
   "cell_type": "code",
   "execution_count": 23,
   "metadata": {
    "colab": {
     "base_uri": "https://localhost:8080/",
     "height": 38
    },
    "executionInfo": {
     "elapsed": 393,
     "status": "ok",
     "timestamp": 1626109181590,
     "user": {
      "displayName": "Jonathan How",
      "photoUrl": "https://lh3.googleusercontent.com/a-/AOh14GiLNnJYgBpzQQozBm-BaS4zBKlaQEQa39WYawXVaw=s64",
      "userId": "07882044077368082882"
     },
     "user_tz": 240
    },
    "id": "KgIc4UXw39uY",
    "outputId": "9b0a94de-e6c2-45b9-cc6c-c1df9c19db42"
   },
   "outputs": [
    {
     "data": {
      "image/png": "[encoded data removed]",
      "text/latex": [
       "$\\displaystyle \\frac{5 \\cdot \\left(2 e^{3 t} + 15 e^{2 t} - 5\\right) e^{- 3 t} \\theta\\left(t\\right)}{12}$"
      ],
      "text/plain": [
       "  ⎛   3⋅t       2⋅t    ⎞  -3⋅t     \n",
       "5⋅⎝2⋅ℯ    + 15⋅ℯ    - 5⎠⋅ℯ    ⋅θ(t)\n",
       "───────────────────────────────────\n",
       "                 12                "
      ]
     },
     "execution_count": 23,
     "metadata": {},
     "output_type": "execute_result"
    }
   ],
   "source": [
    "soln = inverse_laplace_transform(Xofs[0],s,t) \n",
    "soln"
   ]
  },
  {
   "cell_type": "code",
   "execution_count": 24,
   "metadata": {
    "colab": {
     "base_uri": "https://localhost:8080/",
     "height": 38
    },
    "executionInfo": {
     "elapsed": 122,
     "status": "ok",
     "timestamp": 1626109185382,
     "user": {
      "displayName": "Jonathan How",
      "photoUrl": "https://lh3.googleusercontent.com/a-/AOh14GiLNnJYgBpzQQozBm-BaS4zBKlaQEQa39WYawXVaw=s64",
      "userId": "07882044077368082882"
     },
     "user_tz": 240
    },
    "id": "gHCEtMSu6Hzh",
    "outputId": "0faa61bb-a4a5-44dd-9f8f-15668ec691b5"
   },
   "outputs": [
    {
     "data": {
      "image/png": "[encoded data removed]",
      "text/latex": [
       "$\\displaystyle \\frac{5 \\theta\\left(t\\right)}{6} + \\frac{25 e^{- t} \\theta\\left(t\\right)}{4} - \\frac{25 e^{- 3 t} \\theta\\left(t\\right)}{12}$"
      ],
      "text/plain": [
       "             -t            -3⋅t     \n",
       "5⋅θ(t)   25⋅ℯ  ⋅θ(t)   25⋅ℯ    ⋅θ(t)\n",
       "────── + ─────────── - ─────────────\n",
       "  6           4              12     "
      ]
     },
     "execution_count": 24,
     "metadata": {},
     "output_type": "execute_result"
    }
   ],
   "source": [
    "y_sol = expand(soln) \n",
    "y_sol"
   ]
  },
  {
   "cell_type": "code",
   "execution_count": 25,
   "metadata": {
    "colab": {
     "base_uri": "https://localhost:8080/"
    },
    "executionInfo": {
     "elapsed": 143,
     "status": "ok",
     "timestamp": 1626109266423,
     "user": {
      "displayName": "Jonathan How",
      "photoUrl": "https://lh3.googleusercontent.com/a-/AOh14GiLNnJYgBpzQQozBm-BaS4zBKlaQEQa39WYawXVaw=s64",
      "userId": "07882044077368082882"
     },
     "user_tz": 240
    },
    "id": "sJV0RdzM4G0F",
    "outputId": "8f28cb40-1dd6-420e-c814-3c0a730f4baf"
   },
   "outputs": [
    {
     "name": "stdout",
     "output_type": "stream",
     "text": [
      "y(0+) = 5.00\n"
     ]
    }
   ],
   "source": [
    "y0_pos = y_sol.subs(t,0+np.finfo(float).eps) \n",
    "print(\"y(0+) = %3.2f\" %y0_pos)"
   ]
  },
  {
   "cell_type": "code",
   "execution_count": 26,
   "metadata": {},
   "outputs": [
    {
     "name": "stdout",
     "output_type": "stream",
     "text": [
      "y(0-) = 0.00\n"
     ]
    }
   ],
   "source": [
    "y0_neg = y_sol.subs(t,0-np.finfo(float).eps) \n",
    "print(\"y(0-) = %3.2f\" %y0_neg)"
   ]
  },
  {
   "cell_type": "code",
   "execution_count": 27,
   "metadata": {
    "colab": {
     "base_uri": "https://localhost:8080/"
    },
    "executionInfo": {
     "elapsed": 122,
     "status": "ok",
     "timestamp": 1626109188874,
     "user": {
      "displayName": "Jonathan How",
      "photoUrl": "https://lh3.googleusercontent.com/a-/AOh14GiLNnJYgBpzQQozBm-BaS4zBKlaQEQa39WYawXVaw=s64",
      "userId": "07882044077368082882"
     },
     "user_tz": 240
    },
    "id": "omDO8iRD4Nda",
    "outputId": "a7b37cd0-0db2-4ec1-fad0-aa3ca158c268"
   },
   "outputs": [
    {
     "name": "stdout",
     "output_type": "stream",
     "text": [
      "dy/dt(0+) = -0.00\n"
     ]
    }
   ],
   "source": [
    "ydot = y_sol.diff(t) \n",
    "ydot0_pos = ydot.subs(t,0+np.finfo(float).eps) \n",
    "print(\"dy/dt(0+) = %3.2f\" %ydot0_pos)"
   ]
  },
  {
   "cell_type": "code",
   "execution_count": 28,
   "metadata": {},
   "outputs": [
    {
     "name": "stdout",
     "output_type": "stream",
     "text": [
      "dy/dt(0-) = 0.00\n"
     ]
    }
   ],
   "source": [
    "ydot0_neg = ydot.subs(t,0-np.finfo(float).eps) \n",
    "print(\"dy/dt(0-) = %3.2f\" %ydot0_neg)"
   ]
  },
  {
   "cell_type": "code",
   "execution_count": 29,
   "metadata": {},
   "outputs": [
    {
     "data": {
      "image/png": "[encoded data removed]",
      "text/latex": [
       "$\\displaystyle \\frac{5 \\delta\\left(t\\right)}{6} + \\frac{25 e^{- t} \\delta\\left(t\\right)}{4} - \\frac{25 e^{- t} \\theta\\left(t\\right)}{4} - \\frac{25 e^{- 3 t} \\delta\\left(t\\right)}{12} + \\frac{25 e^{- 3 t} \\theta\\left(t\\right)}{4}$"
      ],
      "text/plain": [
       "             -t            -t            -3⋅t            -3⋅t     \n",
       "5⋅δ(t)   25⋅ℯ  ⋅δ(t)   25⋅ℯ  ⋅θ(t)   25⋅ℯ    ⋅δ(t)   25⋅ℯ    ⋅θ(t)\n",
       "────── + ─────────── - ─────────── - ───────────── + ─────────────\n",
       "  6           4             4              12              4      "
      ]
     },
     "execution_count": 29,
     "metadata": {},
     "output_type": "execute_result"
    }
   ],
   "source": [
    "ydot"
   ]
  },
  {
   "cell_type": "code",
   "execution_count": 30,
   "metadata": {},
   "outputs": [
    {
     "data": {
      "image/png": "[encoded data removed]",
      "text/latex": [
       "$\\displaystyle -2.5$"
      ],
      "text/plain": [
       "-2.5"
      ]
     },
     "execution_count": 30,
     "metadata": {},
     "output_type": "execute_result"
    }
   ],
   "source": [
    "5/6-5/4-25/12"
   ]
  },
  {
   "cell_type": "code",
   "execution_count": 31,
   "metadata": {},
   "outputs": [
    {
     "data": {
      "image/png": "[encoded data removed]",
      "text/latex": [
       "$\\displaystyle e^{- 3 t} - e^{- \\frac{t}{2}}$"
      ],
      "text/plain": [
       "         -t \n",
       "         ───\n",
       " -3⋅t     2 \n",
       "ℯ     - ℯ   "
      ]
     },
     "execution_count": 31,
     "metadata": {},
     "output_type": "execute_result"
    }
   ],
   "source": [
    "x = -sympy.exp(-t/2) + sympy.exp(-3*t)\n",
    "x"
   ]
  },
  {
   "cell_type": "code",
   "execution_count": 32,
   "metadata": {},
   "outputs": [],
   "source": [
    "xdot = x.diff(t)"
   ]
  },
  {
   "cell_type": "code",
   "execution_count": 33,
   "metadata": {},
   "outputs": [
    {
     "data": {
      "image/png": "[encoded data removed]",
      "text/latex": [
       "$\\displaystyle -2.5$"
      ],
      "text/plain": [
       "-2.50000000000000"
      ]
     },
     "execution_count": 33,
     "metadata": {},
     "output_type": "execute_result"
    }
   ],
   "source": [
    "xdot0_pos = xdot.subs(t,0+np.finfo(float).eps) \n",
    "xdot0_pos"
   ]
  },
  {
   "cell_type": "code",
   "execution_count": null,
   "metadata": {},
   "outputs": [],
   "source": []
  }
 ],
 "metadata": {
  "colab": {
   "authorship_tag": "ABX9TyOoCLTbcAx1GSa/Nzf0X1nR",
   "collapsed_sections": [],
   "name": "DiffEq_delta_input.ipynb",
   "provenance": []
  },
  "kernelspec": {
   "display_name": "Python 3 (ipykernel)",
   "language": "python",
   "name": "python3"
  },
  "language_info": {
   "codemirror_mode": {
    "name": "ipython",
    "version": 3
   },
   "file_extension": ".py",
   "mimetype": "text/x-python",
   "name": "python",
   "nbconvert_exporter": "python",
   "pygments_lexer": "ipython3",
   "version": "3.8.12"
  },
  "latex_envs": {
   "LaTeX_envs_menu_present": true,
   "autoclose": false,
   "autocomplete": true,
   "bibliofile": "biblio.bib",
   "cite_by": "apalike",
   "current_citInitial": 1,
   "eqLabelWithNumbers": true,
   "eqNumInitial": 1,
   "hotkeys": {
    "equation": "Ctrl-E",
    "itemize": "Ctrl-I"
   },
   "labels_anchors": false,
   "latex_user_defs": false,
   "report_style_numbering": false,
   "user_envs_cfg": false
  }
 },
 "nbformat": 4,
 "nbformat_minor": 4
}

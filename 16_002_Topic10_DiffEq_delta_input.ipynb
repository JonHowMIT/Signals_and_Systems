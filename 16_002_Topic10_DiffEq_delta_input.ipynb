{
 "cells": [
  {
   "cell_type": "code",
   "execution_count": 116,
   "metadata": {
    "colab": {
     "base_uri": "https://localhost:8080/"
    },
    "executionInfo": {
     "elapsed": 132,
     "status": "ok",
     "timestamp": 1626107108695,
     "user": {
      "displayName": "Jonathan How",
      "photoUrl": "https://lh3.googleusercontent.com/a-/AOh14GiLNnJYgBpzQQozBm-BaS4zBKlaQEQa39WYawXVaw=s64",
      "userId": "07882044077368082882"
     },
     "user_tz": 240
    },
    "id": "4kvTmYm7wA1p",
    "outputId": "d25ddc2a-f527-445b-c5a3-3655a4be7c12"
   },
   "outputs": [
    {
     "name": "stdout",
     "output_type": "stream",
     "text": [
      "1.11.1\n"
     ]
    }
   ],
   "source": [
    "import numpy as np\n",
    "from numpy.linalg import inv\n",
    "%matplotlib inline\n",
    "from sympy import *\n",
    "from sympy import Abs\n",
    "from sympy.integrals.transforms import laplace_transform\n",
    "from sympy.integrals.transforms import inverse_laplace_transform\n",
    "import sympy as sympy\n",
    "from sympy.abc import a, t, x, s, X, g, G\n",
    "print(sympy.__version__)\n",
    "init_printing(use_unicode=True)\n",
    "x, g, X = symbols('x g X', cls = Function)"
   ]
  },
  {
   "cell_type": "markdown",
   "metadata": {},
   "source": [
    "## Check that get desired properties for basic ftns"
   ]
  },
  {
   "cell_type": "code",
   "execution_count": 117,
   "metadata": {
    "colab": {
     "base_uri": "https://localhost:8080/",
     "height": 38
    },
    "executionInfo": {
     "elapsed": 250,
     "status": "ok",
     "timestamp": 1626107862587,
     "user": {
      "displayName": "Jonathan How",
      "photoUrl": "https://lh3.googleusercontent.com/a-/AOh14GiLNnJYgBpzQQozBm-BaS4zBKlaQEQa39WYawXVaw=s64",
      "userId": "07882044077368082882"
     },
     "user_tz": 240
    },
    "id": "0Dw2j9K9wEdw",
    "outputId": "66efb964-28d5-4d42-ba10-f5eeafa813d7"
   },
   "outputs": [
    {
     "data": {
      "image/png": "[encoded data removed]",
      "text/latex": [
       "$\\displaystyle \\frac{1}{s}$"
      ],
      "text/plain": [
       "1\n",
       "─\n",
       "s"
      ]
     },
     "execution_count": 117,
     "metadata": {},
     "output_type": "execute_result"
    }
   ],
   "source": [
    "laplace_transform(Heaviside(t,0), t, s, noconds = True) # Checking the performance of the Laplace Transform Module"
   ]
  },
  {
   "cell_type": "code",
   "execution_count": 118,
   "metadata": {},
   "outputs": [
    {
     "data": {
      "image/png": "[encoded data removed]",
      "text/latex": [
       "$\\displaystyle 1$"
      ],
      "text/plain": [
       "1"
      ]
     },
     "execution_count": 118,
     "metadata": {},
     "output_type": "execute_result"
    }
   ],
   "source": [
    "g = DiracDelta(t)\n",
    "laplace_transform(g, t, s, noconds = True) # Checking the performance -  Should get 1."
   ]
  },
  {
   "cell_type": "markdown",
   "metadata": {},
   "source": [
    "## Define the LP of the second order diff eq"
   ]
  },
  {
   "cell_type": "code",
   "execution_count": 119,
   "metadata": {
    "colab": {
     "base_uri": "https://localhost:8080/",
     "height": 38
    },
    "executionInfo": {
     "elapsed": 272,
     "status": "ok",
     "timestamp": 1626107869260,
     "user": {
      "displayName": "Jonathan How",
      "photoUrl": "https://lh3.googleusercontent.com/a-/AOh14GiLNnJYgBpzQQozBm-BaS4zBKlaQEQa39WYawXVaw=s64",
      "userId": "07882044077368082882"
     },
     "user_tz": 240
    },
    "id": "iLk0s-0YvlFb",
    "outputId": "9557a18b-14cf-4ea0-891a-5925db676edc"
   },
   "outputs": [
    {
     "data": {
      "image/png": "[encoded data removed]",
      "text/latex": [
       "$\\displaystyle s^{2} X{\\left(s \\right)} + 5 s X{\\left(s \\right)} - 2 s + 6 X{\\left(s \\right)} - 11 = \\frac{1}{s + 1}$"
      ],
      "text/plain": [
       " 2                                         1  \n",
       "s ⋅X(s) + 5⋅s⋅X(s) - 2⋅s + 6⋅X(s) - 11 = ─────\n",
       "                                         s + 1"
      ]
     },
     "execution_count": 119,
     "metadata": {},
     "output_type": "execute_result"
    }
   ],
   "source": [
    "case = 2\n",
    "# define the differential equation to solve\n",
    "if case == 0:\n",
    "    # input is a delta\n",
    "    x0 = 1\n",
    "    v0 = 2\n",
    "    a = 2\n",
    "    b = 7\n",
    "    c = 3\n",
    "    d = 1\n",
    "    W = laplace_transform(d * g, t, s, noconds = True)\n",
    "    x0p = x0 \n",
    "    v0p = v0 + d/a\n",
    "elif case == 1:\n",
    "    # input is a delta\n",
    "    x0 = 2\n",
    "    v0 = 4\n",
    "    a = 1\n",
    "    b = 5\n",
    "    c = 6\n",
    "    d = 4\n",
    "    W = laplace_transform(d * g, t, s, noconds = True)\n",
    "    x0p = x0 \n",
    "    v0p = v0 + d/a\n",
    "elif case == 2:\n",
    "    # input is an exponential\n",
    "    a = 1\n",
    "    b = 5\n",
    "    c = 6\n",
    "    d = 1\n",
    "    x0 = 2\n",
    "    v0 = 1\n",
    "    x0p = x0\n",
    "    v0p = v0\n",
    "    g = sympy.exp(-t)*Heaviside(t)\n",
    "    W = laplace_transform(d*g, t, s, noconds = True)\n",
    "elif case == 3:\n",
    "    # input is a step\n",
    "    a = 1\n",
    "    b = 5\n",
    "    c = 6\n",
    "    d = 1\n",
    "    W = laplace_transform(d*Heaviside(t,0), t, s, noconds = True)\n",
    "    xp = d/c\n",
    "    ev = np.roots([a, b, c])\n",
    "    const = inv([[1,1],[ev[0],ev[1]]])@[[x0-xp],[v0]]\n",
    "    #print(const)\n",
    "\n",
    "eom  = Eq(a*(s**2 *X(s)- s*x0 - v0) + b*(s*X(s) - x0) + c * X(s), W)\n",
    "eom.replace(Heaviside(0), 0)"
   ]
  },
  {
   "cell_type": "markdown",
   "metadata": {},
   "source": [
    "### Solve for the laplace transformed value that must be inverse transformed"
   ]
  },
  {
   "cell_type": "code",
   "execution_count": 120,
   "metadata": {
    "colab": {
     "base_uri": "https://localhost:8080/",
     "height": 58
    },
    "executionInfo": {
     "elapsed": 144,
     "status": "ok",
     "timestamp": 1626108107117,
     "user": {
      "displayName": "Jonathan How",
      "photoUrl": "https://lh3.googleusercontent.com/a-/AOh14GiLNnJYgBpzQQozBm-BaS4zBKlaQEQa39WYawXVaw=s64",
      "userId": "07882044077368082882"
     },
     "user_tz": 240
    },
    "id": "zuY-oBaqxDL-",
    "outputId": "67ded230-349e-42d5-9b99-d6f4b5b084fa"
   },
   "outputs": [
    {
     "data": {
      "image/png": "[encoded data removed]",
      "text/latex": [
       "$\\displaystyle \\frac{2 s^{2} + 13 s + 12}{s^{3} + 6 s^{2} + 11 s + 6}$"
      ],
      "text/plain": [
       "     2              \n",
       "  2⋅s  + 13⋅s + 12  \n",
       "────────────────────\n",
       " 3      2           \n",
       "s  + 6⋅s  + 11⋅s + 6"
      ]
     },
     "execution_count": 120,
     "metadata": {},
     "output_type": "execute_result"
    }
   ],
   "source": [
    "Xofs = solve(eom,X(s))[0]\n",
    "Xofs"
   ]
  },
  {
   "cell_type": "code",
   "execution_count": 121,
   "metadata": {},
   "outputs": [
    {
     "data": {
      "image/png": "[encoded data removed]",
      "text/latex": [
       "$\\displaystyle - \\frac{9}{2 \\left(s + 3\\right)} + \\frac{6}{s + 2} + \\frac{1}{2 \\left(s + 1\\right)}$"
      ],
      "text/plain": [
       "      9         6         1    \n",
       "- ───────── + ───── + ─────────\n",
       "  2⋅(s + 3)   s + 2   2⋅(s + 1)"
      ]
     },
     "execution_count": 121,
     "metadata": {},
     "output_type": "execute_result"
    }
   ],
   "source": [
    "Xofs.apart()"
   ]
  },
  {
   "cell_type": "code",
   "execution_count": 122,
   "metadata": {
    "colab": {
     "base_uri": "https://localhost:8080/",
     "height": 426
    },
    "executionInfo": {
     "elapsed": 123,
     "status": "error",
     "timestamp": 1626108110436,
     "user": {
      "displayName": "Jonathan How",
      "photoUrl": "https://lh3.googleusercontent.com/a-/AOh14GiLNnJYgBpzQQozBm-BaS4zBKlaQEQa39WYawXVaw=s64",
      "userId": "07882044077368082882"
     },
     "user_tz": 240
    },
    "id": "Z0dQ7X3axJ-l",
    "outputId": "808f87b1-ffde-4f5a-f14e-644d9adb4a79"
   },
   "outputs": [
    {
     "data": {
      "image/png": "[encoded data removed]",
      "text/latex": [
       "$\\displaystyle \\frac{\\left(e^{2 t} + 12 e^{t} - 9\\right) e^{- 3 t} \\theta\\left(t\\right)}{2}$"
      ],
      "text/plain": [
       "⎛ 2⋅t       t    ⎞  -3⋅t     \n",
       "⎝ℯ    + 12⋅ℯ  - 9⎠⋅ℯ    ⋅θ(t)\n",
       "─────────────────────────────\n",
       "              2              "
      ]
     },
     "execution_count": 122,
     "metadata": {},
     "output_type": "execute_result"
    }
   ],
   "source": [
    "soln = inverse_laplace_transform(Xofs.apart(),s,t)\n",
    "soln"
   ]
  },
  {
   "cell_type": "code",
   "execution_count": 123,
   "metadata": {},
   "outputs": [
    {
     "name": "stdout",
     "output_type": "stream",
     "text": [
      "Initial condition x(0) was 2.00 and is 2.00\n"
     ]
    }
   ],
   "source": [
    "# compute soln at time 0 to confirm that x(0) = x0\n",
    "soln_x0 = soln.subs(t,0+np.finfo(float).eps)\n",
    "if case < 3:\n",
    "    print(f'Initial condition x(0) was '+f'{x0p:.2f}'+' and is '+f'{soln_x0:.2f}')\n",
    "else:\n",
    "    print(f'Initial condition x(0) was {((const[0]+const[1]+xp)[0]):.2f} and is '+str(soln_x0))    "
   ]
  },
  {
   "cell_type": "code",
   "execution_count": 141,
   "metadata": {},
   "outputs": [
    {
     "name": "stdout",
     "output_type": "stream",
     "text": [
      "Initial condition v(0) was 7.00 and is 7.00\n"
     ]
    }
   ],
   "source": [
    "# compute soln at time 0 to confirm that x(0) = x0\n",
    "soln_v0 = soln.diff(t).replace(Heaviside(t), 1).subs(t,0+np.finfo(float).eps).replace(DiracDelta(0), 0)\n",
    "soln_v0 = soln.diff(t).subs(t,0+np.finfo(float).eps)\n",
    "\n",
    "if case < 3:\n",
    "    print(f'Initial condition v(0) was '+f'{v0p:.2f}'+' and is '+f'{soln_v0:.2f}')\n",
    "else:\n",
    "    print(f'Initial condition x(0) was {((ev[0]*const[0]+ev[1]*const[1])[0]):.2f} and is '+f'{soln_v0:.2f}')    "
   ]
  },
  {
   "cell_type": "markdown",
   "metadata": {},
   "source": [
    "## Example 2"
   ]
  },
  {
   "cell_type": "code",
   "execution_count": 125,
   "metadata": {
    "colab": {
     "base_uri": "https://localhost:8080/"
    },
    "executionInfo": {
     "elapsed": 1747,
     "status": "ok",
     "timestamp": 1626108131308,
     "user": {
      "displayName": "Jonathan How",
      "photoUrl": "https://lh3.googleusercontent.com/a-/AOh14GiLNnJYgBpzQQozBm-BaS4zBKlaQEQa39WYawXVaw=s64",
      "userId": "07882044077368082882"
     },
     "user_tz": 240
    },
    "id": "ATlXK5Vm7_bN",
    "outputId": "e77c9702-4576-450d-8bba-520d509e3ace"
   },
   "outputs": [],
   "source": [
    "x0 = 4\n",
    "v0 = 7"
   ]
  },
  {
   "cell_type": "code",
   "execution_count": 126,
   "metadata": {
    "colab": {
     "base_uri": "https://localhost:8080/"
    },
    "executionInfo": {
     "elapsed": 1747,
     "status": "ok",
     "timestamp": 1626108131308,
     "user": {
      "displayName": "Jonathan How",
      "photoUrl": "https://lh3.googleusercontent.com/a-/AOh14GiLNnJYgBpzQQozBm-BaS4zBKlaQEQa39WYawXVaw=s64",
      "userId": "07882044077368082882"
     },
     "user_tz": 240
    },
    "id": "ATlXK5Vm7_bN",
    "outputId": "e77c9702-4576-450d-8bba-520d509e3ace"
   },
   "outputs": [
    {
     "data": {
      "image/png": "[encoded data removed]",
      "text/latex": [
       "$\\displaystyle 3 s^{2} X{\\left(s \\right)} + 30 s X{\\left(s \\right)} - 12 s + 63 X{\\left(s \\right)} - 141 = 0$"
      ],
      "text/plain": [
       "   2                                            \n",
       "3⋅s ⋅X(s) + 30⋅s⋅X(s) - 12⋅s + 63⋅X(s) - 141 = 0"
      ]
     },
     "execution_count": 126,
     "metadata": {},
     "output_type": "execute_result"
    }
   ],
   "source": [
    "eom  = Eq(3*(s**2 * X(s)-s*x0-v0)+30 * (s*X(s)-x0)+ 63 * X(s), 0)\n",
    "eom"
   ]
  },
  {
   "cell_type": "code",
   "execution_count": 127,
   "metadata": {
    "colab": {
     "base_uri": "https://localhost:8080/"
    },
    "executionInfo": {
     "elapsed": 1747,
     "status": "ok",
     "timestamp": 1626108131308,
     "user": {
      "displayName": "Jonathan How",
      "photoUrl": "https://lh3.googleusercontent.com/a-/AOh14GiLNnJYgBpzQQozBm-BaS4zBKlaQEQa39WYawXVaw=s64",
      "userId": "07882044077368082882"
     },
     "user_tz": 240
    },
    "id": "ATlXK5Vm7_bN",
    "outputId": "e77c9702-4576-450d-8bba-520d509e3ace"
   },
   "outputs": [
    {
     "data": {
      "image/png": "[encoded data removed]",
      "text/latex": [
       "$\\displaystyle \\frac{\\left(35 e^{4 t} - 19\\right) e^{- 7 t} \\theta\\left(t\\right)}{4}$"
      ],
      "text/plain": [
       "⎛    4⋅t     ⎞  -7⋅t     \n",
       "⎝35⋅ℯ    - 19⎠⋅ℯ    ⋅θ(t)\n",
       "─────────────────────────\n",
       "            4            "
      ]
     },
     "execution_count": 127,
     "metadata": {},
     "output_type": "execute_result"
    }
   ],
   "source": [
    "Xofs = solve(eom,X(s))\n",
    "soln = inverse_laplace_transform(Xofs[0],s,t)\n",
    "soln"
   ]
  },
  {
   "cell_type": "code",
   "execution_count": 128,
   "metadata": {},
   "outputs": [
    {
     "name": "stdout",
     "output_type": "stream",
     "text": [
      "Pos IC was 4.0 and is 4.00\n",
      "Vel IC was 7.0 and is 7.00\n"
     ]
    }
   ],
   "source": [
    "y0 = soln.replace(Heaviside(0), 1).subs(t,0).replace(DiracDelta(0), 0)\n",
    "print(f'Pos IC was {x0:.1f} and is {y0:.2f}')\n",
    "\n",
    "ydot = soln.diff(t).replace(Heaviside(0), 1).subs(t,0).replace(DiracDelta(0), 0)\n",
    "ydot0 = ydot.subs(t,0)\n",
    "print(f'Vel IC was {v0:.1f} and is {ydot0:.2f}')"
   ]
  },
  {
   "cell_type": "markdown",
   "metadata": {},
   "source": [
    "## Example 3"
   ]
  },
  {
   "cell_type": "code",
   "execution_count": 129,
   "metadata": {
    "colab": {
     "base_uri": "https://localhost:8080/",
     "height": 38
    },
    "executionInfo": {
     "elapsed": 148,
     "status": "ok",
     "timestamp": 1626108990613,
     "user": {
      "displayName": "Jonathan How",
      "photoUrl": "https://lh3.googleusercontent.com/a-/AOh14GiLNnJYgBpzQQozBm-BaS4zBKlaQEQa39WYawXVaw=s64",
      "userId": "07882044077368082882"
     },
     "user_tz": 240
    },
    "id": "G_Kcp8Cg3JsD",
    "outputId": "5d1a160e-9eac-413a-ea5f-553289585052"
   },
   "outputs": [],
   "source": [
    "x0 = 5 \n",
    "v0 = 7"
   ]
  },
  {
   "cell_type": "code",
   "execution_count": 130,
   "metadata": {
    "colab": {
     "base_uri": "https://localhost:8080/",
     "height": 38
    },
    "executionInfo": {
     "elapsed": 148,
     "status": "ok",
     "timestamp": 1626108990613,
     "user": {
      "displayName": "Jonathan How",
      "photoUrl": "https://lh3.googleusercontent.com/a-/AOh14GiLNnJYgBpzQQozBm-BaS4zBKlaQEQa39WYawXVaw=s64",
      "userId": "07882044077368082882"
     },
     "user_tz": 240
    },
    "id": "G_Kcp8Cg3JsD",
    "outputId": "5d1a160e-9eac-413a-ea5f-553289585052"
   },
   "outputs": [
    {
     "name": "stdout",
     "output_type": "stream",
     "text": [
      "[-3. -1.]\n"
     ]
    },
    {
     "data": {
      "image/png": "[encoded data removed]",
      "text/latex": [
       "$\\displaystyle \\frac{1}{s + 1}$"
      ],
      "text/plain": [
       "  1  \n",
       "─────\n",
       "s + 1"
      ]
     },
     "execution_count": 130,
     "metadata": {},
     "output_type": "execute_result"
    }
   ],
   "source": [
    "# a\\ddot x + b\\dot x + cx = dg\n",
    "a = 2\n",
    "b = 8\n",
    "c = 6\n",
    "d = 5\n",
    "ev = np.roots([a,b,c])\n",
    "print(ev) # check poles of system \n",
    "\n",
    "term = 0\n",
    "if term == 0:\n",
    "    g = sympy.exp(-t)*Heaviside(t)\n",
    "    x0p = x0\n",
    "    v0p = v0\n",
    "elif term == 1:\n",
    "    g = DiracDelta(t) \n",
    "    x0p = x0\n",
    "    v0p = v0 + d/a\n",
    "    \n",
    "G = laplace_transform( g, t, s, noconds = True)\n",
    "G"
   ]
  },
  {
   "cell_type": "code",
   "execution_count": 131,
   "metadata": {
    "colab": {
     "base_uri": "https://localhost:8080/",
     "height": 52
    },
    "executionInfo": {
     "elapsed": 185,
     "status": "ok",
     "timestamp": 1626109153438,
     "user": {
      "displayName": "Jonathan How",
      "photoUrl": "https://lh3.googleusercontent.com/a-/AOh14GiLNnJYgBpzQQozBm-BaS4zBKlaQEQa39WYawXVaw=s64",
      "userId": "07882044077368082882"
     },
     "user_tz": 240
    },
    "id": "e5gtElKq3ngN",
    "outputId": "97226978-c785-4339-c250-0569e424e6fe"
   },
   "outputs": [
    {
     "data": {
      "image/png": "[encoded data removed]",
      "text/latex": [
       "$\\displaystyle \\frac{10 s^{2} + 64 s + 59}{2 \\left(s^{3} + 5 s^{2} + 7 s + 3\\right)}$"
      ],
      "text/plain": [
       "       2               \n",
       "   10⋅s  + 64⋅s + 59   \n",
       "───────────────────────\n",
       "  ⎛ 3      2          ⎞\n",
       "2⋅⎝s  + 5⋅s  + 7⋅s + 3⎠"
      ]
     },
     "execution_count": 131,
     "metadata": {},
     "output_type": "execute_result"
    }
   ],
   "source": [
    "eom = Eq(a*(s**2 *X(s) -s*x0 - v0) + b*(s*X(s)-x0) + c*X(s), d*G)\n",
    "Xofs = solve(eom,X(s)) \n",
    "Xofs[0]"
   ]
  },
  {
   "cell_type": "code",
   "execution_count": 132,
   "metadata": {
    "colab": {
     "base_uri": "https://localhost:8080/",
     "height": 38
    },
    "executionInfo": {
     "elapsed": 393,
     "status": "ok",
     "timestamp": 1626109181590,
     "user": {
      "displayName": "Jonathan How",
      "photoUrl": "https://lh3.googleusercontent.com/a-/AOh14GiLNnJYgBpzQQozBm-BaS4zBKlaQEQa39WYawXVaw=s64",
      "userId": "07882044077368082882"
     },
     "user_tz": 240
    },
    "id": "KgIc4UXw39uY",
    "outputId": "9b0a94de-e6c2-45b9-cc6c-c1df9c19db42"
   },
   "outputs": [
    {
     "data": {
      "image/png": "[encoded data removed]",
      "text/latex": [
       "$\\displaystyle \\frac{5 t e^{- t} \\theta\\left(t\\right)}{4} + \\frac{83 e^{- t} \\theta\\left(t\\right)}{8} - \\frac{43 e^{- 3 t} \\theta\\left(t\\right)}{8}$"
      ],
      "text/plain": [
       "     -t            -t            -3⋅t     \n",
       "5⋅t⋅ℯ  ⋅θ(t)   83⋅ℯ  ⋅θ(t)   43⋅ℯ    ⋅θ(t)\n",
       "──────────── + ─────────── - ─────────────\n",
       "     4              8              8      "
      ]
     },
     "execution_count": 132,
     "metadata": {},
     "output_type": "execute_result"
    }
   ],
   "source": [
    "y_soln = expand(inverse_laplace_transform(Xofs[0],s,t))\n",
    "y_soln"
   ]
  },
  {
   "cell_type": "code",
   "execution_count": 133,
   "metadata": {
    "colab": {
     "base_uri": "https://localhost:8080/"
    },
    "executionInfo": {
     "elapsed": 143,
     "status": "ok",
     "timestamp": 1626109266423,
     "user": {
      "displayName": "Jonathan How",
      "photoUrl": "https://lh3.googleusercontent.com/a-/AOh14GiLNnJYgBpzQQozBm-BaS4zBKlaQEQa39WYawXVaw=s64",
      "userId": "07882044077368082882"
     },
     "user_tz": 240
    },
    "id": "sJV0RdzM4G0F",
    "outputId": "8f28cb40-1dd6-420e-c814-3c0a730f4baf"
   },
   "outputs": [
    {
     "name": "stdout",
     "output_type": "stream",
     "text": [
      "y(0+) was 5.00 and is 5.00\n"
     ]
    }
   ],
   "source": [
    "y0_pos = y_soln.subs(t,0+np.finfo(float).eps) \n",
    "print(f'y(0+) was {x0p:.2f} and is {y0_pos:.2f}')"
   ]
  },
  {
   "cell_type": "code",
   "execution_count": 134,
   "metadata": {
    "colab": {
     "base_uri": "https://localhost:8080/"
    },
    "executionInfo": {
     "elapsed": 122,
     "status": "ok",
     "timestamp": 1626109188874,
     "user": {
      "displayName": "Jonathan How",
      "photoUrl": "https://lh3.googleusercontent.com/a-/AOh14GiLNnJYgBpzQQozBm-BaS4zBKlaQEQa39WYawXVaw=s64",
      "userId": "07882044077368082882"
     },
     "user_tz": 240
    },
    "id": "omDO8iRD4Nda",
    "outputId": "a7b37cd0-0db2-4ec1-fad0-aa3ca158c268"
   },
   "outputs": [
    {
     "name": "stdout",
     "output_type": "stream",
     "text": [
      "dy/dt(0+) was 7.00 and is 7.00\n"
     ]
    }
   ],
   "source": [
    "ydot0_pos = y_soln.diff(t).replace(Heaviside(0), 1).subs(t,0).replace(DiracDelta(0), 0)  \n",
    "print(f'dy/dt(0+) was {v0p:.2f} and is {ydot0_pos:.2f}')"
   ]
  },
  {
   "cell_type": "markdown",
   "metadata": {},
   "source": [
    "## Circuit example from class"
   ]
  },
  {
   "cell_type": "code",
   "execution_count": 135,
   "metadata": {},
   "outputs": [
    {
     "data": {
      "image/png": "[encoded data removed]",
      "text/latex": [
       "$\\displaystyle \\frac{0.2}{0.2 s + 1.0} + \\frac{1.0}{s}$"
      ],
      "text/plain": [
       "    0.2       1.0\n",
       "─────────── + ───\n",
       "0.2⋅s + 1.0    s "
      ]
     },
     "execution_count": 135,
     "metadata": {},
     "output_type": "execute_result"
    }
   ],
   "source": [
    "x0 = 2\n",
    "RC = 1/5\n",
    "W = laplace_transform(Heaviside(t,0), t, s, noconds = True)\n",
    "\n",
    "eom = Eq((s*X(s)-x0) + X(s)/RC, W/RC)\n",
    "Xofs = solve(eom,X(s)) \n",
    "Xofs[0].apart()"
   ]
  },
  {
   "cell_type": "code",
   "execution_count": 136,
   "metadata": {},
   "outputs": [
    {
     "data": {
      "image/png": "[encoded data removed]",
      "text/latex": [
       "$\\displaystyle 1.0 \\left(e^{5.0 t} + 1\\right) e^{- 5.0 t} \\theta\\left(t\\right)$"
      ],
      "text/plain": [
       "    ⎛ 5.0⋅t    ⎞  -5.0⋅t     \n",
       "1.0⋅⎝ℯ      + 1⎠⋅ℯ      ⋅θ(t)"
      ]
     },
     "execution_count": 136,
     "metadata": {},
     "output_type": "execute_result"
    }
   ],
   "source": [
    "y_soln = inverse_laplace_transform(Xofs[0],s,t)\n",
    "y_soln"
   ]
  },
  {
   "cell_type": "code",
   "execution_count": 137,
   "metadata": {},
   "outputs": [
    {
     "name": "stdout",
     "output_type": "stream",
     "text": [
      "yy_soln was 2.00 and is 2.00\n"
     ]
    }
   ],
   "source": [
    "y0_pos = y_soln.subs(t,0+np.finfo(float).eps) \n",
    "print(f'yy_soln was {x0:.2f} and is {y0_pos:.2f}')"
   ]
  },
  {
   "cell_type": "markdown",
   "metadata": {
    "tags": []
   },
   "source": [
    "## Example 3 in Rec 6"
   ]
  },
  {
   "cell_type": "code",
   "execution_count": 138,
   "metadata": {},
   "outputs": [
    {
     "data": {
      "image/png": "[encoded data removed]",
      "text/latex": [
       "$\\displaystyle \\frac{e^{- s - 5}}{s + 5}$"
      ],
      "text/plain": [
       " -s - 5\n",
       "ℯ      \n",
       "───────\n",
       " s + 5 "
      ]
     },
     "execution_count": 138,
     "metadata": {},
     "output_type": "execute_result"
    }
   ],
   "source": [
    "X = laplace_transform(sympy.exp(-5*t)*Heaviside(t-1), t, s, noconds = True)\n",
    "X"
   ]
  },
  {
   "cell_type": "markdown",
   "metadata": {},
   "source": [
    "## Example 2 in Rec 6"
   ]
  },
  {
   "cell_type": "code",
   "execution_count": 139,
   "metadata": {},
   "outputs": [
    {
     "data": {
      "image/png": "[encoded data removed]",
      "text/latex": [
       "$\\displaystyle e^{- \\left|{t}\\right|}$"
      ],
      "text/plain": [
       " -│t│\n",
       "ℯ    "
      ]
     },
     "execution_count": 139,
     "metadata": {},
     "output_type": "execute_result"
    }
   ],
   "source": [
    "g = sympy.exp(-1*sympy.Abs(t))\n",
    "g"
   ]
  },
  {
   "cell_type": "code",
   "execution_count": 140,
   "metadata": {},
   "outputs": [
    {
     "data": {
      "image/png": "[encoded data removed]",
      "text/latex": [
       "$\\displaystyle \\frac{1}{s + 1}$"
      ],
      "text/plain": [
       "  1  \n",
       "─────\n",
       "s + 1"
      ]
     },
     "execution_count": 140,
     "metadata": {},
     "output_type": "execute_result"
    }
   ],
   "source": [
    "X = laplace_transform(g, t, s, noconds = True)\n",
    "X"
   ]
  },
  {
   "cell_type": "code",
   "execution_count": null,
   "metadata": {},
   "outputs": [],
   "source": []
  }
 ],
 "metadata": {
  "colab": {
   "authorship_tag": "ABX9TyOoCLTbcAx1GSa/Nzf0X1nR",
   "collapsed_sections": [],
   "name": "DiffEq_delta_input.ipynb",
   "provenance": []
  },
  "kernelspec": {
   "display_name": "Python 3 (ipykernel)",
   "language": "python",
   "name": "python3"
  },
  "language_info": {
   "codemirror_mode": {
    "name": "ipython",
    "version": 3
   },
   "file_extension": ".py",
   "mimetype": "text/x-python",
   "name": "python",
   "nbconvert_exporter": "python",
   "pygments_lexer": "ipython3",
   "version": "3.8.12"
  },
  "latex_envs": {
   "LaTeX_envs_menu_present": true,
   "autoclose": false,
   "autocomplete": true,
   "bibliofile": "biblio.bib",
   "cite_by": "apalike",
   "current_citInitial": 1,
   "eqLabelWithNumbers": true,
   "eqNumInitial": 1,
   "hotkeys": {
    "equation": "Ctrl-E",
    "itemize": "Ctrl-I"
   },
   "labels_anchors": false,
   "latex_user_defs": false,
   "report_style_numbering": false,
   "user_envs_cfg": false
  }
 },
 "nbformat": 4,
 "nbformat_minor": 4
}

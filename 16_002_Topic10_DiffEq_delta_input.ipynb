{
 "cells": [
  {
   "cell_type": "code",
   "execution_count": 1,
   "metadata": {
    "colab": {
     "base_uri": "https://localhost:8080/"
    },
    "executionInfo": {
     "elapsed": 132,
     "status": "ok",
     "timestamp": 1626107108695,
     "user": {
      "displayName": "Jonathan How",
      "photoUrl": "https://lh3.googleusercontent.com/a-/AOh14GiLNnJYgBpzQQozBm-BaS4zBKlaQEQa39WYawXVaw=s64",
      "userId": "07882044077368082882"
     },
     "user_tz": 240
    },
    "id": "4kvTmYm7wA1p",
    "outputId": "d25ddc2a-f527-445b-c5a3-3655a4be7c12"
   },
   "outputs": [
    {
     "name": "stdout",
     "output_type": "stream",
     "text": [
      "Sympy version 1.10.1\n"
     ]
    }
   ],
   "source": [
    "import numpy as np\n",
    "from numpy.linalg import inv\n",
    "%matplotlib inline\n",
    "try:\n",
    "    import google.colab\n",
    "    IN_COLAB = True\n",
    "    !pip3 install sympy==1.10\n",
    "except:\n",
    "    IN_COLAB = False\n",
    "\n",
    "from sympy import *\n",
    "from sympy import Abs\n",
    "from sympy.integrals.transforms import laplace_transform\n",
    "from sympy.integrals.transforms import inverse_laplace_transform\n",
    "import sympy as sympy\n",
    "from sympy.abc import a, t, x, s, X, g, G\n",
    "print(\"Sympy version \"+sympy.__version__)\n",
    "init_printing(use_unicode=True)\n",
    "\n",
    "a, x, g, X, G, tau = symbols('a x g X G tau', cls = Function)"
   ]
  },
  {
   "cell_type": "markdown",
   "metadata": {},
   "source": [
    "## Define anticausal transforms"
   ]
  },
  {
   "cell_type": "code",
   "execution_count": 2,
   "metadata": {},
   "outputs": [],
   "source": [
    "def laplace_transform_ac(g_lt_ac,t,s, NC = True):\n",
    "    return laplace_transform(g_lt_ac.subs(tau,-t), t, -s, noconds = NC)\n",
    "\n",
    "def inverse_laplace_transform_ac(G_ilt_ac,s,t):\n",
    "    return (inverse_laplace_transform(G_ilt_ac.subs(s,-s),s,t).subs(t,-tau))*Heaviside(-tau,1)"
   ]
  },
  {
   "cell_type": "markdown",
   "metadata": {},
   "source": [
    "## Check that get desired properties for basic ftns"
   ]
  },
  {
   "cell_type": "code",
   "execution_count": 3,
   "metadata": {},
   "outputs": [
    {
     "data": {
      "image/png": "[encoded data removed]",
      "text/latex": [
       "$\\displaystyle 1$"
      ],
      "text/plain": [
       "1"
      ]
     },
     "execution_count": 3,
     "metadata": {},
     "output_type": "execute_result"
    }
   ],
   "source": [
    "#t = Symbol('t', positive=False) \n",
    "g = DiracDelta(t)\n",
    "G = laplace_transform(g, t, s, noconds = True) # Checking the performance -  Should get 1.\n",
    "G"
   ]
  },
  {
   "cell_type": "code",
   "execution_count": 4,
   "metadata": {},
   "outputs": [],
   "source": [
    "tau = Symbol('tau', negative=True) \n",
    "#t = Symbol('t', positive=True) "
   ]
  },
  {
   "cell_type": "code",
   "execution_count": 5,
   "metadata": {},
   "outputs": [
    {
     "data": {
      "image/png": "[encoded data removed]",
      "text/latex": [
       "$\\displaystyle \\frac{1}{s}$"
      ],
      "text/plain": [
       "1\n",
       "─\n",
       "s"
      ]
     },
     "execution_count": 5,
     "metadata": {},
     "output_type": "execute_result"
    }
   ],
   "source": [
    "g = Heaviside(t,1)\n",
    "G = laplace_transform(g, t, s, noconds = True) # Checking the performance -  Should get 1/s.\n",
    "G"
   ]
  },
  {
   "cell_type": "code",
   "execution_count": 6,
   "metadata": {},
   "outputs": [
    {
     "data": {
      "image/png": "[encoded data removed]",
      "text/latex": [
       "$\\displaystyle - \\frac{2}{s}$"
      ],
      "text/plain": [
       "-2 \n",
       "───\n",
       " s "
      ]
     },
     "execution_count": 6,
     "metadata": {},
     "output_type": "execute_result"
    }
   ],
   "source": [
    "g = 2*Heaviside(-tau,1)\n",
    "G = laplace_transform_ac(g, t, s, True) # Checking the performance -  Should get -1/s.\n",
    "G"
   ]
  },
  {
   "cell_type": "code",
   "execution_count": 7,
   "metadata": {
    "colab": {
     "base_uri": "https://localhost:8080/",
     "height": 38
    },
    "executionInfo": {
     "elapsed": 250,
     "status": "ok",
     "timestamp": 1626107862587,
     "user": {
      "displayName": "Jonathan How",
      "photoUrl": "https://lh3.googleusercontent.com/a-/AOh14GiLNnJYgBpzQQozBm-BaS4zBKlaQEQa39WYawXVaw=s64",
      "userId": "07882044077368082882"
     },
     "user_tz": 240
    },
    "id": "0Dw2j9K9wEdw",
    "outputId": "66efb964-28d5-4d42-ba10-f5eeafa813d7"
   },
   "outputs": [
    {
     "data": {
      "image/png": "[encoded data removed]",
      "text/latex": [
       "$\\displaystyle 11 e^{- t} \\theta\\left(t, 1\\right)$"
      ],
      "text/plain": [
       "    -t        \n",
       "11⋅ℯ  ⋅θ(t, 1)"
      ]
     },
     "execution_count": 7,
     "metadata": {},
     "output_type": "execute_result"
    }
   ],
   "source": [
    "a = 11\n",
    "g = a*sympy.exp(-t)*Heaviside(t,1)\n",
    "g"
   ]
  },
  {
   "cell_type": "code",
   "execution_count": 8,
   "metadata": {
    "colab": {
     "base_uri": "https://localhost:8080/",
     "height": 38
    },
    "executionInfo": {
     "elapsed": 250,
     "status": "ok",
     "timestamp": 1626107862587,
     "user": {
      "displayName": "Jonathan How",
      "photoUrl": "https://lh3.googleusercontent.com/a-/AOh14GiLNnJYgBpzQQozBm-BaS4zBKlaQEQa39WYawXVaw=s64",
      "userId": "07882044077368082882"
     },
     "user_tz": 240
    },
    "id": "0Dw2j9K9wEdw",
    "outputId": "66efb964-28d5-4d42-ba10-f5eeafa813d7"
   },
   "outputs": [
    {
     "data": {
      "image/png": "[encoded data removed]",
      "text/latex": [
       "$\\displaystyle \\frac{11}{s + 1}$"
      ],
      "text/plain": [
       "  11 \n",
       "─────\n",
       "s + 1"
      ]
     },
     "execution_count": 8,
     "metadata": {},
     "output_type": "execute_result"
    }
   ],
   "source": [
    "G = laplace_transform(g,t,s, noconds = True) # Checking the performance -  Should get 1/(s+1).\n",
    "G"
   ]
  },
  {
   "cell_type": "code",
   "execution_count": 9,
   "metadata": {
    "colab": {
     "base_uri": "https://localhost:8080/",
     "height": 38
    },
    "executionInfo": {
     "elapsed": 250,
     "status": "ok",
     "timestamp": 1626107862587,
     "user": {
      "displayName": "Jonathan How",
      "photoUrl": "https://lh3.googleusercontent.com/a-/AOh14GiLNnJYgBpzQQozBm-BaS4zBKlaQEQa39WYawXVaw=s64",
      "userId": "07882044077368082882"
     },
     "user_tz": 240
    },
    "id": "0Dw2j9K9wEdw",
    "outputId": "66efb964-28d5-4d42-ba10-f5eeafa813d7"
   },
   "outputs": [
    {
     "data": {
      "image/png": "[encoded data removed]",
      "text/latex": [
       "$\\displaystyle \\frac{1}{1 - s}$"
      ],
      "text/plain": [
       "  1  \n",
       "─────\n",
       "1 - s"
      ]
     },
     "execution_count": 9,
     "metadata": {},
     "output_type": "execute_result"
    }
   ],
   "source": [
    "g_ac = sympy.exp(tau)*Heaviside(-tau,1)\n",
    "G_ac = laplace_transform_ac(g_ac,t,s, True) # Checking the performance -  Should get -1/(s+1).\n",
    "G_ac"
   ]
  },
  {
   "cell_type": "code",
   "execution_count": 10,
   "metadata": {},
   "outputs": [
    {
     "data": {
      "image/png": "[encoded data removed]",
      "text/latex": [
       "$\\displaystyle e^{\\tau}$"
      ],
      "text/plain": [
       " τ\n",
       "ℯ "
      ]
     },
     "execution_count": 10,
     "metadata": {},
     "output_type": "execute_result"
    }
   ],
   "source": [
    "# confirm that inverse gives what we originally put in\n",
    "g_temp = inverse_laplace_transform_ac(G_ac,s,t)\n",
    "g_temp"
   ]
  },
  {
   "cell_type": "markdown",
   "metadata": {},
   "source": [
    "## Anticausal Example 1"
   ]
  },
  {
   "cell_type": "code",
   "execution_count": 11,
   "metadata": {},
   "outputs": [
    {
     "data": {
      "image/png": "[encoded data removed]",
      "text/latex": [
       "$\\displaystyle \\frac{1.0}{s^{2} - 1}$"
      ],
      "text/plain": [
       " 1.0  \n",
       "──────\n",
       " 2    \n",
       "s  - 1"
      ]
     },
     "execution_count": 11,
     "metadata": {},
     "output_type": "execute_result"
    }
   ],
   "source": [
    "G1 = 0.5/(s-1) # pole at s = 1\n",
    "G2 = -0.5/(s+1) # pole at s = -1\n",
    "simplify(G1+G2)"
   ]
  },
  {
   "cell_type": "markdown",
   "metadata": {},
   "source": [
    "### ROC A: $Re[s] < -1$"
   ]
  },
  {
   "cell_type": "code",
   "execution_count": 12,
   "metadata": {},
   "outputs": [
    {
     "data": {
      "image/png": "[encoded data removed]",
      "text/latex": [
       "$\\displaystyle - 0.5 e^{\\tau} + 0.5 e^{- \\tau}$"
      ],
      "text/plain": [
       "       τ        -τ\n",
       "- 0.5⋅ℯ  + 0.5⋅ℯ  "
      ]
     },
     "execution_count": 12,
     "metadata": {},
     "output_type": "execute_result"
    }
   ],
   "source": [
    "g_rocA = inverse_laplace_transform_ac(G1,s,t) + inverse_laplace_transform_ac(G2,s,t)\n",
    "g_rocA"
   ]
  },
  {
   "cell_type": "code",
   "execution_count": 13,
   "metadata": {},
   "outputs": [
    {
     "data": {
      "image/png": "[encoded data removed]",
      "text/latex": [
       "$\\displaystyle \\frac{1.0}{s^{2} - 1}$"
      ],
      "text/plain": [
       " 1.0  \n",
       "──────\n",
       " 2    \n",
       "s  - 1"
      ]
     },
     "execution_count": 13,
     "metadata": {},
     "output_type": "execute_result"
    }
   ],
   "source": [
    "laplace_transform_ac(g_rocA,t,s, True)"
   ]
  },
  {
   "cell_type": "markdown",
   "metadata": {},
   "source": [
    "### ROC B: $ -1 < Re[s] < 1$ "
   ]
  },
  {
   "cell_type": "code",
   "execution_count": 14,
   "metadata": {},
   "outputs": [
    {
     "data": {
      "image/png": "[encoded data removed]",
      "text/latex": [
       "$\\displaystyle - 0.5 e^{\\tau} - 0.5 e^{- t} \\theta\\left(t\\right)$"
      ],
      "text/plain": [
       "       τ        -t     \n",
       "- 0.5⋅ℯ  - 0.5⋅ℯ  ⋅θ(t)"
      ]
     },
     "execution_count": 14,
     "metadata": {},
     "output_type": "execute_result"
    }
   ],
   "source": [
    "g_rocB = inverse_laplace_transform_ac(G1,s,t) + inverse_laplace_transform(G2,s,t)\n",
    "g_rocB"
   ]
  },
  {
   "cell_type": "markdown",
   "metadata": {},
   "source": [
    "### ROC C: $ Re[s] > 1$"
   ]
  },
  {
   "cell_type": "code",
   "execution_count": 15,
   "metadata": {},
   "outputs": [
    {
     "data": {
      "image/png": "[encoded data removed]",
      "text/latex": [
       "$\\displaystyle 0.5 e^{t} \\theta\\left(t\\right) - 0.5 e^{- t} \\theta\\left(t\\right)$"
      ],
      "text/plain": [
       "     t             -t     \n",
       "0.5⋅ℯ ⋅θ(t) - 0.5⋅ℯ  ⋅θ(t)"
      ]
     },
     "execution_count": 15,
     "metadata": {},
     "output_type": "execute_result"
    }
   ],
   "source": [
    "g_rocC = inverse_laplace_transform(G1,s,t) + inverse_laplace_transform(G2,s,t)\n",
    "g_rocC"
   ]
  },
  {
   "cell_type": "markdown",
   "metadata": {},
   "source": [
    "## Anticausal Example 2"
   ]
  },
  {
   "cell_type": "code",
   "execution_count": 16,
   "metadata": {},
   "outputs": [
    {
     "data": {
      "image/png": "[encoded data removed]",
      "text/latex": [
       "$\\displaystyle \\frac{1.0 s}{\\left(s - 1.0\\right) \\left(s + 2.0\\right)}$"
      ],
      "text/plain": [
       "       1.0⋅s       \n",
       "───────────────────\n",
       "(s - 1.0)⋅(s + 2.0)"
      ]
     },
     "execution_count": 16,
     "metadata": {},
     "output_type": "execute_result"
    }
   ],
   "source": [
    "G1 = 1/3/(s-1) # pole at s = 1\n",
    "G2 = 2/3/(s+2) # pole at s = -2\n",
    "N(simplify(G1+G2),2)"
   ]
  },
  {
   "cell_type": "code",
   "execution_count": 17,
   "metadata": {},
   "outputs": [
    {
     "data": {
      "image/png": "[encoded data removed]",
      "text/latex": [
       "$\\displaystyle - 0.3333 e^{\\tau} - 0.6667 e^{- 2.0 \\tau}$"
      ],
      "text/plain": [
       "          τ           -2.0⋅τ\n",
       "- 0.3333⋅ℯ  - 0.6667⋅ℯ      "
      ]
     },
     "execution_count": 17,
     "metadata": {},
     "output_type": "execute_result"
    }
   ],
   "source": [
    "# ROC A Re[s] < -2\n",
    "g_rocA = inverse_laplace_transform_ac(G1,s,t) + inverse_laplace_transform_ac(G2,s,t)\n",
    "N(g_rocA,4)"
   ]
  },
  {
   "cell_type": "code",
   "execution_count": 18,
   "metadata": {},
   "outputs": [
    {
     "data": {
      "image/png": "[encoded data removed]",
      "text/latex": [
       "$\\displaystyle - 0.3333 e^{\\tau} + 0.6667 e^{- 2.0 t} \\theta\\left(t\\right)$"
      ],
      "text/plain": [
       "          τ           -2.0⋅t     \n",
       "- 0.3333⋅ℯ  + 0.6667⋅ℯ      ⋅θ(t)"
      ]
     },
     "execution_count": 18,
     "metadata": {},
     "output_type": "execute_result"
    }
   ],
   "source": [
    "# ROC B -2 < Re[s] < 1 \n",
    "g_rocB = inverse_laplace_transform_ac(G1,s,t) + inverse_laplace_transform(G2,s,t)\n",
    "N(g_rocB,4)"
   ]
  },
  {
   "cell_type": "code",
   "execution_count": 19,
   "metadata": {},
   "outputs": [
    {
     "data": {
      "image/png": "[encoded data removed]",
      "text/latex": [
       "$\\displaystyle 0.3333 e^{t} \\theta\\left(t\\right) + 0.6667 e^{- 2.0 t} \\theta\\left(t\\right)$"
      ],
      "text/plain": [
       "        t                -2.0⋅t     \n",
       "0.3333⋅ℯ ⋅θ(t) + 0.6667⋅ℯ      ⋅θ(t)"
      ]
     },
     "execution_count": 19,
     "metadata": {},
     "output_type": "execute_result"
    }
   ],
   "source": [
    "# ROC C Re[s] > 1\n",
    "g_rocC = inverse_laplace_transform(G1,s,t) + inverse_laplace_transform(G2,s,t)\n",
    "N(g_rocC,4)"
   ]
  },
  {
   "cell_type": "markdown",
   "metadata": {},
   "source": [
    "## Define the LP of the second order diff eq"
   ]
  },
  {
   "cell_type": "code",
   "execution_count": 20,
   "metadata": {
    "colab": {
     "base_uri": "https://localhost:8080/",
     "height": 38
    },
    "executionInfo": {
     "elapsed": 272,
     "status": "ok",
     "timestamp": 1626107869260,
     "user": {
      "displayName": "Jonathan How",
      "photoUrl": "https://lh3.googleusercontent.com/a-/AOh14GiLNnJYgBpzQQozBm-BaS4zBKlaQEQa39WYawXVaw=s64",
      "userId": "07882044077368082882"
     },
     "user_tz": 240
    },
    "id": "iLk0s-0YvlFb",
    "outputId": "9557a18b-14cf-4ea0-891a-5925db676edc"
   },
   "outputs": [
    {
     "data": {
      "image/png": "[encoded data removed]",
      "text/latex": [
       "$\\displaystyle s^{2} X{\\left(s \\right)} + 5 s X{\\left(s \\right)} - 2 s + 6 X{\\left(s \\right)} - 11 = \\frac{1}{s + 2}$"
      ],
      "text/plain": [
       " 2                                         1  \n",
       "s ⋅X(s) + 5⋅s⋅X(s) - 2⋅s + 6⋅X(s) - 11 = ─────\n",
       "                                         s + 2"
      ]
     },
     "execution_count": 20,
     "metadata": {},
     "output_type": "execute_result"
    }
   ],
   "source": [
    "case = 2\n",
    "# define the differential equation to solve\n",
    "if case == 0:\n",
    "    # input is a delta\n",
    "    g = DiracDelta(t)\n",
    "    x0 = 1\n",
    "    v0 = 2\n",
    "    a = 2\n",
    "    b = 7\n",
    "    c = 3\n",
    "    d = 1\n",
    "    W = laplace_transform(d * g, t, s, noconds = True)\n",
    "    x0p = x0 \n",
    "    v0p = v0 + d/a\n",
    "elif case == 1:\n",
    "    # input is a delta\n",
    "    g = DiracDelta(t)\n",
    "    x0 = 2\n",
    "    v0 = 4\n",
    "    a = 1\n",
    "    b = 5\n",
    "    c = 6\n",
    "    d = 4\n",
    "    W = laplace_transform(d * g, t, s, noconds = True)\n",
    "    x0p = x0 \n",
    "    v0p = v0 + d/a\n",
    "elif case == 2:\n",
    "    # input is an exponential\n",
    "    a = 1\n",
    "    b = 5\n",
    "    c = 6\n",
    "    d = 1\n",
    "    x0 = 2\n",
    "    v0 = 1\n",
    "    x0p = x0\n",
    "    v0p = v0\n",
    "    g = sympy.exp(-2*t)*Heaviside(t)\n",
    "    W = laplace_transform(d*g, t, s, noconds = True)\n",
    "elif case == 3:\n",
    "    # input is a step\n",
    "    a = 1\n",
    "    b = 5\n",
    "    c = 6\n",
    "    d = 1\n",
    "    W = laplace_transform(d*Heaviside(t,0), t, s, noconds = True)\n",
    "    xp = d/c\n",
    "    ev = np.roots([a, b, c])\n",
    "    const = inv([[1,1],[ev[0],ev[1]]])@[[x0-xp],[v0]]\n",
    "    #print(const)\n",
    "\n",
    "eom  = Eq(a*(s**2 *X(s)- s*x0 - v0) + b*(s*X(s) - x0) + c * X(s), W)\n",
    "eom.replace(Heaviside(0), 0)"
   ]
  },
  {
   "cell_type": "markdown",
   "metadata": {},
   "source": [
    "### Solve for the laplace transformed value that must be inverse transformed"
   ]
  },
  {
   "cell_type": "code",
   "execution_count": 21,
   "metadata": {
    "colab": {
     "base_uri": "https://localhost:8080/",
     "height": 58
    },
    "executionInfo": {
     "elapsed": 144,
     "status": "ok",
     "timestamp": 1626108107117,
     "user": {
      "displayName": "Jonathan How",
      "photoUrl": "https://lh3.googleusercontent.com/a-/AOh14GiLNnJYgBpzQQozBm-BaS4zBKlaQEQa39WYawXVaw=s64",
      "userId": "07882044077368082882"
     },
     "user_tz": 240
    },
    "id": "zuY-oBaqxDL-",
    "outputId": "67ded230-349e-42d5-9b99-d6f4b5b084fa"
   },
   "outputs": [
    {
     "data": {
      "image/png": "[encoded data removed]",
      "text/latex": [
       "$\\displaystyle \\frac{2 s^{2} + 15 s + 23}{s^{3} + 7 s^{2} + 16 s + 12}$"
      ],
      "text/plain": [
       "      2              \n",
       "   2⋅s  + 15⋅s + 23  \n",
       "─────────────────────\n",
       " 3      2            \n",
       "s  + 7⋅s  + 16⋅s + 12"
      ]
     },
     "execution_count": 21,
     "metadata": {},
     "output_type": "execute_result"
    }
   ],
   "source": [
    "Xofs = solve(eom,X(s))[0]\n",
    "Xofs"
   ]
  },
  {
   "cell_type": "code",
   "execution_count": 22,
   "metadata": {},
   "outputs": [
    {
     "data": {
      "image/png": "[encoded data removed]",
      "text/latex": [
       "$\\displaystyle - \\frac{4}{s + 3} + \\frac{6}{s + 2} + \\frac{1}{\\left(s + 2\\right)^{2}}$"
      ],
      "text/plain": [
       "    4       6        1    \n",
       "- ───── + ───── + ────────\n",
       "  s + 3   s + 2          2\n",
       "                  (s + 2) "
      ]
     },
     "execution_count": 22,
     "metadata": {},
     "output_type": "execute_result"
    }
   ],
   "source": [
    "Xofs.apart()"
   ]
  },
  {
   "cell_type": "code",
   "execution_count": 23,
   "metadata": {
    "colab": {
     "base_uri": "https://localhost:8080/",
     "height": 426
    },
    "executionInfo": {
     "elapsed": 123,
     "status": "error",
     "timestamp": 1626108110436,
     "user": {
      "displayName": "Jonathan How",
      "photoUrl": "https://lh3.googleusercontent.com/a-/AOh14GiLNnJYgBpzQQozBm-BaS4zBKlaQEQa39WYawXVaw=s64",
      "userId": "07882044077368082882"
     },
     "user_tz": 240
    },
    "id": "Z0dQ7X3axJ-l",
    "outputId": "808f87b1-ffde-4f5a-f14e-644d9adb4a79"
   },
   "outputs": [
    {
     "data": {
      "image/png": "[encoded data removed]",
      "text/latex": [
       "$\\displaystyle \\left(\\left(t + 6\\right) e^{t} - 4\\right) e^{- 3 t} \\theta\\left(t\\right)$"
      ],
      "text/plain": [
       "⎛         t    ⎞  -3⋅t     \n",
       "⎝(t + 6)⋅ℯ  - 4⎠⋅ℯ    ⋅θ(t)"
      ]
     },
     "execution_count": 23,
     "metadata": {},
     "output_type": "execute_result"
    }
   ],
   "source": [
    "soln = inverse_laplace_transform(Xofs.apart(),s,t)\n",
    "soln"
   ]
  },
  {
   "cell_type": "code",
   "execution_count": 24,
   "metadata": {},
   "outputs": [
    {
     "name": "stdout",
     "output_type": "stream",
     "text": [
      "Initial condition x(0) was 2.00 and is 2.00\n"
     ]
    }
   ],
   "source": [
    "# compute soln at time 0 to confirm that x(0) = x0\n",
    "soln_x0 = soln.subs(t,0+np.finfo(float).eps)\n",
    "if case < 3:\n",
    "    print(f'Initial condition x(0) was '+f'{x0p:.2f}'+' and is '+f'{soln_x0:.2f}')\n",
    "else:\n",
    "    print(f'Initial condition x(0) was {((const[0]+const[1]+xp)[0]):.2f} and is '+str(soln_x0))    "
   ]
  },
  {
   "cell_type": "code",
   "execution_count": 25,
   "metadata": {},
   "outputs": [
    {
     "name": "stdout",
     "output_type": "stream",
     "text": [
      "Initial condition v(0) was 1.00 and is 1.00\n"
     ]
    }
   ],
   "source": [
    "# compute soln at time 0 to confirm that x(0) = x0\n",
    "#soln_v0 = soln.diff(t).replace(Heaviside(t), 1).subs(t,0+np.finfo(float).eps).replace(DiracDelta(0), 0)\n",
    "soln_v0 = soln.diff(t).subs(t,0+np.finfo(float).eps)\n",
    "\n",
    "if case < 3:\n",
    "    print(f'Initial condition v(0) was '+f'{v0p:.2f}'+' and is '+f'{soln_v0:.2f}')\n",
    "else:\n",
    "    print(f'Initial condition x(0) was {((ev[0]*const[0]+ev[1]*const[1])[0]):.2f} and is '+f'{soln_v0:.2f}')    "
   ]
  },
  {
   "cell_type": "markdown",
   "metadata": {},
   "source": [
    "## Example 2"
   ]
  },
  {
   "cell_type": "code",
   "execution_count": 26,
   "metadata": {
    "colab": {
     "base_uri": "https://localhost:8080/"
    },
    "executionInfo": {
     "elapsed": 1747,
     "status": "ok",
     "timestamp": 1626108131308,
     "user": {
      "displayName": "Jonathan How",
      "photoUrl": "https://lh3.googleusercontent.com/a-/AOh14GiLNnJYgBpzQQozBm-BaS4zBKlaQEQa39WYawXVaw=s64",
      "userId": "07882044077368082882"
     },
     "user_tz": 240
    },
    "id": "ATlXK5Vm7_bN",
    "outputId": "e77c9702-4576-450d-8bba-520d509e3ace"
   },
   "outputs": [],
   "source": [
    "x0 = 4.0\n",
    "v0 = 7.0"
   ]
  },
  {
   "cell_type": "code",
   "execution_count": 27,
   "metadata": {
    "colab": {
     "base_uri": "https://localhost:8080/"
    },
    "executionInfo": {
     "elapsed": 1747,
     "status": "ok",
     "timestamp": 1626108131308,
     "user": {
      "displayName": "Jonathan How",
      "photoUrl": "https://lh3.googleusercontent.com/a-/AOh14GiLNnJYgBpzQQozBm-BaS4zBKlaQEQa39WYawXVaw=s64",
      "userId": "07882044077368082882"
     },
     "user_tz": 240
    },
    "id": "ATlXK5Vm7_bN",
    "outputId": "e77c9702-4576-450d-8bba-520d509e3ace"
   },
   "outputs": [
    {
     "data": {
      "image/png": "[encoded data removed]",
      "text/latex": [
       "$\\displaystyle 3 s^{2} X{\\left(s \\right)} + 30 s X{\\left(s \\right)} - 12.0 s + 63 X{\\left(s \\right)} - 141.0 = 0$"
      ],
      "text/plain": [
       "   2                                                \n",
       "3⋅s ⋅X(s) + 30⋅s⋅X(s) - 12.0⋅s + 63⋅X(s) - 141.0 = 0"
      ]
     },
     "execution_count": 27,
     "metadata": {},
     "output_type": "execute_result"
    }
   ],
   "source": [
    "eom  = Eq(3*(s**2 * X(s)-s*x0-v0)+30 * (s*X(s)-x0)+ 63 * X(s), 0)\n",
    "eom"
   ]
  },
  {
   "cell_type": "code",
   "execution_count": 28,
   "metadata": {
    "colab": {
     "base_uri": "https://localhost:8080/"
    },
    "executionInfo": {
     "elapsed": 1747,
     "status": "ok",
     "timestamp": 1626108131308,
     "user": {
      "displayName": "Jonathan How",
      "photoUrl": "https://lh3.googleusercontent.com/a-/AOh14GiLNnJYgBpzQQozBm-BaS4zBKlaQEQa39WYawXVaw=s64",
      "userId": "07882044077368082882"
     },
     "user_tz": 240
    },
    "id": "ATlXK5Vm7_bN",
    "outputId": "e77c9702-4576-450d-8bba-520d509e3ace"
   },
   "outputs": [
    {
     "data": {
      "image/png": "[encoded data removed]",
      "text/latex": [
       "$\\displaystyle \\left(- 4.75 e^{3.0 t} + 8.75 e^{7.0 t}\\right) e^{- 10.0 t} \\theta\\left(t\\right)$"
      ],
      "text/plain": [
       "⎛        3.0⋅t         7.0⋅t⎞  -10.0⋅t     \n",
       "⎝- 4.75⋅ℯ      + 8.75⋅ℯ     ⎠⋅ℯ       ⋅θ(t)"
      ]
     },
     "execution_count": 28,
     "metadata": {},
     "output_type": "execute_result"
    }
   ],
   "source": [
    "Xofs = solve(eom,X(s))\n",
    "soln = inverse_laplace_transform(Xofs[0],s,t)\n",
    "soln"
   ]
  },
  {
   "cell_type": "code",
   "execution_count": 29,
   "metadata": {},
   "outputs": [
    {
     "name": "stdout",
     "output_type": "stream",
     "text": [
      "Pos IC was 4.0 and is 4.00\n",
      "Vel IC was 7.0 and is 7.00\n"
     ]
    }
   ],
   "source": [
    "y0 = soln.replace(Heaviside(0), 1).subs(t,0).replace(DiracDelta(0), 0)\n",
    "print(f'Pos IC was {x0:.1f} and is {y0:.2f}')\n",
    "\n",
    "ydot = soln.diff(t).replace(Heaviside(0), 1).subs(t,0).replace(DiracDelta(0), 0)\n",
    "ydot0 = ydot.subs(t,0)\n",
    "print(f'Vel IC was {v0:.1f} and is {ydot0:.2f}')"
   ]
  },
  {
   "cell_type": "markdown",
   "metadata": {},
   "source": [
    "## Example 3"
   ]
  },
  {
   "cell_type": "code",
   "execution_count": 30,
   "metadata": {
    "colab": {
     "base_uri": "https://localhost:8080/",
     "height": 38
    },
    "executionInfo": {
     "elapsed": 148,
     "status": "ok",
     "timestamp": 1626108990613,
     "user": {
      "displayName": "Jonathan How",
      "photoUrl": "https://lh3.googleusercontent.com/a-/AOh14GiLNnJYgBpzQQozBm-BaS4zBKlaQEQa39WYawXVaw=s64",
      "userId": "07882044077368082882"
     },
     "user_tz": 240
    },
    "id": "G_Kcp8Cg3JsD",
    "outputId": "5d1a160e-9eac-413a-ea5f-553289585052"
   },
   "outputs": [],
   "source": [
    "x0 = 5.0 \n",
    "v0 = 7.0"
   ]
  },
  {
   "cell_type": "code",
   "execution_count": 31,
   "metadata": {
    "colab": {
     "base_uri": "https://localhost:8080/",
     "height": 38
    },
    "executionInfo": {
     "elapsed": 148,
     "status": "ok",
     "timestamp": 1626108990613,
     "user": {
      "displayName": "Jonathan How",
      "photoUrl": "https://lh3.googleusercontent.com/a-/AOh14GiLNnJYgBpzQQozBm-BaS4zBKlaQEQa39WYawXVaw=s64",
      "userId": "07882044077368082882"
     },
     "user_tz": 240
    },
    "id": "G_Kcp8Cg3JsD",
    "outputId": "5d1a160e-9eac-413a-ea5f-553289585052"
   },
   "outputs": [
    {
     "name": "stdout",
     "output_type": "stream",
     "text": [
      "[-3. -1.]\n"
     ]
    },
    {
     "data": {
      "image/png": "[encoded data removed]",
      "text/latex": [
       "$\\displaystyle \\frac{1}{s + 1}$"
      ],
      "text/plain": [
       "  1  \n",
       "─────\n",
       "s + 1"
      ]
     },
     "execution_count": 31,
     "metadata": {},
     "output_type": "execute_result"
    }
   ],
   "source": [
    "# a\\ddot x + b\\dot x + cx = dg\n",
    "a = 2\n",
    "b = 8\n",
    "c = 6\n",
    "d = 5\n",
    "ev = np.roots([a,b,c])\n",
    "print(ev) # check poles of system \n",
    "\n",
    "term = 0\n",
    "if term == 0:\n",
    "    g = sympy.exp(-t)*Heaviside(t)\n",
    "    x0p = x0\n",
    "    v0p = v0\n",
    "elif term == 1:\n",
    "    g = DiracDelta(t) \n",
    "    x0p = x0\n",
    "    v0p = v0 + d/a\n",
    "    \n",
    "G = laplace_transform( g, t, s, noconds = True)\n",
    "G"
   ]
  },
  {
   "cell_type": "code",
   "execution_count": 32,
   "metadata": {
    "colab": {
     "base_uri": "https://localhost:8080/",
     "height": 52
    },
    "executionInfo": {
     "elapsed": 185,
     "status": "ok",
     "timestamp": 1626109153438,
     "user": {
      "displayName": "Jonathan How",
      "photoUrl": "https://lh3.googleusercontent.com/a-/AOh14GiLNnJYgBpzQQozBm-BaS4zBKlaQEQa39WYawXVaw=s64",
      "userId": "07882044077368082882"
     },
     "user_tz": 240
    },
    "id": "e5gtElKq3ngN",
    "outputId": "97226978-c785-4339-c250-0569e424e6fe"
   },
   "outputs": [
    {
     "data": {
      "image/png": "[encoded data removed]",
      "text/latex": [
       "$\\displaystyle \\frac{0.5 \\cdot \\left(10.0 s^{2} + 64.0 s + 59.0\\right)}{s^{3} + 5.0 s^{2} + 7.0 s + 3.0}$"
      ],
      "text/plain": [
       "    ⎛      2                ⎞\n",
       "0.5⋅⎝10.0⋅s  + 64.0⋅s + 59.0⎠\n",
       "─────────────────────────────\n",
       "   3        2                \n",
       "  s  + 5.0⋅s  + 7.0⋅s + 3.0  "
      ]
     },
     "execution_count": 32,
     "metadata": {},
     "output_type": "execute_result"
    }
   ],
   "source": [
    "eom = Eq(a*(s**2 *X(s) -s*x0 - v0) + b*(s*X(s)-x0) + c*X(s), d*G)\n",
    "Xofs = solve(eom,X(s)) \n",
    "Xofs[0]"
   ]
  },
  {
   "cell_type": "code",
   "execution_count": 33,
   "metadata": {
    "colab": {
     "base_uri": "https://localhost:8080/",
     "height": 38
    },
    "executionInfo": {
     "elapsed": 393,
     "status": "ok",
     "timestamp": 1626109181590,
     "user": {
      "displayName": "Jonathan How",
      "photoUrl": "https://lh3.googleusercontent.com/a-/AOh14GiLNnJYgBpzQQozBm-BaS4zBKlaQEQa39WYawXVaw=s64",
      "userId": "07882044077368082882"
     },
     "user_tz": 240
    },
    "id": "KgIc4UXw39uY",
    "outputId": "9b0a94de-e6c2-45b9-cc6c-c1df9c19db42"
   },
   "outputs": [
    {
     "data": {
      "image/png": "[encoded data removed]",
      "text/latex": [
       "$\\displaystyle 1.25 t e^{- 1.0 t} \\theta\\left(t\\right) - 5.375 e^{- 3.0 t} \\theta\\left(t\\right) + 10.375 e^{- 1.0 t} \\theta\\left(t\\right)$"
      ],
      "text/plain": [
       "        -1.0⋅t               -3.0⋅t                -1.0⋅t     \n",
       "1.25⋅t⋅ℯ      ⋅θ(t) - 5.375⋅ℯ      ⋅θ(t) + 10.375⋅ℯ      ⋅θ(t)"
      ]
     },
     "execution_count": 33,
     "metadata": {},
     "output_type": "execute_result"
    }
   ],
   "source": [
    "y_soln = expand(inverse_laplace_transform(Xofs[0],s,t))\n",
    "y_soln"
   ]
  },
  {
   "cell_type": "code",
   "execution_count": 34,
   "metadata": {
    "colab": {
     "base_uri": "https://localhost:8080/"
    },
    "executionInfo": {
     "elapsed": 143,
     "status": "ok",
     "timestamp": 1626109266423,
     "user": {
      "displayName": "Jonathan How",
      "photoUrl": "https://lh3.googleusercontent.com/a-/AOh14GiLNnJYgBpzQQozBm-BaS4zBKlaQEQa39WYawXVaw=s64",
      "userId": "07882044077368082882"
     },
     "user_tz": 240
    },
    "id": "sJV0RdzM4G0F",
    "outputId": "8f28cb40-1dd6-420e-c814-3c0a730f4baf"
   },
   "outputs": [
    {
     "name": "stdout",
     "output_type": "stream",
     "text": [
      "y(0+) was 5.00 and is 5.00\n"
     ]
    }
   ],
   "source": [
    "y0_pos = y_soln.subs(t,0+np.finfo(float).eps) \n",
    "print(f'y(0+) was {x0p:.2f} and is {y0_pos:.2f}')"
   ]
  },
  {
   "cell_type": "code",
   "execution_count": 35,
   "metadata": {
    "colab": {
     "base_uri": "https://localhost:8080/"
    },
    "executionInfo": {
     "elapsed": 122,
     "status": "ok",
     "timestamp": 1626109188874,
     "user": {
      "displayName": "Jonathan How",
      "photoUrl": "https://lh3.googleusercontent.com/a-/AOh14GiLNnJYgBpzQQozBm-BaS4zBKlaQEQa39WYawXVaw=s64",
      "userId": "07882044077368082882"
     },
     "user_tz": 240
    },
    "id": "omDO8iRD4Nda",
    "outputId": "a7b37cd0-0db2-4ec1-fad0-aa3ca158c268"
   },
   "outputs": [
    {
     "name": "stdout",
     "output_type": "stream",
     "text": [
      "dy/dt(0+) was 7.00 and is 7.00\n"
     ]
    }
   ],
   "source": [
    "ydot0_pos = y_soln.diff(t).replace(Heaviside(0), 1).subs(t,0).replace(DiracDelta(0), 0)  \n",
    "print(f'dy/dt(0+) was {v0p:.2f} and is {ydot0_pos:.2f}')"
   ]
  },
  {
   "cell_type": "markdown",
   "metadata": {},
   "source": [
    "## Circuit example from class"
   ]
  },
  {
   "cell_type": "code",
   "execution_count": 36,
   "metadata": {},
   "outputs": [
    {
     "data": {
      "image/png": "[encoded data removed]",
      "text/latex": [
       "$\\displaystyle \\frac{0.2}{0.2 s + 1.0} + \\frac{1.0}{s}$"
      ],
      "text/plain": [
       "    0.2       1.0\n",
       "─────────── + ───\n",
       "0.2⋅s + 1.0    s "
      ]
     },
     "execution_count": 36,
     "metadata": {},
     "output_type": "execute_result"
    }
   ],
   "source": [
    "x0 = 2\n",
    "RC = 1/5\n",
    "W = laplace_transform(Heaviside(t,0), t, s, noconds = True)\n",
    "\n",
    "eom = Eq((s*X(s)-x0) + X(s)/RC, W/RC)\n",
    "Xofs = solve(eom,X(s)) \n",
    "Xofs[0].apart()"
   ]
  },
  {
   "cell_type": "code",
   "execution_count": 37,
   "metadata": {},
   "outputs": [
    {
     "data": {
      "image/png": "[encoded data removed]",
      "text/latex": [
       "$\\displaystyle 1.0 \\left(e^{5.0 t} + 1\\right) e^{- 5.0 t} \\theta\\left(t\\right)$"
      ],
      "text/plain": [
       "    ⎛ 5.0⋅t    ⎞  -5.0⋅t     \n",
       "1.0⋅⎝ℯ      + 1⎠⋅ℯ      ⋅θ(t)"
      ]
     },
     "execution_count": 37,
     "metadata": {},
     "output_type": "execute_result"
    }
   ],
   "source": [
    "y_soln = inverse_laplace_transform(Xofs[0],s,t)\n",
    "y_soln"
   ]
  },
  {
   "cell_type": "code",
   "execution_count": 38,
   "metadata": {},
   "outputs": [
    {
     "name": "stdout",
     "output_type": "stream",
     "text": [
      "yy_soln was 2.00 and is 2.00\n"
     ]
    }
   ],
   "source": [
    "y0_pos = y_soln.subs(t,0+np.finfo(float).eps) \n",
    "print(f'yy_soln was {x0:.2f} and is {y0_pos:.2f}')"
   ]
  },
  {
   "cell_type": "markdown",
   "metadata": {
    "tags": []
   },
   "source": [
    "## Example 3 in Rec 6"
   ]
  },
  {
   "cell_type": "code",
   "execution_count": 39,
   "metadata": {},
   "outputs": [
    {
     "data": {
      "image/png": "[encoded data removed]",
      "text/latex": [
       "$\\displaystyle \\frac{e^{- s - 5}}{s + 5}$"
      ],
      "text/plain": [
       " -s - 5\n",
       "ℯ      \n",
       "───────\n",
       " s + 5 "
      ]
     },
     "execution_count": 39,
     "metadata": {},
     "output_type": "execute_result"
    }
   ],
   "source": [
    "X = laplace_transform(sympy.exp(-5*t)*Heaviside(t-1), t, s, noconds = True)\n",
    "X"
   ]
  },
  {
   "cell_type": "markdown",
   "metadata": {},
   "source": [
    "## Example 2 in Rec 6"
   ]
  },
  {
   "cell_type": "code",
   "execution_count": 40,
   "metadata": {},
   "outputs": [
    {
     "data": {
      "image/png": "[encoded data removed]",
      "text/latex": [
       "$\\displaystyle e^{- \\left|{t}\\right|}$"
      ],
      "text/plain": [
       " -│t│\n",
       "ℯ    "
      ]
     },
     "execution_count": 40,
     "metadata": {},
     "output_type": "execute_result"
    }
   ],
   "source": [
    "g = sympy.exp(-1*sympy.Abs(t))\n",
    "g"
   ]
  },
  {
   "cell_type": "code",
   "execution_count": 41,
   "metadata": {},
   "outputs": [
    {
     "data": {
      "image/png": "[encoded data removed]",
      "text/latex": [
       "$\\displaystyle \\frac{1}{s + 1}$"
      ],
      "text/plain": [
       "  1  \n",
       "─────\n",
       "s + 1"
      ]
     },
     "execution_count": 41,
     "metadata": {},
     "output_type": "execute_result"
    }
   ],
   "source": [
    "X = laplace_transform(g, t, s, noconds = True)\n",
    "X"
   ]
  },
  {
   "cell_type": "markdown",
   "metadata": {},
   "source": [
    "## 3rd order systems"
   ]
  },
  {
   "cell_type": "code",
   "execution_count": 42,
   "metadata": {},
   "outputs": [
    {
     "data": {
      "image/png": "[encoded data removed]",
      "text/latex": [
       "$\\displaystyle s^{3} X{\\left(s \\right)} + 6 s^{2} X{\\left(s \\right)} - 5.0 s^{2} + 11 s X{\\left(s \\right)} - 37.0 s + 6 X{\\left(s \\right)} - 106.0 = \\frac{1}{s}$"
      ],
      "text/plain": [
       " 3           2             2                                         1\n",
       "s ⋅X(s) + 6⋅s ⋅X(s) - 5.0⋅s  + 11⋅s⋅X(s) - 37.0⋅s + 6⋅X(s) - 106.0 = ─\n",
       "                                                                     s"
      ]
     },
     "execution_count": 42,
     "metadata": {},
     "output_type": "execute_result"
    }
   ],
   "source": [
    "x, g, X = symbols('x g X', cls = Function)\n",
    "\n",
    "x0 = 5.0 \n",
    "v0 = 7.0\n",
    "a0 = 9.0\n",
    "\n",
    "a = 1\n",
    "b = 6\n",
    "c = 11\n",
    "d = 6\n",
    "W = laplace_transform(Heaviside(t,0), t, s, noconds = True)\n",
    "eom  = Eq(a*(X(s)*s**3 - s**2*x0 - s*v0 - a0) + b*(s**2 *X(s)- s*x0 - v0) + c*(s*X(s) - x0) + d * X(s), W)\n",
    "eom.replace(Heaviside(0), 0)"
   ]
  },
  {
   "cell_type": "code",
   "execution_count": 43,
   "metadata": {},
   "outputs": [
    {
     "data": {
      "image/png": "[encoded data removed]",
      "text/latex": [
       "$\\displaystyle \\frac{5.0 s^{3} + 37.0 s^{2} + 106.0 s + 1.0}{s \\left(s^{3} + 6.0 s^{2} + 11.0 s + 6.0\\right)}$"
      ],
      "text/plain": [
       "     3         2                \n",
       "5.0⋅s  + 37.0⋅s  + 106.0⋅s + 1.0\n",
       "────────────────────────────────\n",
       "   ⎛ 3        2               ⎞ \n",
       " s⋅⎝s  + 6.0⋅s  + 11.0⋅s + 6.0⎠ "
      ]
     },
     "execution_count": 43,
     "metadata": {},
     "output_type": "execute_result"
    }
   ],
   "source": [
    "Xofs = solve(eom,X(s))[0]\n",
    "Xofs"
   ]
  },
  {
   "cell_type": "code",
   "execution_count": 44,
   "metadata": {},
   "outputs": [
    {
     "data": {
      "image/png": "[encoded data removed]",
      "text/latex": [
       "$\\displaystyle \\frac{36.5}{s + 1} - \\frac{25.75}{0.5 s + 1.0} + \\frac{6.61111111111111}{0.333333333333333 s + 1.0} + \\frac{0.166666666666667}{s}$"
      ],
      "text/plain": [
       " 36.5      25.75           6.61111111111111       0.166666666666667\n",
       "───── - ─────────── + ───────────────────────── + ─────────────────\n",
       "s + 1   0.5⋅s + 1.0   0.333333333333333⋅s + 1.0           s        "
      ]
     },
     "execution_count": 44,
     "metadata": {},
     "output_type": "execute_result"
    }
   ],
   "source": [
    "Xofs.apart()"
   ]
  },
  {
   "cell_type": "code",
   "execution_count": 45,
   "metadata": {},
   "outputs": [
    {
     "data": {
      "image/png": "[encoded data removed]",
      "text/latex": [
       "$\\displaystyle s^{3} + 6 s^{2} + 11 s + 6$"
      ],
      "text/plain": [
       " 3      2           \n",
       "s  + 6⋅s  + 11⋅s + 6"
      ]
     },
     "execution_count": 45,
     "metadata": {},
     "output_type": "execute_result"
    }
   ],
   "source": [
    "expand((s+1)*(s+2)*(s+3))"
   ]
  },
  {
   "cell_type": "code",
   "execution_count": 46,
   "metadata": {},
   "outputs": [
    {
     "data": {
      "image/png": "[encoded data removed]",
      "text/latex": [
       "$\\displaystyle \\left(19.8333333333333 e^{3.0 t} - 51.5 e^{4.0 t} + 36.5 e^{5.0 t} + 0.166666666666681 e^{6.0 t}\\right) e^{- 6.0 t} \\theta\\left(t\\right)$"
      ],
      "text/plain": [
       "⎛                  3.0⋅t         4.0⋅t         5.0⋅t                      6.0⋅t⎞  -6.0⋅t     \n",
       "⎝19.8333333333333⋅ℯ      - 51.5⋅ℯ      + 36.5⋅ℯ      + 0.166666666666681⋅ℯ     ⎠⋅ℯ      ⋅θ(t)"
      ]
     },
     "execution_count": 46,
     "metadata": {},
     "output_type": "execute_result"
    }
   ],
   "source": [
    "x_soln = inverse_laplace_transform(Xofs.apart(),s,t)\n",
    "x_soln.simplify()"
   ]
  },
  {
   "cell_type": "code",
   "execution_count": 47,
   "metadata": {},
   "outputs": [
    {
     "data": {
      "image/png": "[encoded data removed]",
      "text/latex": [
       "$\\displaystyle 119.0$"
      ],
      "text/plain": [
       "119.000000000000"
      ]
     },
     "execution_count": 47,
     "metadata": {},
     "output_type": "execute_result"
    }
   ],
   "source": [
    "n,d=fraction(Xofs)\n",
    "6*n.subs(s,-3)/-3/-2/-1"
   ]
  },
  {
   "cell_type": "code",
   "execution_count": 48,
   "metadata": {},
   "outputs": [
    {
     "name": "stdout",
     "output_type": "stream",
     "text": [
      "5.00\n"
     ]
    }
   ],
   "source": [
    "print(f'{x_soln.subs(t,0+np.finfo(float).eps):.2f}')"
   ]
  },
  {
   "cell_type": "code",
   "execution_count": 49,
   "metadata": {},
   "outputs": [
    {
     "name": "stdout",
     "output_type": "stream",
     "text": [
      "7.00\n"
     ]
    }
   ],
   "source": [
    "print(f'{x_soln.diff().subs(t,0+np.finfo(float).eps):.2f}')"
   ]
  },
  {
   "cell_type": "code",
   "execution_count": 50,
   "metadata": {},
   "outputs": [
    {
     "name": "stdout",
     "output_type": "stream",
     "text": [
      "9.00\n"
     ]
    }
   ],
   "source": [
    "print(f'{x_soln.diff().diff().subs(t,0+np.finfo(float).eps):.2f}')"
   ]
  },
  {
   "cell_type": "markdown",
   "metadata": {},
   "source": [
    "## Example 6 in Topic 13"
   ]
  },
  {
   "cell_type": "code",
   "execution_count": 51,
   "metadata": {},
   "outputs": [],
   "source": [
    "x, g, X = symbols('x g X', cls = Function)\n",
    "\n",
    "x0_minus = 0 \n",
    "xdot0_minus = 0\n",
    "\n",
    "a = 2\n",
    "b = 7\n",
    "c = 3\n",
    "d = 1\n",
    "W = laplace_transform(DiracDelta(t), t, s, noconds = True)\n",
    "eom  = Eq(a*(s**2 *X(s)- s*x0_minus - xdot0_minus) + b*(s*X(s) - x0_minus) + c * X(s), d*W)"
   ]
  },
  {
   "cell_type": "code",
   "execution_count": 52,
   "metadata": {},
   "outputs": [
    {
     "data": {
      "image/png": "[encoded data removed]",
      "text/latex": [
       "$\\displaystyle \\frac{1}{2 s^{2} + 7 s + 3}$"
      ],
      "text/plain": [
       "      1       \n",
       "──────────────\n",
       "   2          \n",
       "2⋅s  + 7⋅s + 3"
      ]
     },
     "execution_count": 52,
     "metadata": {},
     "output_type": "execute_result"
    }
   ],
   "source": [
    "Xofs = solve(eom,X(s))[0]\n",
    "Xofs"
   ]
  },
  {
   "cell_type": "code",
   "execution_count": 53,
   "metadata": {},
   "outputs": [
    {
     "data": {
      "image/png": "[encoded data removed]",
      "text/latex": [
       "$\\displaystyle \\frac{2}{5 \\cdot \\left(2 s + 1\\right)} - \\frac{1}{5 \\left(s + 3\\right)}$"
      ],
      "text/plain": [
       "     2            1    \n",
       "─────────── - ─────────\n",
       "5⋅(2⋅s + 1)   5⋅(s + 3)"
      ]
     },
     "execution_count": 53,
     "metadata": {},
     "output_type": "execute_result"
    }
   ],
   "source": [
    "Xofs.apart()"
   ]
  },
  {
   "cell_type": "code",
   "execution_count": 54,
   "metadata": {},
   "outputs": [
    {
     "data": {
      "image/png": "[encoded data removed]",
      "text/latex": [
       "$\\displaystyle \\frac{\\left(e^{\\frac{5 t}{2}} - 1\\right) e^{- 3 t} \\theta\\left(t\\right)}{5}$"
      ],
      "text/plain": [
       "⎛ 5⋅t    ⎞           \n",
       "⎜ ───    ⎟           \n",
       "⎜  2     ⎟  -3⋅t     \n",
       "⎝ℯ    - 1⎠⋅ℯ    ⋅θ(t)\n",
       "─────────────────────\n",
       "          5          "
      ]
     },
     "execution_count": 54,
     "metadata": {},
     "output_type": "execute_result"
    }
   ],
   "source": [
    "x_soln = inverse_laplace_transform(Xofs.apart(),s,t)\n",
    "x_soln.simplify()"
   ]
  },
  {
   "cell_type": "code",
   "execution_count": 55,
   "metadata": {},
   "outputs": [
    {
     "name": "stdout",
     "output_type": "stream",
     "text": [
      "0.00\n"
     ]
    }
   ],
   "source": [
    "print(f'{x_soln.subs(t,0+np.finfo(float).eps):.2f}')"
   ]
  },
  {
   "cell_type": "code",
   "execution_count": 56,
   "metadata": {},
   "outputs": [
    {
     "name": "stdout",
     "output_type": "stream",
     "text": [
      "0.50\n"
     ]
    }
   ],
   "source": [
    "print(f'{x_soln.diff().subs(t,0+np.finfo(float).eps):.2f}')"
   ]
  },
  {
   "cell_type": "markdown",
   "metadata": {},
   "source": [
    "## ODE/Integral"
   ]
  },
  {
   "cell_type": "code",
   "execution_count": 63,
   "metadata": {},
   "outputs": [],
   "source": [
    "eom  = Eq(2*(s*X(s) - 1) + 5*X(s) + 3 * X(s)/s + 4 , 4/(s**2+16))"
   ]
  },
  {
   "cell_type": "code",
   "execution_count": 65,
   "metadata": {},
   "outputs": [
    {
     "data": {
      "image/png": "[encoded data removed]",
      "text/latex": [
       "$\\displaystyle - \\frac{4 \\cdot \\left(29 s - 80\\right)}{1241 \\left(s^{2} + 16\\right)} - \\frac{390}{73 \\cdot \\left(2 s + 3\\right)} + \\frac{30}{17 \\left(s + 1\\right)}$"
      ],
      "text/plain": [
       "  4⋅(29⋅s - 80)        390            30    \n",
       "- ────────────── - ──────────── + ──────────\n",
       "       ⎛ 2     ⎞   73⋅(2⋅s + 3)   17⋅(s + 1)\n",
       "  1241⋅⎝s  + 16⎠                            "
      ]
     },
     "execution_count": 65,
     "metadata": {},
     "output_type": "execute_result"
    }
   ],
   "source": [
    "Xofs = solve(eom,X(s))[0]\n",
    "Xofs.apart()"
   ]
  },
  {
   "cell_type": "code",
   "execution_count": null,
   "metadata": {},
   "outputs": [],
   "source": []
  }
 ],
 "metadata": {
  "colab": {
   "authorship_tag": "ABX9TyOoCLTbcAx1GSa/Nzf0X1nR",
   "collapsed_sections": [],
   "name": "DiffEq_delta_input.ipynb",
   "provenance": []
  },
  "kernelspec": {
   "display_name": "Python 3 (ipykernel)",
   "language": "python",
   "name": "python3"
  },
  "language_info": {
   "codemirror_mode": {
    "name": "ipython",
    "version": 3
   },
   "file_extension": ".py",
   "mimetype": "text/x-python",
   "name": "python",
   "nbconvert_exporter": "python",
   "pygments_lexer": "ipython3",
   "version": "3.8.12"
  },
  "latex_envs": {
   "LaTeX_envs_menu_present": true,
   "autoclose": false,
   "autocomplete": true,
   "bibliofile": "biblio.bib",
   "cite_by": "apalike",
   "current_citInitial": 1,
   "eqLabelWithNumbers": true,
   "eqNumInitial": 1,
   "hotkeys": {
    "equation": "Ctrl-E",
    "itemize": "Ctrl-I"
   },
   "labels_anchors": false,
   "latex_user_defs": false,
   "report_style_numbering": false,
   "user_envs_cfg": false
  }
 },
 "nbformat": 4,
 "nbformat_minor": 4
}

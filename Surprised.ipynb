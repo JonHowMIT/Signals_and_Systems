{
 "cells": [
  {
   "cell_type": "code",
   "execution_count": 2,
   "id": "0f79cf8c",
   "metadata": {},
   "outputs": [
    {
     "name": "stdout",
     "output_type": "stream",
     "text": [
      "Sympy version 1.10.1\n"
     ]
    }
   ],
   "source": [
    "import sympy as sympy\n",
    "from sympy.integrals.transforms import laplace_transform\n",
    "from sympy.integrals.transforms import inverse_laplace_transform\n",
    "from sympy.abc import a, t, x, s, X, g, G\n",
    "print(\"Sympy version \"+sympy.__version__)\n",
    "init_printing(use_unicode=True)\n",
    "a, x, g, X, G = symbols('a x g X G', cls = Function)"
   ]
  },
  {
   "cell_type": "code",
   "execution_count": 11,
   "id": "0ac96440",
   "metadata": {},
   "outputs": [
    {
     "data": {
      "image/png": "[encoded data removed]",
      "text/latex": [
       "$\\displaystyle \\frac{1}{s}$"
      ],
      "text/plain": [
       "1\n",
       "─\n",
       "s"
      ]
     },
     "execution_count": 11,
     "metadata": {},
     "output_type": "execute_result"
    }
   ],
   "source": [
    "g = Heaviside(t)\n",
    "G = laplace_transform(g, t, s, noconds = True)\n",
    "G"
   ]
  },
  {
   "cell_type": "code",
   "execution_count": 12,
   "id": "7f001541",
   "metadata": {},
   "outputs": [
    {
     "data": {
      "image/png": "[encoded data removed]",
      "text/latex": [
       "$\\displaystyle \\frac{2}{s}$"
      ],
      "text/plain": [
       "2\n",
       "─\n",
       "s"
      ]
     },
     "execution_count": 12,
     "metadata": {},
     "output_type": "execute_result"
    }
   ],
   "source": [
    "g = 2*Heaviside(t)\n",
    "G = laplace_transform(g, t, s, noconds = True)\n",
    "G"
   ]
  },
  {
   "cell_type": "code",
   "execution_count": 15,
   "id": "999ed621",
   "metadata": {},
   "outputs": [
    {
     "data": {
      "image/png": "[encoded data removed]",
      "text/latex": [
       "$\\displaystyle \\frac{1}{s + 1}$"
      ],
      "text/plain": [
       "  1  \n",
       "─────\n",
       "s + 1"
      ]
     },
     "execution_count": 15,
     "metadata": {},
     "output_type": "execute_result"
    }
   ],
   "source": [
    "g = sympy.exp(-t)*Heaviside(t)\n",
    "G = laplace_transform(g, t, s, noconds = True) \n",
    "G"
   ]
  },
  {
   "cell_type": "code",
   "execution_count": 16,
   "id": "7aacb4ae",
   "metadata": {},
   "outputs": [
    {
     "data": {
      "image/png": "[encoded data removed]",
      "text/latex": [
       "$\\displaystyle \\frac{1}{s + 1}$"
      ],
      "text/plain": [
       "  1  \n",
       "─────\n",
       "s + 1"
      ]
     },
     "execution_count": 16,
     "metadata": {},
     "output_type": "execute_result"
    }
   ],
   "source": [
    "g = 2*sympy.exp(-t)*Heaviside(t)\n",
    "G = laplace_transform(g, t, s, noconds = True) \n",
    "G"
   ]
  },
  {
   "cell_type": "code",
   "execution_count": 17,
   "id": "4ba6cd24",
   "metadata": {},
   "outputs": [
    {
     "data": {
      "image/png": "[encoded data removed]",
      "text/latex": [
       "$\\displaystyle \\frac{1}{s + 1}$"
      ],
      "text/plain": [
       "  1  \n",
       "─────\n",
       "s + 1"
      ]
     },
     "execution_count": 17,
     "metadata": {},
     "output_type": "execute_result"
    }
   ],
   "source": [
    "g1 = 2*Heaviside(t)\n",
    "g = sympy.exp(-t)*g1\n",
    "G = laplace_transform(g, t, s, noconds = True) \n",
    "G"
   ]
  },
  {
   "cell_type": "code",
   "execution_count": null,
   "id": "45802e09",
   "metadata": {},
   "outputs": [],
   "source": []
  }
 ],
 "metadata": {
  "kernelspec": {
   "display_name": "Python 3 (ipykernel)",
   "language": "python",
   "name": "python3"
  },
  "language_info": {
   "codemirror_mode": {
    "name": "ipython",
    "version": 3
   },
   "file_extension": ".py",
   "mimetype": "text/x-python",
   "name": "python",
   "nbconvert_exporter": "python",
   "pygments_lexer": "ipython3",
   "version": "3.9.9"
  }
 },
 "nbformat": 4,
 "nbformat_minor": 5
}

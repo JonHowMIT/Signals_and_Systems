{
 "cells": [
  {
   "cell_type": "code",
   "execution_count": 1,
   "id": "e046214f",
   "metadata": {},
   "outputs": [
    {
     "name": "stdout",
     "output_type": "stream",
     "text": [
      "Sympy version 1.10.1\n"
     ]
    }
   ],
   "source": [
    "from sympy import *\n",
    "import sympy as sympy\n",
    "from sympy.integrals.transforms import laplace_transform\n",
    "from sympy.integrals.transforms import inverse_laplace_transform\n",
    "from sympy.abc import a, t, x, s, X, g, G\n",
    "print(\"Sympy version \"+sympy.__version__)\n",
    "init_printing(use_unicode=True)\n",
    "#a, x, g, g1, X, G = symbols('a x g g1 X G', cls = Function)\n",
    "#a, x, g, g1, X, G = symbols('a x g g1 X G')"
   ]
  },
  {
   "cell_type": "code",
   "execution_count": 2,
   "id": "04308204",
   "metadata": {},
   "outputs": [
    {
     "data": {
      "image/png": "[encoded data removed]",
      "text/latex": [
       "$\\displaystyle \\frac{1}{s}$"
      ],
      "text/plain": [
       "1\n",
       "─\n",
       "s"
      ]
     },
     "execution_count": 2,
     "metadata": {},
     "output_type": "execute_result"
    }
   ],
   "source": [
    "g = Heaviside(t)\n",
    "G = laplace_transform(g, t, s, noconds = True)\n",
    "G"
   ]
  },
  {
   "cell_type": "code",
   "execution_count": 3,
   "id": "17932db1",
   "metadata": {},
   "outputs": [
    {
     "data": {
      "image/png": "[encoded data removed]",
      "text/latex": [
       "$\\displaystyle \\frac{2}{s}$"
      ],
      "text/plain": [
       "2\n",
       "─\n",
       "s"
      ]
     },
     "execution_count": 3,
     "metadata": {},
     "output_type": "execute_result"
    }
   ],
   "source": [
    "g = 2*Heaviside(t)\n",
    "G = laplace_transform(g, t, s, noconds = True)\n",
    "G"
   ]
  },
  {
   "cell_type": "code",
   "execution_count": 4,
   "id": "ecf1a333",
   "metadata": {},
   "outputs": [
    {
     "data": {
      "image/png": "[encoded data removed]",
      "text/latex": [
       "$\\displaystyle \\frac{1}{s + 1}$"
      ],
      "text/plain": [
       "  1  \n",
       "─────\n",
       "s + 1"
      ]
     },
     "execution_count": 4,
     "metadata": {},
     "output_type": "execute_result"
    }
   ],
   "source": [
    "g = sympy.exp(-t)*Heaviside(t)\n",
    "G = laplace_transform(g, t, s, noconds = True) \n",
    "G"
   ]
  },
  {
   "cell_type": "code",
   "execution_count": 5,
   "id": "fd39c621",
   "metadata": {},
   "outputs": [
    {
     "data": {
      "image/png": "[encoded data removed]",
      "text/latex": [
       "$\\displaystyle \\frac{1}{s + 1}$"
      ],
      "text/plain": [
       "  1  \n",
       "─────\n",
       "s + 1"
      ]
     },
     "execution_count": 5,
     "metadata": {},
     "output_type": "execute_result"
    }
   ],
   "source": [
    "g = 2*sympy.exp(-t)*Heaviside(t)\n",
    "G = laplace_transform(g, t, s, noconds = True) \n",
    "G"
   ]
  },
  {
   "cell_type": "code",
   "execution_count": 6,
   "id": "7cc25ec6",
   "metadata": {},
   "outputs": [
    {
     "data": {
      "image/png": "[encoded data removed]",
      "text/latex": [
       "$\\displaystyle \\frac{1}{s + 1}$"
      ],
      "text/plain": [
       "  1  \n",
       "─────\n",
       "s + 1"
      ]
     },
     "execution_count": 6,
     "metadata": {},
     "output_type": "execute_result"
    }
   ],
   "source": [
    "g1 = 2*Heaviside(t)\n",
    "g = sympy.exp(-t)*g1\n",
    "G = laplace_transform(g, t, s, noconds = True) \n",
    "G"
   ]
  },
  {
   "cell_type": "code",
   "execution_count": 7,
   "id": "3697ddf0",
   "metadata": {},
   "outputs": [
    {
     "name": "stdout",
     "output_type": "stream",
     "text": [
      "1/(s**2 + 1)\n",
      "a/(s**2 + 1)\n",
      "1/(s**2 + 1)\n",
      "a/(s**2 + 1)\n"
     ]
    }
   ],
   "source": [
    "g = a*sympy.sin(t)*Heaviside(t)\n",
    "G0 = laplace_transform(g, t, s, noconds = True) \n",
    "g = a*sympy.sin(t)\n",
    "G1 = laplace_transform(g, t, s, noconds = True) \n",
    "#\n",
    "G2 = laplace_transform(a*sympy.sin(t)*Heaviside(t), t, s, noconds = True) \n",
    "#\n",
    "G3 = laplace_transform(a*sympy.sin(t), t, s, noconds = True) \n",
    "#\n",
    "print(G0)\n",
    "print(G1)\n",
    "print(G2)\n",
    "print(G3)\n"
   ]
  },
  {
   "cell_type": "code",
   "execution_count": null,
   "id": "fdc9e9e9",
   "metadata": {},
   "outputs": [],
   "source": []
  }
 ],
 "metadata": {
  "kernelspec": {
   "display_name": "Python 3 (ipykernel)",
   "language": "python",
   "name": "python3"
  },
  "language_info": {
   "codemirror_mode": {
    "name": "ipython",
    "version": 3
   },
   "file_extension": ".py",
   "mimetype": "text/x-python",
   "name": "python",
   "nbconvert_exporter": "python",
   "pygments_lexer": "ipython3",
   "version": "3.9.9"
  }
 },
 "nbformat": 4,
 "nbformat_minor": 5
}

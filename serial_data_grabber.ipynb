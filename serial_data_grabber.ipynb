{
 "cells": [
  {
   "cell_type": "markdown",
   "id": "83592693-e6b1-442e-b2f2-0814217cd566",
   "metadata": {},
   "source": [
    "# Read Encoder from Motor via Serial"
   ]
  },
  {
   "cell_type": "code",
   "execution_count": 1,
   "id": "550ea69f-27b0-49e4-bd85-48c82e539140",
   "metadata": {},
   "outputs": [],
   "source": [
    "import serial\n",
    "import time\n",
    "import csv\n",
    "import os \n",
    "import numpy as np\n",
    "import matplotlib.pyplot as plt\n",
    "plt.rcParams[\"figure.figsize\"] = (20,8)\n",
    "\n",
    "# use with Motor_PWM_Enc.ino\n",
    "# 0.5 to 6 Hz linear chirp in 10s  N = 100000"
   ]
  },
  {
   "cell_type": "code",
   "execution_count": 2,
   "id": "bda33d65-68c3-4a22-86f3-b9b883778d82",
   "metadata": {},
   "outputs": [],
   "source": [
    "# Initialize \n",
    "t = []\n",
    "RPM = []\n",
    "V1 = []\n",
    "V5 =[]\n",
    "Encoder = []\n",
    "N = 10000"
   ]
  },
  {
   "cell_type": "code",
   "execution_count": 6,
   "id": "74ca0db9-4448-4583-b7f0-b5d6f0aeaeab",
   "metadata": {},
   "outputs": [
    {
     "name": "stdout",
     "output_type": "stream",
     "text": [
      "No data\n"
     ]
    }
   ],
   "source": [
    "import requests\n",
    "\n",
    "# See if Teensy present or load data if that exists\n",
    "try:\n",
    "    ser = serial.Serial('/dev/tty.usbmodem56064601')\n",
    "    ser.flushInput()\n",
    "\n",
    "    # sum will treat Boolean True as a 1, False as a 0\n",
    "    n = sum(os.path.isfile(name) for name in os.listdir('.'))\n",
    "    file_name = \"Encoder_data_%s.cvs\" % n \n",
    "    print(file_name)\n",
    "\n",
    "\n",
    "    for jj in np.arange(N):\n",
    "        ser_byte = ser.readline()\n",
    "        #print(ser_byte)\n",
    "        decoded_bytes = ser_byte.decode('ascii').split(',')\n",
    "        #print(decoded_bytes)\n",
    "        dt = float(decoded_bytes[0])\n",
    "        dRPM = float(decoded_bytes[1])\n",
    "        dV1 = float(decoded_bytes[2])\n",
    "        dV5 = float(decoded_bytes[3])\n",
    "        dEncoder = float(decoded_bytes[4])\n",
    "\n",
    "        t.append(dt)\n",
    "        RPM.append(dRPM)\n",
    "        V1.append(dV1)\n",
    "        V5.append(dV5)\n",
    "        Encoder.append(dEncoder)\n",
    "\n",
    "        with open(file_name, \"a+\", newline='') as file:\n",
    "          writer = csv.writer(file, delimiter=',')\n",
    "          writer.writerow([dt, dRPM, dV1, dV5, dEncoder])\n",
    "\n",
    "        t = np.array(t)\n",
    "        t -= t[0]    \n",
    "\n",
    "except:\n",
    "    try:\n",
    "        url = \"https://github.com/JonHowMIT/Signals_and_Systems/blob/main/Encoder_data_20.cvs\"\n",
    "        with open(url, 'r') as file:\n",
    "            reader = csv.reader(file)   \n",
    "            for row in reader:\n",
    "                t.append(float(row[0]))\n",
    "                RPM.append(float(row[1]))\n",
    "                V1.append(float(row[2]))\n",
    "                V5.append(float(row[3]))\n",
    "                Encoder.append(float(row[4]))\n",
    "        print(\"Loaded recorded data\")\n",
    "        t = np.array(t)\n",
    "        t -= t[0]    \n",
    "    except:\n",
    "        print(\"No data\")"
   ]
  },
  {
   "cell_type": "code",
   "execution_count": null,
   "id": "573edc52-7d18-4601-8b03-59b847fe1cdb",
   "metadata": {},
   "outputs": [],
   "source": [
    "# parts to plot\n",
    "Nlow = 4500\n",
    "Nhigh = N-100 \n",
    "\n",
    "fig, ax = plt.subplots()\n",
    "ax.plot(t[Nlow:Nhigh],RPM[Nlow:Nhigh],'b:',lw=0.25)\n",
    "ax.plot(t[Nlow:Nhigh],V1[Nlow:Nhigh],'r--')\n",
    "ax.plot(t[Nlow:Nhigh],V5[Nlow:Nhigh],'g-')\n",
    "ax.set_xlim(t[Nlow], t[Nhigh])\n",
    "ax.set_ylim(-25, 175)\n",
    "ax.set_xlabel('Time [s]')\n",
    "ax.set_ylabel('Approx RPM')\n",
    "plt.legend(['RPM','filtered 1Hz','filtered 5Hz'])\n",
    "plt.grid()\n",
    "plt.show()\n",
    "fig.savefig('./data/response1.png', dpi=300)\n"
   ]
  },
  {
   "cell_type": "markdown",
   "id": "7241ce75-8fd5-48f9-bb96-cd1e5b746b72",
   "metadata": {},
   "source": [
    "## Plot Raw encoder rate compared to filtered values"
   ]
  },
  {
   "cell_type": "code",
   "execution_count": null,
   "id": "730713f8-9a38-41dc-9d54-25d849e57559",
   "metadata": {},
   "outputs": [],
   "source": [
    "fig, ax = plt.subplots()\n",
    "\n",
    "ax.plot(t,V1,'r--')\n",
    "ax.plot(t,V5,'g-')\n",
    "\n",
    "Nlow = 550\n",
    "Nhigh = 8000\n",
    "ax.set_xlim(t[Nlow], t[Nhigh])\n",
    "\n",
    "#ax.set_ylim(40, 120)\n",
    "plt.legend(['filtered 1Hz','filtered 5Hz'])\n",
    "ax.set_xlabel('Time [s]')\n",
    "plt.grid()\n",
    "plt.show()\n",
    "fig.savefig('./data/response2.png', dpi=300)\n"
   ]
  },
  {
   "cell_type": "code",
   "execution_count": null,
   "id": "af8e3e9d-5b50-4acd-abdd-f62d88ce1069",
   "metadata": {},
   "outputs": [],
   "source": [
    "# Check Encoder\n",
    "fig, ax = plt.subplots()\n",
    "\n",
    "ax.plot(t,Encoder,'b.')\n",
    "\n",
    "Nlow = 750\n",
    "Nhigh = 800\n",
    "#ax.set_ylim(4000, 4400)\n",
    "#ax.set_xlim(t[Nlow], t[Nhigh])\n",
    "ax.set_xlabel('Time [s]')\n",
    "plt.title('Encoder Reading')\n",
    "plt.grid()\n",
    "plt.show()\n",
    "fig.savefig('./data/encoder.png', dpi=300)\n"
   ]
  },
  {
   "cell_type": "code",
   "execution_count": null,
   "id": "a4d08deb-7c20-42cf-8777-0d8f69cd5f38",
   "metadata": {},
   "outputs": [],
   "source": [
    "# check timing\n",
    "printtime = 2000e-6 # in teensy code\n",
    "fig, ax = plt.subplots()\n",
    "plt.plot(np.diff(t) - printtime,'x')\n",
    "ax.set_ylabel('Delta Time error')\n",
    "ax.set_xlabel('Time [s]')\n",
    "plt.show()\n",
    "fig.savefig('./data/timing.png', dpi=300)\n"
   ]
  },
  {
   "cell_type": "code",
   "execution_count": null,
   "id": "1b353d52-8743-4e0e-be1e-ec1797adce41",
   "metadata": {},
   "outputs": [],
   "source": []
  },
  {
   "cell_type": "code",
   "execution_count": null,
   "id": "4c9e9100-bb05-4a1d-b4a2-4b47d2b310da",
   "metadata": {},
   "outputs": [],
   "source": []
  }
 ],
 "metadata": {
  "kernelspec": {
   "display_name": "Python 3 (ipykernel)",
   "language": "python",
   "name": "python3"
  },
  "language_info": {
   "codemirror_mode": {
    "name": "ipython",
    "version": 3
   },
   "file_extension": ".py",
   "mimetype": "text/x-python",
   "name": "python",
   "nbconvert_exporter": "python",
   "pygments_lexer": "ipython3",
   "version": "3.8.13"
  }
 },
 "nbformat": 4,
 "nbformat_minor": 5
}

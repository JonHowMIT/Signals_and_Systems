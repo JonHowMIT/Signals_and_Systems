{
 "cells": [
  {
   "cell_type": "code",
   "execution_count": 1,
   "metadata": {
    "execution": {
     "iopub.execute_input": "2023-10-30T13:51:29.440161Z",
     "iopub.status.busy": "2023-10-30T13:51:29.440019Z",
     "iopub.status.idle": "2023-10-30T13:51:30.982930Z",
     "shell.execute_reply": "2023-10-30T13:51:30.982538Z",
     "shell.execute_reply.started": "2023-10-30T13:51:29.440144Z"
    }
   },
   "outputs": [
    {
     "name": "stdout",
     "output_type": "stream",
     "text": [
      "Running Python: 3.8.17\n",
      "Running Sympy: 1.12rc1\n",
      "Sympy version 1.12rc1\n"
     ]
    }
   ],
   "source": [
    "from os.path import exists\n",
    "file_exists = exists('basic_material.py')\n",
    "\n",
    "if (not file_exists):\n",
    "    !wget -O basic_material.py https://raw.githubusercontent.com/JonHowMIT/Signals_and_Systems/main/basic_material.py\n",
    "%run basic_material\n",
    "\n",
    "try:\n",
    "    import google.colab\n",
    "    IN_COLAB = True\n",
    "    !pip3 install sympy==1.10\n",
    "except:\n",
    "    IN_COLAB = False\n",
    "\n",
    "from icecream import ic\n",
    "\n",
    "from sympy import *\n",
    "from sympy import Abs\n",
    "from sympy.integrals.transforms import laplace_transform\n",
    "from sympy.integrals.transforms import inverse_laplace_transform\n",
    "import sympy as sympy\n",
    "from sympy.abc import a, t, x, s, X, g, G\n",
    "print(\"Sympy version \"+sympy.__version__)\n",
    "init_printing(use_unicode=True)\n",
    "\n",
    "a, x, g, X, G, tau = symbols('a x g X G tau', cls = Function)\n",
    "\n",
    "t0p = 0+np.finfo(float).eps"
   ]
  },
  {
   "cell_type": "markdown",
   "metadata": {},
   "source": [
    "## Circuit example from class"
   ]
  },
  {
   "cell_type": "code",
   "execution_count": 2,
   "metadata": {
    "execution": {
     "iopub.execute_input": "2023-10-30T13:51:30.984586Z",
     "iopub.status.busy": "2023-10-30T13:51:30.984386Z",
     "iopub.status.idle": "2023-10-30T13:51:32.267742Z",
     "shell.execute_reply": "2023-10-30T13:51:32.267201Z",
     "shell.execute_reply.started": "2023-10-30T13:51:30.984570Z"
    }
   },
   "outputs": [
    {
     "data": {
      "image/png": "[encoded data removed]",
      "text/latex": [
       "$\\displaystyle \\frac{0.2}{0.2 s + 1.0} + \\frac{1.0}{s}$"
      ],
      "text/plain": [
       "    0.2       1.0\n",
       "─────────── + ───\n",
       "0.2⋅s + 1.0    s "
      ]
     },
     "execution_count": 2,
     "metadata": {},
     "output_type": "execute_result"
    }
   ],
   "source": [
    "x0 = 2\n",
    "RC = 1/5\n",
    "W = laplace_transform(Heaviside(t,0), t, s, noconds = True)\n",
    "\n",
    "eom = Eq((s*X(s)-x0) + X(s)/RC, W/RC)\n",
    "Xofs = solve(eom,X(s)) \n",
    "Xofs[0].apart()"
   ]
  },
  {
   "cell_type": "code",
   "execution_count": 3,
   "metadata": {
    "execution": {
     "iopub.execute_input": "2023-10-30T13:51:32.268878Z",
     "iopub.status.busy": "2023-10-30T13:51:32.268732Z",
     "iopub.status.idle": "2023-10-30T13:51:32.925474Z",
     "shell.execute_reply": "2023-10-30T13:51:32.924906Z",
     "shell.execute_reply.started": "2023-10-30T13:51:32.268859Z"
    }
   },
   "outputs": [
    {
     "data": {
      "image/png": "[encoded data removed]",
      "text/latex": [
       "$\\displaystyle 1.0 \\theta\\left(t\\right) + 1.0 e^{- 5.0 t} \\theta\\left(t\\right)$"
      ],
      "text/plain": [
       "                -5.0⋅t     \n",
       "1.0⋅θ(t) + 1.0⋅ℯ      ⋅θ(t)"
      ]
     },
     "execution_count": 3,
     "metadata": {},
     "output_type": "execute_result"
    }
   ],
   "source": [
    "y_soln = inverse_laplace_transform(Xofs[0],s,t)\n",
    "y_soln"
   ]
  },
  {
   "cell_type": "code",
   "execution_count": 4,
   "metadata": {
    "execution": {
     "iopub.execute_input": "2023-10-30T13:51:32.927091Z",
     "iopub.status.busy": "2023-10-30T13:51:32.926853Z",
     "iopub.status.idle": "2023-10-30T13:51:32.932633Z",
     "shell.execute_reply": "2023-10-30T13:51:32.932099Z",
     "shell.execute_reply.started": "2023-10-30T13:51:32.927064Z"
    }
   },
   "outputs": [
    {
     "name": "stdout",
     "output_type": "stream",
     "text": [
      "yy_soln was 2.00 and is 2.00\n"
     ]
    }
   ],
   "source": [
    "y0_pos = y_soln.subs(t,t0p) \n",
    "print(f'yy_soln was {x0:.2f} and is {y0_pos:.2f}')"
   ]
  },
  {
   "cell_type": "markdown",
   "metadata": {
    "tags": []
   },
   "source": [
    "## Example 3 in Rec 7"
   ]
  },
  {
   "cell_type": "code",
   "execution_count": 5,
   "metadata": {
    "execution": {
     "iopub.execute_input": "2023-10-30T13:51:32.933701Z",
     "iopub.status.busy": "2023-10-30T13:51:32.933491Z",
     "iopub.status.idle": "2023-10-30T13:51:33.646080Z",
     "shell.execute_reply": "2023-10-30T13:51:33.645527Z",
     "shell.execute_reply.started": "2023-10-30T13:51:32.933687Z"
    }
   },
   "outputs": [
    {
     "data": {
      "image/png": "[encoded data removed]",
      "text/latex": [
       "$\\displaystyle \\frac{e^{- s}}{\\left(s + 5\\right) e^{5}}$"
      ],
      "text/plain": [
       " -5  -s\n",
       "ℯ  ⋅ℯ  \n",
       "───────\n",
       " s + 5 "
      ]
     },
     "execution_count": 5,
     "metadata": {},
     "output_type": "execute_result"
    }
   ],
   "source": [
    "X = laplace_transform(sympy.exp(-5*t)*Heaviside(t-1), t, s, noconds = True)\n",
    "X"
   ]
  },
  {
   "cell_type": "markdown",
   "metadata": {},
   "source": [
    "## Example 2 in Rec 7"
   ]
  },
  {
   "cell_type": "code",
   "execution_count": 6,
   "metadata": {
    "execution": {
     "iopub.execute_input": "2023-10-30T13:51:33.647396Z",
     "iopub.status.busy": "2023-10-30T13:51:33.647158Z",
     "iopub.status.idle": "2023-10-30T13:51:34.285391Z",
     "shell.execute_reply": "2023-10-30T13:51:34.284791Z",
     "shell.execute_reply.started": "2023-10-30T13:51:33.647377Z"
    }
   },
   "outputs": [
    {
     "data": {
      "image/png": "[encoded data removed]",
      "text/latex": [
       "$\\displaystyle e^{- \\left|{t}\\right|}$"
      ],
      "text/plain": [
       " -│t│\n",
       "ℯ    "
      ]
     },
     "execution_count": 6,
     "metadata": {},
     "output_type": "execute_result"
    }
   ],
   "source": [
    "g = sympy.exp(-1*sympy.Abs(t))\n",
    "g"
   ]
  },
  {
   "cell_type": "code",
   "execution_count": 7,
   "metadata": {
    "execution": {
     "iopub.execute_input": "2023-10-30T13:51:34.288293Z",
     "iopub.status.busy": "2023-10-30T13:51:34.288150Z",
     "iopub.status.idle": "2023-10-30T13:51:35.351727Z",
     "shell.execute_reply": "2023-10-30T13:51:35.351035Z",
     "shell.execute_reply.started": "2023-10-30T13:51:34.288276Z"
    }
   },
   "outputs": [
    {
     "data": {
      "image/png": "[encoded data removed]",
      "text/latex": [
       "$\\displaystyle \\frac{1}{s + 1}$"
      ],
      "text/plain": [
       "  1  \n",
       "─────\n",
       "s + 1"
      ]
     },
     "execution_count": 7,
     "metadata": {},
     "output_type": "execute_result"
    }
   ],
   "source": [
    "X = laplace_transform(g, t, s, noconds = True)\n",
    "X"
   ]
  },
  {
   "cell_type": "markdown",
   "metadata": {},
   "source": [
    "## 3rd order systems"
   ]
  },
  {
   "cell_type": "code",
   "execution_count": 8,
   "metadata": {
    "execution": {
     "iopub.execute_input": "2023-10-30T13:51:35.353105Z",
     "iopub.status.busy": "2023-10-30T13:51:35.352919Z",
     "iopub.status.idle": "2023-10-30T13:51:36.036123Z",
     "shell.execute_reply": "2023-10-30T13:51:36.035505Z",
     "shell.execute_reply.started": "2023-10-30T13:51:35.353082Z"
    }
   },
   "outputs": [
    {
     "data": {
      "image/png": "[encoded data removed]",
      "text/latex": [
       "$\\displaystyle s^{3} X{\\left(s \\right)} + 6 s^{2} X{\\left(s \\right)} - 5.0 s^{2} + 11 s X{\\left(s \\right)} - 37.0 s + 6 X{\\left(s \\right)} - 106.0 = \\frac{1}{s}$"
      ],
      "text/plain": [
       " 3           2             2                                         1\n",
       "s ⋅X(s) + 6⋅s ⋅X(s) - 5.0⋅s  + 11⋅s⋅X(s) - 37.0⋅s + 6⋅X(s) - 106.0 = ─\n",
       "                                                                     s"
      ]
     },
     "execution_count": 8,
     "metadata": {},
     "output_type": "execute_result"
    }
   ],
   "source": [
    "x, g, X = symbols('x g X', cls = Function)\n",
    "\n",
    "x0 = 5.0 \n",
    "v0 = 7.0\n",
    "a0 = 9.0\n",
    "\n",
    "a = 1\n",
    "b = 6\n",
    "c = 11\n",
    "d = 6\n",
    "W = laplace_transform(Heaviside(t,0), t, s, noconds = True)\n",
    "eom  = Eq(a*(X(s)*s**3 - s**2*x0 - s*v0 - a0) + b*(s**2 *X(s)- s*x0 - v0) + c*(s*X(s) - x0) + d * X(s), W)\n",
    "eom.replace(Heaviside(0), 0)"
   ]
  },
  {
   "cell_type": "code",
   "execution_count": 9,
   "metadata": {
    "execution": {
     "iopub.execute_input": "2023-10-30T13:51:36.037498Z",
     "iopub.status.busy": "2023-10-30T13:51:36.037329Z",
     "iopub.status.idle": "2023-10-30T13:51:36.750741Z",
     "shell.execute_reply": "2023-10-30T13:51:36.750199Z",
     "shell.execute_reply.started": "2023-10-30T13:51:36.037476Z"
    }
   },
   "outputs": [
    {
     "data": {
      "image/png": "[encoded data removed]",
      "text/latex": [
       "$\\displaystyle \\frac{5.0 s^{3} + 37.0 s^{2} + 106.0 s + 1.0}{s \\left(s^{3} + 6.0 s^{2} + 11.0 s + 6.0\\right)}$"
      ],
      "text/plain": [
       "     3         2                \n",
       "5.0⋅s  + 37.0⋅s  + 106.0⋅s + 1.0\n",
       "────────────────────────────────\n",
       "   ⎛ 3        2               ⎞ \n",
       " s⋅⎝s  + 6.0⋅s  + 11.0⋅s + 6.0⎠ "
      ]
     },
     "execution_count": 9,
     "metadata": {},
     "output_type": "execute_result"
    }
   ],
   "source": [
    "Xofs = solve(eom,X(s))[0]\n",
    "Xofs"
   ]
  },
  {
   "cell_type": "code",
   "execution_count": 10,
   "metadata": {
    "execution": {
     "iopub.execute_input": "2023-10-30T13:51:36.752173Z",
     "iopub.status.busy": "2023-10-30T13:51:36.751977Z",
     "iopub.status.idle": "2023-10-30T13:51:37.427200Z",
     "shell.execute_reply": "2023-10-30T13:51:37.426530Z",
     "shell.execute_reply.started": "2023-10-30T13:51:36.752153Z"
    }
   },
   "outputs": [
    {
     "data": {
      "image/png": "[encoded data removed]",
      "text/latex": [
       "$\\displaystyle \\frac{36.5}{s + 1} - \\frac{25.75}{0.5 s + 1.0} + \\frac{6.61111111111111}{0.333333333333333 s + 1.0} + \\frac{0.166666666666667}{s}$"
      ],
      "text/plain": [
       " 36.5      25.75           6.61111111111111       0.166666666666667\n",
       "───── - ─────────── + ───────────────────────── + ─────────────────\n",
       "s + 1   0.5⋅s + 1.0   0.333333333333333⋅s + 1.0           s        "
      ]
     },
     "execution_count": 10,
     "metadata": {},
     "output_type": "execute_result"
    }
   ],
   "source": [
    "Xofs.apart()"
   ]
  },
  {
   "cell_type": "code",
   "execution_count": 11,
   "metadata": {
    "execution": {
     "iopub.execute_input": "2023-10-30T13:51:37.428481Z",
     "iopub.status.busy": "2023-10-30T13:51:37.428316Z",
     "iopub.status.idle": "2023-10-30T13:51:38.065977Z",
     "shell.execute_reply": "2023-10-30T13:51:38.065477Z",
     "shell.execute_reply.started": "2023-10-30T13:51:37.428461Z"
    }
   },
   "outputs": [
    {
     "data": {
      "image/png": "[encoded data removed]",
      "text/latex": [
       "$\\displaystyle s^{3} + 6 s^{2} + 11 s + 6$"
      ],
      "text/plain": [
       " 3      2           \n",
       "s  + 6⋅s  + 11⋅s + 6"
      ]
     },
     "execution_count": 11,
     "metadata": {},
     "output_type": "execute_result"
    }
   ],
   "source": [
    "expand((s+1)*(s+2)*(s+3))"
   ]
  },
  {
   "cell_type": "code",
   "execution_count": 12,
   "metadata": {
    "execution": {
     "iopub.execute_input": "2023-10-30T13:51:38.067323Z",
     "iopub.status.busy": "2023-10-30T13:51:38.066949Z",
     "iopub.status.idle": "2023-10-30T13:51:38.888674Z",
     "shell.execute_reply": "2023-10-30T13:51:38.888157Z",
     "shell.execute_reply.started": "2023-10-30T13:51:38.067300Z"
    }
   },
   "outputs": [
    {
     "data": {
      "image/png": "[encoded data removed]",
      "text/latex": [
       "$\\displaystyle \\left(19.8333333333333 e^{3.0 t} - 51.5 e^{4.0 t} + 36.5 e^{5.0 t} + 0.166666666666667 e^{6.0 t}\\right) e^{- 6.0 t} \\theta\\left(t\\right)$"
      ],
      "text/plain": [
       "⎛                  3.0⋅t         4.0⋅t         5.0⋅t                      6.0⋅t⎞  -6.0⋅t     \n",
       "⎝19.8333333333333⋅ℯ      - 51.5⋅ℯ      + 36.5⋅ℯ      + 0.166666666666667⋅ℯ     ⎠⋅ℯ      ⋅θ(t)"
      ]
     },
     "execution_count": 12,
     "metadata": {},
     "output_type": "execute_result"
    }
   ],
   "source": [
    "x_soln = inverse_laplace_transform(Xofs.apart(),s,t)\n",
    "x_soln.simplify()"
   ]
  },
  {
   "cell_type": "code",
   "execution_count": 13,
   "metadata": {
    "execution": {
     "iopub.execute_input": "2023-10-30T13:51:38.889979Z",
     "iopub.status.busy": "2023-10-30T13:51:38.889707Z",
     "iopub.status.idle": "2023-10-30T13:51:39.490143Z",
     "shell.execute_reply": "2023-10-30T13:51:39.489584Z",
     "shell.execute_reply.started": "2023-10-30T13:51:38.889959Z"
    }
   },
   "outputs": [
    {
     "data": {
      "image/png": "[encoded data removed]",
      "text/latex": [
       "$\\displaystyle 119.0$"
      ],
      "text/plain": [
       "119.000000000000"
      ]
     },
     "execution_count": 13,
     "metadata": {},
     "output_type": "execute_result"
    }
   ],
   "source": [
    "n,d=fraction(Xofs)\n",
    "6*n.subs(s,-3)/-3/-2/-1"
   ]
  },
  {
   "cell_type": "code",
   "execution_count": 14,
   "metadata": {
    "execution": {
     "iopub.execute_input": "2023-10-30T13:51:39.491495Z",
     "iopub.status.busy": "2023-10-30T13:51:39.491200Z",
     "iopub.status.idle": "2023-10-30T13:51:39.497523Z",
     "shell.execute_reply": "2023-10-30T13:51:39.497147Z",
     "shell.execute_reply.started": "2023-10-30T13:51:39.491473Z"
    }
   },
   "outputs": [
    {
     "name": "stdout",
     "output_type": "stream",
     "text": [
      "5.00\n"
     ]
    }
   ],
   "source": [
    "print(f'{x_soln.subs(t,t0p):.2f}')"
   ]
  },
  {
   "cell_type": "code",
   "execution_count": 15,
   "metadata": {
    "execution": {
     "iopub.execute_input": "2023-10-30T13:51:39.498367Z",
     "iopub.status.busy": "2023-10-30T13:51:39.498210Z",
     "iopub.status.idle": "2023-10-30T13:51:39.517648Z",
     "shell.execute_reply": "2023-10-30T13:51:39.517257Z",
     "shell.execute_reply.started": "2023-10-30T13:51:39.498352Z"
    }
   },
   "outputs": [
    {
     "name": "stdout",
     "output_type": "stream",
     "text": [
      "7.00\n"
     ]
    }
   ],
   "source": [
    "print(f'{x_soln.diff().subs(t,t0p):.2f}')"
   ]
  },
  {
   "cell_type": "code",
   "execution_count": 16,
   "metadata": {
    "execution": {
     "iopub.execute_input": "2023-10-30T13:51:39.518546Z",
     "iopub.status.busy": "2023-10-30T13:51:39.518373Z",
     "iopub.status.idle": "2023-10-30T13:51:39.547529Z",
     "shell.execute_reply": "2023-10-30T13:51:39.547042Z",
     "shell.execute_reply.started": "2023-10-30T13:51:39.518531Z"
    }
   },
   "outputs": [
    {
     "name": "stdout",
     "output_type": "stream",
     "text": [
      "9.00\n"
     ]
    }
   ],
   "source": [
    "print(f'{x_soln.diff().diff().subs(t,t0p):.2f}')"
   ]
  },
  {
   "cell_type": "markdown",
   "metadata": {},
   "source": [
    "## Example 6 in Topic 13"
   ]
  },
  {
   "cell_type": "code",
   "execution_count": 17,
   "metadata": {
    "execution": {
     "iopub.execute_input": "2023-10-30T13:51:39.548686Z",
     "iopub.status.busy": "2023-10-30T13:51:39.548436Z",
     "iopub.status.idle": "2023-10-30T13:51:39.560498Z",
     "shell.execute_reply": "2023-10-30T13:51:39.560011Z",
     "shell.execute_reply.started": "2023-10-30T13:51:39.548666Z"
    }
   },
   "outputs": [],
   "source": [
    "x, g, X = symbols('x g X', cls = Function)\n",
    "\n",
    "x0_minus = 0 \n",
    "xdot0_minus = 0\n",
    "\n",
    "a = 2\n",
    "b = 7\n",
    "c = 3\n",
    "d = 1\n",
    "W = laplace_transform(DiracDelta(t), t, s, noconds = True)\n",
    "eom  = Eq(a*(s**2 *X(s)- s*x0_minus - xdot0_minus) + b*(s*X(s) - x0_minus) + c * X(s), d*W)"
   ]
  },
  {
   "cell_type": "code",
   "execution_count": 18,
   "metadata": {
    "execution": {
     "iopub.execute_input": "2023-10-30T13:51:39.561259Z",
     "iopub.status.busy": "2023-10-30T13:51:39.561129Z",
     "iopub.status.idle": "2023-10-30T13:51:40.183539Z",
     "shell.execute_reply": "2023-10-30T13:51:40.182984Z",
     "shell.execute_reply.started": "2023-10-30T13:51:39.561245Z"
    }
   },
   "outputs": [
    {
     "data": {
      "image/png": "[encoded data removed]",
      "text/latex": [
       "$\\displaystyle \\frac{1}{2 s^{2} + 7 s + 3}$"
      ],
      "text/plain": [
       "      1       \n",
       "──────────────\n",
       "   2          \n",
       "2⋅s  + 7⋅s + 3"
      ]
     },
     "execution_count": 18,
     "metadata": {},
     "output_type": "execute_result"
    }
   ],
   "source": [
    "Xofs = solve(eom,X(s))[0]\n",
    "Xofs"
   ]
  },
  {
   "cell_type": "code",
   "execution_count": 19,
   "metadata": {
    "execution": {
     "iopub.execute_input": "2023-10-30T13:51:40.184843Z",
     "iopub.status.busy": "2023-10-30T13:51:40.184569Z",
     "iopub.status.idle": "2023-10-30T13:51:40.854344Z",
     "shell.execute_reply": "2023-10-30T13:51:40.853608Z",
     "shell.execute_reply.started": "2023-10-30T13:51:40.184824Z"
    }
   },
   "outputs": [
    {
     "data": {
      "image/png": "[encoded data removed]",
      "text/latex": [
       "$\\displaystyle \\frac{2}{5 \\cdot \\left(2 s + 1\\right)} - \\frac{1}{5 \\left(s + 3\\right)}$"
      ],
      "text/plain": [
       "     2            1    \n",
       "─────────── - ─────────\n",
       "5⋅(2⋅s + 1)   5⋅(s + 3)"
      ]
     },
     "execution_count": 19,
     "metadata": {},
     "output_type": "execute_result"
    }
   ],
   "source": [
    "Xofs.apart()"
   ]
  },
  {
   "cell_type": "code",
   "execution_count": 20,
   "metadata": {
    "execution": {
     "iopub.execute_input": "2023-10-30T13:51:40.855575Z",
     "iopub.status.busy": "2023-10-30T13:51:40.855409Z",
     "iopub.status.idle": "2023-10-30T13:51:41.565145Z",
     "shell.execute_reply": "2023-10-30T13:51:41.564638Z",
     "shell.execute_reply.started": "2023-10-30T13:51:40.855552Z"
    }
   },
   "outputs": [
    {
     "data": {
      "image/png": "[encoded data removed]",
      "text/latex": [
       "$\\displaystyle \\frac{\\left(e^{\\frac{5 t}{2}} - 1\\right) e^{- 3 t} \\theta\\left(t\\right)}{5}$"
      ],
      "text/plain": [
       "⎛ 5⋅t    ⎞           \n",
       "⎜ ───    ⎟           \n",
       "⎜  2     ⎟  -3⋅t     \n",
       "⎝ℯ    - 1⎠⋅ℯ    ⋅θ(t)\n",
       "─────────────────────\n",
       "          5          "
      ]
     },
     "execution_count": 20,
     "metadata": {},
     "output_type": "execute_result"
    }
   ],
   "source": [
    "x_soln = inverse_laplace_transform(Xofs.apart(),s,t)\n",
    "x_soln.simplify()"
   ]
  },
  {
   "cell_type": "code",
   "execution_count": 21,
   "metadata": {
    "execution": {
     "iopub.execute_input": "2023-10-30T13:51:41.566431Z",
     "iopub.status.busy": "2023-10-30T13:51:41.566148Z",
     "iopub.status.idle": "2023-10-30T13:51:41.571131Z",
     "shell.execute_reply": "2023-10-30T13:51:41.570780Z",
     "shell.execute_reply.started": "2023-10-30T13:51:41.566408Z"
    }
   },
   "outputs": [
    {
     "name": "stdout",
     "output_type": "stream",
     "text": [
      "0.00\n"
     ]
    }
   ],
   "source": [
    "print(f'{x_soln.subs(t,t0p):.2f}')"
   ]
  },
  {
   "cell_type": "code",
   "execution_count": 22,
   "metadata": {
    "execution": {
     "iopub.execute_input": "2023-10-30T13:51:41.575099Z",
     "iopub.status.busy": "2023-10-30T13:51:41.574945Z",
     "iopub.status.idle": "2023-10-30T13:51:41.587369Z",
     "shell.execute_reply": "2023-10-30T13:51:41.586998Z",
     "shell.execute_reply.started": "2023-10-30T13:51:41.575085Z"
    }
   },
   "outputs": [
    {
     "name": "stdout",
     "output_type": "stream",
     "text": [
      "0.50\n"
     ]
    }
   ],
   "source": [
    "print(f'{x_soln.diff().subs(t,t0p):.2f}')"
   ]
  },
  {
   "cell_type": "markdown",
   "metadata": {},
   "source": [
    "## ODE/Integral"
   ]
  },
  {
   "cell_type": "code",
   "execution_count": 23,
   "metadata": {
    "execution": {
     "iopub.execute_input": "2023-10-30T13:51:41.587997Z",
     "iopub.status.busy": "2023-10-30T13:51:41.587874Z",
     "iopub.status.idle": "2023-10-30T13:51:41.600667Z",
     "shell.execute_reply": "2023-10-30T13:51:41.600063Z",
     "shell.execute_reply.started": "2023-10-30T13:51:41.587984Z"
    }
   },
   "outputs": [],
   "source": [
    "eom  = Eq(2*(s*X(s) - 1) + 5*X(s) + 3 * X(s)/s + 4 , 4/(s**2+16))"
   ]
  },
  {
   "cell_type": "code",
   "execution_count": 24,
   "metadata": {
    "execution": {
     "iopub.execute_input": "2023-10-30T13:51:41.602061Z",
     "iopub.status.busy": "2023-10-30T13:51:41.601511Z",
     "iopub.status.idle": "2023-10-30T13:51:42.287893Z",
     "shell.execute_reply": "2023-10-30T13:51:42.287372Z",
     "shell.execute_reply.started": "2023-10-30T13:51:41.602040Z"
    }
   },
   "outputs": [
    {
     "data": {
      "image/png": "[encoded data removed]",
      "text/latex": [
       "$\\displaystyle - \\frac{4 \\cdot \\left(29 s - 80\\right)}{1241 \\left(s^{2} + 16\\right)} - \\frac{390}{73 \\cdot \\left(2 s + 3\\right)} + \\frac{30}{17 \\left(s + 1\\right)}$"
      ],
      "text/plain": [
       "  4⋅(29⋅s - 80)        390            30    \n",
       "- ────────────── - ──────────── + ──────────\n",
       "       ⎛ 2     ⎞   73⋅(2⋅s + 3)   17⋅(s + 1)\n",
       "  1241⋅⎝s  + 16⎠                            "
      ]
     },
     "execution_count": 24,
     "metadata": {},
     "output_type": "execute_result"
    }
   ],
   "source": [
    "Xofs = solve(eom,X(s))[0]\n",
    "Xofs.apart()"
   ]
  },
  {
   "cell_type": "code",
   "execution_count": null,
   "metadata": {},
   "outputs": [],
   "source": []
  }
 ],
 "metadata": {
  "colab": {
   "authorship_tag": "ABX9TyOoCLTbcAx1GSa/Nzf0X1nR",
   "collapsed_sections": [],
   "name": "DiffEq_delta_input.ipynb",
   "provenance": []
  },
  "kernelspec": {
   "display_name": "Python (38)",
   "language": "python",
   "name": "python3"
  },
  "language_info": {
   "codemirror_mode": {
    "name": "ipython",
    "version": 3
   },
   "file_extension": ".py",
   "mimetype": "text/x-python",
   "name": "python",
   "nbconvert_exporter": "python",
   "pygments_lexer": "ipython3",
   "version": "3.8.17"
  },
  "latex_envs": {
   "LaTeX_envs_menu_present": true,
   "autoclose": false,
   "autocomplete": true,
   "bibliofile": "biblio.bib",
   "cite_by": "apalike",
   "current_citInitial": 1,
   "eqLabelWithNumbers": true,
   "eqNumInitial": 1,
   "hotkeys": {
    "equation": "Ctrl-E",
    "itemize": "Ctrl-I"
   },
   "labels_anchors": false,
   "latex_user_defs": false,
   "report_style_numbering": false,
   "user_envs_cfg": false
  }
 },
 "nbformat": 4,
 "nbformat_minor": 4
}

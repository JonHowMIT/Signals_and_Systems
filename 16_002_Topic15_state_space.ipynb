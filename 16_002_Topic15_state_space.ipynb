{
 "cells": [
  {
   "cell_type": "markdown",
   "id": "b1c80a95",
   "metadata": {},
   "source": [
    "# Conversions"
   ]
  },
  {
   "cell_type": "markdown",
   "id": "a595b1c3",
   "metadata": {},
   "source": [
    "## TF2SS"
   ]
  },
  {
   "cell_type": "code",
   "execution_count": 1,
   "id": "f3062376",
   "metadata": {},
   "outputs": [
    {
     "name": "stdout",
     "output_type": "stream",
     "text": [
      "sympy version 1.9\n"
     ]
    }
   ],
   "source": [
    "import numpy as np\n",
    "import sympy \n",
    "sympy.init_printing()\n",
    "print('sympy version '+sympy.__version__)\n",
    "\n",
    "s = sympy.Symbol('s')\n",
    "\n",
    "from control.matlab import *"
   ]
  },
  {
   "cell_type": "code",
   "execution_count": 2,
   "id": "4b1b882e",
   "metadata": {},
   "outputs": [
    {
     "data": {
      "text/latex": [
       "$$\\frac{4}{s^3 + 2 s^2 + 3 s + 4}$$"
      ],
      "text/plain": [
       "TransferFunction(array([4]), array([1, 2, 3, 4]))"
      ]
     },
     "execution_count": 2,
     "metadata": {},
     "output_type": "execute_result"
    }
   ],
   "source": [
    "# Second approach\n",
    "s = tf('s')\n",
    "P = 4/(s**3 + 2*s**2 + 3*s + 4)\n",
    "P"
   ]
  },
  {
   "cell_type": "code",
   "execution_count": 3,
   "id": "4db0c70d",
   "metadata": {},
   "outputs": [
    {
     "name": "stdout",
     "output_type": "stream",
     "text": [
      "A =  [[-2. -3. -4.]\n",
      " [ 1.  0.  0.]\n",
      " [ 0.  1.  0.]]\n",
      "B =  [[1.]\n",
      " [0.]\n",
      " [0.]]\n",
      "C =  [[0. 0. 4.]]\n",
      "D =  [[0.]]\n"
     ]
    }
   ],
   "source": [
    "sys = tf2ss(P)\n",
    "print('A = ',sys.A)\n",
    "print('B = ',sys.B)\n",
    "print('C = ',sys.C)\n",
    "print('D = ',sys.D)"
   ]
  },
  {
   "cell_type": "markdown",
   "id": "522baec0",
   "metadata": {},
   "source": [
    "## SS2TF"
   ]
  },
  {
   "cell_type": "code",
   "execution_count": 4,
   "id": "d186a4f0",
   "metadata": {},
   "outputs": [
    {
     "data": {
      "text/latex": [
       "$$\\frac{6.661 \\times 10^{-16} s^2 - 2.22 \\times 10^{-15} s + 4}{s^3 + 2 s^2 + 3 s + 4}$$"
      ],
      "text/plain": [
       "TransferFunction(array([ 6.66133815e-16, -2.22044605e-15,  4.00000000e+00]), array([1., 2., 3., 4.]))"
      ]
     },
     "execution_count": 4,
     "metadata": {},
     "output_type": "execute_result"
    }
   ],
   "source": [
    "PP = ss2tf(sys)\n",
    "PP"
   ]
  },
  {
   "cell_type": "code",
   "execution_count": 5,
   "id": "841c8f7e",
   "metadata": {},
   "outputs": [
    {
     "data": {
      "text/latex": [
       "$$\\frac{ + 4}{s^3 + 2 s^2 + 3 s + 4}$$"
      ],
      "text/plain": [
       "TransferFunction(array([0., 0., 4.]), array([1., 2., 3., 4.]))"
      ]
     },
     "execution_count": 5,
     "metadata": {},
     "output_type": "execute_result"
    }
   ],
   "source": [
    "for ii in range(len(PP.num[0][0][:])):\n",
    "    if PP.num[0][0][ii] < 1e-12:\n",
    "        PP.num[0][0][ii] = 0\n",
    "PP"
   ]
  }
 ],
 "metadata": {
  "kernelspec": {
   "display_name": "myenv",
   "language": "python",
   "name": "myenv"
  },
  "language_info": {
   "codemirror_mode": {
    "name": "ipython",
    "version": 3
   },
   "file_extension": ".py",
   "mimetype": "text/x-python",
   "name": "python",
   "nbconvert_exporter": "python",
   "pygments_lexer": "ipython3",
   "version": "3.9.9"
  }
 },
 "nbformat": 4,
 "nbformat_minor": 5
}

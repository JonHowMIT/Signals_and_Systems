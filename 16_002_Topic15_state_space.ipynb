{
 "cells": [
  {
   "cell_type": "markdown",
   "id": "84de4f73-62eb-43ab-b864-5a64a8e57a99",
   "metadata": {},
   "source": [
    "# Conversions"
   ]
  },
  {
   "cell_type": "markdown",
   "id": "df9f9d80-8ce1-401a-ac78-b0109a199906",
   "metadata": {},
   "source": [
    "## TF2SS"
   ]
  },
  {
   "cell_type": "code",
   "execution_count": 1,
   "id": "e9823c06-f6b5-4ec3-b26e-d7c559c532db",
   "metadata": {},
   "outputs": [
    {
     "name": "stdout",
     "output_type": "stream",
     "text": [
      "sympy version 1.9\n"
     ]
    }
   ],
   "source": [
    "import numpy as np\n",
    "import sympy \n",
    "sympy.init_printing()\n",
    "print('sympy version '+sympy.__version__)\n",
    "\n",
    "s = sympy.Symbol('s')\n",
    "\n",
    "from control.matlab import *"
   ]
  },
  {
   "cell_type": "code",
   "execution_count": 2,
   "id": "9c37c1bd-dcd0-4919-ae89-5119d4fdd84f",
   "metadata": {},
   "outputs": [
    {
     "data": {
      "text/latex": [
       "$$\\frac{4}{s^3 + 2 s^2 + 3 s + 4}$$"
      ],
      "text/plain": [
       "TransferFunction(array([4]), array([1, 2, 3, 4]))"
      ]
     },
     "execution_count": 2,
     "metadata": {},
     "output_type": "execute_result"
    }
   ],
   "source": [
    "# Second approach\n",
    "s = tf('s')\n",
    "P = 4/(s**3 + 2*s**2 + 3*s + 4)\n",
    "P"
   ]
  },
  {
   "cell_type": "code",
   "execution_count": 3,
   "id": "5f1e3327-69d6-4237-b641-b17540a139a6",
   "metadata": {},
   "outputs": [
    {
     "name": "stdout",
     "output_type": "stream",
     "text": [
      "A =  [[-2. -3. -4.]\n",
      " [ 1.  0.  0.]\n",
      " [ 0.  1.  0.]]\n",
      "B =  [[1.]\n",
      " [0.]\n",
      " [0.]]\n",
      "C =  [[0. 0. 4.]]\n",
      "D =  [[0.]]\n"
     ]
    }
   ],
   "source": [
    "sys = tf2ss(P)\n",
    "print('A = ',sys.A)\n",
    "print('B = ',sys.B)\n",
    "print('C = ',sys.C)\n",
    "print('D = ',sys.D)"
   ]
  },
  {
   "cell_type": "markdown",
   "id": "ca066aa2-506d-4ebe-97c2-bf041724b7dc",
   "metadata": {},
   "source": [
    "## SS2TF"
   ]
  },
  {
   "cell_type": "code",
   "execution_count": 4,
   "id": "332da1ef-c9b6-436e-b745-4c6737e8c5a1",
   "metadata": {},
   "outputs": [
    {
     "data": {
      "text/latex": [
       "$$\\frac{6.661 \\times 10^{-16} s^2 - 2.22 \\times 10^{-15} s + 4}{s^3 + 2 s^2 + 3 s + 4}$$"
      ],
      "text/plain": [
       "TransferFunction(array([ 6.66133815e-16, -2.22044605e-15,  4.00000000e+00]), array([1., 2., 3., 4.]))"
      ]
     },
     "execution_count": 4,
     "metadata": {},
     "output_type": "execute_result"
    }
   ],
   "source": [
    "PP = ss2tf(sys)\n",
    "PP"
   ]
  },
  {
   "cell_type": "code",
   "execution_count": 5,
   "id": "7578baf7-26db-4533-89c4-2369f1450eec",
   "metadata": {},
   "outputs": [
    {
     "data": {
      "text/latex": [
       "$$\\frac{ + 4}{s^3 + 2 s^2 + 3 s + 4}$$"
      ],
      "text/plain": [
       "TransferFunction(array([0., 0., 4.]), array([1., 2., 3., 4.]))"
      ]
     },
     "execution_count": 5,
     "metadata": {},
     "output_type": "execute_result"
    }
   ],
   "source": [
    "for ii in range(len(PP.num[0][0][:])):\n",
    "    if PP.num[0][0][ii] < 1e-12:\n",
    "        PP.num[0][0][ii] = 0\n",
    "PP"
   ]
  }
 ],
 "metadata": {
  "kernelspec": {
   "display_name": "myenv",
   "language": "python",
   "name": "myenv"
  },
  "language_info": {
   "codemirror_mode": {
    "name": "ipython",
    "version": 3
   },
   "file_extension": ".py",
   "mimetype": "text/x-python",
   "name": "python",
   "nbconvert_exporter": "python",
   "pygments_lexer": "ipython3",
   "version": "3.9.9"
  }
 },
 "nbformat": 4,
 "nbformat_minor": 5
}

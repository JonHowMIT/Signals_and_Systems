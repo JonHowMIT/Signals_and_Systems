{
 "cells": [
  {
   "cell_type": "markdown",
   "id": "b1c80a95",
   "metadata": {},
   "source": [
    "# Conversions"
   ]
  },
  {
   "cell_type": "markdown",
   "id": "a595b1c3",
   "metadata": {},
   "source": [
    "## TF2SS"
   ]
  },
  {
   "cell_type": "code",
   "execution_count": 7,
   "id": "f3062376",
   "metadata": {
    "execution": {
     "iopub.execute_input": "2023-12-01T01:00:32.867689Z",
     "iopub.status.busy": "2023-12-01T01:00:32.864685Z",
     "iopub.status.idle": "2023-12-01T01:00:32.882772Z",
     "shell.execute_reply": "2023-12-01T01:00:32.881915Z",
     "shell.execute_reply.started": "2023-12-01T01:00:32.867611Z"
    }
   },
   "outputs": [
    {
     "name": "stdout",
     "output_type": "stream",
     "text": [
      "sympy version 1.9\n"
     ]
    }
   ],
   "source": [
    "import numpy as np\n",
    "import sympy \n",
    "sympy.init_printing()\n",
    "print('sympy version '+sympy.__version__)\n",
    "\n",
    "s = sympy.Symbol('s')\n",
    "\n",
    "from control.matlab import *\n",
    "\n",
    "def near_zero(P):\n",
    "    for ii in range(len(P.num[0][0][:])):\n",
    "        if abs(P.num[0][0][ii]) < 1e-12:\n",
    "            P.num[0][0][ii] = 0\n",
    "        else:\n",
    "            P.num[0][0][ii] = P.num[0][0][ii]\n",
    "    return P"
   ]
  },
  {
   "cell_type": "code",
   "execution_count": 8,
   "id": "4b1b882e",
   "metadata": {
    "execution": {
     "iopub.execute_input": "2023-12-01T01:00:33.419076Z",
     "iopub.status.busy": "2023-12-01T01:00:33.417965Z",
     "iopub.status.idle": "2023-12-01T01:00:33.442747Z",
     "shell.execute_reply": "2023-12-01T01:00:33.442006Z",
     "shell.execute_reply.started": "2023-12-01T01:00:33.418875Z"
    }
   },
   "outputs": [
    {
     "data": {
      "text/latex": [
       "$$\\frac{4}{s^3 + 2 s^2 + 3 s + 4}$$"
      ],
      "text/plain": [
       "TransferFunction(array([4]), array([1, 2, 3, 4]))"
      ]
     },
     "execution_count": 8,
     "metadata": {},
     "output_type": "execute_result"
    }
   ],
   "source": [
    "s = tf('s')\n",
    "P = 4/(s**3 + 2*s**2 + 3*s + 4)\n",
    "P"
   ]
  },
  {
   "cell_type": "code",
   "execution_count": 10,
   "id": "4db0c70d",
   "metadata": {
    "execution": {
     "iopub.execute_input": "2023-12-01T01:00:50.976407Z",
     "iopub.status.busy": "2023-12-01T01:00:50.975487Z",
     "iopub.status.idle": "2023-12-01T01:00:50.995194Z",
     "shell.execute_reply": "2023-12-01T01:00:50.994545Z",
     "shell.execute_reply.started": "2023-12-01T01:00:50.976357Z"
    }
   },
   "outputs": [
    {
     "name": "stdout",
     "output_type": "stream",
     "text": [
      "A = \n",
      " [[-2. -3. -4.]\n",
      " [ 1.  0.  0.]\n",
      " [ 0.  1.  0.]]\n",
      "B = \n",
      " [[1.]\n",
      " [0.]\n",
      " [0.]]\n",
      "C = \n",
      " [[0. 0. 4.]]\n",
      "D = \n",
      " [[0.]]\n"
     ]
    }
   ],
   "source": [
    "sys = tf2ss(P)\n",
    "print('A = \\n',sys.A)\n",
    "print('B = \\n',sys.B)\n",
    "print('C = \\n',sys.C)\n",
    "print('D = \\n',sys.D)"
   ]
  },
  {
   "cell_type": "markdown",
   "id": "522baec0",
   "metadata": {},
   "source": [
    "## SS2TF"
   ]
  },
  {
   "cell_type": "code",
   "execution_count": 11,
   "id": "d186a4f0",
   "metadata": {
    "execution": {
     "iopub.execute_input": "2023-12-01T01:00:51.497776Z",
     "iopub.status.busy": "2023-12-01T01:00:51.496691Z",
     "iopub.status.idle": "2023-12-01T01:00:51.524494Z",
     "shell.execute_reply": "2023-12-01T01:00:51.523680Z",
     "shell.execute_reply.started": "2023-12-01T01:00:51.497714Z"
    }
   },
   "outputs": [],
   "source": [
    "PP = ss2tf(sys)\n",
    "PP = near_zero(PP)"
   ]
  },
  {
   "cell_type": "code",
   "execution_count": 12,
   "id": "841c8f7e",
   "metadata": {
    "execution": {
     "iopub.execute_input": "2023-12-01T01:00:52.645134Z",
     "iopub.status.busy": "2023-12-01T01:00:52.643754Z",
     "iopub.status.idle": "2023-12-01T01:00:52.665018Z",
     "shell.execute_reply": "2023-12-01T01:00:52.664451Z",
     "shell.execute_reply.started": "2023-12-01T01:00:52.645056Z"
    }
   },
   "outputs": [
    {
     "data": {
      "text/latex": [
       "$$\\frac{ + 4}{s^3 + 2 s^2 + 3 s + 4}$$"
      ],
      "text/plain": [
       "TransferFunction(array([0., 0., 4.]), array([1., 2., 3., 4.]))"
      ]
     },
     "execution_count": 12,
     "metadata": {},
     "output_type": "execute_result"
    }
   ],
   "source": [
    "\n",
    "PP"
   ]
  },
  {
   "cell_type": "code",
   "execution_count": null,
   "id": "9cf79e30-4805-4842-8197-0c23423fe743",
   "metadata": {},
   "outputs": [],
   "source": []
  }
 ],
 "metadata": {
  "kernelspec": {
   "display_name": "myenv",
   "language": "python",
   "name": "myenv"
  },
  "language_info": {
   "codemirror_mode": {
    "name": "ipython",
    "version": 3
   },
   "file_extension": ".py",
   "mimetype": "text/x-python",
   "name": "python",
   "nbconvert_exporter": "python",
   "pygments_lexer": "ipython3",
   "version": "3.9.9"
  }
 },
 "nbformat": 4,
 "nbformat_minor": 5
}

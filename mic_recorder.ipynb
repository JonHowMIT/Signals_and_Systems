{
 "cells": [
  {
   "cell_type": "code",
   "execution_count": 1,
   "id": "bdb7dd29-b00c-4a25-9fdd-0c6c82e2a586",
   "metadata": {},
   "outputs": [
    {
     "name": "stdout",
     "output_type": "stream",
     "text": [
      "Running Python: 3.9.9\n",
      "Running Sympy: 1.10.1\n",
      "Basic file found\n",
      "\u001b[33mWARNING: Retrying (Retry(total=4, connect=None, read=None, redirect=None, status=None)) after connection broken by 'ProtocolError('Connection aborted.', ConnectionResetError(54, 'Connection reset by peer'))': /simple/librosa/\u001b[0m\u001b[33m\n",
      "\u001b[0m\u001b[33mWARNING: Retrying (Retry(total=3, connect=None, read=None, redirect=None, status=None)) after connection broken by 'ProtocolError('Connection aborted.', ConnectionResetError(54, 'Connection reset by peer'))': /simple/librosa/\u001b[0m\u001b[33m\n",
      "\u001b[0m\u001b[33mWARNING: Retrying (Retry(total=2, connect=None, read=None, redirect=None, status=None)) after connection broken by 'ProtocolError('Connection aborted.', ConnectionResetError(54, 'Connection reset by peer'))': /simple/librosa/\u001b[0m\u001b[33m\n",
      "\u001b[0m\u001b[33mWARNING: Retrying (Retry(total=1, connect=None, read=None, redirect=None, status=None)) after connection broken by 'ProtocolError('Connection aborted.', ConnectionResetError(54, 'Connection reset by peer'))': /simple/librosa/\u001b[0m\u001b[33m\n",
      "\u001b[0m\u001b[33mWARNING: Retrying (Retry(total=0, connect=None, read=None, redirect=None, status=None)) after connection broken by 'ProtocolError('Connection aborted.', ConnectionResetError(54, 'Connection reset by peer'))': /simple/librosa/\u001b[0m\u001b[33m\n",
      "\u001b[0m\u001b[31mERROR: Could not find a version that satisfies the requirement librosa (from versions: none)\u001b[0m\u001b[31m\n",
      "\u001b[0m\u001b[31mERROR: No matching distribution found for librosa\u001b[0m\u001b[31m\n",
      "\u001b[0m\u001b[33mWARNING: There was an error checking the latest version of pip.\u001b[0m\u001b[33m\n",
      "\u001b[0m"
     ]
    },
    {
     "ename": "ModuleNotFoundError",
     "evalue": "No module named 'librosa'",
     "output_type": "error",
     "traceback": [
      "\u001b[0;31m---------------------------------------------------------------------------\u001b[0m",
      "\u001b[0;31mModuleNotFoundError\u001b[0m                       Traceback (most recent call last)",
      "Input \u001b[0;32mIn [1]\u001b[0m, in \u001b[0;36m<cell line: 21>\u001b[0;34m()\u001b[0m\n\u001b[1;32m     21\u001b[0m \u001b[38;5;28;01mtry\u001b[39;00m:\n\u001b[0;32m---> 22\u001b[0m     \u001b[38;5;28;01mimport\u001b[39;00m \u001b[38;5;21;01mlibrosa\u001b[39;00m\u001b[38;5;241m,\u001b[39m \u001b[38;5;21;01mlibrosa\u001b[39;00m\u001b[38;5;21;01m.\u001b[39;00m\u001b[38;5;21;01mdisplay\u001b[39;00m\n\u001b[1;32m     23\u001b[0m \u001b[38;5;28;01mexcept\u001b[39;00m:\n",
      "\u001b[0;31mModuleNotFoundError\u001b[0m: No module named 'librosa'",
      "\nDuring handling of the above exception, another exception occurred:\n",
      "\u001b[0;31mModuleNotFoundError\u001b[0m                       Traceback (most recent call last)",
      "Input \u001b[0;32mIn [1]\u001b[0m, in \u001b[0;36m<cell line: 21>\u001b[0;34m()\u001b[0m\n\u001b[1;32m     23\u001b[0m \u001b[38;5;28;01mexcept\u001b[39;00m:\n\u001b[1;32m     24\u001b[0m     get_ipython()\u001b[38;5;241m.\u001b[39msystem(\u001b[38;5;124m'\u001b[39m\u001b[38;5;124mpip3 install librosa\u001b[39m\u001b[38;5;124m'\u001b[39m)\n\u001b[0;32m---> 25\u001b[0m     \u001b[38;5;28;01mimport\u001b[39;00m \u001b[38;5;21;01mlibrosa\u001b[39;00m\u001b[38;5;241m,\u001b[39m \u001b[38;5;21;01mlibrosa\u001b[39;00m\u001b[38;5;21;01m.\u001b[39;00m\u001b[38;5;21;01mdisplay\u001b[39;00m\n\u001b[1;32m     27\u001b[0m \u001b[38;5;28;01mimport\u001b[39;00m \u001b[38;5;21;01mstruct\u001b[39;00m\n\u001b[1;32m     28\u001b[0m \u001b[38;5;28;01mfrom\u001b[39;00m \u001b[38;5;21;01mscipy\u001b[39;00m\u001b[38;5;21;01m.\u001b[39;00m\u001b[38;5;21;01mio\u001b[39;00m\u001b[38;5;21;01m.\u001b[39;00m\u001b[38;5;21;01mwavfile\u001b[39;00m \u001b[38;5;28;01mimport\u001b[39;00m write\n",
      "\u001b[0;31mModuleNotFoundError\u001b[0m: No module named 'librosa'"
     ]
    }
   ],
   "source": [
    "import requests as req\n",
    "try:\n",
    "    %run basic_material.py\n",
    "    print('Basic file found')\n",
    "except:    \n",
    "    print('Basic not file found - downloading it')\n",
    "    url = \"https://raw.githubusercontent.com/JonHowMIT/Signals_and_Systems/main/basic_material.py\"\n",
    "    res = req.get(url)\n",
    "    file = open('basic_material.py', 'w')\n",
    "    file.write(res.text)\n",
    "    file.close()\n",
    "    %run basic_material.py\n",
    "    \n",
    "try:\n",
    "    import pyaudio\n",
    "except:\n",
    "    !pip3 install pyaudio\n",
    "    import pyaudio\n",
    "\n",
    "import wave, time\n",
    "try:\n",
    "    import librosa, librosa.display\n",
    "except:\n",
    "    !pip3 install librosa\n",
    "    import librosa, librosa.display\n",
    "\n",
    "import struct\n",
    "from scipy.io.wavfile import write"
   ]
  },
  {
   "cell_type": "code",
   "execution_count": null,
   "id": "04d5c2af-4e77-4428-9790-4de914dff84d",
   "metadata": {},
   "outputs": [],
   "source": [
    "FORMAT = pyaudio.paInt16\n",
    "#FORMAT = pyaudio.paFloat32\n",
    "CHANNELS = 1\n",
    "RATE = 44100\n",
    "CHUNK = 512\n",
    "RECORD_SECONDS = 20\n",
    "WAVE_OUTPUT_FILENAME = \"recordedFile.wav\"\n",
    "audio = pyaudio.PyAudio()"
   ]
  },
  {
   "cell_type": "code",
   "execution_count": null,
   "id": "558a036b-6ff6-493f-a38b-686943378fcd",
   "metadata": {},
   "outputs": [],
   "source": [
    "print(\"----------------------record device list---------------------\")\n",
    "info = audio.get_host_api_info_by_index(0)\n",
    "numdevices = info.get('deviceCount')\n",
    "for i in range(0, numdevices):\n",
    "        if (audio.get_device_info_by_host_api_device_index(0, i).get('maxInputChannels')) > 0:\n",
    "            print(\"Input Device id \", i, \" - \", audio.get_device_info_by_host_api_device_index(0, i).get('name'))\n",
    "\n",
    "print(\"-------------------------------------------------------------\")"
   ]
  },
  {
   "cell_type": "code",
   "execution_count": null,
   "id": "adc429c8-d461-45ba-bc73-7957233e8369",
   "metadata": {},
   "outputs": [],
   "source": [
    "#index = int(input())\n",
    "index = 0\n",
    "print(\"recording via index \"+str(index))"
   ]
  },
  {
   "cell_type": "code",
   "execution_count": null,
   "id": "cd5cc309-8073-4340-8c6d-2c84c93eeece",
   "metadata": {},
   "outputs": [],
   "source": [
    "stream = audio.open(format=FORMAT, channels=CHANNELS,\n",
    "                rate=RATE, input=True, input_device_index = index,\n",
    "                frames_per_buffer=CHUNK)\n",
    "print (\"recording started\")\n",
    "Recordframes = []\n",
    "\n",
    "start = time.time()\n",
    "for i in range(0, int(RATE / CHUNK * RECORD_SECONDS)):\n",
    "    data = stream.read(CHUNK, exception_on_overflow = False)\n",
    "    Recordframes.append(data)\n",
    "    if (i%100 == 0):\n",
    "        print(f\"{time.time() - start:.1f} \",  end = '')\n",
    "tf = time.time() - start\n",
    "print (\"\\nrecording stopped\")\n",
    "\n",
    "signal = np.hstack(Recordframes)\n",
    "\n",
    "stream.stop_stream()\n",
    "stream.close()\n",
    "audio.terminate()"
   ]
  },
  {
   "cell_type": "code",
   "execution_count": null,
   "id": "78f6c5fc-186f-4417-998a-f7c1ba45b3e0",
   "metadata": {},
   "outputs": [],
   "source": [
    "waveFile = wave.open(WAVE_OUTPUT_FILENAME, 'wb')\n",
    "waveFile.setnchannels(CHANNELS)\n",
    "waveFile.setsampwidth(audio.get_sample_size(FORMAT))\n",
    "waveFile.setframerate(RATE)\n",
    "waveFile.writeframes(b''.join(Recordframes))\n",
    "waveFile.close()"
   ]
  },
  {
   "cell_type": "code",
   "execution_count": null,
   "id": "9cfcefd9-21e8-4252-9df7-88c109a72d6a",
   "metadata": {},
   "outputs": [],
   "source": [
    "signal_f = np.frombuffer(signal, dtype='int16').astype('float32')\n",
    "plt.figure(figsize=(20, 5))\n",
    "t_ignore = 1\n",
    "librosa.display.waveshow(signal_f[t_ignore*RATE:], sr=RATE)\n",
    "plt.title('Waveplot', fontdict=dict(size=18))\n",
    "plt.xlabel('Time', fontdict=dict(size=18))\n",
    "plt.ylabel('Amplitude', fontdict=dict(size=18))\n",
    "plt.xlim(0,tf-t_ignore)\n",
    "plt.savefig('./data/mic_recorder_0.png', bbox_inches='tight', dpi=300)\n",
    "plt.show()"
   ]
  },
  {
   "cell_type": "code",
   "execution_count": null,
   "id": "45413813-f9da-4255-a6bc-eb99647c2bf4",
   "metadata": {},
   "outputs": [],
   "source": [
    "y = signal_f[t_ignore*RATE:]\n",
    "if (abs(max(y)) > 0):\n",
    "    y = y/(max(y)\n",
    "N = len(y)\n",
    "fs = RATE\n",
    "T = N/fs\n",
    "t = np.arange(N)*T/N"
   ]
  },
  {
   "cell_type": "code",
   "execution_count": null,
   "id": "53f143f7-bbd0-45f6-b748-f2c7332b2725",
   "metadata": {},
   "outputs": [],
   "source": [
    "Y_fft = fft(y)\n",
    "f_bl = fftfreq(N, 1/fs)"
   ]
  },
  {
   "cell_type": "code",
   "execution_count": null,
   "id": "c9a6ddb0-316f-496d-a2ac-304a27a86210",
   "metadata": {},
   "outputs": [],
   "source": [
    "signal_f"
   ]
  },
  {
   "cell_type": "code",
   "execution_count": null,
   "id": "858c6f55-e83a-4589-a68f-547b55bc1115",
   "metadata": {},
   "outputs": [],
   "source": [
    "fig, (ax1, ax2) = plt.subplots(1,2, figsize=(8,4), dpi=150)\n",
    "fig.tight_layout(pad=2)\n",
    "ax1.plot(t, y.real, 'b:', t, y.imag, 'r:')\n",
    "ax1.set_ylabel('$y_{bl}[nT_s]$')\n",
    "ax1.set_xlabel('$t$')\n",
    "ax2.set_xlim([0, 19])\n",
    "ax1.legend(['y(t).real','y(t).imag'])\n",
    "ax1.set_title('Snippet of data')\n",
    "nicegrid(ax1)\n",
    "\n",
    "ax2.loglog(f_bl[0:N//2], np.abs(Y_fft[0:N//2]),'b-')\n",
    "ax2.set_ylabel('FFT $y_{bl}[nT_s]$')\n",
    "ax2.set_xlabel('$f$')\n",
    "ax2.set_xlim([10, 5000])\n",
    "ax2.set_ylim([.1, 2000])\n",
    "ax2.legend(['Y_{fft}(f)','Y_{given}(f)'])\n",
    "ax2.set_title('FFT of data')\n",
    "plt.show()"
   ]
  },
  {
   "cell_type": "code",
   "execution_count": null,
   "id": "e6fec37e-b60e-48c6-8ca0-987375088530",
   "metadata": {},
   "outputs": [],
   "source": [
    "delta_freq = fs/N\n",
    "\n",
    "# bounds of rect in Y(f)\n",
    "f_low = 200\n",
    "f_high = 20000\n",
    "# find equivalent positions in Y(f) \n",
    "n_low = int(f_low/delta_freq)\n",
    "n_high = int(f_high/delta_freq)\n",
    "L1 = np.arange(n_low,n_high)\n",
    "\n",
    "Y_n = np.zeros((N,), dtype=complex)\n",
    "# create random phase needed for correct ifft process\n",
    "rng = np.random.default_rng()\n",
    "phi = rng.uniform(0, 2*np.pi, (len(L1),))\n",
    "\n",
    "# create Y(f)\n",
    "if (0):\n",
    "    mag_temp = np.sin(np.pi*np.arange(0,n_high-n_low)/(n_high-n_low))\n",
    "else:\n",
    "    mag_temp = 850*np.ones([1,n_high-n_low])\n",
    "    \n",
    "Y_n[L1] = mag_temp*np.exp(1j*phi)\n",
    "# add complex conjugate at upper end to ensure that y[n] real\n",
    "Y_n[N-L1] = np.conj(Y_n[L1])\n",
    "\n",
    "# create y[n]\n",
    "noise = ifft(Y_n)"
   ]
  },
  {
   "cell_type": "code",
   "execution_count": null,
   "id": "c475b6e2-0011-48b9-940d-d8a705194824",
   "metadata": {},
   "outputs": [],
   "source": [
    "yn = y + noise.real\n",
    "Y_fft_n = fft(yn)"
   ]
  },
  {
   "cell_type": "code",
   "execution_count": null,
   "id": "d0d3f56d-dabc-4ae3-aa89-2a30212ee1e5",
   "metadata": {},
   "outputs": [],
   "source": [
    "fig, (ax1, ax2) = plt.subplots(1,2, figsize=(8,4), dpi=150)\n",
    "fig.tight_layout(pad=2)\n",
    "ax1.plot(t, y, 'b:', t, yn, 'r:',alpha=0.2)\n",
    "ax1.set_ylabel('$y_{bl}[nT_s]$')\n",
    "ax1.set_xlabel('$t$')\n",
    "ax1.legend(['Signal','Noisy signal'])\n",
    "ax2.set_xlim([0, 19])\n",
    "ax1.set_title('Snippet of data')\n",
    "nicegrid(ax1)\n",
    "\n",
    "ax2.loglog(f_bl[0:N//2], np.abs(Y_fft[0:N//2]),'b-',alpha=0.6)\n",
    "ax2.loglog(f_bl[0:N//2], np.abs(Y_fft_n[0:N//2]),'r:',alpha=0.3)\n",
    "ax2.set_ylabel('FFT $y_{bl}[nT_s]$')\n",
    "ax2.set_xlabel('$f$')\n",
    "ax2.set_xlim([10, 5000])\n",
    "ax2.set_ylim([.1, 2000])\n",
    "ax2.legend(['Signal','Noisy signal'])\n",
    "ax2.set_title('FFT of data')\n",
    "nicegrid(ax2)\n",
    "plt.show()"
   ]
  },
  {
   "cell_type": "code",
   "execution_count": null,
   "id": "dec5f327-40e7-4b38-8358-890c4d6c314b",
   "metadata": {},
   "outputs": [],
   "source": [
    "# Low Pass\n",
    "b_low, a_low = signal.butter(2, 200, 'low', fs=fs)\n",
    "f_low, h_low = signal.freqz(b_low, a_low,fs=fs,worN=1000)\n",
    "yn_lp = signal.lfilter(b_low, a_low, yn)\n",
    "Yn_lp_fft = fft(yn_lp)"
   ]
  },
  {
   "cell_type": "code",
   "execution_count": null,
   "id": "9d356dd9-f6d1-42b2-a0a4-b15e9aca4e3b",
   "metadata": {},
   "outputs": [],
   "source": [
    "fig, (ax1,ax2) = plt.subplots(1,2, figsize=(8,4), dpi=150)\n",
    "eps = 1e-12\n",
    "ax1.loglog(f_low, abs(h_low+eps),'b-',label='LP')\n",
    "ax1.set_title('Butterworth filter frequency response')\n",
    "ax1.set_xlabel('Frequency [Hz]')\n",
    "ax1.set_ylabel('Amplitude')\n",
    "ax1.set_xlim([10, 5000])\n",
    "ax1.set_ylim([.001, 2])\n",
    "nicegrid()\n",
    "\n",
    "ax2.loglog(f_bl[0:N//2], np.abs(Y_fft[0:N//2]),'b-',alpha=0.6)\n",
    "ax2.loglog(f_bl[0:N//2], np.abs(Y_fft_n[0:N//2]),'r:',alpha=0.4)\n",
    "ax2.loglog(f_bl[0:N//2], np.abs(Yn_lp_fft[0:N//2]),'g--',alpha = .8)\n",
    "ax2.set_ylabel('FFT $y_{bl}[nT_s]$')\n",
    "ax2.set_xlabel('$f$')\n",
    "ax2.set_xlim([10, 5000])\n",
    "ax2.set_ylim([.1, 2000])\n",
    "ax2.legend(['FFT sig','FFT sig+n','LP of sig+n'])\n",
    "ax2.set_title('FFT of data')\n",
    "plt.show()"
   ]
  },
  {
   "cell_type": "code",
   "execution_count": null,
   "id": "df8abbdf-2136-4d5e-bc9b-c2c07a47a17c",
   "metadata": {},
   "outputs": [],
   "source": [
    "y_norm = y/max(abs(y))\n",
    "write(\"data/example.wav\", RATE, y_norm.astype(np.float32))\n",
    "yn_norm = yn/max(abs(yn))\n",
    "write(\"data/example_noisy.wav\", RATE, yn_norm.astype(np.float32))\n",
    "yn_lp_norm = yn/max(abs(yn_lp))\n",
    "write(\"data/example_noisy_lp.wav\", RATE, yn_lp_norm.astype(np.float32))"
   ]
  },
  {
   "cell_type": "markdown",
   "id": "3d97ed95-cf96-4705-bb10-7202b63113f4",
   "metadata": {},
   "source": [
    "## Modulate"
   ]
  },
  {
   "cell_type": "code",
   "execution_count": null,
   "id": "748bf9ea-d4cb-4a0d-ab9c-43bb1bba41f3",
   "metadata": {},
   "outputs": [],
   "source": [
    "f_carrier_1 = 5000\n",
    "f_carrier_2 = 10000\n",
    "f_carrier_3 = 15000\n",
    "\n",
    "y_carrier_1 = np.cos(2*np.pi*f_carrier_1*t)\n",
    "y_carrier_2 = np.cos(2*np.pi*f_carrier_2*t)\n",
    "y_carrier_3 = np.cos(2*np.pi*f_carrier_3*t)\n",
    "\n",
    "y_modulated = y*y_carrier_1 + y*y_carrier_2 + y*y_carrier_3\n",
    " "
   ]
  }
 ],
 "metadata": {
  "kernelspec": {
   "display_name": "Python 3 (ipykernel)",
   "language": "python",
   "name": "python3"
  },
  "language_info": {
   "codemirror_mode": {
    "name": "ipython",
    "version": 3
   },
   "file_extension": ".py",
   "mimetype": "text/x-python",
   "name": "python",
   "nbconvert_exporter": "python",
   "pygments_lexer": "ipython3",
   "version": "3.9.9"
  }
 },
 "nbformat": 4,
 "nbformat_minor": 5
}

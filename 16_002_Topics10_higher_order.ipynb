{
 "cells": [
  {
   "cell_type": "code",
   "execution_count": 1,
   "metadata": {
    "execution": {
     "iopub.execute_input": "2023-11-20T21:01:50.384675Z",
     "iopub.status.busy": "2023-11-20T21:01:50.383632Z",
     "iopub.status.idle": "2023-11-20T21:01:51.924618Z",
     "shell.execute_reply": "2023-11-20T21:01:51.923978Z",
     "shell.execute_reply.started": "2023-11-20T21:01:50.384606Z"
    }
   },
   "outputs": [
    {
     "name": "stdout",
     "output_type": "stream",
     "text": [
      "Running Python: 3.12.6\n",
      "Running Sympy: 1.13.2\n",
      "Sympy version 1.13.2\n"
     ]
    }
   ],
   "source": [
    "from os.path import exists\n",
    "file_exists = exists('basic_material.py')\n",
    "\n",
    "if (not file_exists):\n",
    "    !wget -O basic_material.py https://raw.githubusercontent.com/JonHowMIT/Signals_and_Systems/main/basic_material.py\n",
    "%run basic_material\n",
    "\n",
    "try:\n",
    "    import google.colab\n",
    "    IN_COLAB = True\n",
    "    !pip3 install sympy==1.10\n",
    "except:\n",
    "    IN_COLAB = False\n",
    "\n",
    "from icecream import ic\n",
    "\n",
    "from IPython.display import display, Math\n",
    "from sympy import latex, symbols, diff\n",
    "\n",
    "from sympy import *\n",
    "from sympy import Abs\n",
    "from sympy.integrals.transforms import laplace_transform\n",
    "from sympy.integrals.transforms import inverse_laplace_transform\n",
    "import sympy as sympy\n",
    "from sympy.abc import a, t, x, s, X, g, G\n",
    "print(\"Sympy version \"+sympy.__version__)\n",
    "init_printing(use_unicode=True)\n",
    "\n",
    "from IPython.display import Markdown\n",
    "\n",
    "a, x, g, X, G, tau = symbols('a x g X G tau', cls = Function)\n",
    "\n",
    "t0p = 0+np.finfo(float).eps # define t(0^+)"
   ]
  },
  {
   "cell_type": "markdown",
   "metadata": {},
   "source": [
    "## Define the LP of the second order diff eq"
   ]
  },
  {
   "cell_type": "code",
   "execution_count": 2,
   "metadata": {
    "colab": {
     "base_uri": "https://localhost:8080/",
     "height": 38
    },
    "execution": {
     "iopub.execute_input": "2023-11-20T21:01:54.579185Z",
     "iopub.status.busy": "2023-11-20T21:01:54.577517Z",
     "iopub.status.idle": "2023-11-20T21:01:54.603314Z",
     "shell.execute_reply": "2023-11-20T21:01:54.602589Z",
     "shell.execute_reply.started": "2023-11-20T21:01:54.579097Z"
    },
    "executionInfo": {
     "elapsed": 272,
     "status": "ok",
     "timestamp": 1626107869260,
     "user": {
      "displayName": "Jonathan How",
      "photoUrl": "https://lh3.googleusercontent.com/a-/AOh14GiLNnJYgBpzQQozBm-BaS4zBKlaQEQa39WYawXVaw=s64",
      "userId": "07882044077368082882"
     },
     "user_tz": 240
    },
    "id": "iLk0s-0YvlFb",
    "outputId": "9557a18b-14cf-4ea0-891a-5925db676edc",
    "tags": []
   },
   "outputs": [],
   "source": [
    "def EOM(a=1,b=1,c=1,d=1,g=1,x0=0,v0=0):\n",
    "\n",
    "    ev = np.roots([a,b,c])\n",
    "    print(\"Roots \",ev) # check poles of system \n",
    "\n",
    "    x0p = x0 \n",
    "    v0p = v0\n",
    "    if g == DiracDelta(t):\n",
    "        display(Markdown('<span style=\"color: #ff0000\">Updating IC to account for Delta</span>'))\n",
    "        v0p += d/a\n",
    "    W = laplace_transform(d*g, t, s, noconds = True)\n",
    "    eom  = Eq(a*(s**2 *X(s)- s*x0 - v0) + b*(s*X(s) - x0) + c * X(s), W)\n",
    "\n",
    "    Xofs = solve(eom,X(s))[0]\n",
    "    display(Xofs.apart())\n",
    "\n",
    "    soln = inverse_laplace_transform(Xofs.apart(),s,t)\n",
    "    print(\"Solution is:\")\n",
    "    display(soln)\n",
    "    print(\"Derivative of the solution is:\")\n",
    "    display(soln.diff(t))\n",
    "\n",
    "    # compute soln at time 0 to confirm that x(0) = x0\n",
    "    soln_x0 = soln.subs(t,t0p)\n",
    "    soln_v0 = soln.diff(t).subs(t,t0p)\n",
    "\n",
    "    if ((np.abs(x0p - soln_x0) < 1e-2) and (np.abs(v0p - soln_v0) < 1e-2)):\n",
    "        display(Markdown('<span style=\"color: #00b300\">Both IC agree</span>.'))\n",
    "    print(f'x(0+) was '+f'{x0p:.2f}'+' and is '+f'{soln_x0:.2f}')    \n",
    "    print(f'dx(0+)/dt was '+f'{v0p:.2f}'+' and is '+f'{soln_v0:.2f}')\n",
    "    \n",
    "    # Check the solution - simplify out the delta\n",
    "    #display(c*soln)\n",
    "\n",
    "    term2 = soln.diff(t)\n",
    "    term2_mult_property = term2.subs(Heaviside(t),0).subs(DiracDelta(t),1).subs(t,0)\n",
    "    term2_simplified = term2.subs(DiracDelta(t),0)+term2_mult_property*DiracDelta(t) - x0*DiracDelta(t)\n",
    "    #display(b*term2_simplified)\n",
    "\n",
    "    term3 = term2_simplified.diff(t)\n",
    "    term3_mult_property = term3.subs(Heaviside(t),0).subs(DiracDelta(t),1).subs(t,0)\n",
    "    term3_simplified = term3.subs(DiracDelta(t),0)+term3_mult_property*DiracDelta(t) - v0*DiracDelta(t)\n",
    "    #display(a*term3_simplified)\n",
    "    display(Math(f'ODE~remainder: {latex(simplify(a*term3_simplified+b*term2_simplified+c*soln - d*g))}'))\n",
    "    \n",
    "    return eom, x0p,v0p, soln"
   ]
  },
  {
   "cell_type": "markdown",
   "metadata": {},
   "source": [
    "## Second Order Systems"
   ]
  },
  {
   "cell_type": "markdown",
   "metadata": {},
   "source": [
    "$$\\ddot x + 7 \\dot x + 3 x = \\delta(t), \\text{~~and~~} x(0^-)=1, \\dot x(0^-)=2$$\n",
    "</span>"
   ]
  },
  {
   "cell_type": "code",
   "execution_count": 3,
   "metadata": {
    "colab": {
     "base_uri": "https://localhost:8080/",
     "height": 38
    },
    "execution": {
     "iopub.execute_input": "2023-11-20T21:02:18.373078Z",
     "iopub.status.busy": "2023-11-20T21:02:18.371913Z",
     "iopub.status.idle": "2023-11-20T21:02:20.727985Z",
     "shell.execute_reply": "2023-11-20T21:02:20.727352Z",
     "shell.execute_reply.started": "2023-11-20T21:02:18.372997Z"
    },
    "executionInfo": {
     "elapsed": 272,
     "status": "ok",
     "timestamp": 1626107869260,
     "user": {
      "displayName": "Jonathan How",
      "photoUrl": "https://lh3.googleusercontent.com/a-/AOh14GiLNnJYgBpzQQozBm-BaS4zBKlaQEQa39WYawXVaw=s64",
      "userId": "07882044077368082882"
     },
     "user_tz": 240
    },
    "id": "iLk0s-0YvlFb",
    "outputId": "9557a18b-14cf-4ea0-891a-5925db676edc",
    "tags": []
   },
   "outputs": [
    {
     "name": "stdout",
     "output_type": "stream",
     "text": [
      "Roots  [  -3.000   -0.500]\n"
     ]
    },
    {
     "data": {
      "text/markdown": [
       "<span style=\"color: #ff0000\">Updating IC to account for Delta</span>"
      ],
      "text/plain": [
       "<IPython.core.display.Markdown object>"
      ]
     },
     "metadata": {},
     "output_type": "display_data"
    },
    {
     "data": {
      "image/png": "[encoded data removed]",
      "text/latex": [
       "$\\displaystyle \\frac{22}{5 \\left(2 s + 1\\right)} - \\frac{6}{5 \\left(s + 3\\right)}$"
      ],
      "text/plain": [
       "    22            6    \n",
       "─────────── - ─────────\n",
       "5⋅(2⋅s + 1)   5⋅(s + 3)"
      ]
     },
     "metadata": {},
     "output_type": "display_data"
    },
    {
     "name": "stdout",
     "output_type": "stream",
     "text": [
      "Solution is:\n"
     ]
    },
    {
     "data": {
      "image/png": "[encoded data removed]",
      "text/latex": [
       "$\\displaystyle - \\frac{6 e^{- 3 t} \\theta\\left(t\\right)}{5} + \\frac{11 e^{- \\frac{t}{2}} \\theta\\left(t\\right)}{5}$"
      ],
      "text/plain": [
       "                     -t      \n",
       "                     ───     \n",
       "     -3⋅t             2      \n",
       "  6⋅ℯ    ⋅θ(t)   11⋅ℯ   ⋅θ(t)\n",
       "- ──────────── + ────────────\n",
       "       5              5      "
      ]
     },
     "metadata": {},
     "output_type": "display_data"
    },
    {
     "name": "stdout",
     "output_type": "stream",
     "text": [
      "Derivative of the solution is:\n"
     ]
    },
    {
     "data": {
      "image/png": "[encoded data removed]",
      "text/latex": [
       "$\\displaystyle - \\frac{6 e^{- 3 t} \\delta\\left(t\\right)}{5} + \\frac{18 e^{- 3 t} \\theta\\left(t\\right)}{5} + \\frac{11 e^{- \\frac{t}{2}} \\delta\\left(t\\right)}{5} - \\frac{11 e^{- \\frac{t}{2}} \\theta\\left(t\\right)}{10}$"
      ],
      "text/plain": [
       "                                     -t             -t      \n",
       "                                     ───            ───     \n",
       "     -3⋅t            -3⋅t             2              2      \n",
       "  6⋅ℯ    ⋅δ(t)   18⋅ℯ    ⋅θ(t)   11⋅ℯ   ⋅δ(t)   11⋅ℯ   ⋅θ(t)\n",
       "- ──────────── + ───────────── + ──────────── - ────────────\n",
       "       5               5              5              10     "
      ]
     },
     "metadata": {},
     "output_type": "display_data"
    },
    {
     "data": {
      "text/markdown": [
       "<span style=\"color: #00b300\">Both IC agree</span>."
      ],
      "text/plain": [
       "<IPython.core.display.Markdown object>"
      ]
     },
     "metadata": {},
     "output_type": "display_data"
    },
    {
     "name": "stdout",
     "output_type": "stream",
     "text": [
      "x(0+) was 1.00 and is 1.00\n",
      "dx(0+)/dt was 2.50 and is 2.50\n"
     ]
    },
    {
     "data": {
      "text/latex": [
       "$\\displaystyle ODE~remainder: 0$"
      ],
      "text/plain": [
       "<IPython.core.display.Math object>"
      ]
     },
     "metadata": {},
     "output_type": "display_data"
    }
   ],
   "source": [
    "eom, x0p, v0p, soln = EOM(a=2,b=7,c=3,d=1,x0=1,v0=2,g=DiracDelta(t))"
   ]
  },
  {
   "cell_type": "markdown",
   "metadata": {},
   "source": [
    "$${\\color{blue} \\ddot x + 5 \\dot x + 6 x = \\delta(t) \\text{~~and~~} x(0^-)=2, \\dot x(0^-)=1 }$$"
   ]
  },
  {
   "cell_type": "code",
   "execution_count": 4,
   "metadata": {
    "execution": {
     "iopub.execute_input": "2023-10-30T12:53:54.727481Z",
     "iopub.status.busy": "2023-10-30T12:53:54.727279Z",
     "iopub.status.idle": "2023-10-30T12:53:56.630388Z",
     "shell.execute_reply": "2023-10-30T12:53:56.629813Z",
     "shell.execute_reply.started": "2023-10-30T12:53:54.727464Z"
    }
   },
   "outputs": [
    {
     "name": "stdout",
     "output_type": "stream",
     "text": [
      "Roots  [  -3.000   -2.000]\n"
     ]
    },
    {
     "data": {
      "text/markdown": [
       "<span style=\"color: #ff0000\">Updating IC to account for Delta</span>"
      ],
      "text/plain": [
       "<IPython.core.display.Markdown object>"
      ]
     },
     "metadata": {},
     "output_type": "display_data"
    },
    {
     "data": {
      "image/png": "[encoded data removed]",
      "text/latex": [
       "$\\displaystyle - \\frac{6}{s + 3} + \\frac{8}{s + 2}$"
      ],
      "text/plain": [
       "    6       8  \n",
       "- ───── + ─────\n",
       "  s + 3   s + 2"
      ]
     },
     "metadata": {},
     "output_type": "display_data"
    },
    {
     "name": "stdout",
     "output_type": "stream",
     "text": [
      "Solution is:\n"
     ]
    },
    {
     "data": {
      "image/png": "[encoded data removed]",
      "text/latex": [
       "$\\displaystyle 8 e^{- 2 t} \\theta\\left(t\\right) - 6 e^{- 3 t} \\theta\\left(t\\right)$"
      ],
      "text/plain": [
       "   -2⋅t           -3⋅t     \n",
       "8⋅ℯ    ⋅θ(t) - 6⋅ℯ    ⋅θ(t)"
      ]
     },
     "metadata": {},
     "output_type": "display_data"
    },
    {
     "name": "stdout",
     "output_type": "stream",
     "text": [
      "Derivative of the solution is:\n"
     ]
    },
    {
     "data": {
      "image/png": "[encoded data removed]",
      "text/latex": [
       "$\\displaystyle 8 e^{- 2 t} \\delta\\left(t\\right) - 16 e^{- 2 t} \\theta\\left(t\\right) - 6 e^{- 3 t} \\delta\\left(t\\right) + 18 e^{- 3 t} \\theta\\left(t\\right)$"
      ],
      "text/plain": [
       "   -2⋅t            -2⋅t           -3⋅t            -3⋅t     \n",
       "8⋅ℯ    ⋅δ(t) - 16⋅ℯ    ⋅θ(t) - 6⋅ℯ    ⋅δ(t) + 18⋅ℯ    ⋅θ(t)"
      ]
     },
     "metadata": {},
     "output_type": "display_data"
    },
    {
     "data": {
      "text/markdown": [
       "<span style=\"color: #00b300\">Both IC agree</span>."
      ],
      "text/plain": [
       "<IPython.core.display.Markdown object>"
      ]
     },
     "metadata": {},
     "output_type": "display_data"
    },
    {
     "name": "stdout",
     "output_type": "stream",
     "text": [
      "x(0+) was 2.00 and is 2.00\n",
      "dx(0+)/dt was 2.00 and is 2.00\n"
     ]
    },
    {
     "data": {
      "text/latex": [
       "$\\displaystyle ODE~remainder: 0$"
      ],
      "text/plain": [
       "<IPython.core.display.Math object>"
      ]
     },
     "metadata": {},
     "output_type": "display_data"
    }
   ],
   "source": [
    "eom, x0p, v0p, soln = EOM(a=1,b=5,c=6,d=1,x0=2,v0=1,g = DiracDelta(t))"
   ]
  },
  {
   "cell_type": "markdown",
   "metadata": {},
   "source": [
    "<span style=\"color: #0000ff\">\n",
    "$$\\ddot x + 5 \\dot x + 6 x = e^{-2t}u(t) \\text{~~and~~} x(0^-)=2, \\dot x(0^-)=1$$ </span>"
   ]
  },
  {
   "cell_type": "markdown",
   "metadata": {},
   "source": []
  },
  {
   "cell_type": "code",
   "execution_count": 5,
   "metadata": {
    "execution": {
     "iopub.execute_input": "2023-10-30T12:53:56.631746Z",
     "iopub.status.busy": "2023-10-30T12:53:56.631340Z",
     "iopub.status.idle": "2023-10-30T12:53:58.607983Z",
     "shell.execute_reply": "2023-10-30T12:53:58.607450Z",
     "shell.execute_reply.started": "2023-10-30T12:53:56.631723Z"
    }
   },
   "outputs": [
    {
     "name": "stdout",
     "output_type": "stream",
     "text": [
      "Roots  [  -3.000   -2.000]\n"
     ]
    },
    {
     "data": {
      "image/png": "[encoded data removed]",
      "text/latex": [
       "$\\displaystyle - \\frac{1}{s + 3} + \\frac{3}{s + 2} + \\frac{4}{\\left(s + 2\\right)^{2}}$"
      ],
      "text/plain": [
       "    1       3        4    \n",
       "- ───── + ───── + ────────\n",
       "  s + 3   s + 2          2\n",
       "                  (s + 2) "
      ]
     },
     "metadata": {},
     "output_type": "display_data"
    },
    {
     "name": "stdout",
     "output_type": "stream",
     "text": [
      "Solution is:\n"
     ]
    },
    {
     "data": {
      "image/png": "[encoded data removed]",
      "text/latex": [
       "$\\displaystyle 4 t e^{- 2 t} \\theta\\left(t\\right) + 3 e^{- 2 t} \\theta\\left(t\\right) - e^{- 3 t} \\theta\\left(t\\right)$"
      ],
      "text/plain": [
       "     -2⋅t           -2⋅t         -3⋅t     \n",
       "4⋅t⋅ℯ    ⋅θ(t) + 3⋅ℯ    ⋅θ(t) - ℯ    ⋅θ(t)"
      ]
     },
     "metadata": {},
     "output_type": "display_data"
    },
    {
     "name": "stdout",
     "output_type": "stream",
     "text": [
      "Derivative of the solution is:\n"
     ]
    },
    {
     "data": {
      "image/png": "[encoded data removed]",
      "text/latex": [
       "$\\displaystyle 4 t e^{- 2 t} \\delta\\left(t\\right) - 8 t e^{- 2 t} \\theta\\left(t\\right) + 3 e^{- 2 t} \\delta\\left(t\\right) - 2 e^{- 2 t} \\theta\\left(t\\right) - e^{- 3 t} \\delta\\left(t\\right) + 3 e^{- 3 t} \\theta\\left(t\\right)$"
      ],
      "text/plain": [
       "     -2⋅t             -2⋅t           -2⋅t           -2⋅t         -3⋅t           -3⋅t     \n",
       "4⋅t⋅ℯ    ⋅δ(t) - 8⋅t⋅ℯ    ⋅θ(t) + 3⋅ℯ    ⋅δ(t) - 2⋅ℯ    ⋅θ(t) - ℯ    ⋅δ(t) + 3⋅ℯ    ⋅θ(t)"
      ]
     },
     "metadata": {},
     "output_type": "display_data"
    },
    {
     "data": {
      "text/markdown": [
       "<span style=\"color: #00b300\">Both IC agree</span>."
      ],
      "text/plain": [
       "<IPython.core.display.Markdown object>"
      ]
     },
     "metadata": {},
     "output_type": "display_data"
    },
    {
     "name": "stdout",
     "output_type": "stream",
     "text": [
      "x(0+) was 2.00 and is 2.00\n",
      "dx(0+)/dt was 1.00 and is 1.00\n"
     ]
    },
    {
     "data": {
      "text/latex": [
       "$\\displaystyle ODE~remainder: 0$"
      ],
      "text/plain": [
       "<IPython.core.display.Math object>"
      ]
     },
     "metadata": {},
     "output_type": "display_data"
    }
   ],
   "source": [
    "eom, x0p, v0p, soln = EOM(a=1,b=5,c=6,d=4,x0=2,v0=1,g = sympy.exp(-2*t)*Heaviside(t))"
   ]
  },
  {
   "cell_type": "markdown",
   "metadata": {},
   "source": [
    "<span style=\"color: #0000ff\">\n",
    "$$\\ddot x + 5 \\dot x + 6 x = u(t) \\text{~~and~~} x(0^-)=-1, \\dot x(0^-)=0 $$\n",
    "</span>"
   ]
  },
  {
   "cell_type": "code",
   "execution_count": 6,
   "metadata": {
    "execution": {
     "iopub.execute_input": "2023-10-30T12:53:58.609450Z",
     "iopub.status.busy": "2023-10-30T12:53:58.609165Z",
     "iopub.status.idle": "2023-10-30T12:54:00.581005Z",
     "shell.execute_reply": "2023-10-30T12:54:00.580547Z",
     "shell.execute_reply.started": "2023-10-30T12:53:58.609429Z"
    }
   },
   "outputs": [
    {
     "name": "stdout",
     "output_type": "stream",
     "text": [
      "Roots  [  -3.000   -2.000]\n"
     ]
    },
    {
     "data": {
      "image/png": "[encoded data removed]",
      "text/latex": [
       "$\\displaystyle \\frac{10}{3 \\left(s + 3\\right)} - \\frac{5}{s + 2} + \\frac{2}{3 s}$"
      ],
      "text/plain": [
       "    10        5      2 \n",
       "───────── - ───── + ───\n",
       "3⋅(s + 3)   s + 2   3⋅s"
      ]
     },
     "metadata": {},
     "output_type": "display_data"
    },
    {
     "name": "stdout",
     "output_type": "stream",
     "text": [
      "Solution is:\n"
     ]
    },
    {
     "data": {
      "image/png": "[encoded data removed]",
      "text/latex": [
       "$\\displaystyle \\frac{2 \\theta\\left(t\\right)}{3} - 5 e^{- 2 t} \\theta\\left(t\\right) + \\frac{10 e^{- 3 t} \\theta\\left(t\\right)}{3}$"
      ],
      "text/plain": [
       "                            -3⋅t     \n",
       "2⋅θ(t)      -2⋅t        10⋅ℯ    ⋅θ(t)\n",
       "────── - 5⋅ℯ    ⋅θ(t) + ─────────────\n",
       "  3                           3      "
      ]
     },
     "metadata": {},
     "output_type": "display_data"
    },
    {
     "name": "stdout",
     "output_type": "stream",
     "text": [
      "Derivative of the solution is:\n"
     ]
    },
    {
     "data": {
      "image/png": "[encoded data removed]",
      "text/latex": [
       "$\\displaystyle \\frac{2 \\delta\\left(t\\right)}{3} - 5 e^{- 2 t} \\delta\\left(t\\right) + 10 e^{- 2 t} \\theta\\left(t\\right) + \\frac{10 e^{- 3 t} \\delta\\left(t\\right)}{3} - 10 e^{- 3 t} \\theta\\left(t\\right)$"
      ],
      "text/plain": [
       "                                            -3⋅t                     \n",
       "2⋅δ(t)      -2⋅t            -2⋅t        10⋅ℯ    ⋅δ(t)       -3⋅t     \n",
       "────── - 5⋅ℯ    ⋅δ(t) + 10⋅ℯ    ⋅θ(t) + ───────────── - 10⋅ℯ    ⋅θ(t)\n",
       "  3                                           3                      "
      ]
     },
     "metadata": {},
     "output_type": "display_data"
    },
    {
     "data": {
      "text/markdown": [
       "<span style=\"color: #00b300\">Both IC agree</span>."
      ],
      "text/plain": [
       "<IPython.core.display.Markdown object>"
      ]
     },
     "metadata": {},
     "output_type": "display_data"
    },
    {
     "name": "stdout",
     "output_type": "stream",
     "text": [
      "x(0+) was -1.00 and is -1.00\n",
      "dx(0+)/dt was 0.00 and is 0.00\n"
     ]
    },
    {
     "data": {
      "text/latex": [
       "$\\displaystyle ODE~remainder: 0$"
      ],
      "text/plain": [
       "<IPython.core.display.Math object>"
      ]
     },
     "metadata": {},
     "output_type": "display_data"
    }
   ],
   "source": [
    "eom, x0p, v0p, soln = EOM(a=1,b=5,c=6,d=4,x0=-1,v0=0,g = Heaviside(t))"
   ]
  },
  {
   "cell_type": "markdown",
   "metadata": {},
   "source": [
    "<span style=\"color: #0000ff\">\n",
    "$$3\\ddot x + 30 \\dot x + 63 x = 0 \\text{~~and~~} x(0^-)=4, \\dot x(0^-)=7$$\n",
    "</span>"
   ]
  },
  {
   "cell_type": "code",
   "execution_count": 7,
   "metadata": {
    "colab": {
     "base_uri": "https://localhost:8080/"
    },
    "execution": {
     "iopub.execute_input": "2023-10-30T12:54:00.584043Z",
     "iopub.status.busy": "2023-10-30T12:54:00.583843Z",
     "iopub.status.idle": "2023-10-30T12:54:02.499050Z",
     "shell.execute_reply": "2023-10-30T12:54:02.498319Z",
     "shell.execute_reply.started": "2023-10-30T12:54:00.584026Z"
    },
    "executionInfo": {
     "elapsed": 1747,
     "status": "ok",
     "timestamp": 1626108131308,
     "user": {
      "displayName": "Jonathan How",
      "photoUrl": "https://lh3.googleusercontent.com/a-/AOh14GiLNnJYgBpzQQozBm-BaS4zBKlaQEQa39WYawXVaw=s64",
      "userId": "07882044077368082882"
     },
     "user_tz": 240
    },
    "id": "ATlXK5Vm7_bN",
    "outputId": "e77c9702-4576-450d-8bba-520d509e3ace",
    "tags": []
   },
   "outputs": [
    {
     "name": "stdout",
     "output_type": "stream",
     "text": [
      "Roots  [  -7.000   -3.000]\n"
     ]
    },
    {
     "data": {
      "image/png": "[encoded data removed]",
      "text/latex": [
       "$\\displaystyle - \\frac{19}{4 \\left(s + 7\\right)} + \\frac{35}{4 \\left(s + 3\\right)}$"
      ],
      "text/plain": [
       "      19          35   \n",
       "- ───────── + ─────────\n",
       "  4⋅(s + 7)   4⋅(s + 3)"
      ]
     },
     "metadata": {},
     "output_type": "display_data"
    },
    {
     "name": "stdout",
     "output_type": "stream",
     "text": [
      "Solution is:\n"
     ]
    },
    {
     "data": {
      "image/png": "[encoded data removed]",
      "text/latex": [
       "$\\displaystyle \\frac{35 e^{- 3 t} \\theta\\left(t\\right)}{4} - \\frac{19 e^{- 7 t} \\theta\\left(t\\right)}{4}$"
      ],
      "text/plain": [
       "    -3⋅t            -7⋅t     \n",
       "35⋅ℯ    ⋅θ(t)   19⋅ℯ    ⋅θ(t)\n",
       "───────────── - ─────────────\n",
       "      4               4      "
      ]
     },
     "metadata": {},
     "output_type": "display_data"
    },
    {
     "name": "stdout",
     "output_type": "stream",
     "text": [
      "Derivative of the solution is:\n"
     ]
    },
    {
     "data": {
      "image/png": "[encoded data removed]",
      "text/latex": [
       "$\\displaystyle \\frac{35 e^{- 3 t} \\delta\\left(t\\right)}{4} - \\frac{105 e^{- 3 t} \\theta\\left(t\\right)}{4} - \\frac{19 e^{- 7 t} \\delta\\left(t\\right)}{4} + \\frac{133 e^{- 7 t} \\theta\\left(t\\right)}{4}$"
      ],
      "text/plain": [
       "    -3⋅t             -3⋅t            -7⋅t             -7⋅t     \n",
       "35⋅ℯ    ⋅δ(t)   105⋅ℯ    ⋅θ(t)   19⋅ℯ    ⋅δ(t)   133⋅ℯ    ⋅θ(t)\n",
       "───────────── - ────────────── - ───────────── + ──────────────\n",
       "      4               4                4               4       "
      ]
     },
     "metadata": {},
     "output_type": "display_data"
    },
    {
     "data": {
      "text/markdown": [
       "<span style=\"color: #00b300\">Both IC agree</span>."
      ],
      "text/plain": [
       "<IPython.core.display.Markdown object>"
      ]
     },
     "metadata": {},
     "output_type": "display_data"
    },
    {
     "name": "stdout",
     "output_type": "stream",
     "text": [
      "x(0+) was 4.00 and is 4.00\n",
      "dx(0+)/dt was 7.00 and is 7.00\n"
     ]
    },
    {
     "data": {
      "text/latex": [
       "$\\displaystyle ODE~remainder: 0$"
      ],
      "text/plain": [
       "<IPython.core.display.Math object>"
      ]
     },
     "metadata": {},
     "output_type": "display_data"
    }
   ],
   "source": [
    "eom, x0p, v0p, soln = EOM(a=3,b=30,c=63,d=0,x0=4,v0=7,g = 0)"
   ]
  },
  {
   "cell_type": "markdown",
   "metadata": {},
   "source": [
    "<span style=\"color: #0000ff\">\n",
    "$$2\\ddot x + 8 \\dot x + 6 x = 5\\delta(t) \\text{~~and~~} x(0^-)=5, \\dot x(0^-)=7 $$\n",
    "</span>"
   ]
  },
  {
   "cell_type": "code",
   "execution_count": 8,
   "metadata": {
    "colab": {
     "base_uri": "https://localhost:8080/"
    },
    "execution": {
     "iopub.execute_input": "2023-10-30T12:54:02.500563Z",
     "iopub.status.busy": "2023-10-30T12:54:02.500370Z",
     "iopub.status.idle": "2023-10-30T12:54:04.449062Z",
     "shell.execute_reply": "2023-10-30T12:54:04.448542Z",
     "shell.execute_reply.started": "2023-10-30T12:54:02.500544Z"
    },
    "executionInfo": {
     "elapsed": 1747,
     "status": "ok",
     "timestamp": 1626108131308,
     "user": {
      "displayName": "Jonathan How",
      "photoUrl": "https://lh3.googleusercontent.com/a-/AOh14GiLNnJYgBpzQQozBm-BaS4zBKlaQEQa39WYawXVaw=s64",
      "userId": "07882044077368082882"
     },
     "user_tz": 240
    },
    "id": "ATlXK5Vm7_bN",
    "outputId": "e77c9702-4576-450d-8bba-520d509e3ace",
    "tags": []
   },
   "outputs": [
    {
     "name": "stdout",
     "output_type": "stream",
     "text": [
      "Roots  [  -3.000   -1.000]\n"
     ]
    },
    {
     "data": {
      "text/markdown": [
       "<span style=\"color: #ff0000\">Updating IC to account for Delta</span>"
      ],
      "text/plain": [
       "<IPython.core.display.Markdown object>"
      ]
     },
     "metadata": {},
     "output_type": "display_data"
    },
    {
     "data": {
      "image/png": "[encoded data removed]",
      "text/latex": [
       "$\\displaystyle - \\frac{29}{4 \\left(s + 3\\right)} + \\frac{49}{4 \\left(s + 1\\right)}$"
      ],
      "text/plain": [
       "      29          49   \n",
       "- ───────── + ─────────\n",
       "  4⋅(s + 3)   4⋅(s + 1)"
      ]
     },
     "metadata": {},
     "output_type": "display_data"
    },
    {
     "name": "stdout",
     "output_type": "stream",
     "text": [
      "Solution is:\n"
     ]
    },
    {
     "data": {
      "image/png": "[encoded data removed]",
      "text/latex": [
       "$\\displaystyle \\frac{49 e^{- t} \\theta\\left(t\\right)}{4} - \\frac{29 e^{- 3 t} \\theta\\left(t\\right)}{4}$"
      ],
      "text/plain": [
       "    -t            -3⋅t     \n",
       "49⋅ℯ  ⋅θ(t)   29⋅ℯ    ⋅θ(t)\n",
       "─────────── - ─────────────\n",
       "     4              4      "
      ]
     },
     "metadata": {},
     "output_type": "display_data"
    },
    {
     "name": "stdout",
     "output_type": "stream",
     "text": [
      "Derivative of the solution is:\n"
     ]
    },
    {
     "data": {
      "image/png": "[encoded data removed]",
      "text/latex": [
       "$\\displaystyle \\frac{49 e^{- t} \\delta\\left(t\\right)}{4} - \\frac{49 e^{- t} \\theta\\left(t\\right)}{4} - \\frac{29 e^{- 3 t} \\delta\\left(t\\right)}{4} + \\frac{87 e^{- 3 t} \\theta\\left(t\\right)}{4}$"
      ],
      "text/plain": [
       "    -t            -t            -3⋅t            -3⋅t     \n",
       "49⋅ℯ  ⋅δ(t)   49⋅ℯ  ⋅θ(t)   29⋅ℯ    ⋅δ(t)   87⋅ℯ    ⋅θ(t)\n",
       "─────────── - ─────────── - ───────────── + ─────────────\n",
       "     4             4              4               4      "
      ]
     },
     "metadata": {},
     "output_type": "display_data"
    },
    {
     "data": {
      "text/markdown": [
       "<span style=\"color: #00b300\">Both IC agree</span>."
      ],
      "text/plain": [
       "<IPython.core.display.Markdown object>"
      ]
     },
     "metadata": {},
     "output_type": "display_data"
    },
    {
     "name": "stdout",
     "output_type": "stream",
     "text": [
      "x(0+) was 5.00 and is 5.00\n",
      "dx(0+)/dt was 9.50 and is 9.50\n"
     ]
    },
    {
     "data": {
      "text/latex": [
       "$\\displaystyle ODE~remainder: 0$"
      ],
      "text/plain": [
       "<IPython.core.display.Math object>"
      ]
     },
     "metadata": {},
     "output_type": "display_data"
    }
   ],
   "source": [
    "eom, x0p, v0p, soln = EOM(a=2,b=8,c=6,d=5,x0=5,v0=7,g = DiracDelta(t) )"
   ]
  },
  {
   "cell_type": "markdown",
   "metadata": {},
   "source": [
    "<span style=\"color: #0000ff\">\n",
    "$$2\\ddot x + 8 \\dot x + 6 x = 5 e^{-t}u(t) \\text{~~and~~} x(0^-)=5, \\dot x(0^-)=7 $$\n",
    "</span>"
   ]
  },
  {
   "cell_type": "code",
   "execution_count": 9,
   "metadata": {
    "colab": {
     "base_uri": "https://localhost:8080/"
    },
    "execution": {
     "iopub.execute_input": "2023-10-30T12:54:04.450357Z",
     "iopub.status.busy": "2023-10-30T12:54:04.450128Z",
     "iopub.status.idle": "2023-10-30T12:54:06.521754Z",
     "shell.execute_reply": "2023-10-30T12:54:06.521278Z",
     "shell.execute_reply.started": "2023-10-30T12:54:04.450340Z"
    },
    "executionInfo": {
     "elapsed": 1747,
     "status": "ok",
     "timestamp": 1626108131308,
     "user": {
      "displayName": "Jonathan How",
      "photoUrl": "https://lh3.googleusercontent.com/a-/AOh14GiLNnJYgBpzQQozBm-BaS4zBKlaQEQa39WYawXVaw=s64",
      "userId": "07882044077368082882"
     },
     "user_tz": 240
    },
    "id": "ATlXK5Vm7_bN",
    "outputId": "e77c9702-4576-450d-8bba-520d509e3ace",
    "tags": []
   },
   "outputs": [
    {
     "name": "stdout",
     "output_type": "stream",
     "text": [
      "Roots  [  -3.000   -1.000]\n"
     ]
    },
    {
     "data": {
      "image/png": "[encoded data removed]",
      "text/latex": [
       "$\\displaystyle - \\frac{43}{8 \\left(s + 3\\right)} + \\frac{83}{8 \\left(s + 1\\right)} + \\frac{5}{4 \\left(s + 1\\right)^{2}}$"
      ],
      "text/plain": [
       "      43          83          5     \n",
       "- ───────── + ───────── + ──────────\n",
       "  8⋅(s + 3)   8⋅(s + 1)            2\n",
       "                          4⋅(s + 1) "
      ]
     },
     "metadata": {},
     "output_type": "display_data"
    },
    {
     "name": "stdout",
     "output_type": "stream",
     "text": [
      "Solution is:\n"
     ]
    },
    {
     "data": {
      "image/png": "[encoded data removed]",
      "text/latex": [
       "$\\displaystyle \\frac{5 t e^{- t} \\theta\\left(t\\right)}{4} + \\frac{83 e^{- t} \\theta\\left(t\\right)}{8} - \\frac{43 e^{- 3 t} \\theta\\left(t\\right)}{8}$"
      ],
      "text/plain": [
       "     -t            -t            -3⋅t     \n",
       "5⋅t⋅ℯ  ⋅θ(t)   83⋅ℯ  ⋅θ(t)   43⋅ℯ    ⋅θ(t)\n",
       "──────────── + ─────────── - ─────────────\n",
       "     4              8              8      "
      ]
     },
     "metadata": {},
     "output_type": "display_data"
    },
    {
     "name": "stdout",
     "output_type": "stream",
     "text": [
      "Derivative of the solution is:\n"
     ]
    },
    {
     "data": {
      "image/png": "[encoded data removed]",
      "text/latex": [
       "$\\displaystyle \\frac{5 t e^{- t} \\delta\\left(t\\right)}{4} - \\frac{5 t e^{- t} \\theta\\left(t\\right)}{4} + \\frac{83 e^{- t} \\delta\\left(t\\right)}{8} - \\frac{73 e^{- t} \\theta\\left(t\\right)}{8} - \\frac{43 e^{- 3 t} \\delta\\left(t\\right)}{8} + \\frac{129 e^{- 3 t} \\theta\\left(t\\right)}{8}$"
      ],
      "text/plain": [
       "     -t             -t            -t            -t            -3⋅t             -3⋅t     \n",
       "5⋅t⋅ℯ  ⋅δ(t)   5⋅t⋅ℯ  ⋅θ(t)   83⋅ℯ  ⋅δ(t)   73⋅ℯ  ⋅θ(t)   43⋅ℯ    ⋅δ(t)   129⋅ℯ    ⋅θ(t)\n",
       "──────────── - ──────────── + ─────────── - ─────────── - ───────────── + ──────────────\n",
       "     4              4              8             8              8               8       "
      ]
     },
     "metadata": {},
     "output_type": "display_data"
    },
    {
     "data": {
      "text/markdown": [
       "<span style=\"color: #00b300\">Both IC agree</span>."
      ],
      "text/plain": [
       "<IPython.core.display.Markdown object>"
      ]
     },
     "metadata": {},
     "output_type": "display_data"
    },
    {
     "name": "stdout",
     "output_type": "stream",
     "text": [
      "x(0+) was 5.00 and is 5.00\n",
      "dx(0+)/dt was 7.00 and is 7.00\n"
     ]
    },
    {
     "data": {
      "text/latex": [
       "$\\displaystyle ODE~remainder: 0$"
      ],
      "text/plain": [
       "<IPython.core.display.Math object>"
      ]
     },
     "metadata": {},
     "output_type": "display_data"
    }
   ],
   "source": [
    "eom, x0p, v0p, soln = EOM(a=2,b=8,c=6,d=5,x0=5,v0=7,g = sympy.exp(-t)*Heaviside(t) )"
   ]
  },
  {
   "cell_type": "markdown",
   "metadata": {},
   "source": [
    "<span style=\"color: #0000ff\">\n",
    "$$2\\ddot x + 8 \\dot x + 26 x = \\delta(t) \\text{~~and~~} x(0^-)=0, \\dot x(0^-)=0 $$\n",
    "</span>"
   ]
  },
  {
   "cell_type": "code",
   "execution_count": 10,
   "metadata": {
    "colab": {
     "base_uri": "https://localhost:8080/"
    },
    "execution": {
     "iopub.execute_input": "2023-10-30T12:54:06.523061Z",
     "iopub.status.busy": "2023-10-30T12:54:06.522840Z",
     "iopub.status.idle": "2023-10-30T12:54:08.477143Z",
     "shell.execute_reply": "2023-10-30T12:54:08.476633Z",
     "shell.execute_reply.started": "2023-10-30T12:54:06.523044Z"
    },
    "executionInfo": {
     "elapsed": 1747,
     "status": "ok",
     "timestamp": 1626108131308,
     "user": {
      "displayName": "Jonathan How",
      "photoUrl": "https://lh3.googleusercontent.com/a-/AOh14GiLNnJYgBpzQQozBm-BaS4zBKlaQEQa39WYawXVaw=s64",
      "userId": "07882044077368082882"
     },
     "user_tz": 240
    },
    "id": "ATlXK5Vm7_bN",
    "outputId": "e77c9702-4576-450d-8bba-520d509e3ace",
    "tags": []
   },
   "outputs": [
    {
     "name": "stdout",
     "output_type": "stream",
     "text": [
      "Roots  [-2.+3.j -2.-3.j]\n"
     ]
    },
    {
     "data": {
      "text/markdown": [
       "<span style=\"color: #ff0000\">Updating IC to account for Delta</span>"
      ],
      "text/plain": [
       "<IPython.core.display.Markdown object>"
      ]
     },
     "metadata": {},
     "output_type": "display_data"
    },
    {
     "data": {
      "image/png": "[encoded data removed]",
      "text/latex": [
       "$\\displaystyle \\frac{1}{2 \\left(s^{2} + 4 s + 13\\right)}$"
      ],
      "text/plain": [
       "        1        \n",
       "─────────────────\n",
       "  ⎛ 2           ⎞\n",
       "2⋅⎝s  + 4⋅s + 13⎠"
      ]
     },
     "metadata": {},
     "output_type": "display_data"
    },
    {
     "name": "stdout",
     "output_type": "stream",
     "text": [
      "Solution is:\n"
     ]
    },
    {
     "data": {
      "image/png": "[encoded data removed]",
      "text/latex": [
       "$\\displaystyle \\frac{e^{- 2 t} \\sin{\\left(3 t \\right)} \\theta\\left(t\\right)}{6}$"
      ],
      "text/plain": [
       " -2⋅t              \n",
       "ℯ    ⋅sin(3⋅t)⋅θ(t)\n",
       "───────────────────\n",
       "         6         "
      ]
     },
     "metadata": {},
     "output_type": "display_data"
    },
    {
     "name": "stdout",
     "output_type": "stream",
     "text": [
      "Derivative of the solution is:\n"
     ]
    },
    {
     "data": {
      "image/png": "[encoded data removed]",
      "text/latex": [
       "$\\displaystyle \\frac{e^{- 2 t} \\sin{\\left(3 t \\right)} \\delta\\left(t\\right)}{6} - \\frac{e^{- 2 t} \\sin{\\left(3 t \\right)} \\theta\\left(t\\right)}{3} + \\frac{e^{- 2 t} \\cos{\\left(3 t \\right)} \\theta\\left(t\\right)}{2}$"
      ],
      "text/plain": [
       " -2⋅t                  -2⋅t                  -2⋅t              \n",
       "ℯ    ⋅sin(3⋅t)⋅δ(t)   ℯ    ⋅sin(3⋅t)⋅θ(t)   ℯ    ⋅cos(3⋅t)⋅θ(t)\n",
       "─────────────────── - ─────────────────── + ───────────────────\n",
       "         6                     3                     2         "
      ]
     },
     "metadata": {},
     "output_type": "display_data"
    },
    {
     "data": {
      "text/markdown": [
       "<span style=\"color: #00b300\">Both IC agree</span>."
      ],
      "text/plain": [
       "<IPython.core.display.Markdown object>"
      ]
     },
     "metadata": {},
     "output_type": "display_data"
    },
    {
     "name": "stdout",
     "output_type": "stream",
     "text": [
      "x(0+) was 0.00 and is 0.00\n",
      "dx(0+)/dt was 0.50 and is 0.50\n"
     ]
    },
    {
     "data": {
      "text/latex": [
       "$\\displaystyle ODE~remainder: 0$"
      ],
      "text/plain": [
       "<IPython.core.display.Math object>"
      ]
     },
     "metadata": {},
     "output_type": "display_data"
    }
   ],
   "source": [
    "eom, x0p, v0p, soln = EOM(a=2,b=8,c=26,d=1,x0=0,v0=0,g = DiracDelta(t) )"
   ]
  },
  {
   "cell_type": "code",
   "execution_count": 11,
   "metadata": {
    "colab": {
     "base_uri": "https://localhost:8080/"
    },
    "execution": {
     "iopub.execute_input": "2023-10-30T12:54:08.478465Z",
     "iopub.status.busy": "2023-10-30T12:54:08.478098Z",
     "iopub.status.idle": "2023-10-30T12:54:10.665781Z",
     "shell.execute_reply": "2023-10-30T12:54:10.665134Z",
     "shell.execute_reply.started": "2023-10-30T12:54:08.478447Z"
    },
    "executionInfo": {
     "elapsed": 1747,
     "status": "ok",
     "timestamp": 1626108131308,
     "user": {
      "displayName": "Jonathan How",
      "photoUrl": "https://lh3.googleusercontent.com/a-/AOh14GiLNnJYgBpzQQozBm-BaS4zBKlaQEQa39WYawXVaw=s64",
      "userId": "07882044077368082882"
     },
     "user_tz": 240
    },
    "id": "ATlXK5Vm7_bN",
    "outputId": "e77c9702-4576-450d-8bba-520d509e3ace",
    "tags": []
   },
   "outputs": [
    {
     "name": "stdout",
     "output_type": "stream",
     "text": [
      "Roots  [  -5.000    3.000]\n"
     ]
    },
    {
     "data": {
      "image/png": "[encoded data removed]",
      "text/latex": [
       "$\\displaystyle - \\frac{3 \\cdot \\left(8 s - 1\\right)}{65 \\left(s^{2} + 1\\right)} - \\frac{271}{104 \\left(s + 5\\right)} - \\frac{81}{40 \\left(s - 3\\right)}$"
      ],
      "text/plain": [
       "  3⋅(8⋅s - 1)       271           81    \n",
       "- ─────────── - ─────────── - ──────────\n",
       "     ⎛ 2    ⎞   104⋅(s + 5)   40⋅(s - 3)\n",
       "  65⋅⎝s  + 1⎠                           "
      ]
     },
     "metadata": {},
     "output_type": "display_data"
    },
    {
     "name": "stdout",
     "output_type": "stream",
     "text": [
      "Solution is:\n"
     ]
    },
    {
     "data": {
      "image/png": "[encoded data removed]",
      "text/latex": [
       "$\\displaystyle - \\frac{3 \\left(- \\sin{\\left(t \\right)} + 8 \\cos{\\left(t \\right)}\\right) \\theta\\left(t\\right)}{65} - \\frac{81 e^{3 t} \\theta\\left(t\\right)}{40} - \\frac{271 e^{- 5 t} \\theta\\left(t\\right)}{104}$"
      ],
      "text/plain": [
       "                                    3⋅t             -5⋅t     \n",
       "  3⋅(-sin(t) + 8⋅cos(t))⋅θ(t)   81⋅ℯ   ⋅θ(t)   271⋅ℯ    ⋅θ(t)\n",
       "- ─────────────────────────── - ──────────── - ──────────────\n",
       "               65                    40             104      "
      ]
     },
     "metadata": {},
     "output_type": "display_data"
    },
    {
     "name": "stdout",
     "output_type": "stream",
     "text": [
      "Derivative of the solution is:\n"
     ]
    },
    {
     "data": {
      "image/png": "[encoded data removed]",
      "text/latex": [
       "$\\displaystyle - \\frac{3 \\left(- 8 \\sin{\\left(t \\right)} - \\cos{\\left(t \\right)}\\right) \\theta\\left(t\\right)}{65} - \\frac{3 \\left(- \\sin{\\left(t \\right)} + 8 \\cos{\\left(t \\right)}\\right) \\delta\\left(t\\right)}{65} - \\frac{81 e^{3 t} \\delta\\left(t\\right)}{40} - \\frac{243 e^{3 t} \\theta\\left(t\\right)}{40} - \\frac{271 e^{- 5 t} \\delta\\left(t\\right)}{104} + \\frac{1355 e^{- 5 t} \\theta\\left(t\\right)}{104}$"
      ],
      "text/plain": [
       "                                                                  3⋅t             3⋅t             -5⋅t              -5⋅t    \n",
       "  3⋅(-8⋅sin(t) - cos(t))⋅θ(t)   3⋅(-sin(t) + 8⋅cos(t))⋅δ(t)   81⋅ℯ   ⋅δ(t)   243⋅ℯ   ⋅θ(t)   271⋅ℯ    ⋅δ(t)   1355⋅ℯ    ⋅θ(t\n",
       "- ─────────────────────────── - ─────────────────────────── - ──────────── - ───────────── - ────────────── + ──────────────\n",
       "               65                            65                    40              40             104               104     \n",
       "\n",
       " \n",
       ")\n",
       "─\n",
       " "
      ]
     },
     "metadata": {},
     "output_type": "display_data"
    },
    {
     "data": {
      "text/markdown": [
       "<span style=\"color: #00b300\">Both IC agree</span>."
      ],
      "text/plain": [
       "<IPython.core.display.Markdown object>"
      ]
     },
     "metadata": {},
     "output_type": "display_data"
    },
    {
     "name": "stdout",
     "output_type": "stream",
     "text": [
      "x(0+) was -5.00 and is -5.00\n",
      "dx(0+)/dt was 7.00 and is 7.00\n"
     ]
    },
    {
     "data": {
      "text/latex": [
       "$\\displaystyle ODE~remainder: 0$"
      ],
      "text/plain": [
       "<IPython.core.display.Math object>"
      ]
     },
     "metadata": {},
     "output_type": "display_data"
    }
   ],
   "source": [
    "eom, x0p, v0p, soln = EOM(a=1,b=2,c=-15,d=6,x0=-5,v0=7,g = cos(t)*Heaviside(t) )"
   ]
  },
  {
   "cell_type": "markdown",
   "metadata": {},
   "source": [
    "## 3rd order systems"
   ]
  },
  {
   "cell_type": "code",
   "execution_count": 12,
   "metadata": {
    "execution": {
     "iopub.execute_input": "2023-10-30T12:54:10.666990Z",
     "iopub.status.busy": "2023-10-30T12:54:10.666739Z",
     "iopub.status.idle": "2023-10-30T12:54:10.677675Z",
     "shell.execute_reply": "2023-10-30T12:54:10.677079Z",
     "shell.execute_reply.started": "2023-10-30T12:54:10.666972Z"
    }
   },
   "outputs": [],
   "source": [
    "def EOM3(a=1,b=1,c=1,d=1,g=1,x0=0,v0=0,a0=0):\n",
    "\n",
    "    ev = np.roots([a,b,c,d])\n",
    "    print(ev) # check poles of system \n",
    "\n",
    "    x0p = x0 \n",
    "    v0p = v0\n",
    "    a0p = a0\n",
    "    if g == DiracDelta(t):\n",
    "        ic()\n",
    "        a0p += 1/a\n",
    "    W = laplace_transform(g, t, s, noconds = True)\n",
    "    eom  = Eq(a*(X(s)*s**3 - s**2*x0 - s*v0 - a0) + b*(s**2 *X(s)- s*x0 - v0) + c*(s*X(s) - x0) + d * X(s), W)\n",
    "    #eom.replace(Heaviside(0), 0)\n",
    "    display(eom)\n",
    "    Xofs = solve(eom,X(s))[0]\n",
    "    display(Xofs)\n",
    "    display(Xofs.apart())\n",
    "\n",
    "    soln = inverse_laplace_transform(Xofs.apart(),s,t)\n",
    "    display(soln)\n",
    "\n",
    "    # compute soln at time 0 to confirm that x(0) = x0\n",
    "    soln_x0 = soln.subs(t,t0p)\n",
    "    soln_v0 = soln.diff(t).subs(t,t0p)\n",
    "    soln_a0 = soln.diff(t).diff(t).subs(t,t0p)\n",
    "    if ((np.abs(x0p - soln_x0) < 1e-2) and (np.abs(v0p - soln_v0) < 1e-2) and (np.abs(a0p - soln_a0) < 1e-2)):\n",
    "        display(Markdown('<span style=\"color: #00b300\">All IC agree</span>.'))\n",
    "    #display(soln.diff(t))\n",
    "    print(f'x(0+) was '+f'{x0p:.2f}'+' and is '+f'{soln_x0:.2f}')    \n",
    "    print(f'dx(0+)/dt was '+f'{v0p:.2f}'+' and is '+f'{soln_v0:.2f}')\n",
    "    print(f'd^2x(0+)/dt^2 was '+f'{a0p:.2f}'+' and is '+f'{soln_a0:.2f}')\n",
    "\n",
    "    term2 = soln.diff(t)\n",
    "    term2_mult_property = term2.subs(Heaviside(t),0).subs(DiracDelta(t),1).subs(t,0)\n",
    "    term2_simplified = term2.subs(DiracDelta(t),0)+term2_mult_property*DiracDelta(t) - x0*DiracDelta(t)\n",
    "    #display(b*term2_simplified)\n",
    "\n",
    "    term3 = term2_simplified.diff(t)\n",
    "    term3_mult_property = term3.subs(Heaviside(t),0).subs(DiracDelta(t),1).subs(t,0)\n",
    "    term3_simplified = term3.subs(DiracDelta(t),0)+term3_mult_property*DiracDelta(t) - v0*DiracDelta(t)\n",
    "    #display(a*term3_simplified)\n",
    "\n",
    "    term4 = term3_simplified.diff(t)\n",
    "    term4_mult_property = term4.subs(Heaviside(t),0).subs(DiracDelta(t),1).subs(t,0)\n",
    "    term4_simplified = term4.subs(DiracDelta(t),0)+term4_mult_property*DiracDelta(t) - a0*DiracDelta(t)\n",
    "    #display(a*term3_simplified)\n",
    "\n",
    "    display(Math(f'ODE~remainder: {latex(simplify(a*term4_simplified+b*term3_simplified+c*term2_simplified + d*soln - g))}'))\n",
    "       \n",
    "    return eom, x0p,v0p,a0p, soln"
   ]
  },
  {
   "cell_type": "markdown",
   "metadata": {},
   "source": [
    "<span style=\"color: #0000ff\">\n",
    "$$\\dddot x + 6\\ddot x + 11 \\dot x + 6 x = u(t) \\text{~~and~~} x(0^-)=5, \\dot x(0^-)=7, \\ddot x(0^-)=9 $$\n",
    "</span>"
   ]
  },
  {
   "cell_type": "code",
   "execution_count": 13,
   "metadata": {
    "execution": {
     "iopub.execute_input": "2023-10-30T12:54:10.678643Z",
     "iopub.status.busy": "2023-10-30T12:54:10.678398Z",
     "iopub.status.idle": "2023-10-30T12:54:13.298657Z",
     "shell.execute_reply": "2023-10-30T12:54:13.298199Z",
     "shell.execute_reply.started": "2023-10-30T12:54:10.678626Z"
    }
   },
   "outputs": [
    {
     "name": "stdout",
     "output_type": "stream",
     "text": [
      "[  -3.000   -2.000   -1.000]\n"
     ]
    },
    {
     "data": {
      "image/png": "[encoded data removed]",
      "text/latex": [
       "$\\displaystyle s^{3} X{\\left(s \\right)} + 6 s^{2} X{\\left(s \\right)} - 5 s^{2} + 11 s X{\\left(s \\right)} - 37 s + 6 X{\\left(s \\right)} - 106 = \\frac{1}{s}$"
      ],
      "text/plain": [
       " 3           2           2                                     1\n",
       "s ⋅X(s) + 6⋅s ⋅X(s) - 5⋅s  + 11⋅s⋅X(s) - 37⋅s + 6⋅X(s) - 106 = ─\n",
       "                                                               s"
      ]
     },
     "metadata": {},
     "output_type": "display_data"
    },
    {
     "data": {
      "image/png": "[encoded data removed]",
      "text/latex": [
       "$\\displaystyle \\frac{5 s^{3} + 37 s^{2} + 106 s + 1}{s \\left(s^{3} + 6 s^{2} + 11 s + 6\\right)}$"
      ],
      "text/plain": [
       "   3       2            \n",
       "5⋅s  + 37⋅s  + 106⋅s + 1\n",
       "────────────────────────\n",
       "  ⎛ 3      2           ⎞\n",
       "s⋅⎝s  + 6⋅s  + 11⋅s + 6⎠"
      ]
     },
     "metadata": {},
     "output_type": "display_data"
    },
    {
     "data": {
      "image/png": "[encoded data removed]",
      "text/latex": [
       "$\\displaystyle \\frac{119}{6 \\left(s + 3\\right)} - \\frac{103}{2 \\left(s + 2\\right)} + \\frac{73}{2 \\left(s + 1\\right)} + \\frac{1}{6 s}$"
      ],
      "text/plain": [
       "   119         103          73       1 \n",
       "───────── - ───────── + ───────── + ───\n",
       "6⋅(s + 3)   2⋅(s + 2)   2⋅(s + 1)   6⋅s"
      ]
     },
     "metadata": {},
     "output_type": "display_data"
    },
    {
     "data": {
      "image/png": "[encoded data removed]",
      "text/latex": [
       "$\\displaystyle \\frac{\\theta\\left(t\\right)}{6} + \\frac{73 e^{- t} \\theta\\left(t\\right)}{2} - \\frac{103 e^{- 2 t} \\theta\\left(t\\right)}{2} + \\frac{119 e^{- 3 t} \\theta\\left(t\\right)}{6}$"
      ],
      "text/plain": [
       "           -t             -2⋅t             -3⋅t     \n",
       "θ(t)   73⋅ℯ  ⋅θ(t)   103⋅ℯ    ⋅θ(t)   119⋅ℯ    ⋅θ(t)\n",
       "──── + ─────────── - ────────────── + ──────────────\n",
       " 6          2              2                6       "
      ]
     },
     "metadata": {},
     "output_type": "display_data"
    },
    {
     "data": {
      "text/markdown": [
       "<span style=\"color: #00b300\">All IC agree</span>."
      ],
      "text/plain": [
       "<IPython.core.display.Markdown object>"
      ]
     },
     "metadata": {},
     "output_type": "display_data"
    },
    {
     "name": "stdout",
     "output_type": "stream",
     "text": [
      "x(0+) was 5.00 and is 5.00\n",
      "dx(0+)/dt was 7.00 and is 7.00\n",
      "d^2x(0+)/dt^2 was 9.00 and is 9.00\n"
     ]
    },
    {
     "data": {
      "text/latex": [
       "$\\displaystyle ODE~remainder: 0$"
      ],
      "text/plain": [
       "<IPython.core.display.Math object>"
      ]
     },
     "metadata": {},
     "output_type": "display_data"
    }
   ],
   "source": [
    "eom, x0p, v0p, a0p, soln = EOM3(a=1,b=6,c=11,d=6,x0=5,v0=7,a0=9, g = Heaviside(t) )"
   ]
  },
  {
   "cell_type": "markdown",
   "metadata": {},
   "source": [
    "## Example 6 in Topic 13"
   ]
  },
  {
   "cell_type": "code",
   "execution_count": 14,
   "metadata": {
    "execution": {
     "iopub.execute_input": "2023-10-30T12:54:13.299760Z",
     "iopub.status.busy": "2023-10-30T12:54:13.299568Z",
     "iopub.status.idle": "2023-10-30T12:54:15.271122Z",
     "shell.execute_reply": "2023-10-30T12:54:15.270630Z",
     "shell.execute_reply.started": "2023-10-30T12:54:13.299743Z"
    }
   },
   "outputs": [
    {
     "name": "stdout",
     "output_type": "stream",
     "text": [
      "Roots  [  -3.000   -0.500]\n"
     ]
    },
    {
     "data": {
      "text/markdown": [
       "<span style=\"color: #ff0000\">Updating IC to account for Delta</span>"
      ],
      "text/plain": [
       "<IPython.core.display.Markdown object>"
      ]
     },
     "metadata": {},
     "output_type": "display_data"
    },
    {
     "data": {
      "image/png": "[encoded data removed]",
      "text/latex": [
       "$\\displaystyle \\frac{2}{5 \\cdot \\left(2 s + 1\\right)} - \\frac{1}{5 \\left(s + 3\\right)}$"
      ],
      "text/plain": [
       "     2            1    \n",
       "─────────── - ─────────\n",
       "5⋅(2⋅s + 1)   5⋅(s + 3)"
      ]
     },
     "metadata": {},
     "output_type": "display_data"
    },
    {
     "name": "stdout",
     "output_type": "stream",
     "text": [
      "Solution is:\n"
     ]
    },
    {
     "data": {
      "image/png": "[encoded data removed]",
      "text/latex": [
       "$\\displaystyle - \\frac{e^{- 3 t} \\theta\\left(t\\right)}{5} + \\frac{e^{- \\frac{t}{2}} \\theta\\left(t\\right)}{5}$"
      ],
      "text/plain": [
       "                -t      \n",
       "                ───     \n",
       "   -3⋅t          2      \n",
       "  ℯ    ⋅θ(t)   ℯ   ⋅θ(t)\n",
       "- ────────── + ─────────\n",
       "      5            5    "
      ]
     },
     "metadata": {},
     "output_type": "display_data"
    },
    {
     "name": "stdout",
     "output_type": "stream",
     "text": [
      "Derivative of the solution is:\n"
     ]
    },
    {
     "data": {
      "image/png": "[encoded data removed]",
      "text/latex": [
       "$\\displaystyle - \\frac{e^{- 3 t} \\delta\\left(t\\right)}{5} + \\frac{3 e^{- 3 t} \\theta\\left(t\\right)}{5} + \\frac{e^{- \\frac{t}{2}} \\delta\\left(t\\right)}{5} - \\frac{e^{- \\frac{t}{2}} \\theta\\left(t\\right)}{10}$"
      ],
      "text/plain": [
       "                               -t          -t      \n",
       "                               ───         ───     \n",
       "   -3⋅t           -3⋅t          2           2      \n",
       "  ℯ    ⋅δ(t)   3⋅ℯ    ⋅θ(t)   ℯ   ⋅δ(t)   ℯ   ⋅θ(t)\n",
       "- ────────── + ──────────── + ───────── - ─────────\n",
       "      5             5             5           10   "
      ]
     },
     "metadata": {},
     "output_type": "display_data"
    },
    {
     "data": {
      "text/markdown": [
       "<span style=\"color: #00b300\">Both IC agree</span>."
      ],
      "text/plain": [
       "<IPython.core.display.Markdown object>"
      ]
     },
     "metadata": {},
     "output_type": "display_data"
    },
    {
     "name": "stdout",
     "output_type": "stream",
     "text": [
      "x(0+) was 0.00 and is 0.00\n",
      "dx(0+)/dt was 0.50 and is 0.50\n"
     ]
    },
    {
     "data": {
      "text/latex": [
       "$\\displaystyle ODE~remainder: 0$"
      ],
      "text/plain": [
       "<IPython.core.display.Math object>"
      ]
     },
     "metadata": {},
     "output_type": "display_data"
    }
   ],
   "source": [
    "eom, x0p, v0p, soln = EOM(a=2,b=7,c=3,d=1,x0=0,v0=0,g = DiracDelta(t) )"
   ]
  },
  {
   "cell_type": "markdown",
   "metadata": {
    "execution": {
     "iopub.execute_input": "2023-10-23T15:55:09.700369Z",
     "iopub.status.busy": "2023-10-23T15:55:09.700159Z",
     "iopub.status.idle": "2023-10-23T15:55:09.703670Z",
     "shell.execute_reply": "2023-10-23T15:55:09.703164Z",
     "shell.execute_reply.started": "2023-10-23T15:55:09.700345Z"
    }
   },
   "source": [
    "# RHS Derivatives - Boulet pg 282"
   ]
  },
  {
   "cell_type": "code",
   "execution_count": 15,
   "metadata": {
    "execution": {
     "iopub.execute_input": "2023-10-30T12:54:15.422588Z",
     "iopub.status.busy": "2023-10-30T12:54:15.422431Z",
     "iopub.status.idle": "2023-10-30T12:54:17.584248Z",
     "shell.execute_reply": "2023-10-30T12:54:17.583693Z",
     "shell.execute_reply.started": "2023-10-30T12:54:15.422569Z"
    }
   },
   "outputs": [
    {
     "name": "stdout",
     "output_type": "stream",
     "text": [
      "Roots  [-1.5+4.76969601j -1.5-4.76969601j]\n"
     ]
    },
    {
     "data": {
      "image/png": "[encoded data removed]",
      "text/latex": [
       "$\\displaystyle \\frac{1.0 - s}{s \\left(s^{2} + 3.0 s + 25.0\\right)}$"
      ],
      "text/plain": [
       "       1.0 - s       \n",
       "─────────────────────\n",
       "  ⎛ 2               ⎞\n",
       "s⋅⎝s  + 3.0⋅s + 25.0⎠"
      ]
     },
     "metadata": {},
     "output_type": "display_data"
    },
    {
     "name": "stdout",
     "output_type": "stream",
     "text": [
      "Solution is:\n"
     ]
    },
    {
     "data": {
      "image/png": "[encoded data removed]",
      "text/latex": [
       "$\\displaystyle - 0.0448 \\cdot \\left(4.96063360234479 e^{- 1.5 t} \\sin{\\left(4.76969600708473 t \\right)} + 0.892857142857143 e^{- 1.5 t} \\cos{\\left(4.76969600708473 t \\right)}\\right) \\theta\\left(t\\right) + 0.04 \\theta\\left(t\\right)$"
      ],
      "text/plain": [
       "         ⎛                  -1.5⋅t                                              -1.5⋅t                        ⎞             \n",
       "- 0.0448⋅⎝4.96063360234479⋅ℯ      ⋅sin(4.76969600708473⋅t) + 0.892857142857143⋅ℯ      ⋅cos(4.76969600708473⋅t)⎠⋅θ(t) + 0.04⋅\n",
       "\n",
       "    \n",
       "θ(t)"
      ]
     },
     "metadata": {},
     "output_type": "display_data"
    },
    {
     "name": "stdout",
     "output_type": "stream",
     "text": [
      "Derivative of the solution is:\n"
     ]
    },
    {
     "data": {
      "image/png": "[encoded data removed]",
      "text/latex": [
       "$\\displaystyle - 0.0448 \\left(- 11.6996075527 e^{- 1.5 t} \\sin{\\left(4.76969600708473 t \\right)} + 22.3214285714286 e^{- 1.5 t} \\cos{\\left(4.76969600708473 t \\right)}\\right) \\theta\\left(t\\right) - 0.0448 \\cdot \\left(4.96063360234479 e^{- 1.5 t} \\sin{\\left(4.76969600708473 t \\right)} + 0.892857142857143 e^{- 1.5 t} \\cos{\\left(4.76969600708473 t \\right)}\\right) \\delta\\left(t\\right) + 0.04 \\delta\\left(t\\right)$"
      ],
      "text/plain": [
       "         ⎛                 -1.5⋅t                                             -1.5⋅t                        ⎞               \n",
       "- 0.0448⋅⎝- 11.6996075527⋅ℯ      ⋅sin(4.76969600708473⋅t) + 22.3214285714286⋅ℯ      ⋅cos(4.76969600708473⋅t)⎠⋅θ(t) - 0.0448⋅\n",
       "\n",
       "⎛                  -1.5⋅t                                              -1.5⋅t                        ⎞                 \n",
       "⎝4.96063360234479⋅ℯ      ⋅sin(4.76969600708473⋅t) + 0.892857142857143⋅ℯ      ⋅cos(4.76969600708473⋅t)⎠⋅δ(t) + 0.04⋅δ(t)"
      ]
     },
     "metadata": {},
     "output_type": "display_data"
    }
   ],
   "source": [
    "a = 1;b = 3;c = 1*25; d = -1.0; e = 1.0; f=1.0\n",
    "\n",
    "ev = np.roots([a,b,c])\n",
    "print(\"Roots \",ev) # check poles of system \n",
    "\n",
    "x0 = -1; v0 = 3\n",
    "#x0 = 0; v0 = 0\n",
    "x0p = x0 \n",
    "v0p = v0 \n",
    "\n",
    "g = Heaviside(t)\n",
    "W = laplace_transform(g, t, s, noconds = True)\n",
    "eom  = Eq(a*(s**2 *X(s)- s*x0 - v0) + b*(s*X(s) - x0) + c * X(s), (f*s**2 +d*s + e)* W)\n",
    "\n",
    "Xofs = solve(eom,X(s))[0]\n",
    "display(Xofs)\n",
    "\n",
    "# don't know how to do this gracefully\n",
    "if f == 0:\n",
    "    x0p = x0 \n",
    "    v0p = v0 + d/a\n",
    "else:\n",
    "    T1 = simplify(Xofs*s)\n",
    "    x0p = T1.subs(s,1e10)\n",
    "    C1 = Xofs*s\n",
    "    DC_term = (C1).apart().subs(s,1e10)\n",
    "    if abs(DC_term) > 1e-6:\n",
    "        C2 = simplify(C1 - DC_term)\n",
    "    else:\n",
    "        C2 = simplify(C1)\n",
    "    C3 = simplify(C2*(a*s**2+b*s+c))\n",
    "    C4 = simplify(C3/s)\n",
    "    C5 = simplify(C4.subs(s,1e10))\n",
    "    v0p = C5\n",
    "\n",
    "soln = inverse_laplace_transform(Xofs.apart(),s,t)\n",
    "print(\"Solution is:\")\n",
    "display(soln)\n",
    "print(\"Derivative of the solution is:\")\n",
    "display(soln.diff(t))"
   ]
  },
  {
   "cell_type": "code",
   "execution_count": 16,
   "metadata": {
    "execution": {
     "iopub.execute_input": "2023-10-30T12:54:17.585374Z",
     "iopub.status.busy": "2023-10-30T12:54:17.585230Z",
     "iopub.status.idle": "2023-10-30T12:54:17.592836Z",
     "shell.execute_reply": "2023-10-30T12:54:17.592452Z",
     "shell.execute_reply.started": "2023-10-30T12:54:17.585356Z"
    }
   },
   "outputs": [
    {
     "name": "stdout",
     "output_type": "stream",
     "text": [
      "x(0+) was -0.00 and is -0.00\n",
      "dx(0+)/dt was -1.00000 and is -1.00000\n"
     ]
    }
   ],
   "source": [
    "# compute soln at time 0 to confirm that x(0) = x0\n",
    "soln_x0 = soln.subs(t,t0p)\n",
    "soln_v0 = soln.diff(t).subs(t,t0p)\n",
    "\n",
    "if ((np.abs(x0 - soln_x0) < 1e-2) and (np.abs(v0 - soln_v0) < 1e-2)):\n",
    "    display(Markdown('<span style=\"color: #00b300\">Both IC agree</span>.'))\n",
    "print(f'x(0+) was '+f'{x0p:.2f}'+' and is '+f'{soln_x0:.2f}')    \n",
    "print(f'dx(0+)/dt was '+f'{v0p:.5f}'+' and is '+f'{soln_v0:.5f}')"
   ]
  },
  {
   "cell_type": "code",
   "execution_count": 17,
   "metadata": {
    "execution": {
     "iopub.execute_input": "2023-10-30T12:54:17.593885Z",
     "iopub.status.busy": "2023-10-30T12:54:17.593580Z",
     "iopub.status.idle": "2023-10-30T12:54:17.600382Z",
     "shell.execute_reply": "2023-10-30T12:54:17.599989Z",
     "shell.execute_reply.started": "2023-10-30T12:54:17.593867Z"
    }
   },
   "outputs": [],
   "source": [
    "term = soln.diff(t).subs(Heaviside(t),0).subs(DiracDelta(t),1).subs(t,0)\n",
    "soln_diff_simplified = soln.diff(t).subs(DiracDelta(t),0) + term * DiracDelta(t)"
   ]
  },
  {
   "cell_type": "code",
   "execution_count": 18,
   "metadata": {
    "execution": {
     "iopub.execute_input": "2023-10-30T12:54:17.601251Z",
     "iopub.status.busy": "2023-10-30T12:54:17.601119Z",
     "iopub.status.idle": "2023-10-30T12:54:18.798528Z",
     "shell.execute_reply": "2023-10-30T12:54:18.797978Z",
     "shell.execute_reply.started": "2023-10-30T12:54:17.601236Z"
    }
   },
   "outputs": [
    {
     "data": {
      "image/png": "[encoded data removed]",
      "text/latex": [
       "$\\displaystyle -2.15 \\cdot 10^{-16}$"
      ],
      "text/plain": [
       "-2.15e-16"
      ]
     },
     "metadata": {},
     "output_type": "display_data"
    },
    {
     "data": {
      "image/png": "[encoded data removed]",
      "text/latex": [
       "$\\displaystyle -1.0$"
      ],
      "text/plain": [
       "-1.00"
      ]
     },
     "metadata": {},
     "output_type": "display_data"
    }
   ],
   "source": [
    "display(N(soln.subs(t,t0p),3))\n",
    "display(N(soln_diff_simplified.subs(t,t0p),3))"
   ]
  },
  {
   "cell_type": "markdown",
   "metadata": {
    "execution": {
     "iopub.execute_input": "2023-10-23T15:55:09.700369Z",
     "iopub.status.busy": "2023-10-23T15:55:09.700159Z",
     "iopub.status.idle": "2023-10-23T15:55:09.703670Z",
     "shell.execute_reply": "2023-10-23T15:55:09.703164Z",
     "shell.execute_reply.started": "2023-10-23T15:55:09.700345Z"
    }
   },
   "source": [
    "# New problem with RHS Derivatives "
   ]
  },
  {
   "cell_type": "markdown",
   "metadata": {},
   "source": [
    "<span style=\"color: #0000ff\">\n",
    "$$\\ddot x + 3 \\dot x + 2 x = \\sqrt{3} \\ddot u(t) + 3\\dot u(t) + 4 u(t) \\text{~~and~~} x(0^-)=1, \\dot x(0^-)=2 $$\n",
    "</span>"
   ]
  },
  {
   "cell_type": "code",
   "execution_count": 43,
   "metadata": {
    "execution": {
     "iopub.execute_input": "2023-10-30T13:32:36.668138Z",
     "iopub.status.busy": "2023-10-30T13:32:36.667838Z",
     "iopub.status.idle": "2023-10-30T13:32:39.466862Z",
     "shell.execute_reply": "2023-10-30T13:32:39.466260Z",
     "shell.execute_reply.started": "2023-10-30T13:32:36.668102Z"
    }
   },
   "outputs": [
    {
     "name": "stdout",
     "output_type": "stream",
     "text": [
      "Roots  [  -2.000   -1.000]\n"
     ]
    },
    {
     "data": {
      "image/png": "[encoded data removed]",
      "text/latex": [
       "$\\displaystyle \\frac{2.73205080756888 s^{2} + 8.0 s + 4.0}{s \\left(s^{2} + 3.0 s + 2.0\\right)}$"
      ],
      "text/plain": [
       "                  2              \n",
       "2.73205080756888⋅s  + 8.0⋅s + 4.0\n",
       "─────────────────────────────────\n",
       "         ⎛ 2              ⎞      \n",
       "       s⋅⎝s  + 3.0⋅s + 2.0⎠      "
      ]
     },
     "metadata": {},
     "output_type": "display_data"
    },
    {
     "data": {
      "image/png": "[encoded data removed]",
      "text/latex": [
       "$\\displaystyle \\frac{1.26794919243112}{s + 1} - \\frac{0.26794919243112}{0.5 s + 1.0} + \\frac{2.0}{s}$"
      ],
      "text/plain": [
       "1.26794919243112   0.26794919243112   2.0\n",
       "──────────────── - ──────────────── + ───\n",
       "     s + 1           0.5⋅s + 1.0       s "
      ]
     },
     "metadata": {},
     "output_type": "display_data"
    },
    {
     "name": "stdout",
     "output_type": "stream",
     "text": [
      "Solution is:\n"
     ]
    },
    {
     "data": {
      "image/png": "[encoded data removed]",
      "text/latex": [
       "$\\displaystyle 2.0 \\theta\\left(t\\right) - 0.53589838486224 e^{- 2.0 t} \\theta\\left(t\\right) + 1.26794919243112 e^{- t} \\theta\\left(t\\right)$"
      ],
      "text/plain": [
       "                             -2.0⋅t                          -t     \n",
       "2.0⋅θ(t) - 0.53589838486224⋅ℯ      ⋅θ(t) + 1.26794919243112⋅ℯ  ⋅θ(t)"
      ]
     },
     "metadata": {},
     "output_type": "display_data"
    },
    {
     "name": "stdout",
     "output_type": "stream",
     "text": [
      "Derivative of the solution is:\n"
     ]
    },
    {
     "data": {
      "image/png": "[encoded data removed]",
      "text/latex": [
       "$\\displaystyle 2.0 \\delta\\left(t\\right) - 0.53589838486224 e^{- 2.0 t} \\delta\\left(t\\right) + 1.07179676972448 e^{- 2.0 t} \\theta\\left(t\\right) + 1.26794919243112 e^{- t} \\delta\\left(t\\right) - 1.26794919243112 e^{- t} \\theta\\left(t\\right)$"
      ],
      "text/plain": [
       "                             -2.0⋅t                          -2.0⋅t                          -t                          -t \n",
       "2.0⋅δ(t) - 0.53589838486224⋅ℯ      ⋅δ(t) + 1.07179676972448⋅ℯ      ⋅θ(t) + 1.26794919243112⋅ℯ  ⋅δ(t) - 1.26794919243112⋅ℯ  ⋅\n",
       "\n",
       "    \n",
       "θ(t)"
      ]
     },
     "metadata": {},
     "output_type": "display_data"
    }
   ],
   "source": [
    "a = 1.0;b = 3.0;c = 2.0; d = 3.0; e = 4.0; f=np.sqrt(3)\n",
    "\n",
    "ev = np.roots([a,b,c])\n",
    "print(\"Roots \",ev) # check poles of system \n",
    "\n",
    "x0 = 1; v0 = 2\n",
    "g = Heaviside(t)\n",
    "W = laplace_transform(g, t, s, noconds = True)\n",
    "eom  = Eq(a*(s**2 *X(s)- s*x0 - v0) + b*(s*X(s) - x0) + c * X(s), (f*s**2 + d*s + e)* W)\n",
    "\n",
    "Xofs = solve(eom,X(s))[0]\n",
    "display(simplify(Xofs))\n",
    "display(Xofs.apart())\n",
    "\n",
    "# don't know how to do this gracefully\n",
    "if f == 0:\n",
    "    x0p = x0 \n",
    "    v0p = v0 + d/a\n",
    "else:\n",
    "    C1 = Xofs*s\n",
    "    T1 = simplify(C1)\n",
    "    x0p = T1.subs(s,1e10)\n",
    "    DC_term = (C1).apart().subs(s,oo)\n",
    "    C2 = simplify(C1 - DC_term)\n",
    "    C3 = simplify(C2*(a*s**2+b*s+c))\n",
    "    C4 = simplify(C3/s)\n",
    "    C5 = simplify(C4.subs(s,1e10))\n",
    "    v0p = C5\n",
    "    \n",
    "soln = inverse_laplace_transform(Xofs.apart(),s,t)\n",
    "print(\"Solution is:\")\n",
    "display(soln)\n",
    "print(\"Derivative of the solution is:\")\n",
    "display(soln.diff(t))"
   ]
  },
  {
   "cell_type": "code",
   "execution_count": 44,
   "metadata": {
    "execution": {
     "iopub.execute_input": "2023-10-30T13:32:48.338705Z",
     "iopub.status.busy": "2023-10-30T13:32:48.338439Z",
     "iopub.status.idle": "2023-10-30T13:32:48.346663Z",
     "shell.execute_reply": "2023-10-30T13:32:48.346203Z",
     "shell.execute_reply.started": "2023-10-30T13:32:48.338674Z"
    }
   },
   "outputs": [
    {
     "name": "stdout",
     "output_type": "stream",
     "text": [
      "x(0+) was 2.73 and is 2.73\n",
      "dx(0+)/dt was -0.19615 and is -0.19615\n"
     ]
    }
   ],
   "source": [
    "# compute soln at time 0 to confirm that x(0) = x0\n",
    "soln_x0 = soln.subs(t,t0p)\n",
    "soln_v0 = soln.diff(t).subs(t,t0p)\n",
    "\n",
    "if ((np.abs(x0 - soln_x0) < 1e-2) and (np.abs(v0 - soln_v0) < 1e-2)):\n",
    "    display(Markdown('<span style=\"color: #00b300\">Both IC agree</span>.'))\n",
    "print(f'x(0+) was '+f'{x0p:.2f}'+' and is '+f'{soln_x0:.2f}')    \n",
    "print(f'dx(0+)/dt was '+f'{v0p:.5f}'+' and is '+f'{soln_v0:.5f}')"
   ]
  },
  {
   "cell_type": "code",
   "execution_count": null,
   "metadata": {
    "execution": {
     "iopub.status.busy": "2023-10-30T12:54:21.996980Z",
     "iopub.status.idle": "2023-10-30T12:54:21.997152Z",
     "shell.execute_reply": "2023-10-30T12:54:21.997067Z",
     "shell.execute_reply.started": "2023-10-30T12:54:21.997057Z"
    }
   },
   "outputs": [],
   "source": [
    "term = soln.diff(t).subs(Heaviside(t),0).subs(DiracDelta(t),1).subs(t,0)\n",
    "soln_diff_simplified = soln.diff(t).subs(DiracDelta(t),0) + term * DiracDelta(t)"
   ]
  },
  {
   "cell_type": "code",
   "execution_count": null,
   "metadata": {
    "execution": {
     "iopub.status.busy": "2023-10-30T12:54:21.998015Z",
     "iopub.status.idle": "2023-10-30T12:54:21.998189Z",
     "shell.execute_reply": "2023-10-30T12:54:21.998100Z",
     "shell.execute_reply.started": "2023-10-30T12:54:21.998091Z"
    }
   },
   "outputs": [],
   "source": [
    "Xofs.as_numer_denom"
   ]
  },
  {
   "cell_type": "code",
   "execution_count": 11,
   "metadata": {
    "execution": {
     "iopub.execute_input": "2023-11-20T21:06:47.215786Z",
     "iopub.status.busy": "2023-11-20T21:06:47.215308Z",
     "iopub.status.idle": "2023-11-20T21:06:47.238766Z",
     "shell.execute_reply": "2023-11-20T21:06:47.237720Z",
     "shell.execute_reply.started": "2023-11-20T21:06:47.215755Z"
    }
   },
   "outputs": [
    {
     "ename": "NameError",
     "evalue": "name 'j' is not defined",
     "output_type": "error",
     "traceback": [
      "\u001b[0;31m---------------------------------------------------------------------------\u001b[0m",
      "\u001b[0;31mNameError\u001b[0m                                 Traceback (most recent call last)",
      "Cell \u001b[0;32mIn[11], line 2\u001b[0m\n\u001b[1;32m      1\u001b[0m i \u001b[38;5;241m=\u001b[39m \u001b[38;5;28mcomplex\u001b[39m(\u001b[38;5;241m0\u001b[39m,\u001b[38;5;241m1\u001b[39m)\n\u001b[0;32m----> 2\u001b[0m eom, x0p, v0p, soln \u001b[38;5;241m=\u001b[39m EOM(a\u001b[38;5;241m=\u001b[39m\u001b[38;5;241m2\u001b[39m,b\u001b[38;5;241m=\u001b[39m\u001b[38;5;241m7\u001b[39m,c\u001b[38;5;241m=\u001b[39m\u001b[38;5;241m3\u001b[39m,d\u001b[38;5;241m=\u001b[39m\u001b[38;5;241m1\u001b[39m,x0\u001b[38;5;241m=\u001b[39m\u001b[38;5;241m0\u001b[39m,v0\u001b[38;5;241m=\u001b[39m\u001b[38;5;241m0\u001b[39m,g\u001b[38;5;241m=\u001b[39mexp(\u001b[43mj\u001b[49m\u001b[38;5;241m*\u001b[39mt)\u001b[38;5;241m*\u001b[39mHeaviside(t))\n",
      "\u001b[0;31mNameError\u001b[0m: name 'j' is not defined"
     ]
    }
   ],
   "source": [
    "i = complex(0,1)\n",
    "eom, x0p, v0p, soln = EOM(a=2,b=7,c=3,d=1,x0=0,v0=0,g=exp(i*t)*Heaviside(t))"
   ]
  },
  {
   "cell_type": "code",
   "execution_count": 7,
   "metadata": {
    "execution": {
     "iopub.execute_input": "2023-11-20T21:05:19.500329Z",
     "iopub.status.busy": "2023-11-20T21:05:19.499540Z",
     "iopub.status.idle": "2023-11-20T21:05:20.155024Z",
     "shell.execute_reply": "2023-11-20T21:05:20.154511Z",
     "shell.execute_reply.started": "2023-11-20T21:05:19.500266Z"
    }
   },
   "outputs": [
    {
     "data": {
      "image/png": "[encoded data removed]",
      "text/latex": [
       "$\\displaystyle 2 s^{2} X{\\left(s \\right)} + 7 s X{\\left(s \\right)} + 3 X{\\left(s \\right)} = \\frac{1}{2 \\left(s + i\\right)} + \\frac{1}{2 \\left(s - i\\right)}$"
      ],
      "text/plain": [
       "   2                                1           1    \n",
       "2⋅s ⋅X(s) + 7⋅s⋅X(s) + 3⋅X(s) = ───────── + ─────────\n",
       "                                2⋅(s + ⅈ)   2⋅(s - ⅈ)"
      ]
     },
     "execution_count": 7,
     "metadata": {},
     "output_type": "execute_result"
    }
   ],
   "source": [
    "eom"
   ]
  },
  {
   "cell_type": "code",
   "execution_count": null,
   "metadata": {},
   "outputs": [],
   "source": []
  }
 ],
 "metadata": {
  "colab": {
   "authorship_tag": "ABX9TyOoCLTbcAx1GSa/Nzf0X1nR",
   "collapsed_sections": [],
   "name": "DiffEq_delta_input.ipynb",
   "provenance": []
  },
  "kernelspec": {
   "display_name": "venv312",
   "language": "python",
   "name": "venv312"
  },
  "language_info": {
   "codemirror_mode": {
    "name": "ipython",
    "version": 3
   },
   "file_extension": ".py",
   "mimetype": "text/x-python",
   "name": "python",
   "nbconvert_exporter": "python",
   "pygments_lexer": "ipython3",
   "version": "3.12.6"
  },
  "latex_envs": {
   "LaTeX_envs_menu_present": true,
   "autoclose": false,
   "autocomplete": true,
   "bibliofile": "biblio.bib",
   "cite_by": "apalike",
   "current_citInitial": 1,
   "eqLabelWithNumbers": true,
   "eqNumInitial": 1,
   "hotkeys": {
    "equation": "Ctrl-E",
    "itemize": "Ctrl-I"
   },
   "labels_anchors": false,
   "latex_user_defs": false,
   "report_style_numbering": false,
   "user_envs_cfg": false
  }
 },
 "nbformat": 4,
 "nbformat_minor": 4
}

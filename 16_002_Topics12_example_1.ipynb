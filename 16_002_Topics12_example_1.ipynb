{
 "cells": [
  {
   "cell_type": "markdown",
   "metadata": {},
   "source": [
    "# Partial Fraction Expansion"
   ]
  },
  {
   "cell_type": "code",
   "execution_count": 1,
   "metadata": {
    "colab": {
     "base_uri": "https://localhost:8080/"
    },
    "execution": {
     "iopub.execute_input": "2023-11-02T19:19:50.910442Z",
     "iopub.status.busy": "2023-11-02T19:19:50.910228Z",
     "iopub.status.idle": "2023-11-02T19:20:03.930754Z",
     "shell.execute_reply": "2023-11-02T19:20:03.930033Z",
     "shell.execute_reply.started": "2023-11-02T19:19:50.910425Z"
    },
    "id": "vSf5nWVJAWln",
    "outputId": "6c74b189-c850-43df-9bf3-6d296f6cfb7e"
   },
   "outputs": [
    {
     "name": "stdout",
     "output_type": "stream",
     "text": [
      "Running Python: 3.8.17\n",
      "Running Sympy: 1.12rc1\n",
      "1.12rc1\n"
     ]
    }
   ],
   "source": [
    "from os.path import exists\n",
    "file_exists = exists('basic_material.py')\n",
    "\n",
    "if (not file_exists):\n",
    "    !wget -O basic_material.py https://raw.githubusercontent.com/JonHowMIT/Signals_and_Systems/main/basic_material.py\n",
    "%run basic_material\n",
    "\n",
    "from sympy import *\n",
    "from sympy import Abs\n",
    "from sympy.integrals.transforms import laplace_transform\n",
    "from sympy.integrals.transforms import inverse_laplace_transform\n",
    "import sympy as sympy\n",
    "from sympy.abc import a, t, x, s, X, g, G\n",
    "print(sympy.__version__)\n",
    "init_printing(use_unicode=True)\n",
    "\n",
    "try:\n",
    "  import google.colab\n",
    "  IN_COLAB = True\n",
    "except:\n",
    "  IN_COLAB = False"
   ]
  },
  {
   "cell_type": "markdown",
   "metadata": {},
   "source": [
    "## Example 0"
   ]
  },
  {
   "cell_type": "code",
   "execution_count": 2,
   "metadata": {
    "execution": {
     "iopub.execute_input": "2023-11-02T19:20:03.935321Z",
     "iopub.status.busy": "2023-11-02T19:20:03.935023Z",
     "iopub.status.idle": "2023-11-02T19:20:06.845525Z",
     "shell.execute_reply": "2023-11-02T19:20:06.844853Z",
     "shell.execute_reply.started": "2023-11-02T19:20:03.935298Z"
    }
   },
   "outputs": [
    {
     "data": {
      "image/png": "[encoded data removed]",
      "text/latex": [
       "$\\displaystyle \\frac{5 s + 12}{s^{2} + 5 s + 6}$"
      ],
      "text/plain": [
       "  5⋅s + 12  \n",
       "────────────\n",
       " 2          \n",
       "s  + 5⋅s + 6"
      ]
     },
     "execution_count": 2,
     "metadata": {},
     "output_type": "execute_result"
    }
   ],
   "source": [
    "G0 = (5*s + 12)/(s**2 + 5*s + 6)\n",
    "G0"
   ]
  },
  {
   "cell_type": "code",
   "execution_count": 3,
   "metadata": {
    "execution": {
     "iopub.execute_input": "2023-11-02T19:20:06.846866Z",
     "iopub.status.busy": "2023-11-02T19:20:06.846686Z",
     "iopub.status.idle": "2023-11-02T19:20:07.475880Z",
     "shell.execute_reply": "2023-11-02T19:20:07.475368Z",
     "shell.execute_reply.started": "2023-11-02T19:20:06.846840Z"
    }
   },
   "outputs": [
    {
     "data": {
      "image/png": "[encoded data removed]",
      "text/latex": [
       "$\\displaystyle \\frac{3}{s + 3} + \\frac{2}{s + 2}$"
      ],
      "text/plain": [
       "  3       2  \n",
       "───── + ─────\n",
       "s + 3   s + 2"
      ]
     },
     "execution_count": 3,
     "metadata": {},
     "output_type": "execute_result"
    }
   ],
   "source": [
    "G0.apart()"
   ]
  },
  {
   "cell_type": "markdown",
   "metadata": {},
   "source": [
    "## Example 1"
   ]
  },
  {
   "cell_type": "code",
   "execution_count": 4,
   "metadata": {
    "execution": {
     "iopub.execute_input": "2023-11-02T19:20:07.478241Z",
     "iopub.status.busy": "2023-11-02T19:20:07.478119Z",
     "iopub.status.idle": "2023-11-02T19:20:08.093756Z",
     "shell.execute_reply": "2023-11-02T19:20:08.093247Z",
     "shell.execute_reply.started": "2023-11-02T19:20:07.478223Z"
    }
   },
   "outputs": [
    {
     "data": {
      "image/png": "[encoded data removed]",
      "text/latex": [
       "$\\displaystyle \\frac{1}{s^{2} + 2 s + 5}$"
      ],
      "text/plain": [
       "     1      \n",
       "────────────\n",
       " 2          \n",
       "s  + 2⋅s + 5"
      ]
     },
     "execution_count": 4,
     "metadata": {},
     "output_type": "execute_result"
    }
   ],
   "source": [
    "G1 = 1/(s**2 + 2*s + 5)\n",
    "G1"
   ]
  },
  {
   "cell_type": "code",
   "execution_count": 5,
   "metadata": {
    "execution": {
     "iopub.execute_input": "2023-11-02T19:20:16.669469Z",
     "iopub.status.busy": "2023-11-02T19:20:16.669290Z",
     "iopub.status.idle": "2023-11-02T19:20:17.307945Z",
     "shell.execute_reply": "2023-11-02T19:20:17.307368Z",
     "shell.execute_reply.started": "2023-11-02T19:20:16.669447Z"
    }
   },
   "outputs": [
    {
     "data": {
      "image/png": "[encoded data removed]",
      "text/latex": [
       "$\\displaystyle \\frac{e^{- t} \\sin{\\left(2 t \\right)} \\theta\\left(t\\right)}{2}$"
      ],
      "text/plain": [
       " -t              \n",
       "ℯ  ⋅sin(2⋅t)⋅θ(t)\n",
       "─────────────────\n",
       "        2        "
      ]
     },
     "execution_count": 5,
     "metadata": {},
     "output_type": "execute_result"
    }
   ],
   "source": [
    "y1 = inverse_laplace_transform(G1,s,t)\n",
    "y1"
   ]
  },
  {
   "cell_type": "markdown",
   "metadata": {},
   "source": [
    "## Example 2"
   ]
  },
  {
   "cell_type": "code",
   "execution_count": 6,
   "metadata": {
    "execution": {
     "iopub.execute_input": "2023-11-02T19:20:21.580019Z",
     "iopub.status.busy": "2023-11-02T19:20:21.579566Z",
     "iopub.status.idle": "2023-11-02T19:20:22.256815Z",
     "shell.execute_reply": "2023-11-02T19:20:22.256258Z",
     "shell.execute_reply.started": "2023-11-02T19:20:21.579976Z"
    }
   },
   "outputs": [
    {
     "data": {
      "image/png": "[encoded data removed]",
      "text/latex": [
       "$\\displaystyle \\frac{2 s^{2} + 6 s + 5}{s^{2} + 3 s + 2}$"
      ],
      "text/plain": [
       "   2          \n",
       "2⋅s  + 6⋅s + 5\n",
       "──────────────\n",
       "  2           \n",
       " s  + 3⋅s + 2 "
      ]
     },
     "execution_count": 6,
     "metadata": {},
     "output_type": "execute_result"
    }
   ],
   "source": [
    "G2 = (2*s**2 + 6*s + 5)/(s**2 + 3*s + 2)\n",
    "G2"
   ]
  },
  {
   "cell_type": "code",
   "execution_count": 7,
   "metadata": {
    "execution": {
     "iopub.execute_input": "2023-11-02T19:20:24.017375Z",
     "iopub.status.busy": "2023-11-02T19:20:24.017087Z",
     "iopub.status.idle": "2023-11-02T19:20:24.639631Z",
     "shell.execute_reply": "2023-11-02T19:20:24.639100Z",
     "shell.execute_reply.started": "2023-11-02T19:20:24.017349Z"
    },
    "scrolled": true
   },
   "outputs": [
    {
     "data": {
      "image/png": "[encoded data removed]",
      "text/latex": [
       "$\\displaystyle 2 - \\frac{1}{s + 2} + \\frac{1}{s + 1}$"
      ],
      "text/plain": [
       "      1       1  \n",
       "2 - ───── + ─────\n",
       "    s + 2   s + 1"
      ]
     },
     "execution_count": 7,
     "metadata": {},
     "output_type": "execute_result"
    }
   ],
   "source": [
    "G2.apart()"
   ]
  },
  {
   "cell_type": "code",
   "execution_count": 8,
   "metadata": {
    "execution": {
     "iopub.execute_input": "2023-11-02T19:20:24.641237Z",
     "iopub.status.busy": "2023-11-02T19:20:24.641043Z",
     "iopub.status.idle": "2023-11-02T19:20:25.274971Z",
     "shell.execute_reply": "2023-11-02T19:20:25.274483Z",
     "shell.execute_reply.started": "2023-11-02T19:20:24.641213Z"
    }
   },
   "outputs": [
    {
     "data": {
      "image/png": "[encoded data removed]",
      "text/latex": [
       "$\\displaystyle 2 \\delta\\left(t\\right) + e^{- t} \\theta\\left(t\\right) - e^{- 2 t} \\theta\\left(t\\right)$"
      ],
      "text/plain": [
       "          -t         -2⋅t     \n",
       "2⋅δ(t) + ℯ  ⋅θ(t) - ℯ    ⋅θ(t)"
      ]
     },
     "execution_count": 8,
     "metadata": {},
     "output_type": "execute_result"
    }
   ],
   "source": [
    "y2 = inverse_laplace_transform(G2.apart(),s,t)\n",
    "y2"
   ]
  },
  {
   "cell_type": "markdown",
   "metadata": {},
   "source": [
    "## Example 3"
   ]
  },
  {
   "cell_type": "code",
   "execution_count": 9,
   "metadata": {
    "execution": {
     "iopub.execute_input": "2023-11-02T19:20:26.633961Z",
     "iopub.status.busy": "2023-11-02T19:20:26.632518Z",
     "iopub.status.idle": "2023-11-02T19:20:27.264454Z",
     "shell.execute_reply": "2023-11-02T19:20:27.263948Z",
     "shell.execute_reply.started": "2023-11-02T19:20:26.633854Z"
    }
   },
   "outputs": [
    {
     "data": {
      "image/png": "[encoded data removed]",
      "text/latex": [
       "$\\displaystyle \\frac{2 s^{2} + 5 s + 5}{s + 1}$"
      ],
      "text/plain": [
       "   2          \n",
       "2⋅s  + 5⋅s + 5\n",
       "──────────────\n",
       "    s + 1     "
      ]
     },
     "execution_count": 9,
     "metadata": {},
     "output_type": "execute_result"
    }
   ],
   "source": [
    "G3 = (2*s**2 + 5*s + 5)/(s + 1)\n",
    "G3"
   ]
  },
  {
   "cell_type": "code",
   "execution_count": 10,
   "metadata": {
    "execution": {
     "iopub.execute_input": "2023-11-02T19:20:27.304956Z",
     "iopub.status.busy": "2023-11-02T19:20:27.304652Z",
     "iopub.status.idle": "2023-11-02T19:20:27.953649Z",
     "shell.execute_reply": "2023-11-02T19:20:27.952989Z",
     "shell.execute_reply.started": "2023-11-02T19:20:27.304927Z"
    },
    "scrolled": true
   },
   "outputs": [
    {
     "data": {
      "image/png": "[encoded data removed]",
      "text/latex": [
       "$\\displaystyle 2 s + 3 + \\frac{2}{s + 1}$"
      ],
      "text/plain": [
       "            2  \n",
       "2⋅s + 3 + ─────\n",
       "          s + 1"
      ]
     },
     "execution_count": 10,
     "metadata": {},
     "output_type": "execute_result"
    }
   ],
   "source": [
    "G3.apart()"
   ]
  },
  {
   "cell_type": "code",
   "execution_count": 11,
   "metadata": {
    "execution": {
     "iopub.execute_input": "2023-11-02T19:20:27.955445Z",
     "iopub.status.busy": "2023-11-02T19:20:27.955192Z",
     "iopub.status.idle": "2023-11-02T19:20:28.583189Z",
     "shell.execute_reply": "2023-11-02T19:20:28.582457Z",
     "shell.execute_reply.started": "2023-11-02T19:20:27.955416Z"
    }
   },
   "outputs": [
    {
     "data": {
      "image/png": "[encoded data removed]",
      "text/latex": [
       "$\\displaystyle 5 \\delta\\left(t\\right) + 2 e^{- t} \\theta\\left(t\\right)$"
      ],
      "text/plain": [
       "            -t     \n",
       "5⋅δ(t) + 2⋅ℯ  ⋅θ(t)"
      ]
     },
     "execution_count": 11,
     "metadata": {},
     "output_type": "execute_result"
    }
   ],
   "source": [
    "y3 = inverse_laplace_transform(G3.apart(),s,t)\n",
    "y3"
   ]
  },
  {
   "cell_type": "markdown",
   "metadata": {},
   "source": [
    "## Example 4"
   ]
  },
  {
   "cell_type": "code",
   "execution_count": 12,
   "metadata": {
    "execution": {
     "iopub.execute_input": "2023-10-25T00:03:29.646552Z",
     "iopub.status.busy": "2023-10-25T00:03:29.646267Z",
     "iopub.status.idle": "2023-10-25T00:03:30.332744Z",
     "shell.execute_reply": "2023-10-25T00:03:30.332084Z",
     "shell.execute_reply.started": "2023-10-25T00:03:29.646531Z"
    }
   },
   "outputs": [
    {
     "data": {
      "image/png": "[encoded data removed]",
      "text/latex": [
       "$\\displaystyle \\frac{5 s + 12}{\\left(s + 2\\right)^{2} \\left(s + 3\\right)}$"
      ],
      "text/plain": [
       "    5⋅s + 12    \n",
       "────────────────\n",
       "       2        \n",
       "(s + 2) ⋅(s + 3)"
      ]
     },
     "execution_count": 12,
     "metadata": {},
     "output_type": "execute_result"
    }
   ],
   "source": [
    "G4 = (5*s + 12)/(s + 2)**2/(s+3)\n",
    "G4"
   ]
  },
  {
   "cell_type": "code",
   "execution_count": 13,
   "metadata": {
    "execution": {
     "iopub.execute_input": "2023-10-25T00:03:30.335328Z",
     "iopub.status.busy": "2023-10-25T00:03:30.335189Z",
     "iopub.status.idle": "2023-10-25T00:03:30.961444Z",
     "shell.execute_reply": "2023-10-25T00:03:30.960943Z",
     "shell.execute_reply.started": "2023-10-25T00:03:30.335310Z"
    },
    "scrolled": true
   },
   "outputs": [
    {
     "data": {
      "image/png": "[encoded data removed]",
      "text/latex": [
       "$\\displaystyle - \\frac{3}{s + 3} + \\frac{3}{s + 2} + \\frac{2}{\\left(s + 2\\right)^{2}}$"
      ],
      "text/plain": [
       "    3       3        2    \n",
       "- ───── + ───── + ────────\n",
       "  s + 3   s + 2          2\n",
       "                  (s + 2) "
      ]
     },
     "execution_count": 13,
     "metadata": {},
     "output_type": "execute_result"
    }
   ],
   "source": [
    "G4.apart()"
   ]
  },
  {
   "cell_type": "code",
   "execution_count": 14,
   "metadata": {
    "execution": {
     "iopub.execute_input": "2023-10-25T00:03:30.968677Z",
     "iopub.status.busy": "2023-10-25T00:03:30.968544Z",
     "iopub.status.idle": "2023-10-25T00:03:31.628312Z",
     "shell.execute_reply": "2023-10-25T00:03:31.627758Z",
     "shell.execute_reply.started": "2023-10-25T00:03:30.968657Z"
    }
   },
   "outputs": [
    {
     "data": {
      "image/png": "[encoded data removed]",
      "text/latex": [
       "$\\displaystyle \\left(2 t e^{t} + 3 e^{t} - 3\\right) e^{- 3 t} \\theta\\left(t\\right)$"
      ],
      "text/plain": [
       "⎛     t      t    ⎞  -3⋅t     \n",
       "⎝2⋅t⋅ℯ  + 3⋅ℯ  - 3⎠⋅ℯ    ⋅θ(t)"
      ]
     },
     "execution_count": 14,
     "metadata": {},
     "output_type": "execute_result"
    }
   ],
   "source": [
    "y4 = inverse_laplace_transform(G4.apart(),s,t)\n",
    "y4.factor()"
   ]
  },
  {
   "cell_type": "markdown",
   "metadata": {},
   "source": [
    "## Example 5"
   ]
  },
  {
   "cell_type": "code",
   "execution_count": 15,
   "metadata": {
    "execution": {
     "iopub.execute_input": "2023-10-25T00:03:31.630878Z",
     "iopub.status.busy": "2023-10-25T00:03:31.630758Z",
     "iopub.status.idle": "2023-10-25T00:03:32.260137Z",
     "shell.execute_reply": "2023-10-25T00:03:32.259588Z",
     "shell.execute_reply.started": "2023-10-25T00:03:31.630861Z"
    }
   },
   "outputs": [
    {
     "data": {
      "image/png": "[encoded data removed]",
      "text/latex": [
       "$\\displaystyle \\frac{40 s + 96}{\\left(s + 3\\right) \\left(s^{2} + 2 s + 5\\right)}$"
      ],
      "text/plain": [
       "      40⋅s + 96       \n",
       "──────────────────────\n",
       "        ⎛ 2          ⎞\n",
       "(s + 3)⋅⎝s  + 2⋅s + 5⎠"
      ]
     },
     "execution_count": 15,
     "metadata": {},
     "output_type": "execute_result"
    }
   ],
   "source": [
    "G5 = 8*(5*s + 12)/(s**2 + 2*s + 5)/(s+3)\n",
    "G5"
   ]
  },
  {
   "cell_type": "code",
   "execution_count": 16,
   "metadata": {
    "execution": {
     "iopub.execute_input": "2023-10-25T00:03:32.262660Z",
     "iopub.status.busy": "2023-10-25T00:03:32.262536Z",
     "iopub.status.idle": "2023-10-25T00:03:32.878872Z",
     "shell.execute_reply": "2023-10-25T00:03:32.878335Z",
     "shell.execute_reply.started": "2023-10-25T00:03:32.262644Z"
    },
    "scrolled": true
   },
   "outputs": [
    {
     "data": {
      "image/png": "[encoded data removed]",
      "text/latex": [
       "$\\displaystyle \\frac{3 s + 37}{s^{2} + 2 s + 5} - \\frac{3}{s + 3}$"
      ],
      "text/plain": [
       "  3⋅s + 37       3  \n",
       "──────────── - ─────\n",
       " 2             s + 3\n",
       "s  + 2⋅s + 5        "
      ]
     },
     "execution_count": 16,
     "metadata": {},
     "output_type": "execute_result"
    }
   ],
   "source": [
    "G5.apart()"
   ]
  },
  {
   "cell_type": "markdown",
   "metadata": {},
   "source": [
    "Note that $ s^2 + 2s + 5 = (s+1)^2 + 4$ so\n",
    "\n",
    "$$\n",
    "\\frac{3s+37}{s^2 + 2s + 5} = \\frac{3(s+1)}{(s+1)^2 + 4} + \\frac{17\\times 2}{(s+1)^2 + 4}\n",
    "$$"
   ]
  },
  {
   "cell_type": "code",
   "execution_count": 17,
   "metadata": {
    "execution": {
     "iopub.execute_input": "2023-10-25T00:03:32.881171Z",
     "iopub.status.busy": "2023-10-25T00:03:32.881043Z",
     "iopub.status.idle": "2023-10-25T00:03:33.469061Z",
     "shell.execute_reply": "2023-10-25T00:03:33.468515Z",
     "shell.execute_reply.started": "2023-10-25T00:03:32.881153Z"
    }
   },
   "outputs": [
    {
     "data": {
      "image/png": "[encoded data removed]",
      "text/latex": [
       "$\\displaystyle \\left[ e^{- t} \\sin{\\left(2 t \\right)}, \\  e^{- t} \\cos{\\left(2 t \\right)}\\right]$"
      ],
      "text/plain": [
       "⎡ -t            -t         ⎤\n",
       "⎣ℯ  ⋅sin(2⋅t), ℯ  ⋅cos(2⋅t)⎦"
      ]
     },
     "execution_count": 17,
     "metadata": {},
     "output_type": "execute_result"
    }
   ],
   "source": [
    "# recall th Laplace transforms\n",
    "def L(f):\n",
    "    return sympy.laplace_transform(f, t, s, noconds=True)\n",
    "\n",
    "omega = sympy.Symbol('omega', real=True)\n",
    "exp = sympy.exp\n",
    "sin = sympy.sin\n",
    "cos = sympy.cos\n",
    "functions = [exp(-1*t)*sin(2*t),\n",
    "         exp(-1*t)*cos(2*t),\n",
    "         ]\n",
    "functions"
   ]
  },
  {
   "cell_type": "code",
   "execution_count": 18,
   "metadata": {
    "execution": {
     "iopub.execute_input": "2023-10-25T00:03:33.471557Z",
     "iopub.status.busy": "2023-10-25T00:03:33.471416Z",
     "iopub.status.idle": "2023-10-25T00:03:34.399916Z",
     "shell.execute_reply": "2023-10-25T00:03:34.399396Z",
     "shell.execute_reply.started": "2023-10-25T00:03:33.471538Z"
    }
   },
   "outputs": [
    {
     "data": {
      "image/png": "[encoded data removed]",
      "text/latex": [
       "$\\displaystyle \\left[ \\frac{2}{\\left(s + 1\\right)^{2} + 4}, \\  \\frac{s + 1}{\\left(s + 1\\right)^{2} + 4}\\right]$"
      ],
      "text/plain": [
       "⎡     2           s + 1    ⎤\n",
       "⎢────────────, ────────────⎥\n",
       "⎢       2             2    ⎥\n",
       "⎣(s + 1)  + 4  (s + 1)  + 4⎦"
      ]
     },
     "execution_count": 18,
     "metadata": {},
     "output_type": "execute_result"
    }
   ],
   "source": [
    "Fs = [L(f) for f in functions]\n",
    "Fs"
   ]
  },
  {
   "cell_type": "code",
   "execution_count": 19,
   "metadata": {
    "execution": {
     "iopub.execute_input": "2023-10-25T00:03:34.402602Z",
     "iopub.status.busy": "2023-10-25T00:03:34.402480Z",
     "iopub.status.idle": "2023-10-25T00:03:35.206393Z",
     "shell.execute_reply": "2023-10-25T00:03:35.205845Z",
     "shell.execute_reply.started": "2023-10-25T00:03:34.402585Z"
    }
   },
   "outputs": [
    {
     "data": {
      "image/png": "[encoded data removed]",
      "text/latex": [
       "$\\displaystyle \\left(\\left(17 \\sin{\\left(2 t \\right)} + 3 \\cos{\\left(2 t \\right)}\\right) e^{2 t} - 3\\right) e^{- 3 t} \\theta\\left(t\\right)$"
      ],
      "text/plain": [
       "⎛                            2⋅t    ⎞  -3⋅t     \n",
       "⎝(17⋅sin(2⋅t) + 3⋅cos(2⋅t))⋅ℯ    - 3⎠⋅ℯ    ⋅θ(t)"
      ]
     },
     "execution_count": 19,
     "metadata": {},
     "output_type": "execute_result"
    }
   ],
   "source": [
    "y5 = inverse_laplace_transform(G5.apart(),s,t)\n",
    "y5.simplify()"
   ]
  },
  {
   "cell_type": "markdown",
   "metadata": {},
   "source": [
    "## Example 6"
   ]
  },
  {
   "cell_type": "code",
   "execution_count": 20,
   "metadata": {
    "execution": {
     "iopub.execute_input": "2023-10-25T00:03:35.209139Z",
     "iopub.status.busy": "2023-10-25T00:03:35.209014Z",
     "iopub.status.idle": "2023-10-25T00:03:35.807681Z",
     "shell.execute_reply": "2023-10-25T00:03:35.807166Z",
     "shell.execute_reply.started": "2023-10-25T00:03:35.209123Z"
    }
   },
   "outputs": [
    {
     "data": {
      "image/png": "[encoded data removed]",
      "text/latex": [
       "$\\displaystyle \\frac{1}{\\left(s + 2\\right) \\left(s + 3\\right)^{4}}$"
      ],
      "text/plain": [
       "       1        \n",
       "────────────────\n",
       "               4\n",
       "(s + 2)⋅(s + 3) "
      ]
     },
     "execution_count": 20,
     "metadata": {},
     "output_type": "execute_result"
    }
   ],
   "source": [
    "G6 = 1/(s+3)**4/(s+2)\n",
    "G6"
   ]
  },
  {
   "cell_type": "code",
   "execution_count": 21,
   "metadata": {
    "execution": {
     "iopub.execute_input": "2023-10-25T00:03:35.810255Z",
     "iopub.status.busy": "2023-10-25T00:03:35.810141Z",
     "iopub.status.idle": "2023-10-25T00:03:36.437323Z",
     "shell.execute_reply": "2023-10-25T00:03:36.436739Z",
     "shell.execute_reply.started": "2023-10-25T00:03:35.810239Z"
    },
    "scrolled": true
   },
   "outputs": [
    {
     "data": {
      "image/png": "[encoded data removed]",
      "text/latex": [
       "$\\displaystyle - \\frac{1}{s + 3} - \\frac{1}{\\left(s + 3\\right)^{2}} - \\frac{1}{\\left(s + 3\\right)^{3}} - \\frac{1}{\\left(s + 3\\right)^{4}} + \\frac{1}{s + 2}$"
      ],
      "text/plain": [
       "    1        1          1          1         1  \n",
       "- ───── - ──────── - ──────── - ──────── + ─────\n",
       "  s + 3          2          3          4   s + 2\n",
       "          (s + 3)    (s + 3)    (s + 3)         "
      ]
     },
     "execution_count": 21,
     "metadata": {},
     "output_type": "execute_result"
    }
   ],
   "source": [
    "G6.apart()"
   ]
  },
  {
   "cell_type": "code",
   "execution_count": 22,
   "metadata": {
    "execution": {
     "iopub.execute_input": "2023-10-25T00:03:36.439941Z",
     "iopub.status.busy": "2023-10-25T00:03:36.439817Z",
     "iopub.status.idle": "2023-10-25T00:03:37.144254Z",
     "shell.execute_reply": "2023-10-25T00:03:37.143673Z",
     "shell.execute_reply.started": "2023-10-25T00:03:36.439924Z"
    }
   },
   "outputs": [
    {
     "data": {
      "image/png": "[encoded data removed]",
      "text/latex": [
       "$\\displaystyle - \\frac{t^{3} e^{- 3 t} \\theta\\left(t\\right)}{6} - \\frac{t^{2} e^{- 3 t} \\theta\\left(t\\right)}{2} - t e^{- 3 t} \\theta\\left(t\\right) + e^{- 2 t} \\theta\\left(t\\right) - e^{- 3 t} \\theta\\left(t\\right)$"
      ],
      "text/plain": [
       "   3  -3⋅t         2  -3⋅t                                              \n",
       "  t ⋅ℯ    ⋅θ(t)   t ⋅ℯ    ⋅θ(t)      -3⋅t         -2⋅t         -3⋅t     \n",
       "- ───────────── - ───────────── - t⋅ℯ    ⋅θ(t) + ℯ    ⋅θ(t) - ℯ    ⋅θ(t)\n",
       "        6               2                                               "
      ]
     },
     "execution_count": 22,
     "metadata": {},
     "output_type": "execute_result"
    }
   ],
   "source": [
    "y6 = inverse_laplace_transform(G6.apart(),s,t)\n",
    "y6"
   ]
  },
  {
   "cell_type": "markdown",
   "metadata": {},
   "source": [
    "## Example 7"
   ]
  },
  {
   "cell_type": "code",
   "execution_count": 23,
   "metadata": {
    "execution": {
     "iopub.execute_input": "2023-10-25T00:03:37.145569Z",
     "iopub.status.busy": "2023-10-25T00:03:37.145416Z",
     "iopub.status.idle": "2023-10-25T00:03:37.793690Z",
     "shell.execute_reply": "2023-10-25T00:03:37.793150Z",
     "shell.execute_reply.started": "2023-10-25T00:03:37.145552Z"
    }
   },
   "outputs": [
    {
     "data": {
      "image/png": "[encoded data removed]",
      "text/latex": [
       "$\\displaystyle \\frac{s^{3} + 3 s^{2} + 9 s + 12}{\\left(s^{2} + 4\\right) \\left(s^{2} + 9\\right)}$"
      ],
      "text/plain": [
       " 3      2           \n",
       "s  + 3⋅s  + 9⋅s + 12\n",
       "────────────────────\n",
       " ⎛ 2    ⎞ ⎛ 2    ⎞  \n",
       " ⎝s  + 4⎠⋅⎝s  + 9⎠  "
      ]
     },
     "execution_count": 23,
     "metadata": {},
     "output_type": "execute_result"
    }
   ],
   "source": [
    "G7 = (s**3+3*s**2+9*s+12)/(s**2+4)/(s**2+9)\n",
    "G7"
   ]
  },
  {
   "cell_type": "code",
   "execution_count": 24,
   "metadata": {
    "execution": {
     "iopub.execute_input": "2023-10-25T00:03:37.794881Z",
     "iopub.status.busy": "2023-10-25T00:03:37.794735Z",
     "iopub.status.idle": "2023-10-25T00:03:38.421074Z",
     "shell.execute_reply": "2023-10-25T00:03:38.420245Z",
     "shell.execute_reply.started": "2023-10-25T00:03:37.794865Z"
    },
    "scrolled": true
   },
   "outputs": [
    {
     "data": {
      "image/png": "[encoded data removed]",
      "text/latex": [
       "$\\displaystyle \\frac{s}{s^{2} + 4} + \\frac{3}{s^{2} + 9}$"
      ],
      "text/plain": [
       "  s        3   \n",
       "────── + ──────\n",
       " 2        2    \n",
       "s  + 4   s  + 9"
      ]
     },
     "execution_count": 24,
     "metadata": {},
     "output_type": "execute_result"
    }
   ],
   "source": [
    "G7.apart() "
   ]
  },
  {
   "cell_type": "code",
   "execution_count": 25,
   "metadata": {
    "execution": {
     "iopub.execute_input": "2023-10-25T00:03:38.422390Z",
     "iopub.status.busy": "2023-10-25T00:03:38.422210Z",
     "iopub.status.idle": "2023-10-25T00:03:39.069939Z",
     "shell.execute_reply": "2023-10-25T00:03:39.069368Z",
     "shell.execute_reply.started": "2023-10-25T00:03:38.422367Z"
    }
   },
   "outputs": [
    {
     "data": {
      "image/png": "[encoded data removed]",
      "text/latex": [
       "$\\displaystyle \\sin{\\left(3 t \\right)} \\theta\\left(t\\right) + \\cos{\\left(2 t \\right)} \\theta\\left(t\\right)$"
      ],
      "text/plain": [
       "sin(3⋅t)⋅θ(t) + cos(2⋅t)⋅θ(t)"
      ]
     },
     "execution_count": 25,
     "metadata": {},
     "output_type": "execute_result"
    }
   ],
   "source": [
    "if (not IN_COLAB): # doesn't work there\n",
    "    y7 = inverse_laplace_transform(G7.apart(),s,t)\n",
    "else:\n",
    "    y7 = False\n",
    "y7"
   ]
  },
  {
   "cell_type": "markdown",
   "metadata": {},
   "source": [
    "## Example 8"
   ]
  },
  {
   "cell_type": "code",
   "execution_count": 26,
   "metadata": {
    "execution": {
     "iopub.execute_input": "2023-10-25T00:03:39.071226Z",
     "iopub.status.busy": "2023-10-25T00:03:39.071071Z",
     "iopub.status.idle": "2023-10-25T00:03:39.706555Z",
     "shell.execute_reply": "2023-10-25T00:03:39.705988Z",
     "shell.execute_reply.started": "2023-10-25T00:03:39.071207Z"
    }
   },
   "outputs": [
    {
     "data": {
      "image/png": "[encoded data removed]",
      "text/latex": [
       "$\\displaystyle \\frac{30 s + 30}{\\left(s^{2} + 4\\right) \\left(s^{2} + 9\\right)}$"
      ],
      "text/plain": [
       "    30⋅s + 30    \n",
       "─────────────────\n",
       "⎛ 2    ⎞ ⎛ 2    ⎞\n",
       "⎝s  + 4⎠⋅⎝s  + 9⎠"
      ]
     },
     "execution_count": 26,
     "metadata": {},
     "output_type": "execute_result"
    }
   ],
   "source": [
    "G8 = 30*(s+1)/(s**2+4)/(s**2+9)\n",
    "G8"
   ]
  },
  {
   "cell_type": "code",
   "execution_count": 27,
   "metadata": {
    "execution": {
     "iopub.execute_input": "2023-10-25T00:03:39.707726Z",
     "iopub.status.busy": "2023-10-25T00:03:39.707577Z",
     "iopub.status.idle": "2023-10-25T00:03:40.365855Z",
     "shell.execute_reply": "2023-10-25T00:03:40.365285Z",
     "shell.execute_reply.started": "2023-10-25T00:03:39.707709Z"
    },
    "scrolled": true
   },
   "outputs": [
    {
     "data": {
      "image/png": "[encoded data removed]",
      "text/latex": [
       "$\\displaystyle - \\frac{6 \\left(s + 1\\right)}{s^{2} + 9} + \\frac{6 \\left(s + 1\\right)}{s^{2} + 4}$"
      ],
      "text/plain": [
       "  6⋅(s + 1)   6⋅(s + 1)\n",
       "- ───────── + ─────────\n",
       "     2           2     \n",
       "    s  + 9      s  + 4 "
      ]
     },
     "execution_count": 27,
     "metadata": {},
     "output_type": "execute_result"
    }
   ],
   "source": [
    "G8.apart()"
   ]
  },
  {
   "cell_type": "code",
   "execution_count": 28,
   "metadata": {
    "execution": {
     "iopub.execute_input": "2023-10-25T00:03:40.367193Z",
     "iopub.status.busy": "2023-10-25T00:03:40.366961Z",
     "iopub.status.idle": "2023-10-25T00:03:40.995473Z",
     "shell.execute_reply": "2023-10-25T00:03:40.994908Z",
     "shell.execute_reply.started": "2023-10-25T00:03:40.367176Z"
    }
   },
   "outputs": [
    {
     "data": {
      "image/png": "[encoded data removed]",
      "text/latex": [
       "$\\displaystyle 6 \\left(\\frac{\\sin{\\left(2 t \\right)}}{2} + \\cos{\\left(2 t \\right)}\\right) \\theta\\left(t\\right) - 6 \\left(\\frac{\\sin{\\left(3 t \\right)}}{3} + \\cos{\\left(3 t \\right)}\\right) \\theta\\left(t\\right)$"
      ],
      "text/plain": [
       "  ⎛sin(2⋅t)           ⎞          ⎛sin(3⋅t)           ⎞     \n",
       "6⋅⎜──────── + cos(2⋅t)⎟⋅θ(t) - 6⋅⎜──────── + cos(3⋅t)⎟⋅θ(t)\n",
       "  ⎝   2               ⎠          ⎝   3               ⎠     "
      ]
     },
     "execution_count": 28,
     "metadata": {},
     "output_type": "execute_result"
    }
   ],
   "source": [
    "if (not IN_COLAB): # doesn't work there\n",
    "    y8 = inverse_laplace_transform(G8.apart(),s,t)\n",
    "else:\n",
    "    y8 = False\n",
    "y8"
   ]
  },
  {
   "cell_type": "markdown",
   "metadata": {},
   "source": [
    "## Example 9"
   ]
  },
  {
   "cell_type": "code",
   "execution_count": 29,
   "metadata": {
    "execution": {
     "iopub.execute_input": "2023-10-25T00:03:40.996758Z",
     "iopub.status.busy": "2023-10-25T00:03:40.996570Z",
     "iopub.status.idle": "2023-10-25T00:03:41.632482Z",
     "shell.execute_reply": "2023-10-25T00:03:41.631779Z",
     "shell.execute_reply.started": "2023-10-25T00:03:40.996739Z"
    }
   },
   "outputs": [
    {
     "data": {
      "image/png": "[encoded data removed]",
      "text/latex": [
       "$\\displaystyle \\frac{2 s + 11}{s^{2} + 5 s + 6} + \\frac{1}{\\left(s + 1\\right) \\left(s^{2} + 5 s + 6\\right)}$"
      ],
      "text/plain": [
       "  2⋅s + 11               1           \n",
       "──────────── + ──────────────────────\n",
       " 2                     ⎛ 2          ⎞\n",
       "s  + 5⋅s + 6   (s + 1)⋅⎝s  + 5⋅s + 6⎠"
      ]
     },
     "execution_count": 29,
     "metadata": {},
     "output_type": "execute_result"
    }
   ],
   "source": [
    "G9 = (2*s+11)/(s**2+5*s+6) + 1/(s+1)/(s**2+5*s+6)\n",
    "G9"
   ]
  },
  {
   "cell_type": "code",
   "execution_count": 30,
   "metadata": {
    "execution": {
     "iopub.execute_input": "2023-10-25T00:03:41.634430Z",
     "iopub.status.busy": "2023-10-25T00:03:41.634012Z",
     "iopub.status.idle": "2023-10-25T00:03:42.267315Z",
     "shell.execute_reply": "2023-10-25T00:03:42.266701Z",
     "shell.execute_reply.started": "2023-10-25T00:03:41.634397Z"
    },
    "scrolled": true
   },
   "outputs": [
    {
     "data": {
      "image/png": "[encoded data removed]",
      "text/latex": [
       "$\\displaystyle - \\frac{9}{2 \\left(s + 3\\right)} + \\frac{6}{s + 2} + \\frac{1}{2 \\left(s + 1\\right)}$"
      ],
      "text/plain": [
       "      9         6         1    \n",
       "- ───────── + ───── + ─────────\n",
       "  2⋅(s + 3)   s + 2   2⋅(s + 1)"
      ]
     },
     "execution_count": 30,
     "metadata": {},
     "output_type": "execute_result"
    }
   ],
   "source": [
    "G9.apart()"
   ]
  },
  {
   "cell_type": "code",
   "execution_count": 31,
   "metadata": {
    "execution": {
     "iopub.execute_input": "2023-10-25T00:03:42.268826Z",
     "iopub.status.busy": "2023-10-25T00:03:42.268650Z",
     "iopub.status.idle": "2023-10-25T00:03:42.919400Z",
     "shell.execute_reply": "2023-10-25T00:03:42.918866Z",
     "shell.execute_reply.started": "2023-10-25T00:03:42.268805Z"
    },
    "jupyter": {
     "source_hidden": true
    },
    "tags": []
   },
   "outputs": [
    {
     "data": {
      "image/png": "[encoded data removed]",
      "text/latex": [
       "$\\displaystyle \\frac{e^{- t} \\theta\\left(t\\right)}{2} + 6 e^{- 2 t} \\theta\\left(t\\right) - \\frac{9 e^{- 3 t} \\theta\\left(t\\right)}{2}$"
      ],
      "text/plain": [
       " -t                          -3⋅t     \n",
       "ℯ  ⋅θ(t)      -2⋅t        9⋅ℯ    ⋅θ(t)\n",
       "──────── + 6⋅ℯ    ⋅θ(t) - ────────────\n",
       "   2                           2      "
      ]
     },
     "execution_count": 31,
     "metadata": {},
     "output_type": "execute_result"
    }
   ],
   "source": [
    "y9 = inverse_laplace_transform(G9.apart(),s,t)\n",
    "y9"
   ]
  },
  {
   "cell_type": "markdown",
   "metadata": {},
   "source": [
    "## Example 10"
   ]
  },
  {
   "cell_type": "code",
   "execution_count": 32,
   "metadata": {
    "execution": {
     "iopub.execute_input": "2023-10-25T00:03:42.921019Z",
     "iopub.status.busy": "2023-10-25T00:03:42.920437Z",
     "iopub.status.idle": "2023-10-25T00:03:43.589707Z",
     "shell.execute_reply": "2023-10-25T00:03:43.589134Z",
     "shell.execute_reply.started": "2023-10-25T00:03:42.920998Z"
    }
   },
   "outputs": [
    {
     "data": {
      "image/png": "[encoded data removed]",
      "text/latex": [
       "$\\displaystyle \\frac{1}{\\left(s + 1\\right)^{2}}$"
      ],
      "text/plain": [
       "   1    \n",
       "────────\n",
       "       2\n",
       "(s + 1) "
      ]
     },
     "execution_count": 32,
     "metadata": {},
     "output_type": "execute_result"
    }
   ],
   "source": [
    "G10 = 1/(s+1)**2\n",
    "G10"
   ]
  },
  {
   "cell_type": "code",
   "execution_count": 33,
   "metadata": {
    "execution": {
     "iopub.execute_input": "2023-10-25T00:03:43.590961Z",
     "iopub.status.busy": "2023-10-25T00:03:43.590734Z",
     "iopub.status.idle": "2023-10-25T00:03:44.216104Z",
     "shell.execute_reply": "2023-10-25T00:03:44.215539Z",
     "shell.execute_reply.started": "2023-10-25T00:03:43.590939Z"
    },
    "scrolled": true
   },
   "outputs": [
    {
     "data": {
      "image/png": "[encoded data removed]",
      "text/latex": [
       "$\\displaystyle \\frac{1}{\\left(s + 1\\right)^{2}}$"
      ],
      "text/plain": [
       "   1    \n",
       "────────\n",
       "       2\n",
       "(s + 1) "
      ]
     },
     "execution_count": 33,
     "metadata": {},
     "output_type": "execute_result"
    }
   ],
   "source": [
    "G10.apart()"
   ]
  },
  {
   "cell_type": "code",
   "execution_count": 34,
   "metadata": {
    "execution": {
     "iopub.execute_input": "2023-10-25T00:03:44.217377Z",
     "iopub.status.busy": "2023-10-25T00:03:44.217182Z",
     "iopub.status.idle": "2023-10-25T00:03:44.833700Z",
     "shell.execute_reply": "2023-10-25T00:03:44.832982Z",
     "shell.execute_reply.started": "2023-10-25T00:03:44.217357Z"
    },
    "tags": []
   },
   "outputs": [
    {
     "data": {
      "image/png": "[encoded data removed]",
      "text/latex": [
       "$\\displaystyle t e^{- t} \\theta\\left(t\\right)$"
      ],
      "text/plain": [
       "   -t     \n",
       "t⋅ℯ  ⋅θ(t)"
      ]
     },
     "execution_count": 34,
     "metadata": {},
     "output_type": "execute_result"
    }
   ],
   "source": [
    "y10 = inverse_laplace_transform(G10.apart(),s,t)\n",
    "y10"
   ]
  },
  {
   "cell_type": "code",
   "execution_count": null,
   "metadata": {},
   "outputs": [],
   "source": []
  }
 ],
 "metadata": {
  "colab": {
   "name": "Network_examples.ipynb",
   "provenance": []
  },
  "kernelspec": {
   "display_name": "Python (38)",
   "language": "python",
   "name": "python3"
  },
  "language_info": {
   "codemirror_mode": {
    "name": "ipython",
    "version": 3
   },
   "file_extension": ".py",
   "mimetype": "text/x-python",
   "name": "python",
   "nbconvert_exporter": "python",
   "pygments_lexer": "ipython3",
   "version": "3.8.17"
  },
  "latex_envs": {
   "LaTeX_envs_menu_present": true,
   "autoclose": false,
   "autocomplete": true,
   "bibliofile": "biblio.bib",
   "cite_by": "apalike",
   "current_citInitial": 1,
   "eqLabelWithNumbers": true,
   "eqNumInitial": 1,
   "hotkeys": {
    "equation": "Ctrl-E",
    "itemize": "Ctrl-I"
   },
   "labels_anchors": false,
   "latex_user_defs": false,
   "report_style_numbering": false,
   "user_envs_cfg": false
  }
 },
 "nbformat": 4,
 "nbformat_minor": 4
}

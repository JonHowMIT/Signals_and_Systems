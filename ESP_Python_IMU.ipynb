{
 "cells": [
  {
   "cell_type": "code",
   "execution_count": 24,
   "id": "346a10f4-4e44-4600-8908-0a77903b1ee1",
   "metadata": {
    "tags": []
   },
   "outputs": [],
   "source": [
    "import time, csv, os, requests, copy\n",
    "\n",
    "import numpy as np\n",
    "from numpy.linalg import norm\n",
    "from numpy.random import randn\n",
    "from numpy import eye, array, asarray, exp\n",
    "float_formatter = \"{:.4f}\".format\n",
    "np.set_printoptions(formatter={'float': '{: 6.4f}'.format})\n",
    "from math import sqrt\n",
    "\n",
    "#%matplotlib inline\n",
    "import matplotlib\n",
    "import matplotlib.pyplot as plt\n",
    "from matplotlib import gridspec\n",
    "from matplotlib import rcParams\n",
    "rcParams[\"font.serif\"] = \"cmr14\"\n",
    "rcParams['savefig.dpi'] = 300\n",
    "rcParams[\"figure.dpi\"] = 100\n",
    "rcParams.update({'font.size': 18})\n",
    "rcParams['axes.grid'] = True\n",
    "rcParams['lines.linewidth'] = 2.0\n",
    "params = {'legend.fontsize': 12,\n",
    "          'legend.handlelength': 2}\n",
    "plt.rcParams[\"figure.figsize\"] = (8,5)\n",
    "plt.rcParams.update(params)\n",
    "\n",
    "try: \n",
    "    import serial\n",
    "except:\n",
    "    !pip3 install pyserial\n",
    "    import serial\n",
    "\n",
    "DEG2RAD = np.pi/180.\n",
    "\n",
    "import struct\n",
    "from casadi import *\n",
    "from scipy.integrate import solve_ivp\n",
    "from scipy.interpolate import interp1d\n",
    "\n",
    "opts1 = {\"expand\":False,'ipopt.print_level': 0, 'print_time': 0, 'ipopt.sb': 'yes'}\n",
    "opts0 = {\"ipopt.linear_solver\":'ma27', \"ipopt.tol\":1e-2, \"expand\":False,'ipopt.print_level': 0, 'print_time': 0, 'ipopt.sb': 'yes'}"
   ]
  },
  {
   "cell_type": "code",
   "execution_count": 36,
   "id": "790dc887-2767-403c-b2ec-2a6238f17df4",
   "metadata": {
    "tags": []
   },
   "outputs": [],
   "source": [
    "def Serial_write(U):\n",
    "    # special bytes of a space and ! added for eps32 to find start\n",
    "    buf = struct.pack('%sf' % len(U), *U)\n",
    "    ser.write(bytearray(b' ')+bytearray(b'!')+buf)\n",
    "\n",
    "def Request_data(ser):\n",
    "    # special bytes of a space and & to request data\n",
    "    ser.write(bytearray(b' ')+bytearray(b'&'))\n",
    "\n",
    "def Reset_imu(ser):\n",
    "    # special bytes of a space and + to redo calib\n",
    "    ser.write(bytearray(b' ')+bytearray(b'+'))\n",
    "\n",
    "def smootherstep(edge0, edge1, x): \n",
    "    # Scale, and clamp x to 0..1 range\n",
    "    x = np.clip((x - edge0) / (edge1 - edge0), 0.0, 1.0)\n",
    "    # Evaluate polynomial\n",
    "    return x * x * x * (x * (x * 6 - 15) + 10)\n",
    "\n",
    "def Read_data(ser):\n",
    "    nvar = 5 # 4 floats and checksum\n",
    "    str_len = 4*nvar\n",
    "    found_header = False\n",
    "    tic = time.time()\n",
    "    data = np.zeros(7)\n",
    "    for kk in range(str_len+1):     # look for header\n",
    "        if (ser.read(1) == b'&'):\n",
    "            if (ser.read(1) == b'!'):\n",
    "                found_header = True\n",
    "                break\n",
    "    if found_header:\n",
    "        rbytes = ser.read(str_len)\n",
    "        if (len(rbytes) == str_len):\n",
    "            try:\n",
    "                for ii in range(nvar):\n",
    "                    data[ii] = struct.unpack('f',rbytes[4*ii:4*(ii+1)])[0]\n",
    "                data[5] = time.time() - tic\n",
    "                data[6] = np.abs(data[4] - np.sum(data[0:4])) # checksum\n",
    "                return data\n",
    "            except:\n",
    "                data[6] = -1\n",
    "                return data\n",
    "        else:\n",
    "            data[6] = -2\n",
    "        return data # will be zero if \n",
    "    data[6] = -3\n",
    "    return data"
   ]
  },
  {
   "cell_type": "code",
   "execution_count": 37,
   "id": "58463d80",
   "metadata": {
    "tags": []
   },
   "outputs": [],
   "source": [
    "class Model():\n",
    "    def __init__ (self):\n",
    "        self.N = 10 # MPC steps\n",
    "        self.Fs = 1/0.033 #Hz\n",
    "        self.Ts = 1/self.Fs\n",
    "        self.Tf = self.N*self.Ts # MPC plan horizon\n",
    "        self.opti = None\n",
    "        self.params = None\n",
    "        self.sol = None\n",
    "        self.Umax = 500 # system params\n",
    "        self.omega_n2 = (5.3761)**2 # measured\n",
    "        self.damping = 2*0.0485*5.3761 # measured\n",
    "        self.gain =  40/100/57.3 # measured\n",
    "        self.A = np.array([[0.0, 1.0],[-self.omega_n2, -self.damping]])\n",
    "        self.B = np.array([[0.0,self.gain*self.omega_n2]])\n",
    "\n",
    "    def deriv(self,x,u): #MPC design model\n",
    "            #return vertcat(x[1], -Pend.omega_n2 *x[0] -Pend.damping*x[1] + Pend.B[:,1][0] * u) \n",
    "            #return vertcat(x[1], -Pend.omega_n2 *np.sin(x[0]) -Pend.damping*x[1] + Pend.B[:,1][0] * u) \n",
    "            return vertcat(x[1], Pend.A[1,0]*np.sin(x[0]) + Pend.A[1,1]*x[1] + Pend.B[:,1][0] * u) \n",
    "\n",
    "\n",
    "#Fd = 0.8546\n",
    "#wd = 5.3697\n",
    "#zeta = 0.0485\n",
    "#wn = 5.3761\n",
    "       "
   ]
  },
  {
   "cell_type": "code",
   "execution_count": 38,
   "id": "a79aef5d",
   "metadata": {
    "tags": []
   },
   "outputs": [],
   "source": [
    "try:\n",
    "    ser.close()\n",
    "except:\n",
    "    pass\n",
    "\n",
    "Nplot = 1000\n",
    "\n",
    "if 1:\n",
    "    port = '/dev/cu.usbserial-110'\n",
    "    #port = '/dev/cu.usbserial-10'\n",
    "    ser = serial.Serial(port,baudrate=115200,timeout=0.001)\n",
    "    ser.flushInput()\n",
    "    ser.write(bytearray(b'R'))\n",
    "    time.sleep(10)"
   ]
  },
  {
   "cell_type": "code",
   "execution_count": 39,
   "id": "446e5bbb-2dd0-4de7-b0cf-21ee6729ceeb",
   "metadata": {
    "tags": []
   },
   "outputs": [],
   "source": [
    "def makeFig():\n",
    "    plt.plot(etime[-Npts:],theta[-Npts:],'b-',label='theta')\n",
    "    plt.plot(etime[-Npts:],gyro[-Npts:],'r--',label='gyro')\n",
    "    plt.legend(loc=3)\n"
   ]
  },
  {
   "cell_type": "code",
   "execution_count": 40,
   "id": "7779175d-9648-4c75-83bb-ef658b49df34",
   "metadata": {
    "tags": []
   },
   "outputs": [
    {
     "data": {
      "text/plain": [
       "[<matplotlib.lines.Line2D at 0x151c63220>]"
      ]
     },
     "execution_count": 40,
     "metadata": {},
     "output_type": "execute_result"
    },
    {
     "data": {
      "image/png": "[encoded data removed]",
      "text/plain": [
       "<Figure size 800x500 with 1 Axes>"
      ]
     },
     "metadata": {},
     "output_type": "display_data"
    }
   ],
   "source": [
    "from drawnow import *\n",
    "import time\n",
    "etime = [1]\n",
    "theta = [1]\n",
    "gyro = [1]\n",
    "\n",
    "fig, ax = plt.subplots()\n",
    "ax.plot(etime[-50:],theta[-50:],'b.--',label='theta')\n",
    "ax.plot(etime[-50:],gyro[-50:],'r.-',label='gyro')\n"
   ]
  },
  {
   "cell_type": "code",
   "execution_count": 41,
   "id": "9a082465-58a9-4b42-a70b-a3befc22c66d",
   "metadata": {
    "tags": []
   },
   "outputs": [
    {
     "ename": "NameError",
     "evalue": "name 'Npts' is not defined",
     "output_type": "error",
     "traceback": [
      "\u001b[0;31m---------------------------------------------------------------------------\u001b[0m",
      "\u001b[0;31mNameError\u001b[0m                                 Traceback (most recent call last)",
      "Cell \u001b[0;32mIn[41], line 11\u001b[0m\n\u001b[1;32m      9\u001b[0m     gyro \u001b[38;5;241m=\u001b[39m np\u001b[38;5;241m.\u001b[39mappend(gyro,data[\u001b[38;5;241m2\u001b[39m]\u001b[38;5;241m*\u001b[39mnp\u001b[38;5;241m.\u001b[39mpi\u001b[38;5;241m/\u001b[39m\u001b[38;5;241m180.\u001b[39m)\n\u001b[1;32m     10\u001b[0m \u001b[38;5;28;01mif\u001b[39;00m (ii\u001b[38;5;241m%\u001b[39m\u001b[38;5;241m25\u001b[39m \u001b[38;5;241m==\u001b[39m \u001b[38;5;241m0\u001b[39m): \n\u001b[0;32m---> 11\u001b[0m     \u001b[43mdrawnow\u001b[49m\u001b[43m(\u001b[49m\u001b[43mmakeFig\u001b[49m\u001b[43m)\u001b[49m\n",
      "File \u001b[0;32m~/venv38/lib/python3.8/site-packages/drawnow/drawnow.py:73\u001b[0m, in \u001b[0;36mdrawnow\u001b[0;34m(draw_fig, show_once, confirm, stop_on_close, *args, **kwargs)\u001b[0m\n\u001b[1;32m     71\u001b[0m \u001b[38;5;66;03m# replace the current figure w/o opening new GUI\u001b[39;00m\n\u001b[1;32m     72\u001b[0m plt\u001b[38;5;241m.\u001b[39mclf()\n\u001b[0;32m---> 73\u001b[0m \u001b[43mdraw_fig\u001b[49m\u001b[43m(\u001b[49m\u001b[38;5;241;43m*\u001b[39;49m\u001b[43margs\u001b[49m\u001b[43m,\u001b[49m\u001b[43m \u001b[49m\u001b[38;5;241;43m*\u001b[39;49m\u001b[38;5;241;43m*\u001b[39;49m\u001b[43mkwargs\u001b[49m\u001b[43m)\u001b[49m\n\u001b[1;32m     75\u001b[0m \u001b[38;5;28;01mif\u001b[39;00m show_once:\n\u001b[1;32m     76\u001b[0m     plt\u001b[38;5;241m.\u001b[39mshow()\n",
      "Cell \u001b[0;32mIn[39], line 2\u001b[0m, in \u001b[0;36mmakeFig\u001b[0;34m()\u001b[0m\n\u001b[1;32m      1\u001b[0m \u001b[38;5;28;01mdef\u001b[39;00m \u001b[38;5;21mmakeFig\u001b[39m():\n\u001b[0;32m----> 2\u001b[0m     plt\u001b[38;5;241m.\u001b[39mplot(etime[\u001b[38;5;241m-\u001b[39m\u001b[43mNpts\u001b[49m:],theta[\u001b[38;5;241m-\u001b[39mNpts:],\u001b[38;5;124m'\u001b[39m\u001b[38;5;124mb-\u001b[39m\u001b[38;5;124m'\u001b[39m,label\u001b[38;5;241m=\u001b[39m\u001b[38;5;124m'\u001b[39m\u001b[38;5;124mtheta\u001b[39m\u001b[38;5;124m'\u001b[39m)\n\u001b[1;32m      3\u001b[0m     plt\u001b[38;5;241m.\u001b[39mplot(etime[\u001b[38;5;241m-\u001b[39mNpts:],gyro[\u001b[38;5;241m-\u001b[39mNpts:],\u001b[38;5;124m'\u001b[39m\u001b[38;5;124mr--\u001b[39m\u001b[38;5;124m'\u001b[39m,label\u001b[38;5;241m=\u001b[39m\u001b[38;5;124m'\u001b[39m\u001b[38;5;124mgyro\u001b[39m\u001b[38;5;124m'\u001b[39m)\n\u001b[1;32m      4\u001b[0m     plt\u001b[38;5;241m.\u001b[39mlegend(loc\u001b[38;5;241m=\u001b[39m\u001b[38;5;241m3\u001b[39m)\n",
      "\u001b[0;31mNameError\u001b[0m: name 'Npts' is not defined"
     ]
    },
    {
     "data": {
      "text/plain": [
       "<Figure size 1600x800 with 0 Axes>"
      ]
     },
     "metadata": {},
     "output_type": "display_data"
    }
   ],
   "source": [
    "fig, ax = plt.subplots(figsize=(16,8))\n",
    "for ii in range(Nplot):\n",
    "    Request_data(ser)\n",
    "    time.sleep(0.001)\n",
    "    data = Read_data(ser)\n",
    "    if data[6] > 0: # good data\n",
    "        etime = np.append(etime,data[0])\n",
    "        theta = np.append(theta,data[1])\n",
    "        gyro = np.append(gyro,data[2]*np.pi/180.)\n",
    "    if (ii%25 == 0): \n",
    "        drawnow(makeFig)\n"
   ]
  },
  {
   "cell_type": "code",
   "execution_count": null,
   "id": "b6731658-163e-49dc-a516-2d0be89fe72e",
   "metadata": {},
   "outputs": [],
   "source": []
  },
  {
   "cell_type": "code",
   "execution_count": null,
   "id": "aa102224-3a7c-49ba-b540-746a0b21bc26",
   "metadata": {},
   "outputs": [],
   "source": []
  }
 ],
 "metadata": {
  "kernelspec": {
   "display_name": "Python (38)",
   "language": "python",
   "name": "python3"
  },
  "language_info": {
   "codemirror_mode": {
    "name": "ipython",
    "version": 3
   },
   "file_extension": ".py",
   "mimetype": "text/x-python",
   "name": "python",
   "nbconvert_exporter": "python",
   "pygments_lexer": "ipython3",
   "version": "3.8.16"
  }
 },
 "nbformat": 4,
 "nbformat_minor": 5
}

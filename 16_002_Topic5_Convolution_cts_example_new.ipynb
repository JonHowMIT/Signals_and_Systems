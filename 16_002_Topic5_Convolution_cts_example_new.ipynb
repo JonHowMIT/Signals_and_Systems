{
 "cells": [
  {
   "cell_type": "code",
   "execution_count": 1,
   "id": "eleven-blade",
   "metadata": {
    "id": "eleven-blade"
   },
   "outputs": [],
   "source": [
    "%matplotlib inline\n",
    "import matplotlib.pyplot as plt\n",
    "from matplotlib.pyplot import figure, savefig\n",
    "import scipy.integrate\n",
    "\n",
    "import numpy as np\n",
    "from numpy import linspace\n",
    "\n",
    "from sympy.testing.pytest import ignore_warnings\n",
    "from sympy import oo, Symbol, integrate, exp, Heaviside, plot, sin, cos, Piecewise, printing, lambdify, sinc\n",
    "from sympy.abc import t, x\n",
    "from sympy.interactive import init_printing\n",
    "init_printing(pretty_print=True)"
   ]
  },
  {
   "cell_type": "code",
   "execution_count": null,
   "id": "alone-maximum",
   "metadata": {},
   "outputs": [],
   "source": [
    "def convolve(f, g, t, lower_limit=-oo, upper_limit=oo):\n",
    "    tau = Symbol('__very_unlikely_name__', real=True)\n",
    "    return integrate(f.subs(t, tau) * g.subs(t, t - tau), (tau, lower_limit, upper_limit))\n",
    "\n",
    "p = Symbol('p')\n",
    "sincu = lambda t,p: sinc(p*np.pi*t) # swithc to sinc ftn that evetyone else uses...\n",
    "\n",
    "f1 = sincu(t,1)\n",
    "f2 = sincu(t,1)\n",
    "f3 = convolve(f1, f2, t)\n"
   ]
  },
  {
   "cell_type": "code",
   "execution_count": null,
   "id": "increasing-offset",
   "metadata": {
    "colab": {
     "base_uri": "https://localhost:8080/",
     "height": 540
    },
    "id": "increasing-offset",
    "outputId": "5cc2f548-6adc-47ff-cfe5-b8ea94b73f53"
   },
   "outputs": [],
   "source": [
    "lam_f1 = lambdify(t, f1, modules=['numpy'])\n",
    "lam_f2 = lambdify(t, f2, modules=['numpy'])\n",
    "lam_f3 = lambdify(t, f3, modules=['numpy'])\n",
    "\n",
    "tt_vals = linspace(-3, 3, 1000)\n",
    "\n",
    "fig = plt.figure(1,figsize=(6, 3.375),dpi=150,constrained_layout = True)\n",
    "plt.plot(tt_vals, lam_f1(tt_vals),'b-',lw=2,label='$f_1(t)$')\n",
    "plt.plot(tt_vals, lam_f2(tt_vals),'r--',label='$f_2(t)$')\n",
    "plt.plot(tt_vals, lam_f3(tt_vals),'c-',label='$f_23(t)$')\n",
    "plt.grid()\n",
    "plt.legend()\n",
    "plt.ylabel(\"Signal\")\n",
    "plt.xlabel(\"$t$\")\n",
    "plt.title('Convolution Example')\n",
    "plt.show()"
   ]
  },
  {
   "cell_type": "code",
   "execution_count": null,
   "id": "fancy-memorial",
   "metadata": {},
   "outputs": [],
   "source": [
    "def plot_functions(tval):\n",
    "    plt.plot(tau_vals, lam_f1(tau_vals),'b-',lw=2,label=r'$f_1(\\tau)$')\n",
    "    plt.plot(tau_vals, lam_f2(tval-tau_vals),'c-',label=r'$f_2(-(\\tau-'+str(-tval)+'))$')\n",
    "    if (tval >= f1min + f2min) & (tval <= f1max + f2max):\n",
    "        plt.fill([max(f1min,tval-f2max),max(f1min,tval-f2max),min(tval-f2min,f1max),min(tval-f2min,f1max)],[0,f3amp,f3amp,0],'g',alpha=0.3,label=r'$f_2('+str(tval)+r' - \\tau)f_1(\\tau)$')\n",
    "\n",
    "    plt.grid()\n",
    "    plt.legend()\n",
    "    plt.ylabel(\"Signal\")\n",
    "    plt.xlabel(r\"$\\tau$\")\n",
    "    plt.title('Convolution Example $t = $'+str(tval))\n",
    "    plt.show()"
   ]
  },
  {
   "cell_type": "markdown",
   "id": "stylish-camel",
   "metadata": {},
   "source": [
    "### Approaching from left - still outside"
   ]
  },
  {
   "cell_type": "code",
   "execution_count": null,
   "id": "immune-european",
   "metadata": {
    "id": "immune-european",
    "outputId": "a027df4b-8209-4038-9cb3-579ce736cb52"
   },
   "outputs": [],
   "source": [
    "tval = -1\n",
    "fig = plt.figure(1,figsize=(6, 3.375),dpi=150,constrained_layout = True)\n",
    "plot_functions(tval)"
   ]
  },
  {
   "cell_type": "markdown",
   "id": "talented-railway",
   "metadata": {},
   "source": [
    "### Approaching from left - overlapping"
   ]
  },
  {
   "cell_type": "code",
   "execution_count": null,
   "id": "convinced-length",
   "metadata": {
    "id": "convinced-length",
    "outputId": "de13b7e3-6c4f-46e6-96ed-f76361d49988"
   },
   "outputs": [],
   "source": [
    "tval = 1\n",
    "fig = plt.figure(2,figsize=(6, 3.375),dpi=150,constrained_layout = True)\n",
    "plot_functions(tval)"
   ]
  },
  {
   "cell_type": "markdown",
   "id": "grand-breast",
   "metadata": {},
   "source": [
    "### Approaching from left - inside"
   ]
  },
  {
   "cell_type": "code",
   "execution_count": null,
   "id": "forced-authority",
   "metadata": {
    "id": "forced-authority",
    "outputId": "2d462e00-adc6-40a5-d652-b3e5530cd148"
   },
   "outputs": [],
   "source": [
    "tval = 2\n",
    "fig = plt.figure(3,figsize=(6, 3.375),dpi=150,constrained_layout = True)\n",
    "plot_functions(tval)"
   ]
  },
  {
   "cell_type": "markdown",
   "id": "pretty-hurricane",
   "metadata": {},
   "source": [
    "### Passing out on the right"
   ]
  },
  {
   "cell_type": "code",
   "execution_count": null,
   "id": "medieval-compiler",
   "metadata": {
    "id": "medieval-compiler",
    "outputId": "ac3e6039-70cf-46b0-a7cd-bd13bea37048"
   },
   "outputs": [],
   "source": [
    "tval = 5\n",
    "fig = plt.figure(4,figsize=(6, 3.375),dpi=150,constrained_layout = True)\n",
    "plot_functions(tval)"
   ]
  },
  {
   "cell_type": "markdown",
   "id": "shaped-basic",
   "metadata": {},
   "source": [
    "## Final Result"
   ]
  },
  {
   "cell_type": "code",
   "execution_count": null,
   "id": "occasional-syndrome",
   "metadata": {
    "id": "occasional-syndrome",
    "outputId": "7acbf5ff-5d62-4d96-f14b-c3eae1f141d6"
   },
   "outputs": [],
   "source": [
    "fig = plt.figure(5,figsize=(6, 3.375),dpi=150,constrained_layout = True)\n",
    "plt.plot(tt_vals, lam_f1(tt_vals),'b-.',lw=1,label='$f_1(t)$')\n",
    "plt.plot(tt_vals, lam_f2(tt_vals),'r--',label='$f_2(t)$')\n",
    "plt.plot(tt_vals, f3_tt,'g-',lw=2,label='$f_1(t)\\star f_2(t)$')\n",
    "plt.grid()\n",
    "plt.legend()\n",
    "plt.ylabel(\"Signal\")\n",
    "plt.xlabel(\"$t$\")\n",
    "plt.title('Convolution Example')\n",
    "plt.show()"
   ]
  }
 ],
 "metadata": {
  "colab": {
   "name": "Convolution_cts_example1.ipynb",
   "provenance": []
  },
  "kernelspec": {
   "display_name": "Python 3 (ipykernel)",
   "language": "python",
   "name": "python3"
  },
  "language_info": {
   "codemirror_mode": {
    "name": "ipython",
    "version": 3
   },
   "file_extension": ".py",
   "mimetype": "text/x-python",
   "name": "python",
   "nbconvert_exporter": "python",
   "pygments_lexer": "ipython3",
   "version": "3.8.12"
  },
  "latex_envs": {
   "LaTeX_envs_menu_present": true,
   "autoclose": false,
   "autocomplete": true,
   "bibliofile": "biblio.bib",
   "cite_by": "apalike",
   "current_citInitial": 1,
   "eqLabelWithNumbers": true,
   "eqNumInitial": 1,
   "hotkeys": {
    "equation": "Ctrl-E",
    "itemize": "Ctrl-I"
   },
   "labels_anchors": false,
   "latex_user_defs": false,
   "report_style_numbering": false,
   "user_envs_cfg": false
  }
 },
 "nbformat": 4,
 "nbformat_minor": 5
}

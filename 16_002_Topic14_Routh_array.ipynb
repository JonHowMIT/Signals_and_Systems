{
 "cells": [
  {
   "cell_type": "markdown",
   "id": "84de4f73-62eb-43ab-b864-5a64a8e57a99",
   "metadata": {},
   "source": [
    "# Routh Array"
   ]
  },
  {
   "cell_type": "code",
   "execution_count": 53,
   "id": "e9823c06-f6b5-4ec3-b26e-d7c559c532db",
   "metadata": {},
   "outputs": [],
   "source": [
    "try:\n",
    "    from tbcontrol.symbolic import routh\n",
    "except:\n",
    "    !pip install tbcontrol\n",
    "    from tbcontrol.symbolic import routh\n",
    "\n",
    "import numpy as np\n",
    "from sympy import *\n",
    "sympy.init_printing()\n",
    "\n",
    "s = sympy.Symbol('s')\n",
    "a_0, a_1, a_2, a_3, a_4 = sympy.symbols('a_0:5')\n",
    "K_c = sympy.Symbol('K_c')"
   ]
  },
  {
   "cell_type": "code",
   "execution_count": 54,
   "id": "908b3ef5-a64c-462d-a2d0-a5b6699547d7",
   "metadata": {},
   "outputs": [
    {
     "name": "stdout",
     "output_type": "stream",
     "text": [
      "Help on function routh in module tbcontrol.symbolic:\n",
      "\n",
      "routh(p)\n",
      "    Construct the Routh-Hurwitz array given a polynomial in s\n",
      "    \n",
      "    Input: p - a sympy.Poly object\n",
      "    Output: The Routh-Hurwitz array as a sympy.Matrix object\n",
      "\n"
     ]
    }
   ],
   "source": [
    "help(routh)"
   ]
  },
  {
   "cell_type": "markdown",
   "id": "647bb809-ad23-418b-8664-dcd9b8081198",
   "metadata": {},
   "source": [
    "## Basics"
   ]
  },
  {
   "cell_type": "code",
   "execution_count": 55,
   "id": "6ba8d5fa-0fcf-433d-95ed-d95e616b5e4f",
   "metadata": {},
   "outputs": [
    {
     "data": {
      "image/png": "[encoded data removed]",
      "text/latex": [
       "$\\displaystyle \\operatorname{Poly}{\\left( a_{4} s^{4} + a_{3} s^{3} + a_{2} s^{2} + a_{1} s + a_{0}, s, domain=\\mathbb{Z}\\left[a_{0}, a_{1}, a_{2}, a_{3}, a_{4}\\right] \\right)}$"
      ],
      "text/plain": [
       "Poly(a_4*s**4 + a_3*s**3 + a_2*s**2 + a_1*s + a_0, s, domain='ZZ[a_0,a_1,a_2,a\n",
       "_3,a_4]')"
      ]
     },
     "execution_count": 55,
     "metadata": {},
     "output_type": "execute_result"
    }
   ],
   "source": [
    "p = a_0 + a_1*s**1 + a_2*s**2 + a_3*s**3 + a_4*s**4\n",
    "p = sympy.Poly(p, s)\n",
    "p"
   ]
  },
  {
   "cell_type": "code",
   "execution_count": 56,
   "id": "c3255613-c563-4ee2-b7a3-b52b7a43f569",
   "metadata": {},
   "outputs": [
    {
     "data": {
      "image/png": "[encoded data removed]",
      "text/latex": [
       "$\\displaystyle \\left[\\begin{matrix}a_{4} & a_{2} & a_{0}\\\\a_{3} & a_{1} & 0\\\\- \\frac{a_{1} a_{4}}{a_{3}} + a_{2} & a_{0} & 0\\\\\\frac{a_{0} a_{3}^{2} + a_{1}^{2} a_{4} - a_{1} a_{2} a_{3}}{a_{1} a_{4} - a_{2} a_{3}} & 0 & 0\\\\a_{0} & 0 & 0\\end{matrix}\\right]$"
      ],
      "text/plain": [
       "⎡            a₄              a₂  a₀⎤\n",
       "⎢                                  ⎥\n",
       "⎢            a₃              a₁  0 ⎥\n",
       "⎢                                  ⎥\n",
       "⎢         a₁⋅a₄                    ⎥\n",
       "⎢       - ───── + a₂         a₀  0 ⎥\n",
       "⎢           a₃                     ⎥\n",
       "⎢                                  ⎥\n",
       "⎢     2     2                      ⎥\n",
       "⎢a₀⋅a₃  + a₁ ⋅a₄ - a₁⋅a₂⋅a₃        ⎥\n",
       "⎢──────────────────────────  0   0 ⎥\n",
       "⎢      a₁⋅a₄ - a₂⋅a₃               ⎥\n",
       "⎢                                  ⎥\n",
       "⎣            a₀              0   0 ⎦"
      ]
     },
     "execution_count": 56,
     "metadata": {},
     "output_type": "execute_result"
    }
   ],
   "source": [
    "routh(p)"
   ]
  },
  {
   "cell_type": "markdown",
   "id": "fda7b18c-5256-499f-8456-3231d101aa64",
   "metadata": {},
   "source": [
    "## Example 1"
   ]
  },
  {
   "cell_type": "code",
   "execution_count": 57,
   "id": "8f690116-7815-4830-98f0-ebe853d6f597",
   "metadata": {},
   "outputs": [
    {
     "data": {
      "image/png": "[encoded data removed]",
      "text/latex": [
       "$\\displaystyle \\operatorname{Poly}{\\left( s^{3} + s^{2} + s + 2, s, domain=\\mathbb{Z} \\right)}$"
      ],
      "text/plain": [
       "Poly(s**3 + s**2 + s + 2, s, domain='ZZ')"
      ]
     },
     "execution_count": 57,
     "metadata": {},
     "output_type": "execute_result"
    }
   ],
   "source": [
    "p = s**3 + s**2 + s + 2\n",
    "p = sympy.Poly(p, s)\n",
    "p"
   ]
  },
  {
   "cell_type": "code",
   "execution_count": 58,
   "id": "6e087496-0437-47f7-8fc3-4f70b0b85628",
   "metadata": {},
   "outputs": [
    {
     "data": {
      "image/png": "[encoded data removed]",
      "text/latex": [
       "$\\displaystyle \\left[\\begin{matrix}1 & 1\\\\1 & 2\\\\-1 & 0\\\\2 & 0\\end{matrix}\\right]$"
      ],
      "text/plain": [
       "⎡1   1⎤\n",
       "⎢     ⎥\n",
       "⎢1   2⎥\n",
       "⎢     ⎥\n",
       "⎢-1  0⎥\n",
       "⎢     ⎥\n",
       "⎣2   0⎦"
      ]
     },
     "execution_count": 58,
     "metadata": {},
     "output_type": "execute_result"
    }
   ],
   "source": [
    "routh(p)"
   ]
  },
  {
   "cell_type": "markdown",
   "id": "33a82d4d-6479-47b5-ac79-1a39adda70be",
   "metadata": {},
   "source": [
    "## Example 2"
   ]
  },
  {
   "cell_type": "code",
   "execution_count": 59,
   "id": "1c4b1a52-6aec-4c08-a506-081ee7c0b9ff",
   "metadata": {},
   "outputs": [
    {
     "data": {
      "image/png": "[encoded data removed]",
      "text/latex": [
       "$\\displaystyle \\operatorname{Poly}{\\left( s^{3} + 4 s^{2} + 8 s + 4, s, domain=\\mathbb{Z} \\right)}$"
      ],
      "text/plain": [
       "Poly(s**3 + 4*s**2 + 8*s + 4, s, domain='ZZ')"
      ]
     },
     "execution_count": 59,
     "metadata": {},
     "output_type": "execute_result"
    }
   ],
   "source": [
    "p = s**3 + 4*s**2 + 8*s + 4\n",
    "p = sympy.Poly(p, s)\n",
    "p"
   ]
  },
  {
   "cell_type": "code",
   "execution_count": 60,
   "id": "b6670c7f-41d8-41dc-a5aa-194ded68bced",
   "metadata": {},
   "outputs": [],
   "source": [
    "RA = routh(p)"
   ]
  },
  {
   "cell_type": "code",
   "execution_count": 61,
   "id": "c3b38b18-f2d8-4052-bc53-40bd93ff9505",
   "metadata": {},
   "outputs": [
    {
     "name": "stdout",
     "output_type": "stream",
     "text": [
      "Stable\n"
     ]
    }
   ],
   "source": [
    "if min(RA[:, 0]) > 0:\n",
    "    print('Stable')\n",
    "else:\n",
    "    print('Unstable')"
   ]
  },
  {
   "cell_type": "code",
   "execution_count": 62,
   "id": "36ea20b1-53f7-479b-adc2-09c555a5ff16",
   "metadata": {},
   "outputs": [
    {
     "data": {
      "image/png": "[encoded data removed]",
      "text/latex": [
       "$\\displaystyle \\operatorname{Poly}{\\left( s^{3} + s^{2} + 3 s - 1, s, domain=\\mathbb{Z} \\right)}$"
      ],
      "text/plain": [
       "Poly(s**3 + s**2 + 3*s - 1, s, domain='ZZ')"
      ]
     },
     "execution_count": 62,
     "metadata": {},
     "output_type": "execute_result"
    }
   ],
   "source": [
    "h = 1\n",
    "pa = p.subs(s,s-h)\n",
    "pa = sympy.Poly(pa, s)\n",
    "pa"
   ]
  },
  {
   "cell_type": "code",
   "execution_count": 63,
   "id": "8b792590-87e7-41c3-a94c-0003aefb4463",
   "metadata": {},
   "outputs": [],
   "source": [
    "RAa = routh(pa)"
   ]
  },
  {
   "cell_type": "code",
   "execution_count": 64,
   "id": "730d9c93-4492-4357-a29d-56dbb496fd7f",
   "metadata": {},
   "outputs": [
    {
     "name": "stdout",
     "output_type": "stream",
     "text": [
      "Poles not left of s = -1\n"
     ]
    }
   ],
   "source": [
    "if min(RAa[:, 0]) > 0:\n",
    "    print('Poles are left of s = -'+str(h))\n",
    "else:\n",
    "    print('Poles not left of s = -'+str(h))"
   ]
  },
  {
   "cell_type": "markdown",
   "id": "bc371faa-1022-43a2-964f-4cee240c1b3b",
   "metadata": {},
   "source": [
    "## Example 3"
   ]
  },
  {
   "cell_type": "code",
   "execution_count": 65,
   "id": "a70113c2-c800-4d90-b009-59aa8437214d",
   "metadata": {},
   "outputs": [],
   "source": [
    "G = 1/((1+0.1*s)*(1+0.2*s)*(1+0.3*s))\n",
    "Gcl = G/(1 + K_c * G)\n",
    "n,d = fraction(Gcl.simplify())\n",
    "p = d.expand()"
   ]
  },
  {
   "cell_type": "code",
   "execution_count": 66,
   "id": "292e948e-2afd-4349-ab8c-5f8f48527f8e",
   "metadata": {},
   "outputs": [
    {
     "data": {
      "image/png": "[encoded data removed]",
      "text/latex": [
       "$\\displaystyle \\left[\\begin{matrix}0.006 & 0.6\\\\0.11 & 1.0 K_{c} + 1.0\\\\0.545454545454546 - 0.0545454545454545 K_{c} & 0\\\\1.0 K_{c} + 1.0 & 0\\end{matrix}\\right]$"
      ],
      "text/plain": [
       "⎡                  0.006                          0.6     ⎤\n",
       "⎢                                                         ⎥\n",
       "⎢                   0.11                     1.0⋅K_c + 1.0⎥\n",
       "⎢                                                         ⎥\n",
       "⎢0.545454545454546 - 0.0545454545454545⋅K_c        0      ⎥\n",
       "⎢                                                         ⎥\n",
       "⎣              1.0⋅K_c + 1.0                       0      ⎦"
      ]
     },
     "execution_count": 66,
     "metadata": {},
     "output_type": "execute_result"
    }
   ],
   "source": [
    "RA = routh(sympy.Poly(p, s))\n",
    "RA"
   ]
  },
  {
   "cell_type": "code",
   "execution_count": 67,
   "id": "191df74a-3f31-4fd7-a148-dd5ea2faa0b2",
   "metadata": {},
   "outputs": [
    {
     "data": {
      "image/png": "[encoded data removed]",
      "text/latex": [
       "$\\displaystyle -1.0 < K_{c} \\wedge K_{c} < 10.0$"
      ],
      "text/plain": [
       "-1.0 < K_c ∧ K_c < 10.0"
      ]
     },
     "execution_count": 67,
     "metadata": {},
     "output_type": "execute_result"
    }
   ],
   "source": [
    "sympy.solve([e > 0 for e in RA[:, 0]], K_c)"
   ]
  },
  {
   "cell_type": "code",
   "execution_count": 103,
   "id": "6812e305-712f-4bc1-8d24-69be57fb8fd7",
   "metadata": {},
   "outputs": [
    {
     "name": "stdout",
     "output_type": "stream",
     "text": [
      "K_c = -2 and Unstable\n",
      "K_c = -1 and Unstable\n",
      "K_c =  0 and Stable\n",
      "K_c =  1 and Stable\n",
      "K_c =  2 and Stable\n",
      "K_c =  3 and Stable\n",
      "K_c =  4 and Stable\n",
      "K_c =  5 and Stable\n",
      "K_c =  6 and Stable\n",
      "K_c =  7 and Stable\n",
      "K_c =  8 and Stable\n",
      "K_c =  9 and Stable\n",
      "K_c = 10 and Unstable\n",
      "K_c = 11 and Unstable\n"
     ]
    }
   ],
   "source": [
    "for k_c in np.arange(-2,12):\n",
    "    r = roots(d.subs(K_c,k_c))\n",
    "    N = len(r)\n",
    "    real_part = [re(e) for e in list(r)[0:N]]\n",
    "    msgs = 'Stable'\n",
    "    if max(real_part) >= 0:\n",
    "        msgs = 'Unstable'        \n",
    "    print(f'K_c = {k_c:2d} and '+msgs)"
   ]
  },
  {
   "cell_type": "code",
   "execution_count": null,
   "id": "6a803bc7-45f3-4a3f-b926-2771cfaacf7c",
   "metadata": {},
   "outputs": [],
   "source": []
  }
 ],
 "metadata": {
  "kernelspec": {
   "display_name": "myenv",
   "language": "python",
   "name": "myenv"
  },
  "language_info": {
   "codemirror_mode": {
    "name": "ipython",
    "version": 3
   },
   "file_extension": ".py",
   "mimetype": "text/x-python",
   "name": "python",
   "nbconvert_exporter": "python",
   "pygments_lexer": "ipython3",
   "version": "3.9.9"
  }
 },
 "nbformat": 4,
 "nbformat_minor": 5
}

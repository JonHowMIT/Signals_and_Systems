{
 "cells": [
  {
   "cell_type": "markdown",
   "id": "84de4f73-62eb-43ab-b864-5a64a8e57a99",
   "metadata": {},
   "source": [
    "# Routh Array"
   ]
  },
  {
   "cell_type": "code",
   "execution_count": 82,
   "id": "e9823c06-f6b5-4ec3-b26e-d7c559c532db",
   "metadata": {},
   "outputs": [
    {
     "name": "stdout",
     "output_type": "stream",
     "text": [
      "sympy version 1.9\n"
     ]
    }
   ],
   "source": [
    "try:\n",
    "    from tbcontrol.symbolic import routh\n",
    "except:\n",
    "    !pip install tbcontrol\n",
    "    from tbcontrol.symbolic import routh\n",
    "\n",
    "import numpy as np\n",
    "import sympy \n",
    "from sympy import fraction, roots, re, N \n",
    "sympy.init_printing()\n",
    "print('sympy version '+sympy.__version__)\n",
    "\n",
    "s = sympy.Symbol('s')\n",
    "a_0, a_1, a_2, a_3, a_4 = sympy.symbols('a_0:5')\n",
    "K_c = sympy.Symbol('K_c')"
   ]
  },
  {
   "cell_type": "code",
   "execution_count": 83,
   "id": "908b3ef5-a64c-462d-a2d0-a5b6699547d7",
   "metadata": {},
   "outputs": [
    {
     "name": "stdout",
     "output_type": "stream",
     "text": [
      "Help on function routh in module tbcontrol.symbolic:\n",
      "\n",
      "routh(p)\n",
      "    Construct the Routh-Hurwitz array given a polynomial in s\n",
      "    \n",
      "    Input: p - a sympy.Poly object\n",
      "    Output: The Routh-Hurwitz array as a sympy.Matrix object\n",
      "\n"
     ]
    }
   ],
   "source": [
    "help(routh)"
   ]
  },
  {
   "cell_type": "markdown",
   "id": "647bb809-ad23-418b-8664-dcd9b8081198",
   "metadata": {},
   "source": [
    "## Basics"
   ]
  },
  {
   "cell_type": "code",
   "execution_count": 84,
   "id": "6ba8d5fa-0fcf-433d-95ed-d95e616b5e4f",
   "metadata": {
    "tags": []
   },
   "outputs": [
    {
     "data": {
      "image/png": "[encoded data removed]",
      "text/latex": [
       "$\\displaystyle \\operatorname{Poly}{\\left( a_{4} s^{4} + a_{3} s^{3} + a_{2} s^{2} + a_{1} s + a_{0}, s, domain=\\mathbb{Z}\\left[a_{0}, a_{1}, a_{2}, a_{3}, a_{4}\\right] \\right)}$"
      ],
      "text/plain": [
       "Poly(a_4*s**4 + a_3*s**3 + a_2*s**2 + a_1*s + a_0, s, domain='ZZ[a_0,a_1,a_2,a\n",
       "_3,a_4]')"
      ]
     },
     "execution_count": 84,
     "metadata": {},
     "output_type": "execute_result"
    }
   ],
   "source": [
    "p = a_0 + a_1*s**1 + a_2*s**2 + a_3*s**3 + a_4*s**4\n",
    "p = sympy.Poly(p, s)\n",
    "p"
   ]
  },
  {
   "cell_type": "code",
   "execution_count": 85,
   "id": "c3255613-c563-4ee2-b7a3-b52b7a43f569",
   "metadata": {},
   "outputs": [
    {
     "data": {
      "image/png": "[encoded data removed]",
      "text/latex": [
       "$\\displaystyle \\left[\\begin{matrix}a_{4} & a_{2} & a_{0}\\\\a_{3} & a_{1} & 0\\\\- \\frac{a_{1} a_{4}}{a_{3}} + a_{2} & a_{0} & 0\\\\\\frac{a_{0} a_{3}^{2} + a_{1}^{2} a_{4} - a_{1} a_{2} a_{3}}{a_{1} a_{4} - a_{2} a_{3}} & 0 & 0\\\\a_{0} & 0 & 0\\end{matrix}\\right]$"
      ],
      "text/plain": [
       "⎡            a₄              a₂  a₀⎤\n",
       "⎢                                  ⎥\n",
       "⎢            a₃              a₁  0 ⎥\n",
       "⎢                                  ⎥\n",
       "⎢         a₁⋅a₄                    ⎥\n",
       "⎢       - ───── + a₂         a₀  0 ⎥\n",
       "⎢           a₃                     ⎥\n",
       "⎢                                  ⎥\n",
       "⎢     2     2                      ⎥\n",
       "⎢a₀⋅a₃  + a₁ ⋅a₄ - a₁⋅a₂⋅a₃        ⎥\n",
       "⎢──────────────────────────  0   0 ⎥\n",
       "⎢      a₁⋅a₄ - a₂⋅a₃               ⎥\n",
       "⎢                                  ⎥\n",
       "⎣            a₀              0   0 ⎦"
      ]
     },
     "execution_count": 85,
     "metadata": {},
     "output_type": "execute_result"
    }
   ],
   "source": [
    "routh(p)"
   ]
  },
  {
   "cell_type": "code",
   "execution_count": 86,
   "id": "2856fcaa-612d-4460-aa79-e28ba0936298",
   "metadata": {
    "tags": []
   },
   "outputs": [
    {
     "data": {
      "image/png": "[encoded data removed]",
      "text/latex": [
       "$\\displaystyle \\operatorname{Poly}{\\left( s^{6} + 7 s^{5} + 13 s^{4} + 8 s^{3} + 5 s^{2} + 10 s + 16, s, domain=\\mathbb{Z} \\right)}$"
      ],
      "text/plain": [
       "Poly(s**6 + 7*s**5 + 13*s**4 + 8*s**3 + 5*s**2 + 10*s + 16, s, domain='ZZ')"
      ]
     },
     "execution_count": 86,
     "metadata": {},
     "output_type": "execute_result"
    }
   ],
   "source": [
    "p = s**6 + 7*s**5 + 13*s**4 + 8*s**3 + 5*s**2 + 10*s + 16\n",
    "p = sympy.Poly(p, s)\n",
    "p"
   ]
  },
  {
   "cell_type": "code",
   "execution_count": 87,
   "id": "1c746799-f4fd-4ec8-85e5-631de83728f2",
   "metadata": {},
   "outputs": [
    {
     "name": "stdout",
     "output_type": "stream",
     "text": [
      "  -4.434\n",
      "  -2.000\n",
      "  -0.907   -0.933i\n",
      "  -0.907    0.933i\n",
      "   0.625   -0.822i\n",
      "   0.625    0.822i\n"
     ]
    }
   ],
   "source": [
    "rr = p.nroots()\n",
    "for root in rr:\n",
    "    r, i = root.as_real_imag()\n",
    "    if abs(i) > 1e-5:\n",
    "        print('%8.3f %8.3fi' % (r,i))\n",
    "    else:\n",
    "        print('%8.3f' % (r))"
   ]
  },
  {
   "cell_type": "code",
   "execution_count": 88,
   "id": "65ae79ae-79d1-46b5-82f1-33e695b4d547",
   "metadata": {},
   "outputs": [
    {
     "data": {
      "image/png": "[encoded data removed]",
      "text/latex": [
       "$\\displaystyle \\left[\\begin{matrix}1 & 13 & 5 & 16\\\\7 & 8 & 10 & 0\\\\\\frac{83}{7} & \\frac{25}{7} & 16 & 0\\\\\\frac{489}{83} & \\frac{46}{83} & 0 & 0\\\\\\frac{1201}{489} & 16 & 0 & 0\\\\- \\frac{45430}{1201} & 0 & 0 & 0\\\\16 & 0 & 0 & 0\\end{matrix}\\right]$"
      ],
      "text/plain": [
       "⎡   1      13   5   16⎤\n",
       "⎢                     ⎥\n",
       "⎢   7      8    10  0 ⎥\n",
       "⎢                     ⎥\n",
       "⎢ 83/7    25/7  16  0 ⎥\n",
       "⎢                     ⎥\n",
       "⎢  489     46         ⎥\n",
       "⎢  ───     ──   0   0 ⎥\n",
       "⎢   83     83         ⎥\n",
       "⎢                     ⎥\n",
       "⎢ 1201                ⎥\n",
       "⎢ ────     16   0   0 ⎥\n",
       "⎢ 489                 ⎥\n",
       "⎢                     ⎥\n",
       "⎢-45430               ⎥\n",
       "⎢───────   0    0   0 ⎥\n",
       "⎢  1201               ⎥\n",
       "⎢                     ⎥\n",
       "⎣  16      0    0   0 ⎦"
      ]
     },
     "execution_count": 88,
     "metadata": {},
     "output_type": "execute_result"
    }
   ],
   "source": [
    "routh(p)"
   ]
  },
  {
   "cell_type": "markdown",
   "id": "fda7b18c-5256-499f-8456-3231d101aa64",
   "metadata": {
    "tags": []
   },
   "source": [
    "## Example 1"
   ]
  },
  {
   "cell_type": "code",
   "execution_count": 89,
   "id": "8f690116-7815-4830-98f0-ebe853d6f597",
   "metadata": {
    "tags": []
   },
   "outputs": [
    {
     "data": {
      "image/png": "[encoded data removed]",
      "text/latex": [
       "$\\displaystyle \\operatorname{Poly}{\\left( s^{3} + s^{2} + s + 2, s, domain=\\mathbb{Z} \\right)}$"
      ],
      "text/plain": [
       "Poly(s**3 + s**2 + s + 2, s, domain='ZZ')"
      ]
     },
     "execution_count": 89,
     "metadata": {},
     "output_type": "execute_result"
    }
   ],
   "source": [
    "p = s**3 + s**2 + s + 2\n",
    "p = sympy.Poly(p, s)\n",
    "p"
   ]
  },
  {
   "cell_type": "code",
   "execution_count": 90,
   "id": "6e087496-0437-47f7-8fc3-4f70b0b85628",
   "metadata": {
    "tags": []
   },
   "outputs": [
    {
     "data": {
      "image/png": "[encoded data removed]",
      "text/latex": [
       "$\\displaystyle \\left[\\begin{matrix}1 & 1\\\\1 & 2\\\\-1 & 0\\\\2 & 0\\end{matrix}\\right]$"
      ],
      "text/plain": [
       "⎡1   1⎤\n",
       "⎢     ⎥\n",
       "⎢1   2⎥\n",
       "⎢     ⎥\n",
       "⎢-1  0⎥\n",
       "⎢     ⎥\n",
       "⎣2   0⎦"
      ]
     },
     "execution_count": 90,
     "metadata": {},
     "output_type": "execute_result"
    }
   ],
   "source": [
    "routh(p)"
   ]
  },
  {
   "cell_type": "code",
   "execution_count": 91,
   "id": "509ecafd-e009-482a-adc4-b44ee4598e12",
   "metadata": {},
   "outputs": [
    {
     "name": "stdout",
     "output_type": "stream",
     "text": [
      "  -1.353\n",
      "   0.177   -1.203i\n",
      "   0.177    1.203i\n"
     ]
    }
   ],
   "source": [
    "rr = p.nroots()\n",
    "for root in rr:\n",
    "    r, i = root.as_real_imag()\n",
    "    if abs(i) > 1e-5:\n",
    "        print('%8.3f %8.3fi' % (r,i))\n",
    "    else:\n",
    "        print('%8.3f' % (r))"
   ]
  },
  {
   "cell_type": "markdown",
   "id": "33a82d4d-6479-47b5-ac79-1a39adda70be",
   "metadata": {},
   "source": [
    "## Example 2"
   ]
  },
  {
   "cell_type": "code",
   "execution_count": 92,
   "id": "1c4b1a52-6aec-4c08-a506-081ee7c0b9ff",
   "metadata": {},
   "outputs": [
    {
     "data": {
      "image/png": "[encoded data removed]",
      "text/latex": [
       "$\\displaystyle \\operatorname{Poly}{\\left( s^{3} + 4 s^{2} + 8 s + 4, s, domain=\\mathbb{Z} \\right)}$"
      ],
      "text/plain": [
       "Poly(s**3 + 4*s**2 + 8*s + 4, s, domain='ZZ')"
      ]
     },
     "execution_count": 92,
     "metadata": {},
     "output_type": "execute_result"
    }
   ],
   "source": [
    "p = s**3 + 4*s**2 + 8*s + 4\n",
    "p = sympy.Poly(p, s)\n",
    "p"
   ]
  },
  {
   "cell_type": "code",
   "execution_count": 93,
   "id": "b6670c7f-41d8-41dc-a5aa-194ded68bced",
   "metadata": {},
   "outputs": [
    {
     "data": {
      "image/png": "[encoded data removed]",
      "text/latex": [
       "$\\displaystyle \\left[\\begin{matrix}1 & 8\\\\4 & 4\\\\7 & 0\\\\4 & 0\\end{matrix}\\right]$"
      ],
      "text/plain": [
       "⎡1  8⎤\n",
       "⎢    ⎥\n",
       "⎢4  4⎥\n",
       "⎢    ⎥\n",
       "⎢7  0⎥\n",
       "⎢    ⎥\n",
       "⎣4  0⎦"
      ]
     },
     "execution_count": 93,
     "metadata": {},
     "output_type": "execute_result"
    }
   ],
   "source": [
    "RA = routh(p)\n",
    "RA"
   ]
  },
  {
   "cell_type": "code",
   "execution_count": 94,
   "id": "c3b38b18-f2d8-4052-bc53-40bd93ff9505",
   "metadata": {},
   "outputs": [
    {
     "name": "stdout",
     "output_type": "stream",
     "text": [
      "Stable\n"
     ]
    }
   ],
   "source": [
    "msgs = 'Stable' if min(RA[:, 0]) > 0 else 'Unstable'\n",
    "print(msgs)"
   ]
  },
  {
   "cell_type": "code",
   "execution_count": 95,
   "id": "1080c8f1-7847-4dba-859b-00b77bbe6480",
   "metadata": {},
   "outputs": [
    {
     "name": "stdout",
     "output_type": "stream",
     "text": [
      "  -0.704\n",
      "  -1.648   -1.721i\n",
      "  -1.648    1.721i\n"
     ]
    }
   ],
   "source": [
    "rr = p.nroots()\n",
    "for root in rr:\n",
    "    r, i = root.as_real_imag()\n",
    "    if abs(i) > 1e-5:\n",
    "        print('%8.3f %8.3fi' % (r,i))\n",
    "    else:\n",
    "        print('%8.3f' % (r))"
   ]
  },
  {
   "cell_type": "markdown",
   "id": "c65eb563-9a2d-4dd7-a9bd-ee429ce957af",
   "metadata": {},
   "source": [
    "## Check if poles satisfy $Re[s] \\leq h$"
   ]
  },
  {
   "cell_type": "code",
   "execution_count": 96,
   "id": "36ea20b1-53f7-479b-adc2-09c555a5ff16",
   "metadata": {},
   "outputs": [
    {
     "data": {
      "image/png": "[encoded data removed]",
      "text/latex": [
       "$\\displaystyle \\operatorname{Poly}{\\left( 1.0 s^{3} + 1.87 s^{2} + 3.8323 s - 0.0215109999999998, s, domain=\\mathbb{R} \\right)}$"
      ],
      "text/plain": [
       "Poly(1.0*s**3 + 1.87*s**2 + 3.8323*s - 0.0215109999999998, s, domain='RR')"
      ]
     },
     "execution_count": 96,
     "metadata": {},
     "output_type": "execute_result"
    }
   ],
   "source": [
    "h = -0.71\n",
    "pa = p.subs(s,s+h)\n",
    "pa = sympy.Poly(pa, s)\n",
    "pa"
   ]
  },
  {
   "cell_type": "code",
   "execution_count": 97,
   "id": "8b792590-87e7-41c3-a94c-0003aefb4463",
   "metadata": {},
   "outputs": [],
   "source": [
    "RAa = routh(pa)"
   ]
  },
  {
   "cell_type": "code",
   "execution_count": 98,
   "id": "730d9c93-4492-4357-a29d-56dbb496fd7f",
   "metadata": {},
   "outputs": [
    {
     "name": "stdout",
     "output_type": "stream",
     "text": [
      "Poles are not left of s = -0.71\n"
     ]
    }
   ],
   "source": [
    "msgs = 'are' if min(RAa[:, 0]) > 0 else 'are not'\n",
    "print('Poles '+msgs+' left of s = '+str(h))"
   ]
  },
  {
   "cell_type": "markdown",
   "id": "bc371faa-1022-43a2-964f-4cee240c1b3b",
   "metadata": {},
   "source": [
    "## Example 3"
   ]
  },
  {
   "cell_type": "code",
   "execution_count": 99,
   "id": "a70113c2-c800-4d90-b009-59aa8437214d",
   "metadata": {},
   "outputs": [
    {
     "data": {
      "image/png": "[encoded data removed]",
      "text/latex": [
       "$\\displaystyle K_{c} + 0.006 s^{3} + 0.11 s^{2} + 0.6 s + 1$"
      ],
      "text/plain": [
       "             3         2            \n",
       "K_c + 0.006⋅s  + 0.11⋅s  + 0.6⋅s + 1"
      ]
     },
     "execution_count": 99,
     "metadata": {},
     "output_type": "execute_result"
    }
   ],
   "source": [
    "G = 1/((1+0.1*s)*(1+0.2*s)*(1+0.3*s))\n",
    "Gcl = G/(1 + K_c * G)\n",
    "n,d = fraction(Gcl.simplify())\n",
    "p = d.expand()\n",
    "p"
   ]
  },
  {
   "cell_type": "code",
   "execution_count": 100,
   "id": "292e948e-2afd-4349-ab8c-5f8f48527f8e",
   "metadata": {
    "tags": []
   },
   "outputs": [
    {
     "data": {
      "image/png": "[encoded data removed]",
      "text/latex": [
       "$\\displaystyle \\left[\\begin{matrix}0.006 & 0.6\\\\0.11 & 1.0 K_{c} + 1.0\\\\0.545454545454546 - 0.0545454545454545 K_{c} & 0\\\\1.0 K_{c} + 1.0 & 0\\end{matrix}\\right]$"
      ],
      "text/plain": [
       "⎡                  0.006                          0.6     ⎤\n",
       "⎢                                                         ⎥\n",
       "⎢                   0.11                     1.0⋅K_c + 1.0⎥\n",
       "⎢                                                         ⎥\n",
       "⎢0.545454545454546 - 0.0545454545454545⋅K_c        0      ⎥\n",
       "⎢                                                         ⎥\n",
       "⎣              1.0⋅K_c + 1.0                       0      ⎦"
      ]
     },
     "execution_count": 100,
     "metadata": {},
     "output_type": "execute_result"
    }
   ],
   "source": [
    "RA = routh(sympy.Poly(p, s))\n",
    "RA"
   ]
  },
  {
   "cell_type": "code",
   "execution_count": 101,
   "id": "191df74a-3f31-4fd7-a148-dd5ea2faa0b2",
   "metadata": {},
   "outputs": [
    {
     "data": {
      "image/png": "[encoded data removed]",
      "text/latex": [
       "$\\displaystyle -1.0 < K_{c} \\wedge K_{c} < 10.0$"
      ],
      "text/plain": [
       "-1.0 < K_c ∧ K_c < 10.0"
      ]
     },
     "execution_count": 101,
     "metadata": {},
     "output_type": "execute_result"
    }
   ],
   "source": [
    "rr = sympy.solve([e > 0 for e in RA[:, 0]], K_c)\n",
    "rr"
   ]
  },
  {
   "cell_type": "code",
   "execution_count": 102,
   "id": "6812e305-712f-4bc1-8d24-69be57fb8fd7",
   "metadata": {},
   "outputs": [
    {
     "name": "stdout",
     "output_type": "stream",
     "text": [
      "For K_c = -2.0 system is Unstable\n",
      "For K_c = -1.0 system is Unstable\n",
      "For K_c =  0.0 system is Stable\n",
      "For K_c =  1.0 system is Stable\n",
      "For K_c =  2.0 system is Stable\n",
      "For K_c =  3.0 system is Stable\n",
      "For K_c =  4.0 system is Stable\n",
      "For K_c =  5.0 system is Stable\n",
      "For K_c =  6.0 system is Stable\n",
      "For K_c =  7.0 system is Stable\n",
      "For K_c =  8.0 system is Stable\n",
      "For K_c =  9.0 system is Stable\n",
      "For K_c = 10.0 system is Unstable\n"
     ]
    }
   ],
   "source": [
    "step = (float(rr.as_set().end+1) - float(rr.as_set().start-1) )/10 \n",
    "for k_c in np.arange(float(rr.as_set().start-1),float(rr.as_set().end+1),int(step)):\n",
    "    r = roots(d.subs(K_c,k_c))\n",
    "    N = len(r)\n",
    "    real_part = [re(e) for e in list(r)[0:N]]\n",
    "    msgs = 'Unstable' if max(real_part) >= 0 else 'Stable'        \n",
    "    print(f'For K_c = {k_c:4.1f} system is '+msgs)"
   ]
  },
  {
   "cell_type": "markdown",
   "id": "28ddeef9-32f5-485a-b6e9-d00e0cbd6e3a",
   "metadata": {
    "tags": []
   },
   "source": [
    "## Example 10"
   ]
  },
  {
   "cell_type": "code",
   "execution_count": 103,
   "id": "0760b555-5c12-48d4-aa32-1cf802d8f50f",
   "metadata": {
    "tags": []
   },
   "outputs": [
    {
     "data": {
      "image/png": "[encoded data removed]",
      "text/latex": [
       "$\\displaystyle \\operatorname{Poly}{\\left( s^{2} + K_{c} s + 2 K_{c} - 1, s, domain=\\mathbb{Z}\\left[K_{c}\\right] \\right)}$"
      ],
      "text/plain": [
       "Poly(s**2 + K_c*s + 2*K_c - 1, s, domain='ZZ[K_c]')"
      ]
     },
     "execution_count": 103,
     "metadata": {},
     "output_type": "execute_result"
    }
   ],
   "source": [
    "p = s**2 + K_c*s + (2*K_c-1) \n",
    "p = sympy.Poly(p, s)\n",
    "p"
   ]
  },
  {
   "cell_type": "code",
   "execution_count": 104,
   "id": "0b389ab3-1d38-4181-83fa-82b34b2fce88",
   "metadata": {
    "tags": []
   },
   "outputs": [
    {
     "data": {
      "image/png": "[encoded data removed]",
      "text/latex": [
       "$\\displaystyle \\left[\\begin{matrix}1 & 2 K_{c} - 1\\\\K_{c} & 0\\\\2 K_{c} - 1 & 0\\end{matrix}\\right]$"
      ],
      "text/plain": [
       "⎡    1      2⋅K_c - 1⎤\n",
       "⎢                    ⎥\n",
       "⎢   K_c         0    ⎥\n",
       "⎢                    ⎥\n",
       "⎣2⋅K_c - 1      0    ⎦"
      ]
     },
     "execution_count": 104,
     "metadata": {},
     "output_type": "execute_result"
    }
   ],
   "source": [
    "RA = routh(sympy.Poly(p, s))\n",
    "RA"
   ]
  },
  {
   "cell_type": "code",
   "execution_count": 105,
   "id": "bb882d75-53ff-4bee-8331-7cdbaa2a9ddb",
   "metadata": {},
   "outputs": [
    {
     "data": {
      "image/png": "[encoded data removed]",
      "text/latex": [
       "$\\displaystyle \\frac{1}{2} < K_{c} \\wedge K_{c} < \\infty$"
      ],
      "text/plain": [
       "1/2 < K_c ∧ K_c < ∞"
      ]
     },
     "execution_count": 105,
     "metadata": {},
     "output_type": "execute_result"
    }
   ],
   "source": [
    "sympy.solve([e > 0 for e in RA[:, 0]], K_c)"
   ]
  },
  {
   "cell_type": "code",
   "execution_count": 106,
   "id": "94104a0a-5bea-4d4d-b4db-b0b61d581afa",
   "metadata": {},
   "outputs": [
    {
     "name": "stdout",
     "output_type": "stream",
     "text": [
      "For K_c = -0.5 system is Unstable\n",
      "For K_c =  0.5 system is Unstable\n",
      "For K_c =  1.5 system is Stable\n",
      "For K_c =  2.5 system is Stable\n",
      "For K_c =  3.5 system is Stable\n",
      "For K_c =  4.5 system is Stable\n"
     ]
    }
   ],
   "source": [
    "for k_c in np.arange(-0.5,5,1):\n",
    "    r = roots(p.subs(K_c,k_c))\n",
    "    N = len(r)\n",
    "    real_part = [re(e) for e in list(r)[0:N]]\n",
    "    msgs = 'Stable'\n",
    "    if max(real_part) >= 0:\n",
    "        msgs = 'Unstable'        \n",
    "    print(f'For K_c = {k_c:4.1f} system is '+msgs)"
   ]
  },
  {
   "cell_type": "markdown",
   "id": "a5b13f31-cdbd-4a60-937c-e84d6971f2b9",
   "metadata": {
    "tags": []
   },
   "source": [
    "## Example 11"
   ]
  },
  {
   "cell_type": "code",
   "execution_count": 107,
   "id": "98ee6bdc-f35c-4650-b4c6-bed73513b723",
   "metadata": {
    "tags": []
   },
   "outputs": [
    {
     "data": {
      "image/png": "[encoded data removed]",
      "text/latex": [
       "$\\displaystyle \\operatorname{Poly}{\\left( s^{3} + 14 s^{2} + 56 s + K_{c}, s, domain=\\mathbb{Z}\\left[K_{c}\\right] \\right)}$"
      ],
      "text/plain": [
       "Poly(s**3 + 14*s**2 + 56*s + K_c, s, domain='ZZ[K_c]')"
      ]
     },
     "execution_count": 107,
     "metadata": {},
     "output_type": "execute_result"
    }
   ],
   "source": [
    "p = s**3 + 14*s**2 + 56*s + K_c \n",
    "p = sympy.Poly(p, s)\n",
    "p"
   ]
  },
  {
   "cell_type": "code",
   "execution_count": 108,
   "id": "cb51a942-4fd8-4903-a6d0-062e6e7b5048",
   "metadata": {
    "tags": []
   },
   "outputs": [
    {
     "data": {
      "image/png": "[encoded data removed]",
      "text/latex": [
       "$\\displaystyle \\left[\\begin{matrix}1 & 56\\\\14 & K_{c}\\\\56 - \\frac{K_{c}}{14} & 0\\\\K_{c} & 0\\end{matrix}\\right]$"
      ],
      "text/plain": [
       "⎡   1      56 ⎤\n",
       "⎢             ⎥\n",
       "⎢   14     K_c⎥\n",
       "⎢             ⎥\n",
       "⎢     K_c     ⎥\n",
       "⎢56 - ───   0 ⎥\n",
       "⎢      14     ⎥\n",
       "⎢             ⎥\n",
       "⎣  K_c      0 ⎦"
      ]
     },
     "execution_count": 108,
     "metadata": {},
     "output_type": "execute_result"
    }
   ],
   "source": [
    "RA = routh(sympy.Poly(p, s))\n",
    "RA"
   ]
  },
  {
   "cell_type": "code",
   "execution_count": 109,
   "id": "0f568b5e-b03b-404e-bf9e-6e49bca7b336",
   "metadata": {},
   "outputs": [
    {
     "data": {
      "image/png": "[encoded data removed]",
      "text/latex": [
       "$\\displaystyle 0 < K_{c} \\wedge K_{c} < 784$"
      ],
      "text/plain": [
       "0 < K_c ∧ K_c < 784"
      ]
     },
     "execution_count": 109,
     "metadata": {},
     "output_type": "execute_result"
    }
   ],
   "source": [
    "rr = sympy.solve([e > 0 for e in RA[:, 0]], K_c)\n",
    "rr"
   ]
  },
  {
   "cell_type": "code",
   "execution_count": 110,
   "id": "e84031cb-4f97-4959-9a33-a597ee85a609",
   "metadata": {},
   "outputs": [
    {
     "name": "stdout",
     "output_type": "stream",
     "text": [
      "For K_c =  -2.0 system is Unstable\n",
      "For K_c =  98.0 system is Stable\n",
      "For K_c = 198.0 system is Stable\n",
      "For K_c = 298.0 system is Stable\n",
      "For K_c = 398.0 system is Stable\n",
      "For K_c = 498.0 system is Stable\n",
      "For K_c = 598.0 system is Stable\n",
      "For K_c = 698.0 system is Stable\n",
      "For K_c = 798.0 system is Unstable\n"
     ]
    }
   ],
   "source": [
    "for k_c in np.arange(-2,800,100):\n",
    "    r = roots(p.subs(K_c,k_c))\n",
    "    N = len(r)\n",
    "    real_part = [re(e) for e in list(r)[0:N]]\n",
    "    msgs = 'Stable'\n",
    "    if max(real_part) >= 0:\n",
    "        msgs = 'Unstable'        \n",
    "    print(f'For K_c = {k_c:5.1f} system is '+msgs)"
   ]
  },
  {
   "cell_type": "code",
   "execution_count": 111,
   "id": "c17a4c8b-242a-4a47-af9d-0b4085b1f650",
   "metadata": {},
   "outputs": [],
   "source": [
    "import matplotlib.pyplot as plt\n",
    "from matplotlib.pyplot import figure, savefig\n",
    "%matplotlib inline\n",
    "\n",
    "def nicegrid():\n",
    "    plt.grid(True, which='major', color='#666666', linestyle='-')\n",
    "    plt.grid(True, which='minor', color='#999999', linestyle='-', alpha=0.2)\n",
    "    plt.minorticks_on()"
   ]
  },
  {
   "cell_type": "code",
   "execution_count": 112,
   "id": "60ea2392-6bd2-4140-ae8d-ca05b0d9ab0d",
   "metadata": {},
   "outputs": [],
   "source": [
    "RR = np.concatenate([np.linspace(-20,1,200),np.linspace(1,900,100)])\n",
    "R = np.zeros((len(RR),3),dtype=complex)\n",
    "ii = 0\n",
    "for k_c in RR:\n",
    "    r = roots(p.subs(K_c,k_c))\n",
    "    R[ii,:] = [e for e in list(r)[0:len(r)]]\n",
    "    ii += 1"
   ]
  },
  {
   "cell_type": "code",
   "execution_count": 113,
   "id": "7877a6ac-6c28-4160-a63c-2ac7631a8f15",
   "metadata": {},
   "outputs": [
    {
     "data": {
      "image/png": "[encoded data removed]",
      "text/plain": [
       "<Figure size 1200x750 with 1 Axes>"
      ]
     },
     "metadata": {},
     "output_type": "display_data"
    }
   ],
   "source": [
    "fig = plt.figure(figsize=(8, 5),dpi=150,constrained_layout = True)\n",
    "plt.plot(np.real(R[:,0]),np.imag(R[:,0]),'b.',linewidth=4,label='$r_1(t)$')\n",
    "plt.plot(np.real(R[:,1]),np.imag(R[:,1]),'r.',linewidth=4,label='$r_2(t)$')\n",
    "plt.plot(np.real(R[:,2]),np.imag(R[:,2]),'g.',linewidth=4,label='$r_3(t)$')\n",
    "\n",
    "nicegrid()\n",
    "plt.legend()\n",
    "plt.xlim(-15,5)\n",
    "plt.ylim(-10,10)\n",
    "plt.xlabel('Real')\n",
    "plt.ylabel('Imag')\n",
    "plt.title('Cubic $D(s)$ Pole Locations for various $K$')\n",
    "plt.show()"
   ]
  },
  {
   "cell_type": "code",
   "execution_count": 116,
   "id": "f43b0210-02c5-4f67-b710-0b3c74a434c0",
   "metadata": {},
   "outputs": [
    {
     "name": "stdout",
     "output_type": "stream",
     "text": [
      "3.0 + 0.01*I\n"
     ]
    }
   ],
   "source": [
    "import sympy as sp\n",
    "\n",
    "result = 3+0.0100503358535014*sp.I\n",
    "print(sp.N(result,2))"
   ]
  },
  {
   "cell_type": "code",
   "execution_count": 117,
   "id": "52764afd-2fc9-4583-9bf6-676877624ef3",
   "metadata": {},
   "outputs": [
    {
     "data": {
      "image/png": "[encoded data removed]",
      "text/latex": [
       "$\\displaystyle 0 < K_{c} \\wedge K_{c} < 784$"
      ],
      "text/plain": [
       "0 < K_c ∧ K_c < 784"
      ]
     },
     "execution_count": 117,
     "metadata": {},
     "output_type": "execute_result"
    }
   ],
   "source": [
    "rr"
   ]
  },
  {
   "cell_type": "code",
   "execution_count": null,
   "id": "5c86125e-fdf4-49ae-8c26-a84bfd5942a4",
   "metadata": {},
   "outputs": [],
   "source": []
  },
  {
   "cell_type": "code",
   "execution_count": null,
   "id": "02f85091-8339-4a02-a65a-3dcd9be7d591",
   "metadata": {},
   "outputs": [],
   "source": []
  }
 ],
 "metadata": {
  "kernelspec": {
   "display_name": "myenv",
   "language": "python",
   "name": "myenv"
  },
  "language_info": {
   "codemirror_mode": {
    "name": "ipython",
    "version": 3
   },
   "file_extension": ".py",
   "mimetype": "text/x-python",
   "name": "python",
   "nbconvert_exporter": "python",
   "pygments_lexer": "ipython3",
   "version": "3.9.9"
  }
 },
 "nbformat": 4,
 "nbformat_minor": 5
}

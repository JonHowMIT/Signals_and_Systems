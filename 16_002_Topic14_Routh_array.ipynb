{
 "cells": [
  {
   "cell_type": "markdown",
   "id": "84de4f73-62eb-43ab-b864-5a64a8e57a99",
   "metadata": {},
   "source": [
    "# Routh Array"
   ]
  },
  {
   "cell_type": "code",
   "execution_count": 15,
   "id": "e9823c06-f6b5-4ec3-b26e-d7c559c532db",
   "metadata": {},
   "outputs": [
    {
     "name": "stdout",
     "output_type": "stream",
     "text": [
      "1.11.1\n"
     ]
    }
   ],
   "source": [
    "try:\n",
    "    from tbcontrol.symbolic import routh\n",
    "except:\n",
    "    !pip install tbcontrol\n",
    "    from tbcontrol.symbolic import routh\n",
    "\n",
    "import numpy as np\n",
    "import sympy \n",
    "from sympy import fraction, roots, re, N \n",
    "sympy.init_printing()\n",
    "print(sympy.__version__)\n",
    "\n",
    "s = sympy.Symbol('s')\n",
    "a_0, a_1, a_2, a_3, a_4 = sympy.symbols('a_0:5')\n",
    "K_c = sympy.Symbol('K_c')"
   ]
  },
  {
   "cell_type": "code",
   "execution_count": 10,
   "id": "908b3ef5-a64c-462d-a2d0-a5b6699547d7",
   "metadata": {},
   "outputs": [
    {
     "name": "stdout",
     "output_type": "stream",
     "text": [
      "Help on function routh in module tbcontrol.symbolic:\n",
      "\n",
      "routh(p)\n",
      "    Construct the Routh-Hurwitz array given a polynomial in s\n",
      "    \n",
      "    Input: p - a sympy.Poly object\n",
      "    Output: The Routh-Hurwitz array as a sympy.Matrix object\n",
      "\n"
     ]
    }
   ],
   "source": [
    "help(routh)"
   ]
  },
  {
   "cell_type": "markdown",
   "id": "647bb809-ad23-418b-8664-dcd9b8081198",
   "metadata": {},
   "source": [
    "## Basics"
   ]
  },
  {
   "cell_type": "code",
   "execution_count": 11,
   "id": "6ba8d5fa-0fcf-433d-95ed-d95e616b5e4f",
   "metadata": {
    "tags": []
   },
   "outputs": [
    {
     "data": {
      "image/png": "[encoded data removed]",
      "text/latex": [
       "$\\displaystyle \\operatorname{Poly}{\\left( a_{4} s^{4} + a_{3} s^{3} + a_{2} s^{2} + a_{1} s + a_{0}, s, domain=\\mathbb{Z}\\left[a_{0}, a_{1}, a_{2}, a_{3}, a_{4}\\right] \\right)}$"
      ],
      "text/plain": [
       "Poly(a_4*s**4 + a_3*s**3 + a_2*s**2 + a_1*s + a_0, s, domain='ZZ[a_0,a_1,a_2,a_3,a_4]')"
      ]
     },
     "execution_count": 11,
     "metadata": {},
     "output_type": "execute_result"
    }
   ],
   "source": [
    "p = a_0 + a_1*s**1 + a_2*s**2 + a_3*s**3 + a_4*s**4\n",
    "p = sympy.Poly(p, s)\n",
    "p"
   ]
  },
  {
   "cell_type": "code",
   "execution_count": 12,
   "id": "c3255613-c563-4ee2-b7a3-b52b7a43f569",
   "metadata": {},
   "outputs": [
    {
     "data": {
      "image/png": "[encoded data removed]",
      "text/latex": [
       "$\\displaystyle \\left[\\begin{matrix}a_{4} & a_{2} & a_{0}\\\\a_{3} & a_{1} & 0\\\\- \\frac{a_{1} a_{4}}{a_{3}} + a_{2} & a_{0} & 0\\\\\\frac{a_{0} a_{3}^{2} + a_{1}^{2} a_{4} - a_{1} a_{2} a_{3}}{a_{1} a_{4} - a_{2} a_{3}} & 0 & 0\\\\a_{0} & 0 & 0\\end{matrix}\\right]$"
      ],
      "text/plain": [
       "⎡            a₄              a₂  a₀⎤\n",
       "⎢                                  ⎥\n",
       "⎢            a₃              a₁  0 ⎥\n",
       "⎢                                  ⎥\n",
       "⎢         a₁⋅a₄                    ⎥\n",
       "⎢       - ───── + a₂         a₀  0 ⎥\n",
       "⎢           a₃                     ⎥\n",
       "⎢                                  ⎥\n",
       "⎢     2     2                      ⎥\n",
       "⎢a₀⋅a₃  + a₁ ⋅a₄ - a₁⋅a₂⋅a₃        ⎥\n",
       "⎢──────────────────────────  0   0 ⎥\n",
       "⎢      a₁⋅a₄ - a₂⋅a₃               ⎥\n",
       "⎢                                  ⎥\n",
       "⎣            a₀              0   0 ⎦"
      ]
     },
     "execution_count": 12,
     "metadata": {},
     "output_type": "execute_result"
    }
   ],
   "source": [
    "routh(p)"
   ]
  },
  {
   "cell_type": "code",
   "execution_count": 13,
   "id": "2856fcaa-612d-4460-aa79-e28ba0936298",
   "metadata": {
    "tags": []
   },
   "outputs": [
    {
     "data": {
      "image/png": "[encoded data removed]",
      "text/latex": [
       "$\\displaystyle \\operatorname{Poly}{\\left( s^{6} + 7 s^{5} + 13 s^{4} + 8 s^{3} + 5 s^{2} + 10 s + 16, s, domain=\\mathbb{Z} \\right)}$"
      ],
      "text/plain": [
       "Poly(s**6 + 7*s**5 + 13*s**4 + 8*s**3 + 5*s**2 + 10*s + 16, s, domain='ZZ')"
      ]
     },
     "execution_count": 13,
     "metadata": {},
     "output_type": "execute_result"
    }
   ],
   "source": [
    "p = s**6 + 7*s**5 + 13*s**4 + 8*s**3 + 5*s**2 + 10*s + 16\n",
    "p = sympy.Poly(p, s)\n",
    "p"
   ]
  },
  {
   "cell_type": "code",
   "execution_count": 14,
   "id": "1c746799-f4fd-4ec8-85e5-631de83728f2",
   "metadata": {},
   "outputs": [
    {
     "ename": "AttributeError",
     "evalue": "'list' object has no attribute 'evalf'",
     "output_type": "error",
     "traceback": [
      "\u001b[0;31m---------------------------------------------------------------------------\u001b[0m",
      "\u001b[0;31mAttributeError\u001b[0m                            Traceback (most recent call last)",
      "Input \u001b[0;32mIn [14]\u001b[0m, in \u001b[0;36m<cell line: 1>\u001b[0;34m()\u001b[0m\n\u001b[0;32m----> 1\u001b[0m \u001b[43mN\u001b[49m\u001b[43m(\u001b[49m\u001b[43mp\u001b[49m\u001b[38;5;241;43m.\u001b[39;49m\u001b[43mnroots\u001b[49m\u001b[43m(\u001b[49m\u001b[43m)\u001b[49m\u001b[43m,\u001b[49m\u001b[38;5;241;43m4\u001b[39;49m\u001b[43m)\u001b[49m\n",
      "File \u001b[0;32m~/myenv/lib/python3.9/site-packages/sympy/core/evalf.py:1761\u001b[0m, in \u001b[0;36mN\u001b[0;34m(x, n, **options)\u001b[0m\n\u001b[1;32m   1739\u001b[0m \u001b[38;5;124mr\u001b[39m\u001b[38;5;124;03m\"\"\"\u001b[39;00m\n\u001b[1;32m   1740\u001b[0m \u001b[38;5;124;03mCalls x.evalf(n, \\*\\*options).\u001b[39;00m\n\u001b[1;32m   1741\u001b[0m \n\u001b[0;32m   (...)\u001b[0m\n\u001b[1;32m   1757\u001b[0m \n\u001b[1;32m   1758\u001b[0m \u001b[38;5;124;03m\"\"\"\u001b[39;00m\n\u001b[1;32m   1759\u001b[0m \u001b[38;5;66;03m# by using rational=True, any evaluation of a string\u001b[39;00m\n\u001b[1;32m   1760\u001b[0m \u001b[38;5;66;03m# will be done using exact values for the Floats\u001b[39;00m\n\u001b[0;32m-> 1761\u001b[0m \u001b[38;5;28;01mreturn\u001b[39;00m \u001b[43msympify\u001b[49m\u001b[43m(\u001b[49m\u001b[43mx\u001b[49m\u001b[43m,\u001b[49m\u001b[43m \u001b[49m\u001b[43mrational\u001b[49m\u001b[38;5;241;43m=\u001b[39;49m\u001b[38;5;28;43;01mTrue\u001b[39;49;00m\u001b[43m)\u001b[49m\u001b[38;5;241;43m.\u001b[39;49m\u001b[43mevalf\u001b[49m(n, \u001b[38;5;241m*\u001b[39m\u001b[38;5;241m*\u001b[39moptions)\n",
      "\u001b[0;31mAttributeError\u001b[0m: 'list' object has no attribute 'evalf'"
     ]
    }
   ],
   "source": [
    "p.nroots()"
   ]
  },
  {
   "cell_type": "code",
   "execution_count": 134,
   "id": "65ae79ae-79d1-46b5-82f1-33e695b4d547",
   "metadata": {},
   "outputs": [
    {
     "data": {
      "image/png": "[encoded data removed]",
      "text/latex": [
       "$\\displaystyle \\left[\\begin{matrix}1 & 13 & 5 & 16\\\\7 & 8 & 10 & 0\\\\\\frac{83}{7} & \\frac{25}{7} & 16 & 0\\\\\\frac{489}{83} & \\frac{46}{83} & 0 & 0\\\\\\frac{1201}{489} & 16 & 0 & 0\\\\- \\frac{45430}{1201} & 0 & 0 & 0\\\\16 & 0 & 0 & 0\\end{matrix}\\right]$"
      ],
      "text/plain": [
       "⎡   1      13   5   16⎤\n",
       "⎢                     ⎥\n",
       "⎢   7      8    10  0 ⎥\n",
       "⎢                     ⎥\n",
       "⎢ 83/7    25/7  16  0 ⎥\n",
       "⎢                     ⎥\n",
       "⎢  489     46         ⎥\n",
       "⎢  ───     ──   0   0 ⎥\n",
       "⎢   83     83         ⎥\n",
       "⎢                     ⎥\n",
       "⎢ 1201                ⎥\n",
       "⎢ ────     16   0   0 ⎥\n",
       "⎢ 489                 ⎥\n",
       "⎢                     ⎥\n",
       "⎢-45430               ⎥\n",
       "⎢───────   0    0   0 ⎥\n",
       "⎢  1201               ⎥\n",
       "⎢                     ⎥\n",
       "⎣  16      0    0   0 ⎦"
      ]
     },
     "execution_count": 134,
     "metadata": {},
     "output_type": "execute_result"
    }
   ],
   "source": [
    "routh(p)"
   ]
  },
  {
   "cell_type": "markdown",
   "id": "fda7b18c-5256-499f-8456-3231d101aa64",
   "metadata": {
    "tags": []
   },
   "source": [
    "## Example 1"
   ]
  },
  {
   "cell_type": "code",
   "execution_count": 135,
   "id": "8f690116-7815-4830-98f0-ebe853d6f597",
   "metadata": {
    "tags": []
   },
   "outputs": [
    {
     "data": {
      "image/png": "[encoded data removed]",
      "text/latex": [
       "$\\displaystyle \\operatorname{Poly}{\\left( s^{3} + s^{2} + s + 2, s, domain=\\mathbb{Z} \\right)}$"
      ],
      "text/plain": [
       "Poly(s**3 + s**2 + s + 2, s, domain='ZZ')"
      ]
     },
     "execution_count": 135,
     "metadata": {},
     "output_type": "execute_result"
    }
   ],
   "source": [
    "p = s**3 + s**2 + s + 2\n",
    "p = sympy.Poly(p, s)\n",
    "p"
   ]
  },
  {
   "cell_type": "code",
   "execution_count": 136,
   "id": "6e087496-0437-47f7-8fc3-4f70b0b85628",
   "metadata": {
    "tags": []
   },
   "outputs": [
    {
     "data": {
      "image/png": "[encoded data removed]",
      "text/latex": [
       "$\\displaystyle \\left[\\begin{matrix}1 & 1\\\\1 & 2\\\\-1 & 0\\\\2 & 0\\end{matrix}\\right]$"
      ],
      "text/plain": [
       "⎡1   1⎤\n",
       "⎢     ⎥\n",
       "⎢1   2⎥\n",
       "⎢     ⎥\n",
       "⎢-1  0⎥\n",
       "⎢     ⎥\n",
       "⎣2   0⎦"
      ]
     },
     "execution_count": 136,
     "metadata": {},
     "output_type": "execute_result"
    }
   ],
   "source": [
    "routh(p)"
   ]
  },
  {
   "cell_type": "code",
   "execution_count": 137,
   "id": "509ecafd-e009-482a-adc4-b44ee4598e12",
   "metadata": {},
   "outputs": [
    {
     "data": {
      "image/png": "[encoded data removed]",
      "text/latex": [
       "$\\displaystyle \\left[ -1.35320996419932, \\  0.176604982099662, \\  0.176604982099662\\right]$"
      ],
      "text/plain": [
       "[-1.35320996419932, 0.176604982099662, 0.176604982099662]"
      ]
     },
     "execution_count": 137,
     "metadata": {},
     "output_type": "execute_result"
    }
   ],
   "source": [
    "r = p.nroots()\n",
    "[re(e) for e in list(r)[0:len(r)]]"
   ]
  },
  {
   "cell_type": "markdown",
   "id": "33a82d4d-6479-47b5-ac79-1a39adda70be",
   "metadata": {},
   "source": [
    "## Example 2"
   ]
  },
  {
   "cell_type": "code",
   "execution_count": 138,
   "id": "1c4b1a52-6aec-4c08-a506-081ee7c0b9ff",
   "metadata": {},
   "outputs": [
    {
     "data": {
      "image/png": "[encoded data removed]",
      "text/latex": [
       "$\\displaystyle \\operatorname{Poly}{\\left( s^{3} + 4 s^{2} + 8 s + 4, s, domain=\\mathbb{Z} \\right)}$"
      ],
      "text/plain": [
       "Poly(s**3 + 4*s**2 + 8*s + 4, s, domain='ZZ')"
      ]
     },
     "execution_count": 138,
     "metadata": {},
     "output_type": "execute_result"
    }
   ],
   "source": [
    "p = s**3 + 4*s**2 + 8*s + 4\n",
    "p = sympy.Poly(p, s)\n",
    "p"
   ]
  },
  {
   "cell_type": "code",
   "execution_count": 139,
   "id": "b6670c7f-41d8-41dc-a5aa-194ded68bced",
   "metadata": {},
   "outputs": [
    {
     "data": {
      "image/png": "[encoded data removed]",
      "text/latex": [
       "$\\displaystyle \\left[\\begin{matrix}1 & 8\\\\4 & 4\\\\7 & 0\\\\4 & 0\\end{matrix}\\right]$"
      ],
      "text/plain": [
       "⎡1  8⎤\n",
       "⎢    ⎥\n",
       "⎢4  4⎥\n",
       "⎢    ⎥\n",
       "⎢7  0⎥\n",
       "⎢    ⎥\n",
       "⎣4  0⎦"
      ]
     },
     "execution_count": 139,
     "metadata": {},
     "output_type": "execute_result"
    }
   ],
   "source": [
    "RA = routh(p)\n",
    "RA"
   ]
  },
  {
   "cell_type": "code",
   "execution_count": 140,
   "id": "c3b38b18-f2d8-4052-bc53-40bd93ff9505",
   "metadata": {},
   "outputs": [
    {
     "name": "stdout",
     "output_type": "stream",
     "text": [
      "Stable\n"
     ]
    }
   ],
   "source": [
    "msgs = 'Stable' if min(RA[:, 0]) > 0 else 'Unstable'\n",
    "print(msgs)"
   ]
  },
  {
   "cell_type": "code",
   "execution_count": 141,
   "id": "1080c8f1-7847-4dba-859b-00b77bbe6480",
   "metadata": {},
   "outputs": [
    {
     "data": {
      "image/png": "[encoded data removed]",
      "text/latex": [
       "$\\displaystyle \\left[ -0.704402257477915, \\  -1.64779887126104, \\  -1.64779887126104\\right]$"
      ],
      "text/plain": [
       "[-0.7044022574779152, -1.6477988712610423, -1.6477988712610423]"
      ]
     },
     "execution_count": 141,
     "metadata": {},
     "output_type": "execute_result"
    }
   ],
   "source": [
    "r = roots(p)\n",
    "real_part = [float(re(e)) for e in list(r)[0:len(r)]]\n",
    "real_part"
   ]
  },
  {
   "cell_type": "markdown",
   "id": "c65eb563-9a2d-4dd7-a9bd-ee429ce957af",
   "metadata": {},
   "source": [
    "## Check if poles satisfy $Re[s] \\leq h$"
   ]
  },
  {
   "cell_type": "code",
   "execution_count": 142,
   "id": "36ea20b1-53f7-479b-adc2-09c555a5ff16",
   "metadata": {},
   "outputs": [
    {
     "data": {
      "image/png": "[encoded data removed]",
      "text/latex": [
       "$\\displaystyle \\operatorname{Poly}{\\left( 1.0 s^{3} + 1.87 s^{2} + 3.8323 s - 0.0215109999999998, s, domain=\\mathbb{R} \\right)}$"
      ],
      "text/plain": [
       "Poly(1.0*s**3 + 1.87*s**2 + 3.8323*s - 0.0215109999999998, s, domain='RR')"
      ]
     },
     "execution_count": 142,
     "metadata": {},
     "output_type": "execute_result"
    }
   ],
   "source": [
    "h = -0.71\n",
    "pa = p.subs(s,s+h)\n",
    "pa = sympy.Poly(pa, s)\n",
    "pa"
   ]
  },
  {
   "cell_type": "code",
   "execution_count": 143,
   "id": "8b792590-87e7-41c3-a94c-0003aefb4463",
   "metadata": {},
   "outputs": [],
   "source": [
    "RAa = routh(pa)"
   ]
  },
  {
   "cell_type": "code",
   "execution_count": 144,
   "id": "730d9c93-4492-4357-a29d-56dbb496fd7f",
   "metadata": {},
   "outputs": [
    {
     "name": "stdout",
     "output_type": "stream",
     "text": [
      "Poles are not left of s = -0.71\n"
     ]
    }
   ],
   "source": [
    "msgs = 'are' if min(RAa[:, 0]) > 0 else 'are not'\n",
    "print('Poles '+msgs+' left of s = '+str(h))"
   ]
  },
  {
   "cell_type": "markdown",
   "id": "bc371faa-1022-43a2-964f-4cee240c1b3b",
   "metadata": {},
   "source": [
    "## Example 3"
   ]
  },
  {
   "cell_type": "code",
   "execution_count": 174,
   "id": "a70113c2-c800-4d90-b009-59aa8437214d",
   "metadata": {},
   "outputs": [
    {
     "data": {
      "image/png": "[encoded data removed]",
      "text/latex": [
       "$\\displaystyle K_{c} + 0.006 s^{3} + 0.11 s^{2} + 0.6 s + 1$"
      ],
      "text/plain": [
       "             3         2            \n",
       "K_c + 0.006⋅s  + 0.11⋅s  + 0.6⋅s + 1"
      ]
     },
     "execution_count": 174,
     "metadata": {},
     "output_type": "execute_result"
    }
   ],
   "source": [
    "G = 1/((1+0.1*s)*(1+0.2*s)*(1+0.3*s))\n",
    "Gcl = G/(1 + K_c * G)\n",
    "n,d = fraction(Gcl.simplify())\n",
    "p = d.expand()\n",
    "p"
   ]
  },
  {
   "cell_type": "code",
   "execution_count": 181,
   "id": "292e948e-2afd-4349-ab8c-5f8f48527f8e",
   "metadata": {
    "tags": []
   },
   "outputs": [
    {
     "data": {
      "image/png": "[encoded data removed]",
      "text/latex": [
       "$\\displaystyle \\left[\\begin{matrix}0.006 & 0.6\\\\0.11 & 1.0 K_{c} + 1.0\\\\0.545454545454546 - 0.0545454545454545 K_{c} & 0\\\\1.0 K_{c} + 1.0 & 0\\end{matrix}\\right]$"
      ],
      "text/plain": [
       "⎡                  0.006                          0.6     ⎤\n",
       "⎢                                                         ⎥\n",
       "⎢                   0.11                     1.0⋅K_c + 1.0⎥\n",
       "⎢                                                         ⎥\n",
       "⎢0.545454545454546 - 0.0545454545454545⋅K_c        0      ⎥\n",
       "⎢                                                         ⎥\n",
       "⎣              1.0⋅K_c + 1.0                       0      ⎦"
      ]
     },
     "execution_count": 181,
     "metadata": {},
     "output_type": "execute_result"
    }
   ],
   "source": [
    "RA = routh(sympy.Poly(p, s))\n",
    "RA"
   ]
  },
  {
   "cell_type": "code",
   "execution_count": 182,
   "id": "191df74a-3f31-4fd7-a148-dd5ea2faa0b2",
   "metadata": {},
   "outputs": [
    {
     "data": {
      "image/png": "[encoded data removed]",
      "text/latex": [
       "$\\displaystyle -1.0 < K_{c} \\wedge K_{c} < 10.0$"
      ],
      "text/plain": [
       "-1.0 < K_c ∧ K_c < 10.0"
      ]
     },
     "execution_count": 182,
     "metadata": {},
     "output_type": "execute_result"
    }
   ],
   "source": [
    "rr = sympy.solve([e > 0 for e in RA[:, 0]], K_c)\n",
    "rr"
   ]
  },
  {
   "cell_type": "code",
   "execution_count": 185,
   "id": "6812e305-712f-4bc1-8d24-69be57fb8fd7",
   "metadata": {},
   "outputs": [
    {
     "name": "stdout",
     "output_type": "stream",
     "text": [
      "For K_c = -2.0 system is Unstable\n",
      "For K_c = -1.0 system is Unstable\n",
      "For K_c =  0.0 system is Stable\n",
      "For K_c =  1.0 system is Stable\n",
      "For K_c =  2.0 system is Stable\n",
      "For K_c =  3.0 system is Stable\n",
      "For K_c =  4.0 system is Stable\n",
      "For K_c =  5.0 system is Stable\n",
      "For K_c =  6.0 system is Stable\n",
      "For K_c =  7.0 system is Stable\n",
      "For K_c =  8.0 system is Stable\n",
      "For K_c =  9.0 system is Stable\n",
      "For K_c = 10.0 system is Unstable\n"
     ]
    }
   ],
   "source": [
    "step = (float(rr.as_set().end+1) - float(rr.as_set().start-1) )/10 \n",
    "for k_c in np.arange(float(rr.as_set().start-1),float(rr.as_set().end+1),int(step)):\n",
    "    r = roots(d.subs(K_c,k_c))\n",
    "    N = len(r)\n",
    "    real_part = [re(e) for e in list(r)[0:N]]\n",
    "    msgs = 'Unstable' if max(real_part) >= 0 else 'Stable'        \n",
    "    print(f'For K_c = {k_c:4.1f} system is '+msgs)"
   ]
  },
  {
   "cell_type": "markdown",
   "id": "28ddeef9-32f5-485a-b6e9-d00e0cbd6e3a",
   "metadata": {
    "tags": []
   },
   "source": [
    "## Example 10"
   ]
  },
  {
   "cell_type": "code",
   "execution_count": 149,
   "id": "0760b555-5c12-48d4-aa32-1cf802d8f50f",
   "metadata": {
    "tags": []
   },
   "outputs": [
    {
     "data": {
      "image/png": "[encoded data removed]",
      "text/latex": [
       "$\\displaystyle \\operatorname{Poly}{\\left( s^{2} + K_{c} s + 2 K_{c} - 1, s, domain=\\mathbb{Z}\\left[K_{c}\\right] \\right)}$"
      ],
      "text/plain": [
       "Poly(s**2 + K_c*s + 2*K_c - 1, s, domain='ZZ[K_c]')"
      ]
     },
     "execution_count": 149,
     "metadata": {},
     "output_type": "execute_result"
    }
   ],
   "source": [
    "p = s**2 + K_c*s + (2*K_c-1) \n",
    "p = sympy.Poly(p, s)\n",
    "p"
   ]
  },
  {
   "cell_type": "code",
   "execution_count": 150,
   "id": "0b389ab3-1d38-4181-83fa-82b34b2fce88",
   "metadata": {
    "tags": []
   },
   "outputs": [
    {
     "data": {
      "image/png": "[encoded data removed]",
      "text/latex": [
       "$\\displaystyle \\left[\\begin{matrix}1 & 2 K_{c} - 1\\\\K_{c} & 0\\\\2 K_{c} - 1 & 0\\end{matrix}\\right]$"
      ],
      "text/plain": [
       "⎡    1      2⋅K_c - 1⎤\n",
       "⎢                    ⎥\n",
       "⎢   K_c         0    ⎥\n",
       "⎢                    ⎥\n",
       "⎣2⋅K_c - 1      0    ⎦"
      ]
     },
     "execution_count": 150,
     "metadata": {},
     "output_type": "execute_result"
    }
   ],
   "source": [
    "RA = routh(sympy.Poly(p, s))\n",
    "RA"
   ]
  },
  {
   "cell_type": "code",
   "execution_count": 151,
   "id": "bb882d75-53ff-4bee-8331-7cdbaa2a9ddb",
   "metadata": {},
   "outputs": [
    {
     "data": {
      "image/png": "[encoded data removed]",
      "text/latex": [
       "$\\displaystyle \\frac{1}{2} < K_{c} \\wedge K_{c} < \\infty$"
      ],
      "text/plain": [
       "1/2 < K_c ∧ K_c < ∞"
      ]
     },
     "execution_count": 151,
     "metadata": {},
     "output_type": "execute_result"
    }
   ],
   "source": [
    "sympy.solve([e > 0 for e in RA[:, 0]], K_c)"
   ]
  },
  {
   "cell_type": "code",
   "execution_count": 152,
   "id": "94104a0a-5bea-4d4d-b4db-b0b61d581afa",
   "metadata": {},
   "outputs": [
    {
     "name": "stdout",
     "output_type": "stream",
     "text": [
      "For K_c = -0.5 system is Unstable\n",
      "For K_c =  0.5 system is Unstable\n",
      "For K_c =  1.5 system is Stable\n",
      "For K_c =  2.5 system is Stable\n",
      "For K_c =  3.5 system is Stable\n",
      "For K_c =  4.5 system is Stable\n"
     ]
    }
   ],
   "source": [
    "for k_c in np.arange(-0.5,5,1):\n",
    "    r = roots(p.subs(K_c,k_c))\n",
    "    N = len(r)\n",
    "    real_part = [re(e) for e in list(r)[0:N]]\n",
    "    msgs = 'Stable'\n",
    "    if max(real_part) >= 0:\n",
    "        msgs = 'Unstable'        \n",
    "    print(f'For K_c = {k_c:4.1f} system is '+msgs)"
   ]
  },
  {
   "cell_type": "markdown",
   "id": "a5b13f31-cdbd-4a60-937c-e84d6971f2b9",
   "metadata": {
    "tags": []
   },
   "source": [
    "## Example 11"
   ]
  },
  {
   "cell_type": "code",
   "execution_count": 267,
   "id": "98ee6bdc-f35c-4650-b4c6-bed73513b723",
   "metadata": {
    "tags": []
   },
   "outputs": [
    {
     "data": {
      "image/png": "[encoded data removed]",
      "text/latex": [
       "$\\displaystyle \\operatorname{Poly}{\\left( s^{3} + 14 s^{2} + 56 s + K_{c}, s, domain=\\mathbb{Z}\\left[K_{c}\\right] \\right)}$"
      ],
      "text/plain": [
       "Poly(s**3 + 14*s**2 + 56*s + K_c, s, domain='ZZ[K_c]')"
      ]
     },
     "execution_count": 267,
     "metadata": {},
     "output_type": "execute_result"
    }
   ],
   "source": [
    "p = s**3 + 14*s**2 + 56*s + K_c \n",
    "p = sympy.Poly(p, s)\n",
    "p"
   ]
  },
  {
   "cell_type": "code",
   "execution_count": 278,
   "id": "cb51a942-4fd8-4903-a6d0-062e6e7b5048",
   "metadata": {
    "tags": []
   },
   "outputs": [
    {
     "data": {
      "image/png": "[encoded data removed]",
      "text/latex": [
       "$\\displaystyle \\left[\\begin{matrix}1 & 56\\\\14 & K_{c}\\\\56 - \\frac{K_{c}}{14} & 0\\\\K_{c} & 0\\end{matrix}\\right]$"
      ],
      "text/plain": [
       "⎡   1      56 ⎤\n",
       "⎢             ⎥\n",
       "⎢   14     K_c⎥\n",
       "⎢             ⎥\n",
       "⎢     K_c     ⎥\n",
       "⎢56 - ───   0 ⎥\n",
       "⎢      14     ⎥\n",
       "⎢             ⎥\n",
       "⎣  K_c      0 ⎦"
      ]
     },
     "execution_count": 278,
     "metadata": {},
     "output_type": "execute_result"
    }
   ],
   "source": [
    "RA = routh(sympy.Poly(p, s))\n",
    "RA"
   ]
  },
  {
   "cell_type": "code",
   "execution_count": 279,
   "id": "0f568b5e-b03b-404e-bf9e-6e49bca7b336",
   "metadata": {},
   "outputs": [
    {
     "data": {
      "image/png": "[encoded data removed]",
      "text/latex": [
       "$\\displaystyle 0 < K_{c} \\wedge K_{c} < 784$"
      ],
      "text/plain": [
       "0 < K_c ∧ K_c < 784"
      ]
     },
     "execution_count": 279,
     "metadata": {},
     "output_type": "execute_result"
    }
   ],
   "source": [
    "rr = sympy.solve([e > 0 for e in RA[:, 0]], K_c)\n",
    "rr"
   ]
  },
  {
   "cell_type": "code",
   "execution_count": 280,
   "id": "e84031cb-4f97-4959-9a33-a597ee85a609",
   "metadata": {},
   "outputs": [
    {
     "name": "stdout",
     "output_type": "stream",
     "text": [
      "For K_c =  -2.0 system is Unstable\n",
      "For K_c =  98.0 system is Stable\n",
      "For K_c = 198.0 system is Stable\n",
      "For K_c = 298.0 system is Stable\n",
      "For K_c = 398.0 system is Stable\n",
      "For K_c = 498.0 system is Stable\n",
      "For K_c = 598.0 system is Stable\n",
      "For K_c = 698.0 system is Stable\n",
      "For K_c = 798.0 system is Unstable\n"
     ]
    }
   ],
   "source": [
    "for k_c in np.arange(-2,800,100):\n",
    "    r = roots(p.subs(K_c,k_c))\n",
    "    N = len(r)\n",
    "    real_part = [re(e) for e in list(r)[0:N]]\n",
    "    msgs = 'Stable'\n",
    "    if max(real_part) >= 0:\n",
    "        msgs = 'Unstable'        \n",
    "    print(f'For K_c = {k_c:5.1f} system is '+msgs)"
   ]
  },
  {
   "cell_type": "code",
   "execution_count": 281,
   "id": "c17a4c8b-242a-4a47-af9d-0b4085b1f650",
   "metadata": {},
   "outputs": [],
   "source": [
    "import matplotlib.pyplot as plt\n",
    "from matplotlib.pyplot import figure, savefig\n",
    "%matplotlib inline\n",
    "\n",
    "def nicegrid():\n",
    "    plt.grid(True, which='major', color='#666666', linestyle='-')\n",
    "    plt.grid(True, which='minor', color='#999999', linestyle='-', alpha=0.2)\n",
    "    plt.minorticks_on()"
   ]
  },
  {
   "cell_type": "code",
   "execution_count": 286,
   "id": "60ea2392-6bd2-4140-ae8d-ca05b0d9ab0d",
   "metadata": {},
   "outputs": [],
   "source": [
    "RR = np.concatenate([np.linspace(-20,1,200),np.linspace(1,900,100)])\n",
    "R = np.zeros((len(RR),3),dtype=complex)\n",
    "ii = 0\n",
    "for k_c in RR:\n",
    "    r = roots(p.subs(K_c,k_c))\n",
    "    R[ii,:] = [e for e in list(r)[0:3]]\n",
    "    ii += 1"
   ]
  },
  {
   "cell_type": "code",
   "execution_count": 287,
   "id": "7877a6ac-6c28-4160-a63c-2ac7631a8f15",
   "metadata": {},
   "outputs": [
    {
     "data": {
      "image/png": "[encoded data removed]",
      "text/plain": [
       "<Figure size 1200x750 with 1 Axes>"
      ]
     },
     "metadata": {},
     "output_type": "display_data"
    }
   ],
   "source": [
    "fig = plt.figure(figsize=(8, 5),dpi=150,constrained_layout = True)\n",
    "plt.plot(np.real(R[:,0]),np.imag(R[:,0]),'b.',linewidth=4,label='$r_1(t)$')\n",
    "plt.plot(np.real(R[:,1]),np.imag(R[:,1]),'r.',linewidth=4,label='$r_2(t)$')\n",
    "plt.plot(np.real(R[:,2]),np.imag(R[:,2]),'g.',linewidth=4,label='$r_3(t)$')\n",
    "\n",
    "nicegrid()\n",
    "plt.legend()\n",
    "plt.xlim(-15,15)\n",
    "plt.ylim(-10,10)\n",
    "plt.xlabel('Real')\n",
    "plt.ylabel('Imag')\n",
    "plt.title('Convolution done Symbolically')\n",
    "plt.show()"
   ]
  },
  {
   "cell_type": "code",
   "execution_count": null,
   "id": "5c9292f2-099c-46a8-87b0-ce8f1f75f525",
   "metadata": {},
   "outputs": [],
   "source": []
  },
  {
   "cell_type": "code",
   "execution_count": null,
   "id": "5b522327-ab41-475a-aaaa-a3e7b7268939",
   "metadata": {},
   "outputs": [],
   "source": []
  }
 ],
 "metadata": {
  "kernelspec": {
   "display_name": "myenv",
   "language": "python",
   "name": "myenv"
  },
  "language_info": {
   "codemirror_mode": {
    "name": "ipython",
    "version": 3
   },
   "file_extension": ".py",
   "mimetype": "text/x-python",
   "name": "python",
   "nbconvert_exporter": "python",
   "pygments_lexer": "ipython3",
   "version": "3.9.9"
  }
 },
 "nbformat": 4,
 "nbformat_minor": 5
}

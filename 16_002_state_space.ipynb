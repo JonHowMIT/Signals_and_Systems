{
 "cells": [
  {
   "cell_type": "code",
   "execution_count": 21,
   "id": "c1294c9e-82e2-49f6-a0f1-6adb0e975388",
   "metadata": {},
   "outputs": [
    {
     "data": {
      "text/latex": [
       "$\\displaystyle \\left[\\begin{matrix}0 & 1\\\\-2 & -3\\end{matrix}\\right]$"
      ],
      "text/plain": [
       "Matrix([\n",
       "[ 0,  1],\n",
       "[-2, -3]])"
      ]
     },
     "execution_count": 21,
     "metadata": {},
     "output_type": "execute_result"
    }
   ],
   "source": [
    "from sympy import symbols, Matrix, zeros, eye, simplify, exp\n",
    "n=2;\n",
    "A = Matrix([[0, 1], [-2, -3]])\n",
    "t = symbols('t',real=True,positive=True);\n",
    "A"
   ]
  },
  {
   "cell_type": "code",
   "execution_count": 22,
   "id": "19b9d37c-7f00-48d7-adf6-74f32a1fbc2e",
   "metadata": {},
   "outputs": [
    {
     "data": {
      "text/latex": [
       "$\\displaystyle \\left[\\begin{matrix}\\left(2 e^{t} - 1\\right) e^{- 2 t} & \\left(e^{t} - 1\\right) e^{- 2 t}\\\\2 \\cdot \\left(1 - e^{t}\\right) e^{- 2 t} & \\left(2 - e^{t}\\right) e^{- 2 t}\\end{matrix}\\right]$"
      ],
      "text/plain": [
       "Matrix([\n",
       "[(2*exp(t) - 1)*exp(-2*t), (exp(t) - 1)*exp(-2*t)],\n",
       "[2*(1 - exp(t))*exp(-2*t), (2 - exp(t))*exp(-2*t)]])"
      ]
     },
     "execution_count": 22,
     "metadata": {},
     "output_type": "execute_result"
    }
   ],
   "source": [
    "simplify(exp(A*t))"
   ]
  },
  {
   "cell_type": "code",
   "execution_count": null,
   "id": "676fc137-ce45-4d50-8014-d15e88659ec1",
   "metadata": {},
   "outputs": [],
   "source": []
  }
 ],
 "metadata": {
  "kernelspec": {
   "display_name": "myenv",
   "language": "python",
   "name": "myenv"
  },
  "language_info": {
   "codemirror_mode": {
    "name": "ipython",
    "version": 3
   },
   "file_extension": ".py",
   "mimetype": "text/x-python",
   "name": "python",
   "nbconvert_exporter": "python",
   "pygments_lexer": "ipython3",
   "version": "3.9.9"
  }
 },
 "nbformat": 4,
 "nbformat_minor": 5
}

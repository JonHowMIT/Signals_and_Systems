{
 "cells": [
  {
   "cell_type": "markdown",
   "id": "539b9389",
   "metadata": {},
   "source": [
    "# Routh Array"
   ]
  },
  {
   "cell_type": "code",
   "execution_count": 1,
   "id": "28482c77",
   "metadata": {
    "execution": {
     "iopub.execute_input": "2023-11-19T13:20:41.314080Z",
     "iopub.status.busy": "2023-11-19T13:20:41.313549Z",
     "iopub.status.idle": "2023-11-19T13:20:45.295111Z",
     "shell.execute_reply": "2023-11-19T13:20:45.294133Z",
     "shell.execute_reply.started": "2023-11-19T13:20:41.314044Z"
    }
   },
   "outputs": [
    {
     "name": "stdout",
     "output_type": "stream",
     "text": [
      "Collecting tbcontrol\n",
      "  Downloading tbcontrol-0.2.1-py3-none-any.whl.metadata (2.0 kB)\n",
      "Requirement already satisfied: numpy in /Users/jonathanhow/Jon/venv312/lib/python3.12/site-packages (from tbcontrol) (2.0.0)\n",
      "Requirement already satisfied: scipy in /Users/jonathanhow/Jon/venv312/lib/python3.12/site-packages (from tbcontrol) (1.14.1)\n",
      "Requirement already satisfied: tqdm in /Users/jonathanhow/Jon/venv312/lib/python3.12/site-packages (from tbcontrol) (4.66.5)\n",
      "Requirement already satisfied: packaging in /Users/jonathanhow/Jon/venv312/lib/python3.12/site-packages (from tbcontrol) (24.1)\n",
      "Using cached tbcontrol-0.2.1-py3-none-any.whl (24 kB)\n",
      "Installing collected packages: tbcontrol\n",
      "Successfully installed tbcontrol-0.2.1\n",
      "\n",
      "\u001b[1m[\u001b[0m\u001b[34;49mnotice\u001b[0m\u001b[1;39;49m]\u001b[0m\u001b[39;49m A new release of pip is available: \u001b[0m\u001b[31;49m24.2\u001b[0m\u001b[39;49m -> \u001b[0m\u001b[32;49m24.3.1\u001b[0m\n",
      "\u001b[1m[\u001b[0m\u001b[34;49mnotice\u001b[0m\u001b[1;39;49m]\u001b[0m\u001b[39;49m To update, run: \u001b[0m\u001b[32;49mpip install --upgrade pip\u001b[0m\n",
      "sympy version 1.13.2\n"
     ]
    }
   ],
   "source": [
    "try:\n",
    "    from tbcontrol.symbolic import routh\n",
    "except:\n",
    "    !pip install tbcontrol\n",
    "    from tbcontrol.symbolic import routh\n",
    "\n",
    "import numpy as np\n",
    "import sympy \n",
    "from sympy import fraction, roots, re, N \n",
    "sympy.init_printing()\n",
    "print('sympy version '+sympy.__version__)\n",
    "\n",
    "s = sympy.Symbol('s')\n",
    "a_0, a_1, a_2, a_3, a_4 = sympy.symbols('a_0:5')\n",
    "K_c = sympy.Symbol('K_c')"
   ]
  },
  {
   "cell_type": "code",
   "execution_count": 2,
   "id": "d14f79c9",
   "metadata": {
    "execution": {
     "iopub.execute_input": "2023-11-19T13:20:45.298301Z",
     "iopub.status.busy": "2023-11-19T13:20:45.297907Z",
     "iopub.status.idle": "2023-11-19T13:20:45.303022Z",
     "shell.execute_reply": "2023-11-19T13:20:45.302320Z",
     "shell.execute_reply.started": "2023-11-19T13:20:45.298272Z"
    }
   },
   "outputs": [
    {
     "name": "stdout",
     "output_type": "stream",
     "text": [
      "Help on function routh in module tbcontrol.symbolic:\n",
      "\n",
      "routh(p)\n",
      "    Construct the Routh-Hurwitz array given a polynomial in s\n",
      "\n",
      "    Input: p - a sympy.Poly object\n",
      "    Output: The Routh-Hurwitz array as a sympy.Matrix object\n",
      "\n"
     ]
    }
   ],
   "source": [
    "help(routh)"
   ]
  },
  {
   "cell_type": "markdown",
   "id": "a6f64b7f",
   "metadata": {},
   "source": [
    "## Basics"
   ]
  },
  {
   "cell_type": "code",
   "execution_count": 3,
   "id": "3ab9e735",
   "metadata": {
    "execution": {
     "iopub.execute_input": "2023-11-19T13:20:45.304600Z",
     "iopub.status.busy": "2023-11-19T13:20:45.304322Z",
     "iopub.status.idle": "2023-11-19T13:20:47.230193Z",
     "shell.execute_reply": "2023-11-19T13:20:47.229620Z",
     "shell.execute_reply.started": "2023-11-19T13:20:45.304577Z"
    },
    "tags": []
   },
   "outputs": [
    {
     "data": {
      "image/png": "[encoded data removed]",
      "text/latex": [
       "$\\displaystyle \\operatorname{Poly}{\\left( a_{4} s^{4} + a_{3} s^{3} + a_{2} s^{2} + a_{1} s + a_{0}, s, domain=\\mathbb{Z}\\left[a_{0}, a_{1}, a_{2}, a_{3}, a_{4}\\right] \\right)}$"
      ],
      "text/plain": [
       "Poly(a_4*s**4 + a_3*s**3 + a_2*s**2 + a_1*s + a_0, s, domain='ZZ[a_0,a_1,a_2,a ↪\n",
       "\n",
       "↪ _3,a_4]')"
      ]
     },
     "execution_count": 3,
     "metadata": {},
     "output_type": "execute_result"
    }
   ],
   "source": [
    "p = a_0 + a_1*s**1 + a_2*s**2 + a_3*s**3 + a_4*s**4\n",
    "p = sympy.Poly(p, s)\n",
    "p"
   ]
  },
  {
   "cell_type": "code",
   "execution_count": 4,
   "id": "79cd4c4a",
   "metadata": {
    "execution": {
     "iopub.execute_input": "2023-11-19T13:20:47.231436Z",
     "iopub.status.busy": "2023-11-19T13:20:47.231266Z",
     "iopub.status.idle": "2023-11-19T13:20:48.170635Z",
     "shell.execute_reply": "2023-11-19T13:20:48.170013Z",
     "shell.execute_reply.started": "2023-11-19T13:20:47.231420Z"
    }
   },
   "outputs": [
    {
     "data": {
      "image/png": "[encoded data removed]",
      "text/latex": [
       "$\\displaystyle \\left[\\begin{matrix}a_{4} & a_{2} & a_{0}\\\\a_{3} & a_{1} & 0\\\\- \\frac{a_{1} a_{4}}{a_{3}} + a_{2} & a_{0} & 0\\\\\\frac{a_{0} a_{3}^{2} + a_{1}^{2} a_{4} - a_{1} a_{2} a_{3}}{a_{1} a_{4} - a_{2} a_{3}} & 0 & 0\\\\a_{0} & 0 & 0\\end{matrix}\\right]$"
      ],
      "text/plain": [
       "⎡            a₄              a₂  a₀⎤\n",
       "⎢                                  ⎥\n",
       "⎢            a₃              a₁  0 ⎥\n",
       "⎢                                  ⎥\n",
       "⎢         a₁⋅a₄                    ⎥\n",
       "⎢       - ───── + a₂         a₀  0 ⎥\n",
       "⎢          a₃                      ⎥\n",
       "⎢                                  ⎥\n",
       "⎢     2     2                      ⎥\n",
       "⎢a₀⋅a₃  + a₁ ⋅a₄ - a₁⋅a₂⋅a₃        ⎥\n",
       "⎢──────────────────────────  0   0 ⎥\n",
       "⎢      a₁⋅a₄ - a₂⋅a₃               ⎥\n",
       "⎢                                  ⎥\n",
       "⎣            a₀              0   0 ⎦"
      ]
     },
     "execution_count": 4,
     "metadata": {},
     "output_type": "execute_result"
    }
   ],
   "source": [
    "routh(p)"
   ]
  },
  {
   "cell_type": "code",
   "execution_count": 5,
   "id": "b808f82e",
   "metadata": {
    "execution": {
     "iopub.execute_input": "2023-11-19T13:20:48.171960Z",
     "iopub.status.busy": "2023-11-19T13:20:48.171808Z",
     "iopub.status.idle": "2023-11-19T13:20:48.800263Z",
     "shell.execute_reply": "2023-11-19T13:20:48.799685Z",
     "shell.execute_reply.started": "2023-11-19T13:20:48.171946Z"
    },
    "tags": []
   },
   "outputs": [
    {
     "data": {
      "image/png": "[encoded data removed]",
      "text/latex": [
       "$\\displaystyle \\operatorname{Poly}{\\left( s^{6} + 7 s^{5} + 13 s^{4} + 8 s^{3} + 5 s^{2} + 10 s + 16, s, domain=\\mathbb{Z} \\right)}$"
      ],
      "text/plain": [
       "Poly(s**6 + 7*s**5 + 13*s**4 + 8*s**3 + 5*s**2 + 10*s + 16, s, domain='ZZ')"
      ]
     },
     "execution_count": 5,
     "metadata": {},
     "output_type": "execute_result"
    }
   ],
   "source": [
    "p = s**6 + 7*s**5 + 13*s**4 + 8*s**3 + 5*s**2 + 10*s + 16\n",
    "p = sympy.Poly(p, s)\n",
    "p"
   ]
  },
  {
   "cell_type": "code",
   "execution_count": 6,
   "id": "cbb6e9f5",
   "metadata": {
    "execution": {
     "iopub.execute_input": "2023-11-19T13:20:48.801586Z",
     "iopub.status.busy": "2023-11-19T13:20:48.801399Z",
     "iopub.status.idle": "2023-11-19T13:20:48.814935Z",
     "shell.execute_reply": "2023-11-19T13:20:48.814399Z",
     "shell.execute_reply.started": "2023-11-19T13:20:48.801569Z"
    }
   },
   "outputs": [
    {
     "name": "stdout",
     "output_type": "stream",
     "text": [
      "  -4.434\n",
      "  -2.000\n",
      "  -0.907   -0.933i\n",
      "  -0.907    0.933i\n",
      "   0.625   -0.822i\n",
      "   0.625    0.822i\n"
     ]
    }
   ],
   "source": [
    "rr = p.nroots()\n",
    "for root in rr:\n",
    "    r, i = root.as_real_imag()\n",
    "    if abs(i) > 1e-5:\n",
    "        print('%8.3f %8.3fi' % (r,i))\n",
    "    else:\n",
    "        print('%8.3f' % (r))"
   ]
  },
  {
   "cell_type": "code",
   "execution_count": 7,
   "id": "db0e4e1d",
   "metadata": {
    "execution": {
     "iopub.execute_input": "2023-11-19T13:20:48.817513Z",
     "iopub.status.busy": "2023-11-19T13:20:48.817342Z",
     "iopub.status.idle": "2023-11-19T13:20:49.407949Z",
     "shell.execute_reply": "2023-11-19T13:20:49.407408Z",
     "shell.execute_reply.started": "2023-11-19T13:20:48.817500Z"
    }
   },
   "outputs": [
    {
     "data": {
      "image/png": "[encoded data removed]",
      "text/latex": [
       "$\\displaystyle \\left[\\begin{matrix}1 & 13 & 5 & 16\\\\7 & 8 & 10 & 0\\\\\\frac{83}{7} & \\frac{25}{7} & 16 & 0\\\\\\frac{489}{83} & \\frac{46}{83} & 0 & 0\\\\\\frac{1201}{489} & 16 & 0 & 0\\\\- \\frac{45430}{1201} & 0 & 0 & 0\\\\16 & 0 & 0 & 0\\end{matrix}\\right]$"
      ],
      "text/plain": [
       "⎡   1      13   5   16⎤\n",
       "⎢                     ⎥\n",
       "⎢   7      8    10  0 ⎥\n",
       "⎢                     ⎥\n",
       "⎢ 83/7    25/7  16  0 ⎥\n",
       "⎢                     ⎥\n",
       "⎢  489     46         ⎥\n",
       "⎢  ───     ──   0   0 ⎥\n",
       "⎢  83      83         ⎥\n",
       "⎢                     ⎥\n",
       "⎢ 1201                ⎥\n",
       "⎢ ────     16   0   0 ⎥\n",
       "⎢ 489                 ⎥\n",
       "⎢                     ⎥\n",
       "⎢-45430               ⎥\n",
       "⎢───────   0    0   0 ⎥\n",
       "⎢ 1201                ⎥\n",
       "⎢                     ⎥\n",
       "⎣  16      0    0   0 ⎦"
      ]
     },
     "execution_count": 7,
     "metadata": {},
     "output_type": "execute_result"
    }
   ],
   "source": [
    "routh(p)"
   ]
  },
  {
   "cell_type": "markdown",
   "id": "f03f4280",
   "metadata": {
    "tags": []
   },
   "source": [
    "## Example 1"
   ]
  },
  {
   "cell_type": "code",
   "execution_count": 8,
   "id": "d5a25cce",
   "metadata": {
    "execution": {
     "iopub.execute_input": "2023-11-19T13:20:49.409298Z",
     "iopub.status.busy": "2023-11-19T13:20:49.409057Z",
     "iopub.status.idle": "2023-11-19T13:20:49.988580Z",
     "shell.execute_reply": "2023-11-19T13:20:49.987720Z",
     "shell.execute_reply.started": "2023-11-19T13:20:49.409284Z"
    },
    "tags": []
   },
   "outputs": [
    {
     "data": {
      "image/png": "[encoded data removed]",
      "text/latex": [
       "$\\displaystyle \\operatorname{Poly}{\\left( s^{3} + s^{2} + s + 2, s, domain=\\mathbb{Z} \\right)}$"
      ],
      "text/plain": [
       "Poly(s**3 + s**2 + s + 2, s, domain='ZZ')"
      ]
     },
     "execution_count": 8,
     "metadata": {},
     "output_type": "execute_result"
    }
   ],
   "source": [
    "p = s**3 + s**2 + s + 2\n",
    "p = sympy.Poly(p, s)\n",
    "p"
   ]
  },
  {
   "cell_type": "code",
   "execution_count": 9,
   "id": "5c26ac5a",
   "metadata": {
    "execution": {
     "iopub.execute_input": "2023-11-19T13:20:49.990083Z",
     "iopub.status.busy": "2023-11-19T13:20:49.989888Z",
     "iopub.status.idle": "2023-11-19T13:20:50.593234Z",
     "shell.execute_reply": "2023-11-19T13:20:50.592726Z",
     "shell.execute_reply.started": "2023-11-19T13:20:49.990066Z"
    },
    "tags": []
   },
   "outputs": [
    {
     "data": {
      "image/png": "[encoded data removed]",
      "text/latex": [
       "$\\displaystyle \\left[\\begin{matrix}1 & 1\\\\1 & 2\\\\-1 & 0\\\\2 & 0\\end{matrix}\\right]$"
      ],
      "text/plain": [
       "⎡1   1⎤\n",
       "⎢     ⎥\n",
       "⎢1   2⎥\n",
       "⎢     ⎥\n",
       "⎢-1  0⎥\n",
       "⎢     ⎥\n",
       "⎣2   0⎦"
      ]
     },
     "execution_count": 9,
     "metadata": {},
     "output_type": "execute_result"
    }
   ],
   "source": [
    "routh(p)"
   ]
  },
  {
   "cell_type": "code",
   "execution_count": 10,
   "id": "d96b0cb7",
   "metadata": {
    "execution": {
     "iopub.execute_input": "2023-11-19T13:20:50.594461Z",
     "iopub.status.busy": "2023-11-19T13:20:50.594197Z",
     "iopub.status.idle": "2023-11-19T13:20:50.601718Z",
     "shell.execute_reply": "2023-11-19T13:20:50.600967Z",
     "shell.execute_reply.started": "2023-11-19T13:20:50.594446Z"
    }
   },
   "outputs": [
    {
     "name": "stdout",
     "output_type": "stream",
     "text": [
      "  -1.353\n",
      "   0.177   -1.203i\n",
      "   0.177    1.203i\n"
     ]
    }
   ],
   "source": [
    "rr = p.nroots()\n",
    "for root in rr:\n",
    "    r, i = root.as_real_imag()\n",
    "    if abs(i) > 1e-5:\n",
    "        print('%8.3f %8.3fi' % (r,i))\n",
    "    else:\n",
    "        print('%8.3f' % (r))"
   ]
  },
  {
   "cell_type": "markdown",
   "id": "da09ff35",
   "metadata": {},
   "source": [
    "## Example 2"
   ]
  },
  {
   "cell_type": "code",
   "execution_count": 11,
   "id": "55c6cd1a",
   "metadata": {
    "execution": {
     "iopub.execute_input": "2023-11-19T13:20:50.602864Z",
     "iopub.status.busy": "2023-11-19T13:20:50.602632Z",
     "iopub.status.idle": "2023-11-19T13:20:51.206765Z",
     "shell.execute_reply": "2023-11-19T13:20:51.206110Z",
     "shell.execute_reply.started": "2023-11-19T13:20:50.602848Z"
    }
   },
   "outputs": [
    {
     "data": {
      "image/png": "[encoded data removed]",
      "text/latex": [
       "$\\displaystyle \\operatorname{Poly}{\\left( s^{3} + 4 s^{2} + 8 s + 4, s, domain=\\mathbb{Z} \\right)}$"
      ],
      "text/plain": [
       "Poly(s**3 + 4*s**2 + 8*s + 4, s, domain='ZZ')"
      ]
     },
     "execution_count": 11,
     "metadata": {},
     "output_type": "execute_result"
    }
   ],
   "source": [
    "p = s**3 + 4*s**2 + 8*s + 4\n",
    "p = sympy.Poly(p, s)\n",
    "p"
   ]
  },
  {
   "cell_type": "code",
   "execution_count": 12,
   "id": "abb159af",
   "metadata": {
    "execution": {
     "iopub.execute_input": "2023-11-19T13:20:51.208049Z",
     "iopub.status.busy": "2023-11-19T13:20:51.207859Z",
     "iopub.status.idle": "2023-11-19T13:20:51.787020Z",
     "shell.execute_reply": "2023-11-19T13:20:51.786513Z",
     "shell.execute_reply.started": "2023-11-19T13:20:51.208033Z"
    }
   },
   "outputs": [
    {
     "data": {
      "image/png": "[encoded data removed]",
      "text/latex": [
       "$\\displaystyle \\left[\\begin{matrix}1 & 8\\\\4 & 4\\\\7 & 0\\\\4 & 0\\end{matrix}\\right]$"
      ],
      "text/plain": [
       "⎡1  8⎤\n",
       "⎢    ⎥\n",
       "⎢4  4⎥\n",
       "⎢    ⎥\n",
       "⎢7  0⎥\n",
       "⎢    ⎥\n",
       "⎣4  0⎦"
      ]
     },
     "execution_count": 12,
     "metadata": {},
     "output_type": "execute_result"
    }
   ],
   "source": [
    "RA = routh(p)\n",
    "RA"
   ]
  },
  {
   "cell_type": "code",
   "execution_count": 13,
   "id": "4513ec3b",
   "metadata": {
    "execution": {
     "iopub.execute_input": "2023-11-19T13:20:51.788234Z",
     "iopub.status.busy": "2023-11-19T13:20:51.788056Z",
     "iopub.status.idle": "2023-11-19T13:20:51.791579Z",
     "shell.execute_reply": "2023-11-19T13:20:51.791133Z",
     "shell.execute_reply.started": "2023-11-19T13:20:51.788219Z"
    }
   },
   "outputs": [
    {
     "name": "stdout",
     "output_type": "stream",
     "text": [
      "Stable\n"
     ]
    }
   ],
   "source": [
    "msgs = 'Stable' if min(RA[:, 0]) > 0 else 'Unstable'\n",
    "print(msgs)"
   ]
  },
  {
   "cell_type": "code",
   "execution_count": 14,
   "id": "ef1b7b67",
   "metadata": {
    "execution": {
     "iopub.execute_input": "2023-11-19T13:20:51.792828Z",
     "iopub.status.busy": "2023-11-19T13:20:51.792587Z",
     "iopub.status.idle": "2023-11-19T13:20:51.799873Z",
     "shell.execute_reply": "2023-11-19T13:20:51.799438Z",
     "shell.execute_reply.started": "2023-11-19T13:20:51.792810Z"
    }
   },
   "outputs": [
    {
     "name": "stdout",
     "output_type": "stream",
     "text": [
      "  -0.704\n",
      "  -1.648   -1.721i\n",
      "  -1.648    1.721i\n"
     ]
    }
   ],
   "source": [
    "rr = p.nroots()\n",
    "for root in rr:\n",
    "    r, i = root.as_real_imag()\n",
    "    if abs(i) > 1e-5:\n",
    "        print('%8.3f %8.3fi' % (r,i))\n",
    "    else:\n",
    "        print('%8.3f' % (r))"
   ]
  },
  {
   "cell_type": "markdown",
   "id": "45044c7e",
   "metadata": {},
   "source": [
    "## Check if poles satisfy $Re[s] \\leq h$"
   ]
  },
  {
   "cell_type": "code",
   "execution_count": 15,
   "id": "33307679",
   "metadata": {
    "execution": {
     "iopub.execute_input": "2023-11-19T13:20:51.801078Z",
     "iopub.status.busy": "2023-11-19T13:20:51.800718Z",
     "iopub.status.idle": "2023-11-19T13:20:52.410983Z",
     "shell.execute_reply": "2023-11-19T13:20:52.410344Z",
     "shell.execute_reply.started": "2023-11-19T13:20:51.801064Z"
    }
   },
   "outputs": [
    {
     "data": {
      "image/png": "[encoded data removed]",
      "text/latex": [
       "$\\displaystyle \\operatorname{Poly}{\\left( 1.0 s^{3} + 1.87 s^{2} + 3.8323 s - 0.0215109999999998, s, domain=\\mathbb{R} \\right)}$"
      ],
      "text/plain": [
       "Poly(1.0*s**3 + 1.87*s**2 + 3.8323*s - 0.0215109999999998, s, domain='RR')"
      ]
     },
     "execution_count": 15,
     "metadata": {},
     "output_type": "execute_result"
    }
   ],
   "source": [
    "h = -0.71\n",
    "pa = p.subs(s,s+h)\n",
    "pa = sympy.Poly(pa, s)\n",
    "pa"
   ]
  },
  {
   "cell_type": "code",
   "execution_count": 16,
   "id": "55c9324d",
   "metadata": {
    "execution": {
     "iopub.execute_input": "2023-11-19T13:20:52.412351Z",
     "iopub.status.busy": "2023-11-19T13:20:52.412184Z",
     "iopub.status.idle": "2023-11-19T13:20:52.417077Z",
     "shell.execute_reply": "2023-11-19T13:20:52.416568Z",
     "shell.execute_reply.started": "2023-11-19T13:20:52.412336Z"
    }
   },
   "outputs": [],
   "source": [
    "RAa = routh(pa)"
   ]
  },
  {
   "cell_type": "code",
   "execution_count": 17,
   "id": "db8b5492",
   "metadata": {
    "execution": {
     "iopub.execute_input": "2023-11-19T13:20:52.418127Z",
     "iopub.status.busy": "2023-11-19T13:20:52.417898Z",
     "iopub.status.idle": "2023-11-19T13:20:52.421556Z",
     "shell.execute_reply": "2023-11-19T13:20:52.421085Z",
     "shell.execute_reply.started": "2023-11-19T13:20:52.418109Z"
    }
   },
   "outputs": [
    {
     "name": "stdout",
     "output_type": "stream",
     "text": [
      "Poles are not left of s = -0.71\n"
     ]
    }
   ],
   "source": [
    "msgs = 'are' if min(RAa[:, 0]) > 0 else 'are not'\n",
    "print('Poles '+msgs+' left of s = '+str(h))"
   ]
  },
  {
   "cell_type": "markdown",
   "id": "2f1a7e8c",
   "metadata": {},
   "source": [
    "## Example 3"
   ]
  },
  {
   "cell_type": "code",
   "execution_count": 18,
   "id": "7e4bc78a",
   "metadata": {
    "execution": {
     "iopub.execute_input": "2023-11-19T13:20:52.422305Z",
     "iopub.status.busy": "2023-11-19T13:20:52.422173Z",
     "iopub.status.idle": "2023-11-19T13:20:53.073326Z",
     "shell.execute_reply": "2023-11-19T13:20:53.072550Z",
     "shell.execute_reply.started": "2023-11-19T13:20:52.422293Z"
    }
   },
   "outputs": [
    {
     "data": {
      "image/png": "[encoded data removed]",
      "text/latex": [
       "$\\displaystyle K_{c} + 0.006 s^{3} + 0.11 s^{2} + 0.6 s + 1$"
      ],
      "text/plain": [
       "             3         2            \n",
       "K_c + 0.006⋅s  + 0.11⋅s  + 0.6⋅s + 1"
      ]
     },
     "execution_count": 18,
     "metadata": {},
     "output_type": "execute_result"
    }
   ],
   "source": [
    "G = 1/((1+0.1*s)*(1+0.2*s)*(1+0.3*s))\n",
    "Gcl = G/(1 + K_c * G)\n",
    "n,d = fraction(Gcl.simplify())\n",
    "p = d.expand()\n",
    "p"
   ]
  },
  {
   "cell_type": "code",
   "execution_count": 19,
   "id": "41e44eee",
   "metadata": {
    "execution": {
     "iopub.execute_input": "2023-11-19T13:20:53.074701Z",
     "iopub.status.busy": "2023-11-19T13:20:53.074533Z",
     "iopub.status.idle": "2023-11-19T13:20:53.716867Z",
     "shell.execute_reply": "2023-11-19T13:20:53.716367Z",
     "shell.execute_reply.started": "2023-11-19T13:20:53.074687Z"
    },
    "tags": []
   },
   "outputs": [
    {
     "data": {
      "image/png": "[encoded data removed]",
      "text/latex": [
       "$\\displaystyle \\left[\\begin{matrix}0.006 & 0.6\\\\0.11 & 1.0 K_{c} + 1.0\\\\0.545454545454546 - 0.0545454545454545 K_{c} & 0\\\\1.0 K_{c} + 1.0 & 0\\end{matrix}\\right]$"
      ],
      "text/plain": [
       "⎡                  0.006                          0.6     ⎤\n",
       "⎢                                                         ⎥\n",
       "⎢                   0.11                     1.0⋅K_c + 1.0⎥\n",
       "⎢                                                         ⎥\n",
       "⎢0.545454545454546 - 0.0545454545454545⋅K_c        0      ⎥\n",
       "⎢                                                         ⎥\n",
       "⎣              1.0⋅K_c + 1.0                       0      ⎦"
      ]
     },
     "execution_count": 19,
     "metadata": {},
     "output_type": "execute_result"
    }
   ],
   "source": [
    "RA = routh(sympy.Poly(p, s))\n",
    "RA"
   ]
  },
  {
   "cell_type": "code",
   "execution_count": 20,
   "id": "90acd152",
   "metadata": {
    "execution": {
     "iopub.execute_input": "2023-11-19T13:20:53.718166Z",
     "iopub.status.busy": "2023-11-19T13:20:53.717972Z",
     "iopub.status.idle": "2023-11-19T13:20:54.309646Z",
     "shell.execute_reply": "2023-11-19T13:20:54.309128Z",
     "shell.execute_reply.started": "2023-11-19T13:20:53.718151Z"
    }
   },
   "outputs": [
    {
     "data": {
      "image/png": "[encoded data removed]",
      "text/latex": [
       "$\\displaystyle -1.0 < K_{c} \\wedge K_{c} < 10.0$"
      ],
      "text/plain": [
       "-1.0 < K_c ∧ K_c < 10.0"
      ]
     },
     "execution_count": 20,
     "metadata": {},
     "output_type": "execute_result"
    }
   ],
   "source": [
    "rr = sympy.solve([e > 0 for e in RA[:, 0]], K_c)\n",
    "rr"
   ]
  },
  {
   "cell_type": "code",
   "execution_count": 21,
   "id": "e3c6ec8e",
   "metadata": {
    "execution": {
     "iopub.execute_input": "2023-11-19T13:20:54.311005Z",
     "iopub.status.busy": "2023-11-19T13:20:54.310690Z",
     "iopub.status.idle": "2023-11-19T13:20:54.651902Z",
     "shell.execute_reply": "2023-11-19T13:20:54.651488Z",
     "shell.execute_reply.started": "2023-11-19T13:20:54.310990Z"
    }
   },
   "outputs": [
    {
     "name": "stdout",
     "output_type": "stream",
     "text": [
      "For K_c = -2.0 system is Unstable\n",
      "For K_c = -1.0 system is Unstable\n",
      "For K_c =  0.0 system is Stable\n",
      "For K_c =  1.0 system is Stable\n",
      "For K_c =  2.0 system is Stable\n",
      "For K_c =  3.0 system is Stable\n",
      "For K_c =  4.0 system is Stable\n",
      "For K_c =  5.0 system is Stable\n",
      "For K_c =  6.0 system is Stable\n",
      "For K_c =  7.0 system is Stable\n",
      "For K_c =  8.0 system is Stable\n",
      "For K_c =  9.0 system is Stable\n",
      "For K_c = 10.0 system is Unstable\n"
     ]
    }
   ],
   "source": [
    "step = (float(rr.as_set().end+1) - float(rr.as_set().start-1) )/10 \n",
    "for k_c in np.arange(float(rr.as_set().start-1),float(rr.as_set().end+1),int(step)):\n",
    "    r = roots(d.subs(K_c,k_c))\n",
    "    N = len(r)\n",
    "    real_part = [re(e) for e in list(r)[0:N]]\n",
    "    msgs = 'Unstable' if max(real_part) >= 0 else 'Stable'        \n",
    "    print(f'For K_c = {k_c:4.1f} system is '+msgs)"
   ]
  },
  {
   "cell_type": "markdown",
   "id": "9e802174",
   "metadata": {
    "tags": []
   },
   "source": [
    "## Example 10"
   ]
  },
  {
   "cell_type": "code",
   "execution_count": 22,
   "id": "8be9520b",
   "metadata": {
    "execution": {
     "iopub.execute_input": "2023-11-19T13:20:54.655965Z",
     "iopub.status.busy": "2023-11-19T13:20:54.655795Z",
     "iopub.status.idle": "2023-11-19T13:20:55.246071Z",
     "shell.execute_reply": "2023-11-19T13:20:55.245562Z",
     "shell.execute_reply.started": "2023-11-19T13:20:54.655949Z"
    },
    "tags": []
   },
   "outputs": [
    {
     "data": {
      "image/png": "[encoded data removed]",
      "text/latex": [
       "$\\displaystyle \\operatorname{Poly}{\\left( s^{2} + K_{c} s + 2 K_{c} - 1, s, domain=\\mathbb{Z}\\left[K_{c}\\right] \\right)}$"
      ],
      "text/plain": [
       "Poly(s**2 + K_c*s + 2*K_c - 1, s, domain='ZZ[K_c]')"
      ]
     },
     "execution_count": 22,
     "metadata": {},
     "output_type": "execute_result"
    }
   ],
   "source": [
    "p = s**2 + K_c*s + (2*K_c-1) \n",
    "p = sympy.Poly(p, s)\n",
    "p"
   ]
  },
  {
   "cell_type": "code",
   "execution_count": 23,
   "id": "3d425a17",
   "metadata": {
    "execution": {
     "iopub.execute_input": "2023-11-19T13:20:55.247243Z",
     "iopub.status.busy": "2023-11-19T13:20:55.246998Z",
     "iopub.status.idle": "2023-11-19T13:20:55.863537Z",
     "shell.execute_reply": "2023-11-19T13:20:55.863044Z",
     "shell.execute_reply.started": "2023-11-19T13:20:55.247228Z"
    },
    "tags": []
   },
   "outputs": [
    {
     "data": {
      "image/png": "[encoded data removed]",
      "text/latex": [
       "$\\displaystyle \\left[\\begin{matrix}1 & 2 K_{c} - 1\\\\K_{c} & 0\\\\2 K_{c} - 1 & 0\\end{matrix}\\right]$"
      ],
      "text/plain": [
       "⎡    1      2⋅K_c - 1⎤\n",
       "⎢                    ⎥\n",
       "⎢   K_c         0    ⎥\n",
       "⎢                    ⎥\n",
       "⎣2⋅K_c - 1      0    ⎦"
      ]
     },
     "execution_count": 23,
     "metadata": {},
     "output_type": "execute_result"
    }
   ],
   "source": [
    "RA = routh(sympy.Poly(p, s))\n",
    "RA"
   ]
  },
  {
   "cell_type": "code",
   "execution_count": 24,
   "id": "9caecf73",
   "metadata": {
    "execution": {
     "iopub.execute_input": "2023-11-19T13:20:55.864747Z",
     "iopub.status.busy": "2023-11-19T13:20:55.864567Z",
     "iopub.status.idle": "2023-11-19T13:20:56.457528Z",
     "shell.execute_reply": "2023-11-19T13:20:56.456957Z",
     "shell.execute_reply.started": "2023-11-19T13:20:55.864732Z"
    }
   },
   "outputs": [
    {
     "data": {
      "image/png": "[encoded data removed]",
      "text/latex": [
       "$\\displaystyle \\frac{1}{2} < K_{c} \\wedge K_{c} < \\infty$"
      ],
      "text/plain": [
       "1/2 < K_c ∧ K_c < ∞"
      ]
     },
     "execution_count": 24,
     "metadata": {},
     "output_type": "execute_result"
    }
   ],
   "source": [
    "sympy.solve([e > 0 for e in RA[:, 0]], K_c)"
   ]
  },
  {
   "cell_type": "code",
   "execution_count": 25,
   "id": "1d70eb4d",
   "metadata": {
    "execution": {
     "iopub.execute_input": "2023-11-19T13:20:56.458841Z",
     "iopub.status.busy": "2023-11-19T13:20:56.458598Z",
     "iopub.status.idle": "2023-11-19T13:20:56.483491Z",
     "shell.execute_reply": "2023-11-19T13:20:56.483046Z",
     "shell.execute_reply.started": "2023-11-19T13:20:56.458827Z"
    }
   },
   "outputs": [
    {
     "name": "stdout",
     "output_type": "stream",
     "text": [
      "For K_c = -1.0 system is Unstable\n",
      "For K_c =  0.0 system is Unstable\n",
      "For K_c =  1.0 system is Stable\n",
      "For K_c =  2.0 system is Stable\n",
      "For K_c =  3.0 system is Stable\n",
      "For K_c =  4.0 system is Stable\n"
     ]
    }
   ],
   "source": [
    "for k_c in np.arange(-1,5,1):\n",
    "    r = roots(p.subs(K_c,k_c))\n",
    "    N = len(r)\n",
    "    real_part = [re(e) for e in list(r)[0:N]]\n",
    "    msgs = 'Stable'\n",
    "    if max(real_part) >= 0:\n",
    "        msgs = 'Unstable'        \n",
    "    print(f'For K_c = {k_c:4.1f} system is '+msgs)"
   ]
  },
  {
   "cell_type": "markdown",
   "id": "364a5c8e",
   "metadata": {
    "tags": []
   },
   "source": [
    "## Example 11"
   ]
  },
  {
   "cell_type": "code",
   "execution_count": 26,
   "id": "9f682a37",
   "metadata": {
    "execution": {
     "iopub.execute_input": "2023-11-19T13:20:56.484547Z",
     "iopub.status.busy": "2023-11-19T13:20:56.484388Z",
     "iopub.status.idle": "2023-11-19T13:20:57.065095Z",
     "shell.execute_reply": "2023-11-19T13:20:57.064597Z",
     "shell.execute_reply.started": "2023-11-19T13:20:56.484533Z"
    },
    "tags": []
   },
   "outputs": [
    {
     "data": {
      "image/png": "[encoded data removed]",
      "text/latex": [
       "$\\displaystyle \\operatorname{Poly}{\\left( s^{3} + 14 s^{2} + 56 s + K_{c}, s, domain=\\mathbb{Z}\\left[K_{c}\\right] \\right)}$"
      ],
      "text/plain": [
       "Poly(s**3 + 14*s**2 + 56*s + K_c, s, domain='ZZ[K_c]')"
      ]
     },
     "execution_count": 26,
     "metadata": {},
     "output_type": "execute_result"
    }
   ],
   "source": [
    "p = s**3 + 14*s**2 + 56*s + K_c \n",
    "p = sympy.Poly(p, s)\n",
    "p"
   ]
  },
  {
   "cell_type": "code",
   "execution_count": 27,
   "id": "b38083f8",
   "metadata": {
    "execution": {
     "iopub.execute_input": "2023-11-19T13:20:57.066314Z",
     "iopub.status.busy": "2023-11-19T13:20:57.066138Z",
     "iopub.status.idle": "2023-11-19T13:20:57.672099Z",
     "shell.execute_reply": "2023-11-19T13:20:57.671530Z",
     "shell.execute_reply.started": "2023-11-19T13:20:57.066300Z"
    },
    "tags": []
   },
   "outputs": [
    {
     "data": {
      "image/png": "[encoded data removed]",
      "text/latex": [
       "$\\displaystyle \\left[\\begin{matrix}1 & 56\\\\14 & K_{c}\\\\56 - \\frac{K_{c}}{14} & 0\\\\K_{c} & 0\\end{matrix}\\right]$"
      ],
      "text/plain": [
       "⎡   1      56 ⎤\n",
       "⎢             ⎥\n",
       "⎢   14     K_c⎥\n",
       "⎢             ⎥\n",
       "⎢     K_c     ⎥\n",
       "⎢56 - ───   0 ⎥\n",
       "⎢     14      ⎥\n",
       "⎢             ⎥\n",
       "⎣  K_c      0 ⎦"
      ]
     },
     "execution_count": 27,
     "metadata": {},
     "output_type": "execute_result"
    }
   ],
   "source": [
    "RA = routh(sympy.Poly(p, s))\n",
    "RA"
   ]
  },
  {
   "cell_type": "code",
   "execution_count": 28,
   "id": "97c5d99e",
   "metadata": {
    "execution": {
     "iopub.execute_input": "2023-11-19T13:20:57.673468Z",
     "iopub.status.busy": "2023-11-19T13:20:57.673220Z",
     "iopub.status.idle": "2023-11-19T13:20:58.277670Z",
     "shell.execute_reply": "2023-11-19T13:20:58.277134Z",
     "shell.execute_reply.started": "2023-11-19T13:20:57.673452Z"
    }
   },
   "outputs": [
    {
     "data": {
      "image/png": "[encoded data removed]",
      "text/latex": [
       "$\\displaystyle 0 < K_{c} \\wedge K_{c} < 784$"
      ],
      "text/plain": [
       "0 < K_c ∧ K_c < 784"
      ]
     },
     "execution_count": 28,
     "metadata": {},
     "output_type": "execute_result"
    }
   ],
   "source": [
    "rr = sympy.solve([e > 0 for e in RA[:, 0]], K_c)\n",
    "rr"
   ]
  },
  {
   "cell_type": "code",
   "execution_count": 29,
   "id": "5fd3609d",
   "metadata": {
    "execution": {
     "iopub.execute_input": "2023-11-19T13:20:58.278874Z",
     "iopub.status.busy": "2023-11-19T13:20:58.278656Z",
     "iopub.status.idle": "2023-11-19T13:20:58.497059Z",
     "shell.execute_reply": "2023-11-19T13:20:58.496590Z",
     "shell.execute_reply.started": "2023-11-19T13:20:58.278857Z"
    }
   },
   "outputs": [
    {
     "name": "stdout",
     "output_type": "stream",
     "text": [
      "For K_c =  -2.0 system is Unstable\n",
      "For K_c =  98.0 system is Stable\n",
      "For K_c = 198.0 system is Stable\n",
      "For K_c = 298.0 system is Stable\n",
      "For K_c = 398.0 system is Stable\n",
      "For K_c = 498.0 system is Stable\n",
      "For K_c = 598.0 system is Stable\n",
      "For K_c = 698.0 system is Stable\n",
      "For K_c = 798.0 system is Unstable\n"
     ]
    }
   ],
   "source": [
    "for k_c in np.arange(-2,rr.args[1].args[1]*1.1,100):\n",
    "    r = roots(p.subs(K_c,k_c))\n",
    "    N = len(r)\n",
    "    real_part = [re(e) for e in list(r)[0:N]]\n",
    "    msgs = 'Stable'\n",
    "    if max(real_part) >= 0:\n",
    "        msgs = 'Unstable'        \n",
    "    print(f'For K_c = {k_c:5.1f} system is '+msgs)"
   ]
  },
  {
   "cell_type": "code",
   "execution_count": 30,
   "id": "6e69ec3c",
   "metadata": {
    "execution": {
     "iopub.execute_input": "2023-11-19T13:20:58.497997Z",
     "iopub.status.busy": "2023-11-19T13:20:58.497844Z",
     "iopub.status.idle": "2023-11-19T13:21:00.137304Z",
     "shell.execute_reply": "2023-11-19T13:21:00.136832Z",
     "shell.execute_reply.started": "2023-11-19T13:20:58.497984Z"
    }
   },
   "outputs": [],
   "source": [
    "import matplotlib.pyplot as plt\n",
    "from matplotlib.pyplot import figure, savefig\n",
    "%matplotlib inline\n",
    "\n",
    "def nicegrid():\n",
    "    plt.grid(True, which='major', color='#666666', linestyle='-')\n",
    "    plt.grid(True, which='minor', color='#999999', linestyle='-', alpha=0.2)\n",
    "    plt.minorticks_on()"
   ]
  },
  {
   "cell_type": "code",
   "execution_count": 50,
   "id": "5472ad3f",
   "metadata": {
    "execution": {
     "iopub.execute_input": "2023-11-19T13:21:00.138265Z",
     "iopub.status.busy": "2023-11-19T13:21:00.138039Z",
     "iopub.status.idle": "2023-11-19T13:21:01.307772Z",
     "shell.execute_reply": "2023-11-19T13:21:01.307325Z",
     "shell.execute_reply.started": "2023-11-19T13:21:00.138248Z"
    }
   },
   "outputs": [],
   "source": [
    "RR = np.logspace(-4,4,2000)\n",
    "R = np.zeros((len(RR),3),dtype=complex)\n",
    "\n",
    "for ii, k_c in enumerate(RR):\n",
    "    r = roots(p.subs(K_c,k_c))\n",
    "    R[ii,:] = [e for e in list(r)[0:len(r)]]\n"
   ]
  },
  {
   "cell_type": "code",
   "execution_count": 51,
   "id": "3943c89c",
   "metadata": {
    "execution": {
     "iopub.execute_input": "2023-11-19T13:21:01.308610Z",
     "iopub.status.busy": "2023-11-19T13:21:01.308476Z",
     "iopub.status.idle": "2023-11-19T13:21:01.902482Z",
     "shell.execute_reply": "2023-11-19T13:21:01.901883Z",
     "shell.execute_reply.started": "2023-11-19T13:21:01.308597Z"
    }
   },
   "outputs": [
    {
     "data": {
      "image/png": "[encoded data removed]",
      "text/plain": [
       "<Figure size 750x750 with 1 Axes>"
      ]
     },
     "metadata": {},
     "output_type": "display_data"
    }
   ],
   "source": [
    "fig = plt.figure(figsize=(5, 5),dpi=150,constrained_layout = True)\n",
    "plt.plot(np.real(R[:,0]),np.imag(R[:,0]),'b.',linewidth=4,label='$r_1(t)$')\n",
    "plt.plot(np.real(R[:,1]),np.imag(R[:,1]),'r.',linewidth=4,label='$r_2(t)$')\n",
    "plt.plot(np.real(R[:,2]),np.imag(R[:,2]),'g.',linewidth=4,label='$r_3(t)$')\n",
    "\n",
    "nicegrid()\n",
    "plt.legend()\n",
    "plt.xlim(-15,5)\n",
    "plt.ylim(-10,10)\n",
    "plt.xlabel('Real')\n",
    "plt.ylabel('Imag')\n",
    "plt.title('Cubic $D(s)$ Pole Locations for various $K$')\n",
    "plt.show()"
   ]
  },
  {
   "cell_type": "code",
   "execution_count": 52,
   "id": "1b523c80",
   "metadata": {
    "execution": {
     "iopub.execute_input": "2023-11-19T13:21:22.500414Z",
     "iopub.status.busy": "2023-11-19T13:21:22.499290Z",
     "iopub.status.idle": "2023-11-19T13:21:23.112736Z",
     "shell.execute_reply": "2023-11-19T13:21:23.112148Z",
     "shell.execute_reply.started": "2023-11-19T13:21:22.500363Z"
    }
   },
   "outputs": [
    {
     "data": {
      "image/png": "[encoded data removed]",
      "text/latex": [
       "$\\displaystyle 0 < K_{c} \\wedge K_{c} < 784$"
      ],
      "text/plain": [
       "0 < K_c ∧ K_c < 784"
      ]
     },
     "execution_count": 52,
     "metadata": {},
     "output_type": "execute_result"
    }
   ],
   "source": [
    "rr"
   ]
  },
  {
   "cell_type": "code",
   "execution_count": 53,
   "id": "a1b1ecb9",
   "metadata": {
    "execution": {
     "iopub.execute_input": "2023-11-19T13:21:23.820006Z",
     "iopub.status.busy": "2023-11-19T13:21:23.819695Z",
     "iopub.status.idle": "2023-11-19T13:21:23.827296Z",
     "shell.execute_reply": "2023-11-19T13:21:23.826788Z",
     "shell.execute_reply.started": "2023-11-19T13:21:23.819986Z"
    }
   },
   "outputs": [
    {
     "data": {
      "text/plain": [
       "array([[ 1.        , 56.        ],\n",
       "       [14.        ,  1.        ],\n",
       "       [55.92857143,  0.        ],\n",
       "       [ 1.        ,  0.        ]])"
      ]
     },
     "execution_count": 53,
     "metadata": {},
     "output_type": "execute_result"
    }
   ],
   "source": [
    "f = sympy.lambdify(K_c, RA)\n",
    "f(1)"
   ]
  },
  {
   "cell_type": "code",
   "execution_count": 54,
   "id": "4e027891",
   "metadata": {
    "execution": {
     "iopub.execute_input": "2023-11-19T13:21:26.012937Z",
     "iopub.status.busy": "2023-11-19T13:21:26.012586Z",
     "iopub.status.idle": "2023-11-19T13:21:26.027000Z",
     "shell.execute_reply": "2023-11-19T13:21:26.025062Z",
     "shell.execute_reply.started": "2023-11-19T13:21:26.012918Z"
    }
   },
   "outputs": [
    {
     "data": {
      "text/plain": [
       "array([[ 1.        , 56.        ],\n",
       "       [14.        , -2.        ],\n",
       "       [56.14285714,  0.        ],\n",
       "       [-2.        ,  0.        ]])"
      ]
     },
     "execution_count": 54,
     "metadata": {},
     "output_type": "execute_result"
    }
   ],
   "source": [
    "f(-2)"
   ]
  }
 ],
 "metadata": {
  "kernelspec": {
   "display_name": "venv312",
   "language": "python",
   "name": "venv312"
  },
  "language_info": {
   "codemirror_mode": {
    "name": "ipython",
    "version": 3
   },
   "file_extension": ".py",
   "mimetype": "text/x-python",
   "name": "python",
   "nbconvert_exporter": "python",
   "pygments_lexer": "ipython3",
   "version": "3.12.6"
  },
  "latex_envs": {
   "LaTeX_envs_menu_present": true,
   "autoclose": false,
   "autocomplete": true,
   "bibliofile": "biblio.bib",
   "cite_by": "apalike",
   "current_citInitial": 1,
   "eqLabelWithNumbers": true,
   "eqNumInitial": 1,
   "hotkeys": {
    "equation": "Ctrl-E",
    "itemize": "Ctrl-I"
   },
   "labels_anchors": false,
   "latex_user_defs": false,
   "report_style_numbering": false,
   "user_envs_cfg": false
  }
 },
 "nbformat": 4,
 "nbformat_minor": 5
}

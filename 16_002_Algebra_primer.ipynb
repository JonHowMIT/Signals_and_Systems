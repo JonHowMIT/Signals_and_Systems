{
 "cells": [
  {
   "cell_type": "markdown",
   "id": "44d330aa-8668-48b4-9c2d-76101e52cd95",
   "metadata": {},
   "source": [
    "# Unified Engineering<br> 16.002 Signals and Systems<br> Algebra Review\n",
    "## Jonathan P. How <br> Massachusetts Institute of Technology<br> jhow@mit.edu"
   ]
  },
  {
   "cell_type": "code",
   "execution_count": 45,
   "id": "e7c8d58a-95d7-4495-ac6a-29618ef6eef2",
   "metadata": {
    "execution": {
     "iopub.execute_input": "2023-07-27T22:44:34.255680Z",
     "iopub.status.busy": "2023-07-27T22:44:34.254382Z",
     "iopub.status.idle": "2023-07-27T22:44:34.275787Z",
     "shell.execute_reply": "2023-07-27T22:44:34.273008Z",
     "shell.execute_reply.started": "2023-07-27T22:44:34.255583Z"
    }
   },
   "outputs": [],
   "source": [
    "import cmath as cm\n",
    "import numpy as np\n",
    "import pandas as pd"
   ]
  },
  {
   "cell_type": "markdown",
   "id": "0c0d43fb-cbe7-4dc1-8fb4-65a19067cf7c",
   "metadata": {},
   "source": [
    "**Contents:** <pre> \n",
    "[Key Components](#s1)  \n",
    "[Special Matrices](#s2)  \n",
    "[Matrix Operations](#s3)  \n",
    "[More Complex Operations](#s4)  \n",
    " </pre>"
   ]
  },
  {
   "cell_type": "markdown",
   "id": "9dd79cdf-e2c2-4b16-9347-d2924036163b",
   "metadata": {
    "execution": {
     "iopub.execute_input": "2023-07-25T21:01:40.683236Z",
     "iopub.status.busy": "2023-07-25T21:01:40.681445Z",
     "iopub.status.idle": "2023-07-25T21:01:40.711441Z",
     "shell.execute_reply": "2023-07-25T21:01:40.710133Z",
     "shell.execute_reply.started": "2023-07-25T21:01:40.683160Z"
    }
   },
   "source": [
    "## <a name=\"s1\" style=\"color:blue\">Key Components</a>\n",
    "\n",
    "### Scalars\n",
    "A $1\\times 1$ matrix is called a *scalar*. In other words, a scalar is just a number. \n",
    "\n",
    "### Matrices\n",
    "A <a style=\"color:blue\">*matrix*</a> is a (two-dimensional or rectangular) array of numbers. The size of a matrix is represented in the form $m \\times n$, where $m$ is the number of rows and $n$ is the number of columns. \n",
    "\n",
    "For example, the following is an example of a $3 \\times 5$ matrix:\n",
    "\\begin{equation}\n",
    "M=\\left[\\begin{array}{c c c c c} 1 & 2.5 & 3.76 & -2.3 & 4.1 \\\\ 0.78 & -6.2 & -3.5 & 4.5 & 3 \\\\ 1 & 2 & 3 & 4 & 5 \\end{array}  \\right]\n",
    "\\end{equation}\n",
    "If $m=n$, the matrix is said to be *square*. The elements of the matrix are denoted by $a_{ij}$, where $i$ denotes the row and $j$ the column of the element. In the above example, $m_{23} = -3.5$. \n",
    "\n",
    "### Vectors\n",
    "A matrix with only one row or column (preferred), that is, an $n \\times 1$ matrix, is known as a <a style=\"color:blue\">*vector*</a>.\n",
    "When there is one column, the number of rows is sometimes called the *dimension* of the vector. "
   ]
  },
  {
   "cell_type": "markdown",
   "id": "b9582ed2-d81c-4fde-b25b-c1379c5c95b2",
   "metadata": {
    "execution": {
     "iopub.execute_input": "2023-07-25T21:01:40.683236Z",
     "iopub.status.busy": "2023-07-25T21:01:40.681445Z",
     "iopub.status.idle": "2023-07-25T21:01:40.711441Z",
     "shell.execute_reply": "2023-07-25T21:01:40.710133Z",
     "shell.execute_reply.started": "2023-07-25T21:01:40.683160Z"
    }
   },
   "source": [
    "## <a name=\"s2\" style=\"color:blue\">Special matrices</a>\n",
    "This section considers some special instances of matrices.\n",
    "\n",
    "### Zero matrix\n",
    "A matrix with all elements equal to zero is called a *zero matrix*. \n",
    "Often, an $m \\times n$ zero matrix is denoted by $0_{m\\times n}$, but sometimes it is just represented by $0$ and we will deduce its size by context. \n",
    "\n",
    "### Identity matrix\n",
    "A square matrix with all diagonal elements equal to 1, and all other elements equal to 0, is known as the *identity matrix*. They are usually denoted by $I$, although we will sometimes use $I_m$ or $I_{m \\times m}$ to denote the $m \\times m$ identity matrix. For example, \n",
    "\\begin{equation}\n",
    "I_3 = \\left[\\begin{array}{c c c} 1 & 0  & 0 \\\\ 0 & 1 & 0 \\\\  0 & 0 &1 \\end{array}  \\right] \\mbox{ and } I_4 = \\left[\\begin{array}{cccc} 1 & 0 & 0 & 0 \\\\ 0 & 1 & 0 & 0 \\\\ 0 & 0 & 1 & 0 \\\\ 0 & 0 & 0 & 1 \\end{array} \\right] \\end{equation} \n",
    "are identity matrices. When we look at matrix multiplication, we will see why such a matrix is called an identity matrix.\n",
    "\n",
    "### Unit vector\n",
    "If only one component of a vector is equal to 1 and all the other elements are 0, it is known as a *unit vector*. The unit vector in which the $i$th element is 1 is sometimes denoted $e_i$. For example,\n",
    "\\begin{equation} e_1 =  \\left[\\begin{array}{c} 1 \\\\ 0 \\\\ \\vdots \\\\ 0 \\end{array}  \\right],\\; \n",
    "e_2 =  \\left[\\begin{array}{c} 0 \\\\ 1 \\\\ \\vdots \\\\ 0 \\end{array}   \\right],\\mbox{ etc.} \n",
    "\\end{equation} \n",
    "The unit vector $e_i$ is sometimes known as the $i$th basis vector. Also note that\n",
    "$$\n",
    "I_3=\\left[ \\begin{array}{ccc} e_1 & e_2 & e_3 \\end{array}\\right]\n",
    "$$\n",
    "\n",
    "### Vector of ones \n",
    "A vector in which all the elements equal 1 is sometimes called the *ones vector* and denoted $\\mathbf{1}$. "
   ]
  },
  {
   "cell_type": "markdown",
   "id": "86bb9b10-42d8-4c58-9956-f0733308ccc1",
   "metadata": {
    "execution": {
     "iopub.execute_input": "2023-07-25T21:06:19.907867Z",
     "iopub.status.busy": "2023-07-25T21:06:19.906820Z",
     "iopub.status.idle": "2023-07-25T21:06:20.041801Z",
     "shell.execute_reply": "2023-07-25T21:06:20.041133Z",
     "shell.execute_reply.started": "2023-07-25T21:06:19.907818Z"
    }
   },
   "source": [
    "## <a name=\"s3\" style=\"color:blue\">Matrix operations</a>\n",
    "\n",
    "### Addition\n",
    "If $A$ and $B$ are two matrices *of the same dimension*, they can be added to obtain a matrix with the same dimensions. In other words,\n",
    "$$ C = A+B, \\mbox{ whose elements are given by }  c_{ij} = a_{ij} + b_{ij}. $$\n",
    "Adding the zero matrix (of the same size) to any matrix yields the same matrix.\n",
    "\n",
    "### Transpose\n",
    "The transpose of a matrix, denoted $A^T$, is obtained by interchanging the rows and the columns, so\n",
    "$$\n",
    "(A^T)_{ij}=a_{ji}.\n",
    "$$\n",
    "The transpose of a *symmetric matrix* is the matrix itself -- in fact, if $A=A^T$, then $A$ is symmetric.\n",
    "\n",
    "### Trace \n",
    "The trace of a square matrix is the sum of its diagonal elements, so \n",
    "$$\n",
    "Tr(A) = \\sum_{i=1}^n a_{ii}.\n",
    "$$\n",
    "\n",
    "### Multiplication\n",
    "Two matrices $A$ and $B$  can only be multiplied if their dimensions are *compatible*, that is, if the number of columns of $A$ equals the number of rows of $B$. If $A$ is $m\\times n$ and $B$ is $n\\times p$, then the product  $C=AB$ is a $m \\times p$ matrix. The element $c_{ij}$ of the product is given by\n",
    "$$c_{ij} = \\sum_{k=1}^n a_{ik} b_{kj} = a_{i1}b_{1j} + a_{i2}b_{2j} + a_{i3}b_{3j} + \\cdots + a_{in}b_{nj}. $$\n",
    "\n",
    "Note that matrix multiplication is **not** commutative. In fact, depending on the sizes of the matrices, the product $BA$ may not even make sense. Even if $m=p$ above (and therefore $BA$ exists), $AB \\neq BA$ in general.  \n",
    "\n",
    "However, suppose $B = I_{n \\times n}$, the appropriately-sized identity matrix. Then, we note that $A I_{n \\times n} = A$ and $I_{m \\times m} A = A$. In other words, the identity matrix is the multiplicative identity, hence its name.\n",
    "\n",
    "### Inner product of vectors\n",
    "If $u$ and $v$ are $n \\times 1$ column vectors, their product $u^Tv$ is a $1\\times 1$ matrix, namely, a scalar.  This product is known as the *inner product* or *dot product* of the two vectors:\n",
    "$$ \\langle u,v \\rangle = u \\cdot v = u^Tv = u_1v_1 + u_2v_2 + \\cdots + u_nv_n.  $$\n",
    "We see that the inner product of a vector with itself is given by \n",
    "$$ u^T u = u_1^2 + u_2^2 + \\cdots + u_n^2. $$"
   ]
  },
  {
   "attachments": {},
   "cell_type": "markdown",
   "id": "d78f148b-f066-4160-b9e3-d5193f95a0e6",
   "metadata": {
    "execution": {
     "iopub.execute_input": "2023-07-25T21:06:19.907867Z",
     "iopub.status.busy": "2023-07-25T21:06:19.906820Z",
     "iopub.status.idle": "2023-07-25T21:06:20.041801Z",
     "shell.execute_reply": "2023-07-25T21:06:20.041133Z",
     "shell.execute_reply.started": "2023-07-25T21:06:19.907818Z"
    }
   },
   "source": [
    "## <a name=\"s4\" style=\"color:blue\">More Complicated Operations</a>\n",
    "### Norm of a vector\n",
    "The *norm of a vector* $u$ is a measure of its size or magnitude.  It is a non-negative scalar quantity $|u|$ such that:\n",
    "- $\\|u\\| >0 \\mbox{ when }  u \\ne 0$ and $|u\\|=0 \\mbox{ if and only if } u = 0$ \n",
    "- $\\|ku\\| = |k| \\|u\\| \\mbox{ for any scalar } k$; and \n",
    "- $ \\|u+v\\| \\le \\|u\\| + \\|v\\|$.\n",
    "\n",
    "A commonly used vector norm, known as the $L_2$ norm, is the square root of its inner product with itself:\n",
    "$$ \\|u\\| = \\|u\\|_2 = (u^T u)^{1/2} = \\sqrt{u_1^2 + u_2^2 + \\cdots + u_n^2}.$$\n",
    "\n",
    "### Determinant\n",
    "The determinant of a *square* matrix $A$ is given by \n",
    "$$ \\mbox{det}(A) = \\sum_{j=1}^n a_{ij}\\gamma_{ij}, \\mbox{ for any } i = 1,\\cdots, n, $$ \n",
    "where $\\gamma_{ij} = (-1)^{i+j}\\mbox{det}(M_{ij})$ is called a \\textit{cofactor} and $M_{ij}$ is called a \\textit{minor}. A minor $M_{ij}$  is matrix $A$ with  its $i$th row and $j$th column removed. \n",
    "%\n",
    "The *adjugate} of a matrix, adj$(A)$ is the transpose of the matrix of its cofactors. In other words, $\\mathrm{adj}(A) = [\\gamma_{ij}]^T$.  \n",
    "- The determinant of a $2 \\times 2$ matrix is given by $a_{11}a_{22} - a_{21}a_{12}$. \n",
    "- The determinant of a $3 \\times 3$ matrix is given by\\\\\n",
    " $a_{11}a_{22}a_{33}-a_{11}a_{23}a_{32}-a_{12}a_{21}a_{33}+a_{12}a_{23}a_{31}+a_{13}a_{21}a_{32}-a_{13}a_{22}a_{31}$.\n",
    "\n",
    "### Inverse\n",
    "The inverse of a square matrix A, denoted $A^{-1}$, is one that satisfies the property \n",
    "$$ A^{-1}A = AA^{-1} = I.$$\n",
    "It can also be shown that $$ A^{-1} = \\frac{\\mathrm{adj}(A)}{\\mathrm{det}(A)}$$ \n",
    "where *adj* refers to the <a href=\"https://en.wikipedia.org/wiki/Adjugate_matrix\">\n",
    "adjoint</a> of a matrix.\n",
    "\n",
    "The above implies that a matrix has an inverse if  its determinant is non-zero. Such a matrix is said to be *nonsingular* or *invertible*.\n",
    "\n",
    "The inverse of a $2 \\times 2$ invertible matrix is given by\n",
    "$$ A^{-1}=\\frac{1}{a_{11}a_{22} - a_{12}a_{21}} \\left[ \\begin{array}{cc} a_{22} & -a_{12} \\\\ -a_{21} & a_{11} \\end{array}\\right]. $$\n",
    "\n",
    "## Eigenvalues and Eigenvectors\n",
    "An <a style=\"color:red\">eigenvalue</a> of a square matrix $A$ is any scalar $\\lambda$ that satisfies the equation $$Av = \\lambda v.$$ The corresponding vector $v$ is known as an <a style=\"color:red\">eigenvector</a> of the matrix. Rearranging the terms gives\n",
    "$$(\\lambda I-A)v = 0.$$\n",
    "\n",
    "Since $v \\ne 0$, we get\n",
    "$$ \\mathrm{det}(\\lambda I - A) = 0,$$\n",
    "where the lefthand side is known as the characteristic polynomial of $A$. In other words, the eigenvalues of a matrix are the roots of its characteristic polynomial. \n",
    "\n",
    "### <a style=\"color:blue\">Numerical Examples</a>"
   ]
  },
  {
   "cell_type": "code",
   "execution_count": 48,
   "id": "1a061a99-5588-45e0-a7ae-992af849139d",
   "metadata": {
    "execution": {
     "iopub.execute_input": "2023-07-31T18:38:25.465852Z",
     "iopub.status.busy": "2023-07-31T18:38:25.464642Z",
     "iopub.status.idle": "2023-07-31T18:38:25.513752Z",
     "shell.execute_reply": "2023-07-31T18:38:25.498372Z",
     "shell.execute_reply.started": "2023-07-31T18:38:25.465728Z"
    }
   },
   "outputs": [
    {
     "name": "stdout",
     "output_type": "stream",
     "text": [
      "Eigenvalues: [ 6.555 -0.760  1.205]\n",
      "Eigenvectors:\n",
      " [[-0.439 -0.895  0.679]\n",
      " [-0.867  0.167 -0.589]\n",
      " [-0.235  0.414  0.439]]\n",
      "\n",
      "Is zero? -6.710e-15, 5.450e-15, -3.182e-15\n"
     ]
    }
   ],
   "source": [
    "A = np.array([[1,2,3],[2,5,2],[1,1,1]])\n",
    "eigval,eigvec = np.linalg.eig(A)\n",
    "np.set_printoptions(formatter={'float': '{: 0.3f}'.format})\n",
    "print(\"Eigenvalues:\",eigval)\n",
    "print(\"Eigenvectors:\\n\",eigvec)\n",
    "\n",
    "detA = []\n",
    "for ii in range(3):\n",
    "    detA.append(np.linalg.det(A-eigval[ii]*np.diag([1,1,1])))\n",
    "print(\"\\nIs zero? \"+', '.join('{:0.3e}'.format(i) for i in detA))"
   ]
  },
  {
   "cell_type": "markdown",
   "id": "bd26c528-0001-4260-bce2-5a61bbc8988f",
   "metadata": {
    "execution": {
     "iopub.execute_input": "2023-07-25T21:06:19.907867Z",
     "iopub.status.busy": "2023-07-25T21:06:19.906820Z",
     "iopub.status.idle": "2023-07-25T21:06:20.041801Z",
     "shell.execute_reply": "2023-07-25T21:06:20.041133Z",
     "shell.execute_reply.started": "2023-07-25T21:06:19.907818Z"
    }
   },
   "source": [
    "## Solving systems of linear equations\n",
    "Simultaneous linear equations can be represented in terms of a matrix equation. For example, \n",
    "\\begin{equation}\n",
    "\\begin{array}{ccccccc} x &+& 2y &+& 3z &=& 1 \\\\  2x &+& 5y &+& 2z &=& 2 \\\\ x &+& y &+& z &=& 3 \\end{array}  \n",
    "\\end{equation}\n",
    "\n",
    "\\begin{equation}\n",
    "\\Longrightarrow \\left[\\begin{array}{ccc} 1 & 2 & 3 \\\\  2 & 5 & 2 \\\\ 1 & 1 &1 \\end{array}\\right]  \\left[\\begin{array}{c} x \\\\ y \\\\ z  \\end{array}\\right] =  \\left[\\begin{array}{c} 1 \\\\ 2 \\\\ 3  \\end{array}\\right].\n",
    "\\end{equation}\n",
    "Given the linear system of equations that is written in the form $Ax = b$, the solution can be written as \n",
    "$$ x = A^{-1} b, $$\n",
    "as long as $A$ is invertible. (*If $A$ is not invertible, the set of equations is either inconsistent or redundant.*) \n",
    "\n",
    "$$\\left[\\begin{array}{c} x \\\\ y \\\\ z  \\end{array}\\right] =  \\left[\\begin{array}{ccc} 1 & 2 & 3 \\\\  2 & 5 & 2 \\\\ 1 & 1 &1 \\end{array}\\right]^{-1}\\left[\\begin{array}{c} 1 \\\\ 2 \\\\ 3  \\end{array}\\right]  =  \\left[\\begin{array}{r} \\frac{14}{3} \\\\ -\\frac{4}{3} \\\\ -\\frac{1}{3}  \\end{array}\\right].  $$\n",
    "\n",
    "Systems of simultaneous equations can also be solved using the <a href=\"https://en.wikipedia.org/wiki/Gaussian_elimination\"> Gaussian elimination of variables</a> or \n",
    "<a href=\"https://en.wikipedia.org/wiki/Cramer%27s_rule\"> Cramer's rule.</a>\n",
    "\n",
    "### <a style=\"color:blue\">Numerical Examples</a>"
   ]
  },
  {
   "cell_type": "code",
   "execution_count": 47,
   "id": "97a016a3-49a9-44e3-8dca-87a665609244",
   "metadata": {
    "execution": {
     "iopub.execute_input": "2023-07-27T22:44:40.761075Z",
     "iopub.status.busy": "2023-07-27T22:44:40.759625Z",
     "iopub.status.idle": "2023-07-27T22:44:40.777710Z",
     "shell.execute_reply": "2023-07-27T22:44:40.776648Z",
     "shell.execute_reply.started": "2023-07-27T22:44:40.760996Z"
    }
   },
   "outputs": [
    {
     "name": "stdout",
     "output_type": "stream",
     "text": [
      "[ 14.000 -4.000 -1.000]\n"
     ]
    }
   ],
   "source": [
    "A = np.array([[1,2,3],[2,5,2],[1,1,1]])\n",
    "b = np.array([1,2,3])\n",
    "sol = np.linalg.inv(A)@b\n",
    "print(sol*3)"
   ]
  }
 ],
 "metadata": {
  "kernelspec": {
   "display_name": "myenv",
   "language": "python",
   "name": "myenv"
  },
  "language_info": {
   "codemirror_mode": {
    "name": "ipython",
    "version": 3
   },
   "file_extension": ".py",
   "mimetype": "text/x-python",
   "name": "python",
   "nbconvert_exporter": "python",
   "pygments_lexer": "ipython3",
   "version": "3.9.9"
  }
 },
 "nbformat": 4,
 "nbformat_minor": 5
}

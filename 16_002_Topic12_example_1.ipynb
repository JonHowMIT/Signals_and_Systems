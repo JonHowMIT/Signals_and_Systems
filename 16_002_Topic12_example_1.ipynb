{
 "cells": [
  {
   "cell_type": "markdown",
   "metadata": {},
   "source": [
    "# Partial Fraction Expansion"
   ]
  },
  {
   "cell_type": "code",
   "execution_count": 26,
   "metadata": {
    "colab": {
     "base_uri": "https://localhost:8080/"
    },
    "id": "vSf5nWVJAWln",
    "outputId": "6c74b189-c850-43df-9bf3-6d296f6cfb7e"
   },
   "outputs": [
    {
     "name": "stdout",
     "output_type": "stream",
     "text": [
      "Running Python: 3.9.9\n",
      "Running Sympy: 1.10.1\n",
      "Basic file found\n",
      "1.10.1\n"
     ]
    }
   ],
   "source": [
    "import requests as req\n",
    "try:\n",
    "    %run basic_material.py\n",
    "    print('Basic file found')\n",
    "except:    \n",
    "    print('Basic not file found - downloading it')\n",
    "    url = \"https://raw.githubusercontent.com/JonHowMIT/Signals_and_Systems/main/basic_material.py\"\n",
    "    res = req.get(url)\n",
    "    file = open('basic_material.py', 'w')\n",
    "    file.write(res.text)\n",
    "    file.close()\n",
    "\n",
    "from sympy import *\n",
    "from sympy import Abs\n",
    "from sympy.integrals.transforms import laplace_transform\n",
    "from sympy.integrals.transforms import inverse_laplace_transform\n",
    "import sympy as sympy\n",
    "from sympy.abc import a, t, x, s, X, g, G\n",
    "print(sympy.__version__)\n",
    "init_printing(use_unicode=True)\n",
    "S, G, X = symbols('s G X', cls = Function)"
   ]
  },
  {
   "cell_type": "markdown",
   "metadata": {},
   "source": [
    "## Example 0"
   ]
  },
  {
   "cell_type": "code",
   "execution_count": 27,
   "metadata": {},
   "outputs": [
    {
     "data": {
      "image/png": "[encoded data removed]",
      "text/latex": [
       "$\\displaystyle \\frac{5 s + 12}{s^{2} + 5 s + 6}$"
      ],
      "text/plain": [
       "  5⋅s + 12  \n",
       "────────────\n",
       " 2          \n",
       "s  + 5⋅s + 6"
      ]
     },
     "execution_count": 27,
     "metadata": {},
     "output_type": "execute_result"
    }
   ],
   "source": [
    "G0 = (5*s + 12)/(s**2 + 5*s + 6)\n",
    "G0"
   ]
  },
  {
   "cell_type": "code",
   "execution_count": 28,
   "metadata": {},
   "outputs": [
    {
     "data": {
      "image/png": "[encoded data removed]",
      "text/latex": [
       "$\\displaystyle \\frac{3}{s + 3} + \\frac{2}{s + 2}$"
      ],
      "text/plain": [
       "  3       2  \n",
       "───── + ─────\n",
       "s + 3   s + 2"
      ]
     },
     "execution_count": 28,
     "metadata": {},
     "output_type": "execute_result"
    }
   ],
   "source": [
    "G0.apart()"
   ]
  },
  {
   "cell_type": "markdown",
   "metadata": {},
   "source": [
    "## Example 1"
   ]
  },
  {
   "cell_type": "code",
   "execution_count": 29,
   "metadata": {},
   "outputs": [
    {
     "data": {
      "image/png": "[encoded data removed]",
      "text/latex": [
       "$\\displaystyle \\frac{1}{s^{2} + 2 s + 5}$"
      ],
      "text/plain": [
       "     1      \n",
       "────────────\n",
       " 2          \n",
       "s  + 2⋅s + 5"
      ]
     },
     "execution_count": 29,
     "metadata": {},
     "output_type": "execute_result"
    }
   ],
   "source": [
    "G1 = 1/(s**2 + 2*s + 5)\n",
    "G1"
   ]
  },
  {
   "cell_type": "code",
   "execution_count": 30,
   "metadata": {},
   "outputs": [
    {
     "data": {
      "image/png": "[encoded data removed]",
      "text/latex": [
       "$\\displaystyle \\frac{e^{- t} \\sin{\\left(2 t \\right)} \\theta\\left(t\\right)}{2}$"
      ],
      "text/plain": [
       " -t              \n",
       "ℯ  ⋅sin(2⋅t)⋅θ(t)\n",
       "─────────────────\n",
       "        2        "
      ]
     },
     "execution_count": 30,
     "metadata": {},
     "output_type": "execute_result"
    }
   ],
   "source": [
    "y1 = inverse_laplace_transform(G1,s,t)\n",
    "y1"
   ]
  },
  {
   "cell_type": "markdown",
   "metadata": {},
   "source": [
    "## Example 2"
   ]
  },
  {
   "cell_type": "code",
   "execution_count": 31,
   "metadata": {},
   "outputs": [
    {
     "data": {
      "image/png": "[encoded data removed]",
      "text/latex": [
       "$\\displaystyle \\frac{2 s^{2} + 6 s + 5}{s^{2} + 3 s + 2}$"
      ],
      "text/plain": [
       "   2          \n",
       "2⋅s  + 6⋅s + 5\n",
       "──────────────\n",
       "  2           \n",
       " s  + 3⋅s + 2 "
      ]
     },
     "execution_count": 31,
     "metadata": {},
     "output_type": "execute_result"
    }
   ],
   "source": [
    "G2 = (2*s**2 + 6*s + 5)/(s**2 + 3*s + 2)\n",
    "G2"
   ]
  },
  {
   "cell_type": "code",
   "execution_count": 32,
   "metadata": {
    "scrolled": true
   },
   "outputs": [
    {
     "data": {
      "image/png": "[encoded data removed]",
      "text/latex": [
       "$\\displaystyle 2 - \\frac{1}{s + 2} + \\frac{1}{s + 1}$"
      ],
      "text/plain": [
       "      1       1  \n",
       "2 - ───── + ─────\n",
       "    s + 2   s + 1"
      ]
     },
     "execution_count": 32,
     "metadata": {},
     "output_type": "execute_result"
    }
   ],
   "source": [
    "G2.apart()"
   ]
  },
  {
   "cell_type": "code",
   "execution_count": 33,
   "metadata": {},
   "outputs": [
    {
     "data": {
      "image/png": "[encoded data removed]",
      "text/latex": [
       "$\\displaystyle 2 \\delta\\left(t\\right) + e^{- t} \\theta\\left(t\\right) - e^{- 2 t} \\theta\\left(t\\right)$"
      ],
      "text/plain": [
       "          -t         -2⋅t     \n",
       "2⋅δ(t) + ℯ  ⋅θ(t) - ℯ    ⋅θ(t)"
      ]
     },
     "execution_count": 33,
     "metadata": {},
     "output_type": "execute_result"
    }
   ],
   "source": [
    "y2 = inverse_laplace_transform(G2.apart(),s,t)\n",
    "y2"
   ]
  },
  {
   "cell_type": "markdown",
   "metadata": {},
   "source": [
    "## Example 3"
   ]
  },
  {
   "cell_type": "code",
   "execution_count": 34,
   "metadata": {},
   "outputs": [
    {
     "data": {
      "image/png": "[encoded data removed]",
      "text/latex": [
       "$\\displaystyle \\frac{2 s^{2} + 5 s + 5}{s + 1}$"
      ],
      "text/plain": [
       "   2          \n",
       "2⋅s  + 5⋅s + 5\n",
       "──────────────\n",
       "    s + 1     "
      ]
     },
     "execution_count": 34,
     "metadata": {},
     "output_type": "execute_result"
    }
   ],
   "source": [
    "G3 = (2*s**2 + 5*s + 5)/(s + 1)\n",
    "G3"
   ]
  },
  {
   "cell_type": "code",
   "execution_count": 35,
   "metadata": {
    "scrolled": true
   },
   "outputs": [
    {
     "data": {
      "image/png": "[encoded data removed]",
      "text/latex": [
       "$\\displaystyle 2 s + 3 + \\frac{2}{s + 1}$"
      ],
      "text/plain": [
       "            2  \n",
       "2⋅s + 3 + ─────\n",
       "          s + 1"
      ]
     },
     "execution_count": 35,
     "metadata": {},
     "output_type": "execute_result"
    }
   ],
   "source": [
    "G3.apart()"
   ]
  },
  {
   "cell_type": "code",
   "execution_count": 36,
   "metadata": {},
   "outputs": [
    {
     "data": {
      "image/png": "[encoded data removed]",
      "text/latex": [
       "$\\displaystyle 2 \\mathcal{L}^{-1}_{s}\\left[s\\right]\\left(t\\right) + 3 \\delta\\left(t\\right) + 2 e^{- t} \\theta\\left(t\\right)$"
      ],
      "text/plain": [
       "                                                       -t     \n",
       "2⋅InverseLaplaceTransform(s, s, t, None) + 3⋅δ(t) + 2⋅ℯ  ⋅θ(t)"
      ]
     },
     "execution_count": 36,
     "metadata": {},
     "output_type": "execute_result"
    }
   ],
   "source": [
    "y3 = inverse_laplace_transform(G3.apart(),s,t)\n",
    "y3"
   ]
  },
  {
   "cell_type": "markdown",
   "metadata": {},
   "source": [
    "## Example 4"
   ]
  },
  {
   "cell_type": "code",
   "execution_count": 37,
   "metadata": {},
   "outputs": [
    {
     "data": {
      "image/png": "[encoded data removed]",
      "text/latex": [
       "$\\displaystyle \\frac{5 s + 12}{\\left(s + 2\\right)^{2} \\left(s + 3\\right)}$"
      ],
      "text/plain": [
       "    5⋅s + 12    \n",
       "────────────────\n",
       "       2        \n",
       "(s + 2) ⋅(s + 3)"
      ]
     },
     "execution_count": 37,
     "metadata": {},
     "output_type": "execute_result"
    }
   ],
   "source": [
    "G4 = (5*s + 12)/(s + 2)**2/(s+3)\n",
    "G4"
   ]
  },
  {
   "cell_type": "code",
   "execution_count": 38,
   "metadata": {
    "scrolled": true
   },
   "outputs": [
    {
     "data": {
      "image/png": "[encoded data removed]",
      "text/latex": [
       "$\\displaystyle - \\frac{3}{s + 3} + \\frac{3}{s + 2} + \\frac{2}{\\left(s + 2\\right)^{2}}$"
      ],
      "text/plain": [
       "    3       3        2    \n",
       "- ───── + ───── + ────────\n",
       "  s + 3   s + 2          2\n",
       "                  (s + 2) "
      ]
     },
     "execution_count": 38,
     "metadata": {},
     "output_type": "execute_result"
    }
   ],
   "source": [
    "G4.apart()"
   ]
  },
  {
   "cell_type": "code",
   "execution_count": 39,
   "metadata": {},
   "outputs": [
    {
     "data": {
      "image/png": "[encoded data removed]",
      "text/latex": [
       "$\\displaystyle \\left(2 t e^{t} + 3 e^{t} - 3\\right) e^{- 3 t} \\theta\\left(t\\right)$"
      ],
      "text/plain": [
       "⎛     t      t    ⎞  -3⋅t     \n",
       "⎝2⋅t⋅ℯ  + 3⋅ℯ  - 3⎠⋅ℯ    ⋅θ(t)"
      ]
     },
     "execution_count": 39,
     "metadata": {},
     "output_type": "execute_result"
    }
   ],
   "source": [
    "y4 = inverse_laplace_transform(G4.apart(),s,t)\n",
    "y4.factor()"
   ]
  },
  {
   "cell_type": "markdown",
   "metadata": {},
   "source": [
    "## Example 5"
   ]
  },
  {
   "cell_type": "code",
   "execution_count": 40,
   "metadata": {},
   "outputs": [
    {
     "data": {
      "image/png": "[encoded data removed]",
      "text/latex": [
       "$\\displaystyle \\frac{40 s + 96}{\\left(s + 3\\right) \\left(s^{2} + 2 s + 5\\right)}$"
      ],
      "text/plain": [
       "      40⋅s + 96       \n",
       "──────────────────────\n",
       "        ⎛ 2          ⎞\n",
       "(s + 3)⋅⎝s  + 2⋅s + 5⎠"
      ]
     },
     "execution_count": 40,
     "metadata": {},
     "output_type": "execute_result"
    }
   ],
   "source": [
    "G5 = 8*(5*s + 12)/(s**2 + 2*s + 5)/(s+3)\n",
    "G5"
   ]
  },
  {
   "cell_type": "code",
   "execution_count": 41,
   "metadata": {
    "scrolled": true
   },
   "outputs": [
    {
     "data": {
      "image/png": "[encoded data removed]",
      "text/latex": [
       "$\\displaystyle \\frac{3 s + 37}{s^{2} + 2 s + 5} - \\frac{3}{s + 3}$"
      ],
      "text/plain": [
       "  3⋅s + 37       3  \n",
       "──────────── - ─────\n",
       " 2             s + 3\n",
       "s  + 2⋅s + 5        "
      ]
     },
     "execution_count": 41,
     "metadata": {},
     "output_type": "execute_result"
    }
   ],
   "source": [
    "G5.apart()"
   ]
  },
  {
   "cell_type": "markdown",
   "metadata": {},
   "source": [
    "Note that $ s^2 + 2s + 5 = (s+1)^2 + 4$ so\n",
    "\n",
    "$$\n",
    "\\frac{3s+37}{s^2 + 2s + 5} = \\frac{3(s+1)}{(s+1)^2 + 4} + \\frac{17\\times 2}{(s+1)^2 + 4}\n",
    "$$"
   ]
  },
  {
   "cell_type": "code",
   "execution_count": 42,
   "metadata": {},
   "outputs": [
    {
     "data": {
      "image/png": "[encoded data removed]",
      "text/latex": [
       "$\\displaystyle \\left[ e^{- t} \\sin{\\left(2 t \\right)}, \\  e^{- t} \\cos{\\left(2 t \\right)}\\right]$"
      ],
      "text/plain": [
       "⎡ -t            -t         ⎤\n",
       "⎣ℯ  ⋅sin(2⋅t), ℯ  ⋅cos(2⋅t)⎦"
      ]
     },
     "execution_count": 42,
     "metadata": {},
     "output_type": "execute_result"
    }
   ],
   "source": [
    "# recall th Laplace transforms\n",
    "def L(f):\n",
    "    return sympy.laplace_transform(f, t, s, noconds=True)\n",
    "\n",
    "omega = sympy.Symbol('omega', real=True)\n",
    "exp = sympy.exp\n",
    "sin = sympy.sin\n",
    "cos = sympy.cos\n",
    "functions = [exp(-1*t)*sin(2*t),\n",
    "         exp(-1*t)*cos(2*t),\n",
    "         ]\n",
    "functions"
   ]
  },
  {
   "cell_type": "code",
   "execution_count": 43,
   "metadata": {},
   "outputs": [
    {
     "data": {
      "image/png": "[encoded data removed]",
      "text/latex": [
       "$\\displaystyle \\left[ \\frac{2}{\\left(s + 1\\right)^{2} + 4}, \\  \\frac{s + 1}{\\left(s + 1\\right)^{2} + 4}\\right]$"
      ],
      "text/plain": [
       "⎡     2           s + 1    ⎤\n",
       "⎢────────────, ────────────⎥\n",
       "⎢       2             2    ⎥\n",
       "⎣(s + 1)  + 4  (s + 1)  + 4⎦"
      ]
     },
     "execution_count": 43,
     "metadata": {},
     "output_type": "execute_result"
    }
   ],
   "source": [
    "Fs = [L(f) for f in functions]\n",
    "Fs"
   ]
  },
  {
   "cell_type": "code",
   "execution_count": 44,
   "metadata": {},
   "outputs": [
    {
     "data": {
      "image/png": "[encoded data removed]",
      "text/latex": [
       "$\\displaystyle \\left(\\left(17 \\sin{\\left(2 t \\right)} + 3 \\cos{\\left(2 t \\right)}\\right) e^{2 t} - 3\\right) e^{- 3 t} \\theta\\left(t\\right)$"
      ],
      "text/plain": [
       "⎛                            2⋅t    ⎞  -3⋅t     \n",
       "⎝(17⋅sin(2⋅t) + 3⋅cos(2⋅t))⋅ℯ    - 3⎠⋅ℯ    ⋅θ(t)"
      ]
     },
     "execution_count": 44,
     "metadata": {},
     "output_type": "execute_result"
    }
   ],
   "source": [
    "y5 = inverse_laplace_transform(G5.apart(),s,t)\n",
    "y5.simplify()"
   ]
  },
  {
   "cell_type": "markdown",
   "metadata": {},
   "source": [
    "## Example 6"
   ]
  },
  {
   "cell_type": "code",
   "execution_count": 45,
   "metadata": {},
   "outputs": [
    {
     "data": {
      "image/png": "[encoded data removed]",
      "text/latex": [
       "$\\displaystyle \\frac{1}{\\left(s + 2\\right) \\left(s + 3\\right)^{4}}$"
      ],
      "text/plain": [
       "       1        \n",
       "────────────────\n",
       "               4\n",
       "(s + 2)⋅(s + 3) "
      ]
     },
     "execution_count": 45,
     "metadata": {},
     "output_type": "execute_result"
    }
   ],
   "source": [
    "G6 = 1/(s+3)**4/(s+2)\n",
    "G6"
   ]
  },
  {
   "cell_type": "code",
   "execution_count": 46,
   "metadata": {
    "scrolled": true
   },
   "outputs": [
    {
     "data": {
      "image/png": "[encoded data removed]",
      "text/latex": [
       "$\\displaystyle - \\frac{1}{s + 3} - \\frac{1}{\\left(s + 3\\right)^{2}} - \\frac{1}{\\left(s + 3\\right)^{3}} - \\frac{1}{\\left(s + 3\\right)^{4}} + \\frac{1}{s + 2}$"
      ],
      "text/plain": [
       "    1        1          1          1         1  \n",
       "- ───── - ──────── - ──────── - ──────── + ─────\n",
       "  s + 3          2          3          4   s + 2\n",
       "          (s + 3)    (s + 3)    (s + 3)         "
      ]
     },
     "execution_count": 46,
     "metadata": {},
     "output_type": "execute_result"
    }
   ],
   "source": [
    "G6.apart()"
   ]
  },
  {
   "cell_type": "code",
   "execution_count": 47,
   "metadata": {},
   "outputs": [
    {
     "data": {
      "image/png": "[encoded data removed]",
      "text/latex": [
       "$\\displaystyle \\frac{\\left(- t^{3} - 3 t^{2} - 6 t + 6 e^{t} - 6\\right) e^{- 3 t} \\theta\\left(t\\right)}{6}$"
      ],
      "text/plain": [
       "⎛   3      2            t    ⎞  -3⋅t     \n",
       "⎝- t  - 3⋅t  - 6⋅t + 6⋅ℯ  - 6⎠⋅ℯ    ⋅θ(t)\n",
       "─────────────────────────────────────────\n",
       "                    6                    "
      ]
     },
     "execution_count": 47,
     "metadata": {},
     "output_type": "execute_result"
    }
   ],
   "source": [
    "y6 = inverse_laplace_transform(G6.apart(),s,t)\n",
    "y6"
   ]
  },
  {
   "cell_type": "markdown",
   "metadata": {},
   "source": [
    "## Example 7"
   ]
  },
  {
   "cell_type": "code",
   "execution_count": 48,
   "metadata": {},
   "outputs": [
    {
     "data": {
      "image/png": "[encoded data removed]",
      "text/latex": [
       "$\\displaystyle \\frac{s^{3} + 3 s^{2} + 9 s + 12}{\\left(s^{2} + 4\\right) \\left(s^{2} + 9\\right)}$"
      ],
      "text/plain": [
       " 3      2           \n",
       "s  + 3⋅s  + 9⋅s + 12\n",
       "────────────────────\n",
       " ⎛ 2    ⎞ ⎛ 2    ⎞  \n",
       " ⎝s  + 4⎠⋅⎝s  + 9⎠  "
      ]
     },
     "execution_count": 48,
     "metadata": {},
     "output_type": "execute_result"
    }
   ],
   "source": [
    "G7 = (s**3+3*s**2+9*s+12)/(s**2+4)/(s**2+9)\n",
    "G7"
   ]
  },
  {
   "cell_type": "code",
   "execution_count": 49,
   "metadata": {
    "scrolled": true
   },
   "outputs": [
    {
     "data": {
      "image/png": "[encoded data removed]",
      "text/latex": [
       "$\\displaystyle \\frac{s}{s^{2} + 4} + \\frac{3}{s^{2} + 9}$"
      ],
      "text/plain": [
       "  s        3   \n",
       "────── + ──────\n",
       " 2        2    \n",
       "s  + 4   s  + 9"
      ]
     },
     "execution_count": 49,
     "metadata": {},
     "output_type": "execute_result"
    }
   ],
   "source": [
    "G7.apart()"
   ]
  },
  {
   "cell_type": "code",
   "execution_count": 50,
   "metadata": {},
   "outputs": [
    {
     "data": {
      "image/png": "[encoded data removed]",
      "text/latex": [
       "$\\displaystyle \\left(\\sin{\\left(3 t \\right)} + \\cos{\\left(2 t \\right)}\\right) \\theta\\left(t\\right)$"
      ],
      "text/plain": [
       "(sin(3⋅t) + cos(2⋅t))⋅θ(t)"
      ]
     },
     "execution_count": 50,
     "metadata": {},
     "output_type": "execute_result"
    }
   ],
   "source": [
    "y7 = inverse_laplace_transform(G7.apart(),s,t)\n",
    "y7"
   ]
  },
  {
   "cell_type": "markdown",
   "metadata": {},
   "source": [
    "## Example 8"
   ]
  },
  {
   "cell_type": "code",
   "execution_count": 53,
   "metadata": {},
   "outputs": [
    {
     "data": {
      "image/png": "[encoded data removed]",
      "text/latex": [
       "$\\displaystyle \\frac{36 s + 36}{\\left(s^{2} + 4\\right) \\left(s^{2} + 9\\right)}$"
      ],
      "text/plain": [
       "    36⋅s + 36    \n",
       "─────────────────\n",
       "⎛ 2    ⎞ ⎛ 2    ⎞\n",
       "⎝s  + 4⎠⋅⎝s  + 9⎠"
      ]
     },
     "execution_count": 53,
     "metadata": {},
     "output_type": "execute_result"
    }
   ],
   "source": [
    "G8 = 36*(s+1)/(s**2+4)/(s**2+9)\n",
    "G8"
   ]
  },
  {
   "cell_type": "code",
   "execution_count": 54,
   "metadata": {
    "scrolled": true
   },
   "outputs": [
    {
     "data": {
      "image/png": "[encoded data removed]",
      "text/latex": [
       "$\\displaystyle - \\frac{36 \\left(s + 1\\right)}{5 \\left(s^{2} + 9\\right)} + \\frac{36 \\left(s + 1\\right)}{5 \\left(s^{2} + 4\\right)}$"
      ],
      "text/plain": [
       "  36⋅(s + 1)   36⋅(s + 1)\n",
       "- ────────── + ──────────\n",
       "    ⎛ 2    ⎞     ⎛ 2    ⎞\n",
       "  5⋅⎝s  + 9⎠   5⋅⎝s  + 4⎠"
      ]
     },
     "execution_count": 54,
     "metadata": {},
     "output_type": "execute_result"
    }
   ],
   "source": [
    "G8.apart()"
   ]
  },
  {
   "cell_type": "code",
   "execution_count": 55,
   "metadata": {},
   "outputs": [
    {
     "data": {
      "image/png": "[encoded data removed]",
      "text/latex": [
       "$\\displaystyle \\frac{6 \\cdot \\left(3 \\sin{\\left(2 t \\right)} - 2 \\sin{\\left(3 t \\right)} + 6 \\cos{\\left(2 t \\right)} - 6 \\cos{\\left(3 t \\right)}\\right) \\theta\\left(t\\right)}{5}$"
      ],
      "text/plain": [
       "6⋅(3⋅sin(2⋅t) - 2⋅sin(3⋅t) + 6⋅cos(2⋅t) - 6⋅cos(3⋅t))⋅θ(t)\n",
       "──────────────────────────────────────────────────────────\n",
       "                            5                             "
      ]
     },
     "execution_count": 55,
     "metadata": {},
     "output_type": "execute_result"
    }
   ],
   "source": [
    "y8 = inverse_laplace_transform(G8.apart(),s,t)\n",
    "y8"
   ]
  }
 ],
 "metadata": {
  "colab": {
   "name": "Network_examples.ipynb",
   "provenance": []
  },
  "kernelspec": {
   "display_name": "Python 3 (ipykernel)",
   "language": "python",
   "name": "python3"
  },
  "language_info": {
   "codemirror_mode": {
    "name": "ipython",
    "version": 3
   },
   "file_extension": ".py",
   "mimetype": "text/x-python",
   "name": "python",
   "nbconvert_exporter": "python",
   "pygments_lexer": "ipython3",
   "version": "3.9.9"
  },
  "latex_envs": {
   "LaTeX_envs_menu_present": true,
   "autoclose": false,
   "autocomplete": true,
   "bibliofile": "biblio.bib",
   "cite_by": "apalike",
   "current_citInitial": 1,
   "eqLabelWithNumbers": true,
   "eqNumInitial": 1,
   "hotkeys": {
    "equation": "Ctrl-E",
    "itemize": "Ctrl-I"
   },
   "labels_anchors": false,
   "latex_user_defs": false,
   "report_style_numbering": false,
   "user_envs_cfg": false
  }
 },
 "nbformat": 4,
 "nbformat_minor": 4
}

{
 "cells": [
  {
   "cell_type": "markdown",
   "metadata": {
    "execution": {
     "iopub.execute_input": "2023-10-21T22:55:02.463333Z",
     "iopub.status.busy": "2023-10-21T22:55:02.462797Z",
     "iopub.status.idle": "2023-10-21T22:55:02.469137Z",
     "shell.execute_reply": "2023-10-21T22:55:02.467949Z",
     "shell.execute_reply.started": "2023-10-21T22:55:02.463296Z"
    }
   },
   "source": [
    "# Topic 13 Examples"
   ]
  },
  {
   "cell_type": "code",
   "execution_count": 3,
   "metadata": {
    "execution": {
     "iopub.execute_input": "2023-11-10T02:52:37.271617Z",
     "iopub.status.busy": "2023-11-10T02:52:37.271475Z",
     "iopub.status.idle": "2023-11-10T02:52:37.282567Z",
     "shell.execute_reply": "2023-11-10T02:52:37.282202Z",
     "shell.execute_reply.started": "2023-11-10T02:52:37.271604Z"
    }
   },
   "outputs": [
    {
     "name": "stdout",
     "output_type": "stream",
     "text": [
      "Sympy version 1.13.2\n"
     ]
    }
   ],
   "source": [
    "from os.path import exists\n",
    "file_exists = exists('basic_material.py')\n",
    "\n",
    "if (not file_exists):\n",
    "    !wget -O basic_material.py https://raw.githubusercontent.com/JonHowMIT/Signals_and_Systems/main/basic_material.py\n",
    "from sympy import init_printing\n",
    "import sympy\n",
    "\n",
    "init_printing(use_unicode=True)\n",
    "print(\"Sympy version \" + sympy.__version__)\n",
    "\n",
    "a, x, g, X, G, tau = symbols('a x g X G tau', cls = Function)\n",
    "tau = Symbol('tau', negative=True) "
   ]
  },
  {
   "cell_type": "markdown",
   "metadata": {},
   "source": [
    "## Define anticausal transforms"
   ]
  },
  {
   "cell_type": "code",
   "execution_count": 4,
   "metadata": {
    "execution": {
     "iopub.execute_input": "2023-11-10T02:54:13.843961Z",
     "iopub.status.busy": "2023-11-10T02:54:13.842658Z",
     "iopub.status.idle": "2023-11-10T02:54:13.868477Z",
     "shell.execute_reply": "2023-11-10T02:54:13.867875Z",
     "shell.execute_reply.started": "2023-11-10T02:54:13.843885Z"
    },
    "tags": []
   },
   "outputs": [],
   "source": [
    "def laplace_transform_ac(g_lt_ac,t,s, NC = True):\n",
    "    return laplace_transform(g_lt_ac.subs(tau,-t), t, -s, noconds = NC)\n",
    "\n",
    "def inverse_laplace_transform_ac(G_ilt_ac,s,t):\n",
    "    return (inverse_laplace_transform(G_ilt_ac.subs(s,-s),s,t).subs(t,-tau))*Heaviside(-tau,1)"
   ]
  },
  {
   "cell_type": "code",
   "execution_count": 5,
   "metadata": {
    "execution": {
     "iopub.execute_input": "2023-11-10T02:54:14.051160Z",
     "iopub.status.busy": "2023-11-10T02:54:14.050771Z",
     "iopub.status.idle": "2023-11-10T02:54:14.764262Z",
     "shell.execute_reply": "2023-11-10T02:54:14.763616Z",
     "shell.execute_reply.started": "2023-11-10T02:54:14.051133Z"
    }
   },
   "outputs": [
    {
     "data": {
      "image/png": "[encoded data removed]",
      "text/latex": [
       "$\\displaystyle \\frac{2}{s + 1}$"
      ],
      "text/plain": [
       "  2  \n",
       "─────\n",
       "s + 1"
      ]
     },
     "execution_count": 5,
     "metadata": {},
     "output_type": "execute_result"
    }
   ],
   "source": [
    "#Example 1\n",
    "g = 2*exp(-t)*Heaviside(t,0)\n",
    "G = laplace_transform(g, t, s, noconds = True) # Checking the performance -  Should get 2/s+1\n",
    "G"
   ]
  },
  {
   "cell_type": "code",
   "execution_count": 6,
   "metadata": {
    "execution": {
     "iopub.execute_input": "2023-11-10T02:54:14.766502Z",
     "iopub.status.busy": "2023-11-10T02:54:14.766330Z",
     "iopub.status.idle": "2023-11-10T02:54:15.488666Z",
     "shell.execute_reply": "2023-11-10T02:54:15.487733Z",
     "shell.execute_reply.started": "2023-11-10T02:54:14.766483Z"
    }
   },
   "outputs": [
    {
     "data": {
      "image/png": "[encoded data removed]",
      "text/latex": [
       "$\\displaystyle \\frac{1}{s - 1}$"
      ],
      "text/plain": [
       "  1  \n",
       "─────\n",
       "s - 1"
      ]
     },
     "execution_count": 6,
     "metadata": {},
     "output_type": "execute_result"
    }
   ],
   "source": [
    "#Example 2\n",
    "g = exp(t)*Heaviside(t,0)\n",
    "G = laplace_transform(g, t, s, noconds = True) # Checking the performance -  Should get 1/s-1\n",
    "G"
   ]
  },
  {
   "cell_type": "code",
   "execution_count": 7,
   "metadata": {
    "execution": {
     "iopub.execute_input": "2023-11-10T02:54:15.490168Z",
     "iopub.status.busy": "2023-11-10T02:54:15.489964Z",
     "iopub.status.idle": "2023-11-10T02:54:16.149400Z",
     "shell.execute_reply": "2023-11-10T02:54:16.148673Z",
     "shell.execute_reply.started": "2023-11-10T02:54:15.490142Z"
    }
   },
   "outputs": [
    {
     "data": {
      "image/png": "[encoded data removed]",
      "text/latex": [
       "$\\displaystyle \\frac{3}{- s - 1}$"
      ],
      "text/plain": [
       "  3   \n",
       "──────\n",
       "-s - 1"
      ]
     },
     "execution_count": 7,
     "metadata": {},
     "output_type": "execute_result"
    }
   ],
   "source": [
    "#Example 3\n",
    "g_ac = 3*sympy.exp(-tau)*Heaviside(-tau)\n",
    "G_ac = laplace_transform_ac(g_ac,t,s, True) # Checking the performance -  Should get -1/(s+1)\n",
    "G_ac"
   ]
  },
  {
   "cell_type": "code",
   "execution_count": 8,
   "metadata": {
    "execution": {
     "iopub.execute_input": "2023-11-10T02:54:16.151886Z",
     "iopub.status.busy": "2023-11-10T02:54:16.151711Z",
     "iopub.status.idle": "2023-11-10T02:54:16.792370Z",
     "shell.execute_reply": "2023-11-10T02:54:16.791808Z",
     "shell.execute_reply.started": "2023-11-10T02:54:16.151869Z"
    }
   },
   "outputs": [
    {
     "data": {
      "image/png": "[encoded data removed]",
      "text/latex": [
       "$\\displaystyle \\frac{3}{1 - s}$"
      ],
      "text/plain": [
       "  3  \n",
       "─────\n",
       "1 - s"
      ]
     },
     "execution_count": 8,
     "metadata": {},
     "output_type": "execute_result"
    }
   ],
   "source": [
    "#Example 4\n",
    "g = 3*exp(tau)*Heaviside(-tau,1)\n",
    "G = laplace_transform_ac(g, t, s, True) # Checking the performance -  Should get -3/s-1.\n",
    "G"
   ]
  },
  {
   "cell_type": "code",
   "execution_count": 9,
   "metadata": {},
   "outputs": [
    {
     "data": {
      "image/png": "[encoded data removed]",
      "text/latex": [
       "$\\displaystyle \\frac{3}{1 - s}$"
      ],
      "text/plain": [
       "  3  \n",
       "─────\n",
       "1 - s"
      ]
     },
     "execution_count": 9,
     "metadata": {},
     "output_type": "execute_result"
    }
   ],
   "source": [
    "#Example 5\n",
    "w = 3*exp(-t)*Heaviside(t,1)\n",
    "W = laplace_transform(g, t, s, True)\n",
    "G"
   ]
  },
  {
   "cell_type": "markdown",
   "metadata": {},
   "source": [
    "## Anticausal - Topic 13 - Example 7 - Consider 3 cases for the ROC"
   ]
  },
  {
   "cell_type": "code",
   "execution_count": 10,
   "metadata": {
    "execution": {
     "iopub.execute_input": "2023-11-10T02:54:16.793479Z",
     "iopub.status.busy": "2023-11-10T02:54:16.793339Z",
     "iopub.status.idle": "2023-11-10T02:54:17.410951Z",
     "shell.execute_reply": "2023-11-10T02:54:17.410411Z",
     "shell.execute_reply.started": "2023-11-10T02:54:16.793462Z"
    },
    "tags": []
   },
   "outputs": [
    {
     "data": {
      "image/png": "[encoded data removed]",
      "text/latex": [
       "$\\displaystyle \\frac{s \\left(s + 1.0\\right)}{s^{2} + s - 2.0}$"
      ],
      "text/plain": [
       "s⋅(s + 1.0) \n",
       "────────────\n",
       " 2          \n",
       "s  + s - 2.0"
      ]
     },
     "execution_count": 10,
     "metadata": {},
     "output_type": "execute_result"
    }
   ],
   "source": [
    "G1 = 2/3/(s-1) # pole at s = 1\n",
    "G2 = -2/3/(s+2) # pole at s = -2\n",
    "N(simplify(1+G1+G2),2)"
   ]
  },
  {
   "cell_type": "code",
   "execution_count": 11,
   "metadata": {
    "execution": {
     "iopub.execute_input": "2023-11-10T02:54:17.412198Z",
     "iopub.status.busy": "2023-11-10T02:54:17.411930Z",
     "iopub.status.idle": "2023-11-10T02:54:18.049027Z",
     "shell.execute_reply": "2023-11-10T02:54:18.048358Z",
     "shell.execute_reply.started": "2023-11-10T02:54:17.412178Z"
    },
    "tags": []
   },
   "outputs": [
    {
     "data": {
      "image/png": "[encoded data removed]",
      "text/latex": [
       "$\\displaystyle - 0.6667 e^{\\tau} + 0.6667 e^{- 2 \\tau}$"
      ],
      "text/plain": [
       "          τ           -2⋅τ\n",
       "- 0.6667⋅ℯ  + 0.6667⋅ℯ    "
      ]
     },
     "execution_count": 11,
     "metadata": {},
     "output_type": "execute_result"
    }
   ],
   "source": [
    "# ROC A Re[s] < -2\n",
    "g_rocA = inverse_laplace_transform_ac(G1,s,t) + inverse_laplace_transform_ac(1+G2,s,t)\n",
    "N(g_rocA,4)"
   ]
  },
  {
   "cell_type": "code",
   "execution_count": 12,
   "metadata": {
    "execution": {
     "iopub.execute_input": "2023-11-10T02:54:18.050197Z",
     "iopub.status.busy": "2023-11-10T02:54:18.050031Z",
     "iopub.status.idle": "2023-11-10T02:54:18.689469Z",
     "shell.execute_reply": "2023-11-10T02:54:18.688788Z",
     "shell.execute_reply.started": "2023-11-10T02:54:18.050176Z"
    },
    "tags": []
   },
   "outputs": [
    {
     "data": {
      "image/png": "[encoded data removed]",
      "text/latex": [
       "$\\displaystyle - 0.6667 e^{\\tau} + \\delta\\left(t\\right) - 0.6667 e^{- 2 t} \\theta\\left(t\\right)$"
      ],
      "text/plain": [
       "          τ                  -2⋅t     \n",
       "- 0.6667⋅ℯ  + δ(t) - 0.6667⋅ℯ    ⋅θ(t)"
      ]
     },
     "execution_count": 12,
     "metadata": {},
     "output_type": "execute_result"
    }
   ],
   "source": [
    "# ROC B -2 < Re[s] < 1 \n",
    "g_rocB = inverse_laplace_transform_ac(G1,s,t) + inverse_laplace_transform(1+G2,s,t)\n",
    "N(g_rocB,4)"
   ]
  },
  {
   "cell_type": "code",
   "execution_count": 13,
   "metadata": {
    "execution": {
     "iopub.execute_input": "2023-11-10T02:54:18.690698Z",
     "iopub.status.busy": "2023-11-10T02:54:18.690512Z",
     "iopub.status.idle": "2023-11-10T02:54:19.344663Z",
     "shell.execute_reply": "2023-11-10T02:54:19.344110Z",
     "shell.execute_reply.started": "2023-11-10T02:54:18.690673Z"
    },
    "tags": []
   },
   "outputs": [
    {
     "data": {
      "image/png": "[encoded data removed]",
      "text/latex": [
       "$\\displaystyle 0.6667 e^{t} \\theta\\left(t\\right) + \\delta\\left(t\\right) - 0.6667 e^{- 2 t} \\theta\\left(t\\right)$"
      ],
      "text/plain": [
       "        t                       -2⋅t     \n",
       "0.6667⋅ℯ ⋅θ(t) + δ(t) - 0.6667⋅ℯ    ⋅θ(t)"
      ]
     },
     "execution_count": 13,
     "metadata": {},
     "output_type": "execute_result"
    }
   ],
   "source": [
    "# ROC C Re[s] > 1\n",
    "g_rocC = inverse_laplace_transform(G1,s,t) + inverse_laplace_transform(1+G2,s,t)\n",
    "N(g_rocC,4)"
   ]
  }
 ],
 "metadata": {
  "colab": {
   "authorship_tag": "ABX9TyOoCLTbcAx1GSa/Nzf0X1nR",
   "collapsed_sections": [],
   "name": "DiffEq_delta_input.ipynb",
   "provenance": []
  },
  "kernelspec": {
   "display_name": "venv312",
   "language": "python",
   "name": "venv312"
  },
  "language_info": {
   "codemirror_mode": {
    "name": "ipython",
    "version": 3
   },
   "file_extension": ".py",
   "mimetype": "text/x-python",
   "name": "python",
   "nbconvert_exporter": "python",
   "pygments_lexer": "ipython3",
   "version": "3.12.6"
  },
  "latex_envs": {
   "LaTeX_envs_menu_present": true,
   "autoclose": false,
   "autocomplete": true,
   "bibliofile": "biblio.bib",
   "cite_by": "apalike",
   "current_citInitial": 1,
   "eqLabelWithNumbers": true,
   "eqNumInitial": 1,
   "hotkeys": {
    "equation": "Ctrl-E",
    "itemize": "Ctrl-I"
   },
   "labels_anchors": false,
   "latex_user_defs": false,
   "report_style_numbering": false,
   "user_envs_cfg": false
  }
 },
 "nbformat": 4,
 "nbformat_minor": 4
}
